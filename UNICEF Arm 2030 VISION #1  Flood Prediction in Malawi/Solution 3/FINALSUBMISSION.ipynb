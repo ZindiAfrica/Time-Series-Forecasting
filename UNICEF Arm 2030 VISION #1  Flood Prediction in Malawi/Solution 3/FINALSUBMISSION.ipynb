{
 "cells": [
  {
   "cell_type": "code",
   "execution_count": 73,
   "metadata": {},
   "outputs": [],
   "source": [
    "import pandas as pd\n",
    "import numpy as np\n",
    "import matplotlib.pyplot as plt\n",
    "%matplotlib inline\n",
    "\n",
    "from sklearn.metrics import mean_squared_error,log_loss\n",
    "from sklearn.model_selection import KFold\n",
    "import lightgbm as lgb\n",
    "from tqdm import tqdm_notebook\n",
    "import geopandas as gpd\n",
    "\n",
    "import warnings\n",
    "warnings.filterwarnings(\"ignore\")\n",
    "\n",
    "from IPython.core.interactiveshell import InteractiveShell\n",
    "\n",
    "InteractiveShell.ast_node_interactivity = \"all\""
   ]
  },
  {
   "cell_type": "code",
   "execution_count": 74,
   "metadata": {},
   "outputs": [],
   "source": [
    "DATA_FOLDER = './input_files/'\n",
    "OUTPUT_DATA_FOLDER = './output_files/'\n",
    "OUTPUT_FILE_PATH = './output_files/blend_fadhloun*0.6_our_4_models_*0.4.csv'"
   ]
  },
  {
   "cell_type": "code",
   "execution_count": 75,
   "metadata": {},
   "outputs": [],
   "source": [
    "sub_7189 = pd.read_csv(OUTPUT_DATA_FOLDER+'0.07189Sub.csv')['target_2019']"
   ]
  },
  {
   "cell_type": "code",
   "execution_count": 76,
   "metadata": {},
   "outputs": [],
   "source": [
    "\n",
    "df = pd.read_csv(DATA_FOLDER + \"Train.csv\")\n",
    "sub_df = pd.read_csv(DATA_FOLDER + \"SampleSubmission.csv\")\n",
    "wetlands = pd.read_csv(DATA_FOLDER + 'wetlands.csv')"
   ]
  },
  {
   "cell_type": "code",
   "execution_count": 77,
   "metadata": {},
   "outputs": [
    {
     "data": {
      "text/plain": [
       "(34, 17)"
      ]
     },
     "execution_count": 77,
     "metadata": {},
     "output_type": "execute_result"
    }
   ],
   "source": [
    "precip_cols = [c for c in df.columns if 'precip' in c]\n",
    "len(precip_cols), len(precip_cols)//2"
   ]
  },
  {
   "cell_type": "code",
   "execution_count": 78,
   "metadata": {},
   "outputs": [],
   "source": [
    "precip_cols_2015 = precip_cols[0: 17]\n",
    "precip_cols_2019 = precip_cols[17: 34]\n",
    "train = df[precip_cols_2015]\n",
    "train.columns = [f'precip_week_{i}' for i in range(1, 18)]\n",
    "test = df[precip_cols_2019]\n",
    "test.columns = [f'precip_week_{i}' for i in range(1, 18)]\n",
    "train = pd.concat([train, df[['X', 'Y', 'target_2015', 'elevation', 'LC_Type1_mode', 'Square_ID']]], axis=1)\n",
    "test = pd.concat([test, df[['X', 'Y', 'target_2015', 'elevation', 'LC_Type1_mode', 'Square_ID']]], axis=1)"
   ]
  },
  {
   "cell_type": "code",
   "execution_count": 79,
   "metadata": {},
   "outputs": [
    {
     "data": {
      "text/plain": [
       "['precip_week_1',\n",
       " 'precip_week_2',\n",
       " 'precip_week_3',\n",
       " 'precip_week_4',\n",
       " 'precip_week_5',\n",
       " 'precip_week_6',\n",
       " 'precip_week_7',\n",
       " 'precip_week_8',\n",
       " 'precip_week_9',\n",
       " 'precip_week_10',\n",
       " 'precip_week_11',\n",
       " 'precip_week_12',\n",
       " 'precip_week_13',\n",
       " 'precip_week_14',\n",
       " 'precip_week_15',\n",
       " 'precip_week_16',\n",
       " 'precip_week_17']"
      ]
     },
     "execution_count": 79,
     "metadata": {},
     "output_type": "execute_result"
    }
   ],
   "source": [
    "precip_cols = [c for c in train.columns if 'precip' in c]\n",
    "precip_cols"
   ]
  },
  {
   "cell_type": "code",
   "execution_count": 80,
   "metadata": {},
   "outputs": [],
   "source": [
    "train['wetland_dist'] = wetlands['wetland_dist']"
   ]
  },
  {
   "cell_type": "code",
   "execution_count": 81,
   "metadata": {},
   "outputs": [
    {
     "data": {
      "text/plain": [
       "count    16466.000000\n",
       "mean       248.931844\n",
       "std         35.757286\n",
       "min        194.198633\n",
       "25%        231.024118\n",
       "50%        242.589218\n",
       "75%        255.214224\n",
       "max        393.047856\n",
       "Name: total_precip, dtype: float64"
      ]
     },
     "execution_count": 81,
     "metadata": {},
     "output_type": "execute_result"
    }
   ],
   "source": [
    "train['total_precip'] = train[precip_cols[:]].sum(axis=1)\n",
    "train['total_precip'].describe()"
   ]
  },
  {
   "cell_type": "code",
   "execution_count": 82,
   "metadata": {},
   "outputs": [
    {
     "data": {
      "text/plain": [
       "count    16466.000000\n",
       "mean       213.497496\n",
       "std         27.206368\n",
       "min        175.362350\n",
       "25%        199.321592\n",
       "50%        207.612676\n",
       "75%        220.583010\n",
       "max        323.796194\n",
       "Name: total_precip, dtype: float64"
      ]
     },
     "execution_count": 82,
     "metadata": {},
     "output_type": "execute_result"
    }
   ],
   "source": [
    "test['total_precip'] = test[precip_cols[:]].sum(axis=1)\n",
    "test['total_precip'].describe()"
   ]
  },
  {
   "cell_type": "code",
   "execution_count": 83,
   "metadata": {},
   "outputs": [],
   "source": [
    "gdf = gpd.GeoDataFrame(df, geometry=gpd.points_from_xy(df.X, df.Y))"
   ]
  },
  {
   "cell_type": "code",
   "execution_count": 84,
   "metadata": {},
   "outputs": [
    {
     "data": {
      "text/plain": [
       "(32932, 25)"
      ]
     },
     "execution_count": 84,
     "metadata": {},
     "output_type": "execute_result"
    }
   ],
   "source": [
    "df = pd.concat([train, test]).reset_index(drop=True)\n",
    "df.shape"
   ]
  },
  {
   "cell_type": "code",
   "execution_count": 85,
   "metadata": {},
   "outputs": [],
   "source": [
    "gdf = gpd.GeoDataFrame(\n",
    "    test, geometry=gpd.points_from_xy(test.X, test.Y, test.elevation))\n",
    "gdf['target_2015'] = train['target_2015']\n",
    "gdf['best_sub'] = sub_7189\n",
    "gdf['precip'] = test['total_precip']"
   ]
  },
  {
   "cell_type": "code",
   "execution_count": 86,
   "metadata": {},
   "outputs": [
    {
     "data": {
      "text/plain": [
       "count    16466.000000\n",
       "mean       592.848206\n",
       "std        354.790357\n",
       "min         45.541444\n",
       "25%        329.063852\n",
       "50%        623.000000\n",
       "75%        751.434813\n",
       "max       2803.303645\n",
       "Name: elevation, dtype: float64"
      ]
     },
     "execution_count": 86,
     "metadata": {},
     "output_type": "execute_result"
    },
    {
     "data": {
      "text/plain": [
       "1.9919834811125956"
      ]
     },
     "execution_count": 86,
     "metadata": {},
     "output_type": "execute_result"
    }
   ],
   "source": [
    "train['elevation'].describe()\n",
    "100 * (train['elevation'] < 55).sum()/train.shape[0]\n",
    "### We see only 2% of the total data has less elevation than 55 metres\n",
    "### Why do we chose 55 ??? simple because the minimum elevation is 55, so we want to go just 10 metres more than the minimum elevation"
   ]
  },
  {
   "cell_type": "code",
   "execution_count": 87,
   "metadata": {},
   "outputs": [
    {
     "data": {
      "text/plain": [
       "count    71.0\n",
       "mean      1.0\n",
       "std       0.0\n",
       "min       1.0\n",
       "25%       1.0\n",
       "50%       1.0\n",
       "75%       1.0\n",
       "max       1.0\n",
       "Name: target_2015, dtype: float64"
      ]
     },
     "execution_count": 87,
     "metadata": {},
     "output_type": "execute_result"
    },
    {
     "data": {
      "text/plain": [
       "count    71.000000\n",
       "mean      0.894322\n",
       "std       0.032087\n",
       "min       0.812437\n",
       "25%       0.877716\n",
       "50%       0.897927\n",
       "75%       0.917281\n",
       "max       0.942641\n",
       "Name: best_sub, dtype: float64"
      ]
     },
     "execution_count": 87,
     "metadata": {},
     "output_type": "execute_result"
    },
    {
     "data": {
      "text/plain": [
       "count    71.000000\n",
       "mean      0.923239\n",
       "std       0.025115\n",
       "min       0.900000\n",
       "25%       0.900000\n",
       "50%       0.900000\n",
       "75%       0.950000\n",
       "max       0.950000\n",
       "Name: best_sub, dtype: float64"
      ]
     },
     "execution_count": 87,
     "metadata": {},
     "output_type": "execute_result"
    }
   ],
   "source": [
    "### Lets filter our data and see how the floods for 2015 behaved and how our model is underprecting the floods.\n",
    "### Low lying areas, are obviosuly more susceptible to be floods, and if these areas were near wetlands, we can almost guarantee\n",
    "### that huge floods will hit that area.\n",
    "### In the 2015 floods, the areas that were completely flooded (1), had a wetland distance of 0, and were elevated less than\n",
    "### 10 metres more than the minimum elevation.\n",
    "#### We increase their flooding.\n",
    "#### This is manual thresholding, and definitely a model could do better, but we had not time to explore the model at the end\n",
    "\n",
    "sel = (train['wetland_dist'] == 0) & (train['target_2015'] == 1) & (train['elevation'] < 55)\n",
    "train[sel]['target_2015'].describe()\n",
    "gdf[sel]['best_sub'].describe()\n",
    "gdf.loc[(sel) & (gdf['best_sub'] < 0.9), 'best_sub'] = 0.9\n",
    "gdf.loc[(sel) & (gdf['best_sub'] > 0.9), 'best_sub'] = 0.95\n",
    "gdf[sel]['best_sub'].describe()"
   ]
  },
  {
   "cell_type": "code",
   "execution_count": 88,
   "metadata": {},
   "outputs": [
    {
     "data": {
      "text/plain": [
       "count    43.000000\n",
       "mean      0.957711\n",
       "std       0.032596\n",
       "min       0.900114\n",
       "25%       0.931220\n",
       "50%       0.965133\n",
       "75%       0.989255\n",
       "max       0.998703\n",
       "Name: target_2015, dtype: float64"
      ]
     },
     "execution_count": 88,
     "metadata": {},
     "output_type": "execute_result"
    },
    {
     "data": {
      "text/plain": [
       "count    43.000000\n",
       "mean      0.805709\n",
       "std       0.081186\n",
       "min       0.620614\n",
       "25%       0.758401\n",
       "50%       0.820981\n",
       "75%       0.869966\n",
       "max       0.942417\n",
       "Name: best_sub, dtype: float64"
      ]
     },
     "execution_count": 88,
     "metadata": {},
     "output_type": "execute_result"
    },
    {
     "data": {
      "text/plain": [
       "count    43.000000\n",
       "mean      0.836501\n",
       "std       0.042277\n",
       "min       0.800000\n",
       "25%       0.800000\n",
       "50%       0.820981\n",
       "75%       0.869966\n",
       "max       0.942417\n",
       "Name: best_sub, dtype: float64"
      ]
     },
     "execution_count": 88,
     "metadata": {},
     "output_type": "execute_result"
    }
   ],
   "source": [
    "sel = (train['wetland_dist'] == 0) & (train['target_2015'] > 0.9) & (train['target_2015'] < 1) & (train['elevation'] < 55)\n",
    "train[sel]['target_2015'].describe()\n",
    "gdf[sel]['best_sub'].describe()\n",
    "gdf.loc[sel & (gdf['best_sub'] < 0.8), 'best_sub'] = 0.8\n",
    "gdf[sel]['best_sub'].describe()"
   ]
  },
  {
   "cell_type": "code",
   "execution_count": 89,
   "metadata": {},
   "outputs": [
    {
     "data": {
      "text/plain": [
       "count    16466.000000\n",
       "mean         0.039105\n",
       "std          0.141375\n",
       "min          0.000002\n",
       "25%          0.000720\n",
       "50%          0.003500\n",
       "75%          0.013732\n",
       "max          0.947108\n",
       "Name: target_2019, dtype: float64"
      ]
     },
     "execution_count": 89,
     "metadata": {},
     "output_type": "execute_result"
    },
    {
     "data": {
      "text/plain": [
       "count    16466.000000\n",
       "mean         0.039310\n",
       "std          0.142533\n",
       "min          0.000002\n",
       "25%          0.000720\n",
       "50%          0.003500\n",
       "75%          0.013732\n",
       "max          0.950000\n",
       "Name: target_2019, dtype: float64"
      ]
     },
     "execution_count": 89,
     "metadata": {},
     "output_type": "execute_result"
    }
   ],
   "source": [
    "sub_df = pd.read_csv(OUTPUT_DATA_FOLDER+'0.07189Sub.csv')\n",
    "sub_df['target_2019'].describe()\n",
    "sub_df['target_2019'] = gdf['best_sub']\n",
    "sub_df['target_2019'].describe()"
   ]
  },
  {
   "cell_type": "code",
   "execution_count": 90,
   "metadata": {},
   "outputs": [],
   "source": [
    "sub_df.to_csv(OUTPUT_DATA_FOLDER+'rectifying_7189_sub_only_wetland_threshold_9.csv', index=False)"
   ]
  },
  {
   "cell_type": "code",
   "execution_count": 91,
   "metadata": {},
   "outputs": [
    {
     "data": {
      "text/plain": [
       "0.900000    38\n",
       "0.950000    33\n",
       "0.800000    18\n",
       "0.000629     5\n",
       "0.000629     5\n",
       "            ..\n",
       "0.012647     1\n",
       "0.004507     1\n",
       "0.013777     1\n",
       "0.022383     1\n",
       "0.000904     1\n",
       "Name: target_2019, Length: 16283, dtype: int64"
      ]
     },
     "execution_count": 91,
     "metadata": {},
     "output_type": "execute_result"
    }
   ],
   "source": [
    "sub_df['target_2019'].value_counts()"
   ]
  },
  {
   "cell_type": "code",
   "execution_count": null,
   "metadata": {},
   "outputs": [],
   "source": []
  }
 ],
 "metadata": {
  "kernelspec": {
   "display_name": "Python 3",
   "language": "python",
   "name": "python3"
  },
  "language_info": {
   "codemirror_mode": {
    "name": "ipython",
    "version": 3
   },
   "file_extension": ".py",
   "mimetype": "text/x-python",
   "name": "python",
   "nbconvert_exporter": "python",
   "pygments_lexer": "ipython3",
   "version": "3.6.9"
  }
 },
 "nbformat": 4,
 "nbformat_minor": 4
}
