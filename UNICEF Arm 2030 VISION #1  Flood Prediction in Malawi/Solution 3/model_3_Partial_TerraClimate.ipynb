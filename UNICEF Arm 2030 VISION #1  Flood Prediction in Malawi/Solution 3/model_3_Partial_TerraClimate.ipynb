{
 "cells": [
  {
   "cell_type": "code",
   "execution_count": 1,
   "metadata": {},
   "outputs": [],
   "source": [
    "import pandas as pd\n",
    "import numpy as np\n",
    "import matplotlib.pyplot as plt\n",
    "%matplotlib inline\n",
    "\n",
    "from sklearn.metrics import mean_squared_error,log_loss\n",
    "from sklearn.model_selection import KFold\n",
    "import lightgbm as lgb\n",
    "from tqdm import tqdm_notebook\n",
    "import geopandas as gpd\n",
    "\n",
    "import warnings\n",
    "warnings.filterwarnings(\"ignore\")\n",
    "import math"
   ]
  },
  {
   "cell_type": "code",
   "execution_count": 2,
   "metadata": {},
   "outputs": [],
   "source": [
    "DATA_FOLDER = './input_files/'\n",
    "OUTPUT_PATH = './output_files/model_3_partial_terra.csv'\n",
    "df = pd.read_csv(DATA_FOLDER + \"Train.csv\")\n",
    "sub_df = pd.read_csv(DATA_FOLDER + \"SampleSubmission.csv\")\n",
    "wetlands = pd.read_csv(DATA_FOLDER + 'wetlands.csv')\n",
    "TerraClimateDataTrain = pd.read_csv('../ExternalData/TerraClimateDataTrain.csv')#https://developers.google.com/earth-engine/datasets/catalog/IDAHO_EPSCOR_TERRACLIMATE\n",
    "TerraClimateDataTest = pd.read_csv('../ExternalData/TerraClimateDataTest.csv')#https://developers.google.com/earth-engine/datasets/catalog/IDAHO_EPSCOR_TERRACLIMATE\n",
    "TerraClimateDataTrain = TerraClimateDataTrain[['vap1yearbefore_month_2','vap2yearsbefore_month_1','vap2yearsbefore_month_3','vap2yearsbefore_month_4','vap2yearsbefore_month_6','vap1yearbefore_month_1','vap1yearbefore_month_5','X','Y']]\n",
    "TerraClimateDataTest  = TerraClimateDataTest[['vap1yearbefore_month_2','vap2yearsbefore_month_1','vap2yearsbefore_month_3','vap2yearsbefore_month_4','vap2yearsbefore_month_6','vap1yearbefore_month_1','vap1yearbefore_month_5','X','Y']]"
   ]
  },
  {
   "cell_type": "code",
   "execution_count": 3,
   "metadata": {},
   "outputs": [
    {
     "data": {
      "text/plain": [
       "(34, 17)"
      ]
     },
     "execution_count": 3,
     "metadata": {},
     "output_type": "execute_result"
    }
   ],
   "source": [
    "precip_cols = [c for c in df.columns if 'precip' in c]\n",
    "len(precip_cols), len(precip_cols)//2"
   ]
  },
  {
   "cell_type": "code",
   "execution_count": 4,
   "metadata": {},
   "outputs": [],
   "source": [
    "precip_cols_2015 = precip_cols[0: 17]\n",
    "precip_cols_2019 = precip_cols[17: 34]\n",
    "train = df[precip_cols_2015]\n",
    "train.columns = [f'precip_week_{i}' for i in range(1, 18)]\n",
    "test = df[precip_cols_2019]\n",
    "test.columns = [f'precip_week_{i}' for i in range(1, 18)]\n",
    "train = pd.concat([train, df[['X', 'Y', 'target_2015', 'elevation', 'LC_Type1_mode', 'Square_ID']]], axis=1)\n",
    "test = pd.concat([test, df[['X', 'Y', 'target_2015', 'elevation', 'LC_Type1_mode', 'Square_ID']]], axis=1)"
   ]
  },
  {
   "cell_type": "code",
   "execution_count": 5,
   "metadata": {},
   "outputs": [],
   "source": [
    "train = train.merge(TerraClimateDataTrain,how=\"left\",on=['X','Y'])\n",
    "test = test.merge(TerraClimateDataTest,how=\"left\",on=['X','Y'])"
   ]
  },
  {
   "cell_type": "code",
   "execution_count": 6,
   "metadata": {},
   "outputs": [],
   "source": [
    "gdf = gpd.GeoDataFrame(df, geometry=gpd.points_from_xy(df.X, df.Y))"
   ]
  },
  {
   "cell_type": "code",
   "execution_count": 7,
   "metadata": {},
   "outputs": [
    {
     "data": {
      "text/plain": [
       "(32932, 30)"
      ]
     },
     "execution_count": 7,
     "metadata": {},
     "output_type": "execute_result"
    }
   ],
   "source": [
    "df = pd.concat([train, test]).reset_index(drop=True)\n",
    "df.shape"
   ]
  },
  {
   "cell_type": "code",
   "execution_count": 8,
   "metadata": {},
   "outputs": [
    {
     "name": "stdout",
     "output_type": "stream",
     "text": [
      "['precip_week_1', 'precip_week_2', 'precip_week_3', 'precip_week_4', 'precip_week_5', 'precip_week_6', 'precip_week_7', 'precip_week_8', 'precip_week_9', 'precip_week_10', 'precip_week_11', 'precip_week_12', 'precip_week_13', 'precip_week_14', 'precip_week_15', 'precip_week_16', 'precip_week_17']\n"
     ]
    }
   ],
   "source": [
    "precip_cols = [c for c in df.columns if 'precip' in c]\n",
    "len(precip_cols)\n",
    "print(precip_cols)"
   ]
  },
  {
   "cell_type": "code",
   "execution_count": 9,
   "metadata": {},
   "outputs": [],
   "source": [
    "def add_diff_interacts(df, inter_cols):\n",
    "    '''\n",
    "    This function calucates all possible combinations of differences for columns provided to into pairs for the given dataframe.\n",
    "    For example: If we have columns: Col_1, Col_2, Col_3 then it will calculate Col_1 - Col_2, Col_1 - Col_3, Col_2 - Col_3\n",
    "    This is to calculate the differnce in precipitation between different weeks of rainfall, like the difference in rainfall between week 17 and week 16.\n",
    "    \n",
    "    df: DataFrame\n",
    "    inter_cols: The columns for which the difference needs to be computed\n",
    "    \n",
    "    returns: New dataframe with the difference columns added to it.\n",
    "    '''\n",
    "    def apply_interacts(x, inter_cols):\n",
    "        cols = [x + '_diff_' + c for c in inter_cols[inter_cols.index(x)+1:]]\n",
    "        interacts_df[cols] = pd.concat([df[x] - df[c] for c in inter_cols[inter_cols.index(x)+1:]], axis=1)\n",
    "    \n",
    "    interacts_df = pd.DataFrame()\n",
    "    _ = df[inter_cols[:-1]].apply(lambda x: apply_interacts(x.name, inter_cols))\n",
    "    df = pd.concat([df, interacts_df], axis=1)\n",
    "\n",
    "    return df\n",
    "df = add_diff_interacts(df, precip_cols)\n",
    "\n",
    "step = 0.2\n",
    "to_bin = lambda x: np.floor(x / step) * step\n",
    "df[\"latbin\"] = df.X.map(to_bin)\n",
    "df[\"lonbin\"] = df.Y.map(to_bin)\n",
    "\n",
    "df['prev_x'] = df['X'] - 0.01\n",
    "df['next_x'] = df['X'] + 0.01\n",
    "df['prev_y'] = df['Y'] - 0.01\n",
    "df['next_y'] = df['Y'] + 0.01"
   ]
  },
  {
   "cell_type": "code",
   "execution_count": 10,
   "metadata": {},
   "outputs": [],
   "source": [
    "def cart2rho(x, y):\n",
    "    rho = np.sqrt(x**2 + y**2)\n",
    "    return rho\n",
    "\n",
    "\n",
    "def cart2phi(x, y):\n",
    "    phi = np.arctan2(y, x)\n",
    "    return phi\n",
    "\n",
    "\n",
    "def operating_with_coordinates(tr_df, te_df):\n",
    "    for df in [tr_df, te_df]:\n",
    "        # apply the polar coordinates system\n",
    "        df[\"num_rho\"] = df.apply(lambda x: cart2rho(x[\"X\"] - 35.12, x[\"Y\"]+15.82), axis=1)\n",
    "        df[\"num_phi\"] = df.apply(lambda x: cart2phi(x[\"X\"] - 35.12, x[\"Y\"]+15.82), axis=1)\n",
    "    return tr_df, te_df"
   ]
  },
  {
   "cell_type": "code",
   "execution_count": 11,
   "metadata": {},
   "outputs": [],
   "source": [
    "train = df[:train.shape[0]].reset_index(drop=True)\n",
    "test = df[train.shape[0]:].reset_index(drop=True)\n",
    "features = [c for c in train.columns if c not in ['Square_ID','target_2015', 'geometry'] + precip_cols]"
   ]
  },
  {
   "cell_type": "code",
   "execution_count": 12,
   "metadata": {},
   "outputs": [],
   "source": [
    "train,test=operating_with_coordinates(train,test)"
   ]
  },
  {
   "cell_type": "code",
   "execution_count": 13,
   "metadata": {},
   "outputs": [],
   "source": [
    "rotation_cols = [c for c in train.columns if 'num_rot' in c]\n",
    "features = [c for c in train.columns if c not in ['Square_ID','target_2015', 'geometry'] + precip_cols + rotation_cols]"
   ]
  },
  {
   "cell_type": "code",
   "execution_count": 14,
   "metadata": {},
   "outputs": [
    {
     "name": "stdout",
     "output_type": "stream",
     "text": [
      "fold n°0\n",
      "Training until validation scores don't improve for 200 rounds.\n",
      "[100]\ttraining's rmse: 0.0848786\tvalid_1's rmse: 0.105977\n",
      "[200]\ttraining's rmse: 0.0744141\tvalid_1's rmse: 0.101831\n",
      "[300]\ttraining's rmse: 0.0677168\tvalid_1's rmse: 0.0998074\n",
      "[400]\ttraining's rmse: 0.0636065\tvalid_1's rmse: 0.0987295\n",
      "[500]\ttraining's rmse: 0.059168\tvalid_1's rmse: 0.0978089\n",
      "[600]\ttraining's rmse: 0.056386\tvalid_1's rmse: 0.0973114\n",
      "[700]\ttraining's rmse: 0.0535471\tvalid_1's rmse: 0.0971018\n",
      "[800]\ttraining's rmse: 0.0510064\tvalid_1's rmse: 0.0968636\n",
      "[900]\ttraining's rmse: 0.049136\tvalid_1's rmse: 0.0967377\n",
      "[1000]\ttraining's rmse: 0.047072\tvalid_1's rmse: 0.096523\n",
      "[1100]\ttraining's rmse: 0.0455195\tvalid_1's rmse: 0.0965118\n",
      "[1200]\ttraining's rmse: 0.0437468\tvalid_1's rmse: 0.096567\n",
      "[1300]\ttraining's rmse: 0.0422575\tvalid_1's rmse: 0.0965466\n",
      "Early stopping, best iteration is:\n",
      "[1122]\ttraining's rmse: 0.0450328\tvalid_1's rmse: 0.0964424\n",
      "count    16466.000000\n",
      "mean         0.041375\n",
      "std          0.161462\n",
      "min          0.000000\n",
      "25%          0.000000\n",
      "50%          0.000000\n",
      "75%          0.000000\n",
      "max          1.000000\n",
      "dtype: float64\n",
      "fold n°1\n",
      "Training until validation scores don't improve for 200 rounds.\n",
      "[100]\ttraining's rmse: 0.0846128\tvalid_1's rmse: 0.108775\n",
      "[200]\ttraining's rmse: 0.0732593\tvalid_1's rmse: 0.104943\n",
      "[300]\ttraining's rmse: 0.0672908\tvalid_1's rmse: 0.103627\n",
      "[400]\ttraining's rmse: 0.0631448\tvalid_1's rmse: 0.102908\n",
      "[500]\ttraining's rmse: 0.0590463\tvalid_1's rmse: 0.102303\n",
      "[600]\ttraining's rmse: 0.0564613\tvalid_1's rmse: 0.102129\n",
      "[700]\ttraining's rmse: 0.0533061\tvalid_1's rmse: 0.101878\n",
      "[800]\ttraining's rmse: 0.0513819\tvalid_1's rmse: 0.101738\n",
      "[900]\ttraining's rmse: 0.0492783\tvalid_1's rmse: 0.101607\n",
      "[1000]\ttraining's rmse: 0.0475711\tvalid_1's rmse: 0.101521\n",
      "[1100]\ttraining's rmse: 0.0459918\tvalid_1's rmse: 0.101599\n",
      "Early stopping, best iteration is:\n",
      "[993]\ttraining's rmse: 0.0476329\tvalid_1's rmse: 0.101489\n",
      "count    16466.00000\n",
      "mean         0.05693\n",
      "std          0.16999\n",
      "min          0.00000\n",
      "25%          0.00000\n",
      "50%          0.00000\n",
      "75%          0.00000\n",
      "max          1.00000\n",
      "dtype: float64\n",
      "fold n°2\n",
      "Training until validation scores don't improve for 200 rounds.\n",
      "[100]\ttraining's rmse: 0.0857903\tvalid_1's rmse: 0.102289\n",
      "[200]\ttraining's rmse: 0.0748664\tvalid_1's rmse: 0.0987951\n",
      "[300]\ttraining's rmse: 0.0678538\tvalid_1's rmse: 0.0972843\n",
      "[400]\ttraining's rmse: 0.0636277\tvalid_1's rmse: 0.0966436\n",
      "[500]\ttraining's rmse: 0.0592567\tvalid_1's rmse: 0.09574\n",
      "[600]\ttraining's rmse: 0.0564587\tvalid_1's rmse: 0.0953202\n",
      "[700]\ttraining's rmse: 0.0536261\tvalid_1's rmse: 0.095042\n",
      "[800]\ttraining's rmse: 0.0513986\tvalid_1's rmse: 0.0948775\n",
      "[900]\ttraining's rmse: 0.0490252\tvalid_1's rmse: 0.0947822\n",
      "[1000]\ttraining's rmse: 0.04722\tvalid_1's rmse: 0.0947722\n",
      "Early stopping, best iteration is:\n",
      "[885]\ttraining's rmse: 0.0493864\tvalid_1's rmse: 0.0947137\n",
      "count    16466.000000\n",
      "mean         0.033131\n",
      "std          0.143418\n",
      "min          0.000000\n",
      "25%          0.000000\n",
      "50%          0.000000\n",
      "75%          0.000000\n",
      "max          1.000000\n",
      "dtype: float64\n",
      "fold n°3\n",
      "Training until validation scores don't improve for 200 rounds.\n",
      "[100]\ttraining's rmse: 0.0837725\tvalid_1's rmse: 0.107509\n",
      "[200]\ttraining's rmse: 0.0726547\tvalid_1's rmse: 0.105274\n",
      "[300]\ttraining's rmse: 0.0666178\tvalid_1's rmse: 0.104511\n",
      "[400]\ttraining's rmse: 0.0625548\tvalid_1's rmse: 0.104401\n",
      "[500]\ttraining's rmse: 0.0593629\tvalid_1's rmse: 0.10444\n",
      "[600]\ttraining's rmse: 0.0563132\tvalid_1's rmse: 0.104514\n",
      "Early stopping, best iteration is:\n",
      "[411]\ttraining's rmse: 0.0620646\tvalid_1's rmse: 0.104329\n",
      "count    16466.000000\n",
      "mean         0.057161\n",
      "std          0.171061\n",
      "min          0.000000\n",
      "25%          0.000000\n",
      "50%          0.000000\n",
      "75%          0.000000\n",
      "max          1.000000\n",
      "dtype: float64\n",
      "fold n°4\n",
      "Training until validation scores don't improve for 200 rounds.\n",
      "[100]\ttraining's rmse: 0.0841183\tvalid_1's rmse: 0.107359\n",
      "[200]\ttraining's rmse: 0.0741484\tvalid_1's rmse: 0.103822\n",
      "[300]\ttraining's rmse: 0.0663782\tvalid_1's rmse: 0.101744\n",
      "[400]\ttraining's rmse: 0.0620451\tvalid_1's rmse: 0.101027\n",
      "[500]\ttraining's rmse: 0.0585206\tvalid_1's rmse: 0.100782\n",
      "[600]\ttraining's rmse: 0.0555602\tvalid_1's rmse: 0.10041\n",
      "[700]\ttraining's rmse: 0.0533937\tvalid_1's rmse: 0.100286\n",
      "[800]\ttraining's rmse: 0.0511531\tvalid_1's rmse: 0.10004\n",
      "[900]\ttraining's rmse: 0.0491284\tvalid_1's rmse: 0.100096\n",
      "[1000]\ttraining's rmse: 0.0475884\tvalid_1's rmse: 0.100072\n",
      "[1100]\ttraining's rmse: 0.0458952\tvalid_1's rmse: 0.0999559\n",
      "[1200]\ttraining's rmse: 0.0444835\tvalid_1's rmse: 0.0999616\n",
      "[1300]\ttraining's rmse: 0.0429771\tvalid_1's rmse: 0.100036\n",
      "Early stopping, best iteration is:\n",
      "[1126]\ttraining's rmse: 0.0454909\tvalid_1's rmse: 0.0999207\n",
      "count    16466.000000\n",
      "mean         0.039497\n",
      "std          0.159422\n",
      "min          0.000000\n",
      "25%          0.000000\n",
      "50%          0.000000\n",
      "75%          0.000000\n",
      "max          1.000000\n",
      "dtype: float64\n",
      "CV score: 0.09343 \n"
     ]
    }
   ],
   "source": [
    "param = {'num_leaves': 186,\n",
    "     'min_data_in_leaf': 40, \n",
    "     'objective':'regression',\n",
    "     'max_depth': 18,\n",
    "     'learning_rate': 0.1,\n",
    "     \"boosting\": \"gbdt\",\n",
    "     \"feature_fraction\": 0.8,\n",
    "     \"metric\": 'rmse',\n",
    "     \"lambda_l1\": 0,\n",
    "     \"lambda_l2\": 0.1,\n",
    "    }\n",
    "\n",
    "\n",
    "target = train['target_2015']\n",
    "\n",
    "folds = KFold(n_splits=5, shuffle=True, random_state=15)\n",
    "oof_lgb = np.zeros(len(train))\n",
    "predictions_lgb = np.zeros(len(test))\n",
    "feature_importance_df = pd.DataFrame()\n",
    "\n",
    "\n",
    "\n",
    "#### Our chosen hyperparameters were under-predicting the floods in some sense, the maximum flooding was around 0.8xx\n",
    "#### To remedy this underprediction we chose an arbitary number greater than one, i.e, 1.08, so our maximum flooding crossed 0.9\n",
    "#### Choosing a multiplier only changes the non-zero values.\n",
    "#### The '0' values or areas with no flood will not be affected as 0 x 1.08 = 0 still.\n",
    "\n",
    "for fold_, (trn_idx, val_idx) in enumerate(folds.split(train.values, target.values)):\n",
    "    print(\"fold n°{}\".format(fold_))\n",
    "    trn_data = lgb.Dataset(train.iloc[trn_idx][features], label=target.iloc[trn_idx]*1.08)\n",
    "    val_data = lgb.Dataset(train.iloc[val_idx][features], label=target.iloc[val_idx]*1.08)\n",
    "\n",
    "    num_round = 1500\n",
    "    clf = lgb.train(param, trn_data, num_round, valid_sets = [trn_data, val_data], verbose_eval=100, early_stopping_rounds = 200)\n",
    "    oof_lgb[val_idx] = clf.predict(train.iloc[val_idx][features], num_iteration=clf.best_iteration)\n",
    "\n",
    "    fold_importance_df = pd.DataFrame()\n",
    "    fold_importance_df[\"feature\"] = features\n",
    "    fold_importance_df[\"importance\"] = clf.feature_importance()\n",
    "    fold_importance_df[\"fold\"] = fold_ + 1\n",
    "    feature_importance_df = pd.concat([feature_importance_df, fold_importance_df], axis=0)\n",
    "\n",
    "    curr_preds = clf.predict(test[features], num_iteration=clf.best_iteration)\n",
    "    curr_preds[curr_preds < 0.2] = 0\n",
    "    curr_preds[curr_preds > 1] = 1\n",
    "    print(pd.Series(curr_preds).describe())\n",
    "    predictions_lgb += clf.predict(test[features], num_iteration=clf.best_iteration) / folds.n_splits\n",
    "\n",
    "oof_lgb[oof_lgb < 0] = 0\n",
    "print(\"CV score: {:<8.5f}\".format(mean_squared_error(oof_lgb, target)**0.5))\n",
    "#     preds_df[mult] = predictions_lgb\n",
    "pt_1 = predictions_lgb"
   ]
  },
  {
   "cell_type": "code",
   "execution_count": 15,
   "metadata": {},
   "outputs": [],
   "source": [
    "pt_1[pt_1 < 0.2] = 0\n",
    "pt_1[pt_1 > 1] = 1"
   ]
  },
  {
   "cell_type": "code",
   "execution_count": 16,
   "metadata": {},
   "outputs": [
    {
     "name": "stdout",
     "output_type": "stream",
     "text": [
      "153\n",
      "fold n°0\n",
      "Training until validation scores don't improve for 200 rounds.\n",
      "[100]\ttraining's rmse: 0.0884504\tvalid_1's rmse: 0.109435\n",
      "[200]\ttraining's rmse: 0.0793005\tvalid_1's rmse: 0.106443\n",
      "[300]\ttraining's rmse: 0.0737672\tvalid_1's rmse: 0.104723\n",
      "[400]\ttraining's rmse: 0.0697828\tvalid_1's rmse: 0.103791\n",
      "[500]\ttraining's rmse: 0.0670224\tvalid_1's rmse: 0.103273\n",
      "[600]\ttraining's rmse: 0.0639987\tvalid_1's rmse: 0.102626\n",
      "[700]\ttraining's rmse: 0.0612282\tvalid_1's rmse: 0.102217\n",
      "[800]\ttraining's rmse: 0.0592596\tvalid_1's rmse: 0.102041\n",
      "[900]\ttraining's rmse: 0.057079\tvalid_1's rmse: 0.101704\n",
      "[1000]\ttraining's rmse: 0.0554281\tvalid_1's rmse: 0.101593\n",
      "[1100]\ttraining's rmse: 0.0539173\tvalid_1's rmse: 0.101488\n",
      "[1200]\ttraining's rmse: 0.052448\tvalid_1's rmse: 0.101417\n",
      "[1300]\ttraining's rmse: 0.0511578\tvalid_1's rmse: 0.101337\n",
      "[1400]\ttraining's rmse: 0.0500057\tvalid_1's rmse: 0.101299\n",
      "[1500]\ttraining's rmse: 0.0492209\tvalid_1's rmse: 0.101258\n",
      "Did not meet early stopping. Best iteration is:\n",
      "[1500]\ttraining's rmse: 0.0492209\tvalid_1's rmse: 0.101258\n",
      "fold n°1\n",
      "Training until validation scores don't improve for 200 rounds.\n",
      "[100]\ttraining's rmse: 0.0888705\tvalid_1's rmse: 0.108514\n",
      "[200]\ttraining's rmse: 0.0794425\tvalid_1's rmse: 0.105218\n",
      "[300]\ttraining's rmse: 0.0739971\tvalid_1's rmse: 0.103834\n",
      "[400]\ttraining's rmse: 0.0701375\tvalid_1's rmse: 0.103129\n",
      "[500]\ttraining's rmse: 0.0669334\tvalid_1's rmse: 0.102599\n",
      "[600]\ttraining's rmse: 0.0640266\tvalid_1's rmse: 0.102296\n",
      "[700]\ttraining's rmse: 0.0617759\tvalid_1's rmse: 0.101962\n",
      "[800]\ttraining's rmse: 0.0595103\tvalid_1's rmse: 0.10193\n",
      "[900]\ttraining's rmse: 0.0578721\tvalid_1's rmse: 0.101776\n",
      "[1000]\ttraining's rmse: 0.0564467\tvalid_1's rmse: 0.101799\n",
      "[1100]\ttraining's rmse: 0.0549244\tvalid_1's rmse: 0.101851\n",
      "Early stopping, best iteration is:\n",
      "[905]\ttraining's rmse: 0.0577767\tvalid_1's rmse: 0.101727\n",
      "fold n°2\n",
      "Training until validation scores don't improve for 200 rounds.\n",
      "[100]\ttraining's rmse: 0.089401\tvalid_1's rmse: 0.104712\n",
      "[200]\ttraining's rmse: 0.0788228\tvalid_1's rmse: 0.100383\n",
      "[300]\ttraining's rmse: 0.0738702\tvalid_1's rmse: 0.0988057\n",
      "[400]\ttraining's rmse: 0.0702239\tvalid_1's rmse: 0.0979555\n",
      "[500]\ttraining's rmse: 0.0668163\tvalid_1's rmse: 0.0973712\n",
      "[600]\ttraining's rmse: 0.0639254\tvalid_1's rmse: 0.0968937\n",
      "[700]\ttraining's rmse: 0.0617325\tvalid_1's rmse: 0.096696\n",
      "[800]\ttraining's rmse: 0.0593746\tvalid_1's rmse: 0.0963971\n",
      "[900]\ttraining's rmse: 0.05741\tvalid_1's rmse: 0.0962959\n",
      "[1000]\ttraining's rmse: 0.0558864\tvalid_1's rmse: 0.0963341\n",
      "[1100]\ttraining's rmse: 0.0543859\tvalid_1's rmse: 0.0962867\n",
      "Early stopping, best iteration is:\n",
      "[929]\ttraining's rmse: 0.0569494\tvalid_1's rmse: 0.0961844\n",
      "fold n°3\n",
      "Training until validation scores don't improve for 200 rounds.\n",
      "[100]\ttraining's rmse: 0.0864651\tvalid_1's rmse: 0.109955\n",
      "[200]\ttraining's rmse: 0.0784729\tvalid_1's rmse: 0.107371\n",
      "[300]\ttraining's rmse: 0.0740141\tvalid_1's rmse: 0.10644\n",
      "[400]\ttraining's rmse: 0.0697369\tvalid_1's rmse: 0.105581\n",
      "[500]\ttraining's rmse: 0.0663258\tvalid_1's rmse: 0.104819\n",
      "[600]\ttraining's rmse: 0.0640634\tvalid_1's rmse: 0.104615\n",
      "[700]\ttraining's rmse: 0.060896\tvalid_1's rmse: 0.104327\n",
      "[800]\ttraining's rmse: 0.0588468\tvalid_1's rmse: 0.104257\n",
      "[900]\ttraining's rmse: 0.0572988\tvalid_1's rmse: 0.104325\n",
      "Early stopping, best iteration is:\n",
      "[747]\ttraining's rmse: 0.0600402\tvalid_1's rmse: 0.104171\n",
      "fold n°4\n",
      "Training until validation scores don't improve for 200 rounds.\n",
      "[100]\ttraining's rmse: 0.0870062\tvalid_1's rmse: 0.108069\n",
      "[200]\ttraining's rmse: 0.0785898\tvalid_1's rmse: 0.105215\n",
      "[300]\ttraining's rmse: 0.0727293\tvalid_1's rmse: 0.103681\n",
      "[400]\ttraining's rmse: 0.0688599\tvalid_1's rmse: 0.102934\n",
      "[500]\ttraining's rmse: 0.0658003\tvalid_1's rmse: 0.102402\n",
      "[600]\ttraining's rmse: 0.0633126\tvalid_1's rmse: 0.102096\n",
      "[700]\ttraining's rmse: 0.0611802\tvalid_1's rmse: 0.101668\n",
      "[800]\ttraining's rmse: 0.0586615\tvalid_1's rmse: 0.101346\n",
      "[900]\ttraining's rmse: 0.0570104\tvalid_1's rmse: 0.101277\n",
      "[1000]\ttraining's rmse: 0.0552415\tvalid_1's rmse: 0.101206\n",
      "[1100]\ttraining's rmse: 0.0539188\tvalid_1's rmse: 0.101084\n",
      "[1200]\ttraining's rmse: 0.052783\tvalid_1's rmse: 0.101109\n",
      "[1300]\ttraining's rmse: 0.0517618\tvalid_1's rmse: 0.101108\n",
      "Early stopping, best iteration is:\n",
      "[1105]\ttraining's rmse: 0.0538321\tvalid_1's rmse: 0.101063\n",
      "CV score: 0.09494 \n"
     ]
    }
   ],
   "source": [
    "features = [c for c in train.columns if c not in ['Square_ID','target_2015', 'geometry'] + precip_cols + rotation_cols + ['num_rho','num_phi']]\n",
    "print(len(features))\n",
    "all_test_preds_df = pd.DataFrame()\n",
    "param = {'num_leaves': 186,\n",
    "     'min_data_in_leaf': 40, \n",
    "     'objective':'regression',\n",
    "     'max_depth': 18,\n",
    "     'learning_rate': 0.1,\n",
    "     \"boosting\": \"gbdt\",\n",
    "     \"feature_fraction\": 0.8,\n",
    "     \"metric\": 'rmse',\n",
    "     \"lambda_l1\": 0,\n",
    "     \"lambda_l2\": 0.1,\n",
    "    }\n",
    "\n",
    "\n",
    "target = train['target_2015']\n",
    "\n",
    "folds = KFold(n_splits=5, shuffle=True, random_state=15)\n",
    "oof_lgb = np.zeros(len(train))\n",
    "predictions_lgb = np.zeros(len(test))\n",
    "feature_importance_df = pd.DataFrame()\n",
    "\n",
    "\n",
    "#### Our chosen hyperparameters were under-predicting the floods in some sense, the maximum flooding was around 0.8xx\n",
    "#### To remedy this underprediction we chose an arbitary number greater than one, i.e, 1.08, so our maximum flooding crossed 0.9\n",
    "#### Choosing a multiplier only changes the non-zero values.\n",
    "#### The '0' values or areas with no flood will not be affected as 0 x 1.08 = 0 still.\n",
    "\n",
    "for fold_, (trn_idx, val_idx) in enumerate(folds.split(train.values, target.values)):\n",
    "    print(\"fold n°{}\".format(fold_))\n",
    "    trn_data = lgb.Dataset(train.iloc[trn_idx][features], label=target.iloc[trn_idx]*1.08)\n",
    "    val_data = lgb.Dataset(train.iloc[val_idx][features], label=target.iloc[val_idx]*1.08)\n",
    "\n",
    "    num_round = 1500\n",
    "    clf = lgb.train(param, trn_data, num_round, valid_sets = [trn_data, val_data], verbose_eval=100, early_stopping_rounds = 200)\n",
    "    oof_lgb[val_idx] = clf.predict(train.iloc[val_idx][features], num_iteration=clf.best_iteration)\n",
    "\n",
    "    fold_importance_df = pd.DataFrame()\n",
    "    fold_importance_df[\"feature\"] = features\n",
    "    fold_importance_df[\"importance\"] = clf.feature_importance()\n",
    "    fold_importance_df[\"fold\"] = fold_ + 1\n",
    "    feature_importance_df = pd.concat([feature_importance_df, fold_importance_df], axis=0)\n",
    "\n",
    "    predictions_lgb += clf.predict(test[features], num_iteration=clf.best_iteration) / folds.n_splits\n",
    "\n",
    "oof_lgb[oof_lgb < 0] = 0\n",
    "print(\"CV score: {:<8.5f}\".format(mean_squared_error(oof_lgb, target)**0.5))\n",
    "pt_2 = predictions_lgb\n"
   ]
  },
  {
   "cell_type": "code",
   "execution_count": 17,
   "metadata": {},
   "outputs": [],
   "source": [
    "pt_2[pt_2 < 0.2] = 0\n",
    "pt_2[pt_2 > 1] = 1"
   ]
  },
  {
   "cell_type": "code",
   "execution_count": 18,
   "metadata": {},
   "outputs": [],
   "source": [
    "predictions_lgb = pt_1 * 0.7 + pt_2 * 0.3"
   ]
  },
  {
   "cell_type": "code",
   "execution_count": 19,
   "metadata": {},
   "outputs": [],
   "source": [
    "def rectify_submission(best_sub):\n",
    "    '''\n",
    "    This function is used to rectify the submissions based on EDA, and external data. \n",
    "    The documentation for the function can be found at: \" \"\n",
    "    wetlands: Gives the wetland distance of the place. The data source used is \" \", and is described at: \" \"\n",
    "    \n",
    "    '''\n",
    "    \n",
    "    train['wetland_dist'] = wetlands['wetland_dist']\n",
    "    target = train['target_2015']\n",
    "    gdf = gpd.GeoDataFrame(\n",
    "        train, geometry=gpd.points_from_xy(train.X, train.Y))\n",
    "    gdf['target_2015'] = target\n",
    "    gdf['best_sub'] =  best_sub\n",
    "    \n",
    "    best_sub_2 = best_sub.copy()\n",
    "    \n",
    "    #### Rectifications based on wetland distance. Places very near the wetlands are more likely to get flooded and vice versa.\n",
    "    #### The magnitues are in metres, So 5000 metres = 5 kilometres and 10000 metres = 10 kilometres\n",
    "    sel = (best_sub_2 == 0)\n",
    "    best_sub_2[sel] = 0.03\n",
    "    sel = (train['wetland_dist'] > 5000) & (train['wetland_dist'] <= 10000)\n",
    "    best_sub_2[sel] = 0.015\n",
    "    sel = (train['wetland_dist'] > 10000)\n",
    "    best_sub_2[sel] = 0\n",
    "    sel = (train['wetland_dist'] == 0) & (train['target_2015'] == 1) & (train['elevation'] < 55)\n",
    "    best_sub_2[sel] = 0.94\n",
    "    \n",
    "    ### These regions have very low elevation, and the predictions is quite high for them, so we make it even higher\n",
    "    sel = (train['elevation'] < 100) & (best_sub_2 > 0.85)\n",
    "    best_sub_2[sel] = 0.95\n",
    "    \n",
    "    #### These regions are neither unflooded nor too much flooded, we blend them with the floods of 2015, by a very small amount to get a small boost\n",
    "    sel = (best_sub_2 > 0.1) & (best_sub_2 < 0.9)\n",
    "    best_sub_2[sel] = best_sub_2[sel] * 0.85 + train['target_2015'][sel] * 0.15\n",
    "    \n",
    "    \n",
    "    ### The lower part of the map is mostly flooded, so we increase the flooding of the unflooded regions by a small percen (5 %).\n",
    "    ### This is again an arbitary number, and can further be tuned further\n",
    "    sel = (best_sub_2 > 0) & (best_sub_2 < 0.03) & (train.Y < 16.0)\n",
    "    print(sel.sum())\n",
    "    best_sub_2[sel] *= 1.05\n",
    "    \n",
    "    ### The eastern hemisphere is almost completely not flooded in our 2019 predictions, and we only see a negligibly small spot flooded.\n",
    "    ### To get rid of it, we set the flooding of the entire eastern region to 0.\n",
    "    gdf['rectified'] = best_sub_2\n",
    "    sel = (train.X >= 35.3) & (train.Y <= 15.9)\n",
    "    gdf.loc[sel, 'rectified'] = 0.00\n",
    "    return gdf['rectified']"
   ]
  },
  {
   "cell_type": "code",
   "execution_count": 20,
   "metadata": {},
   "outputs": [
    {
     "name": "stdout",
     "output_type": "stream",
     "text": [
      "3285\n"
     ]
    }
   ],
   "source": [
    "predictions_lgb = rectify_submission(predictions_lgb)"
   ]
  },
  {
   "cell_type": "code",
   "execution_count": 21,
   "metadata": {},
   "outputs": [
    {
     "data": {
      "text/plain": [
       "count    16466.000000\n",
       "mean         0.040282\n",
       "std          0.155794\n",
       "min          0.000000\n",
       "25%          0.000000\n",
       "50%          0.000000\n",
       "75%          0.015750\n",
       "max          0.950000\n",
       "Name: target_2019, dtype: float64"
      ]
     },
     "execution_count": 21,
     "metadata": {},
     "output_type": "execute_result"
    }
   ],
   "source": [
    "SUB_FILE_NAME = OUTPUT_PATH\n",
    "sub=test[[\"Square_ID\"]]\n",
    "sub['target_2019'] = predictions_lgb\n",
    "sub.to_csv(SUB_FILE_NAME, index = False)\n",
    "sub['target_2019'].describe()"
   ]
  },
  {
   "cell_type": "code",
   "execution_count": 22,
   "metadata": {},
   "outputs": [
    {
     "data": {
      "text/html": [
       "<a href=./output_files/model_3_partial_terra.csv>Download CSV file</a>"
      ],
      "text/plain": [
       "<IPython.core.display.HTML object>"
      ]
     },
     "execution_count": 22,
     "metadata": {},
     "output_type": "execute_result"
    }
   ],
   "source": [
    "from IPython.display import HTML\n",
    "def create_download_link(title = \"Download CSV file\", filename = \"data.csv\"):  \n",
    "    html = '<a href={filename}>{title}</a>'\n",
    "    html = html.format(title=title,filename=filename)\n",
    "    return HTML(html)\n",
    "create_download_link(filename = SUB_FILE_NAME)"
   ]
  },
  {
   "cell_type": "code",
   "execution_count": 23,
   "metadata": {},
   "outputs": [
    {
     "data": {
      "image/png": "[encoded data removed]",
      "text/plain": [
       "<Figure size 1296x432 with 6 Axes>"
      ]
     },
     "metadata": {
      "needs_background": "light"
     },
     "output_type": "display_data"
    }
   ],
   "source": [
    "fig, axes = plt.subplots(1, 3, figsize=(18, 6))\n",
    "gdf['target_2019'] = predictions_lgb\n",
    "gdf['target_2015'] = target\n",
    "gdf['difference_in_predictions (2015 - 2019)'] = gdf['target_2015'] - gdf['target_2019']\n",
    "gdf.plot(column = 'target_2015', figsize=(6, 6), legend=True, ax = axes[0])\n",
    "gdf.plot(column = 'target_2019', figsize=(6, 6), legend=True, ax = axes[1])\n",
    "gdf.plot(column = 'difference_in_predictions (2015 - 2019)', legend=True, ax = axes[2])\n",
    "_ = axes[0].set_title('2019 Predictions')\n",
    "_ = axes[1].set_title('2015 Predictions')\n",
    "_ = axes[2].set_title('difference_in_predictions (2015 - 2019)')"
   ]
  },
  {
   "cell_type": "code",
   "execution_count": 24,
   "metadata": {},
   "outputs": [
    {
     "data": {
      "text/plain": [
       "count    16466.000000\n",
       "mean         0.040282\n",
       "std          0.155794\n",
       "min          0.000000\n",
       "25%          0.000000\n",
       "50%          0.000000\n",
       "75%          0.015750\n",
       "max          0.950000\n",
       "Name: target_2019, dtype: float64"
      ]
     },
     "execution_count": 24,
     "metadata": {},
     "output_type": "execute_result"
    }
   ],
   "source": [
    "sub['target_2019'].describe()"
   ]
  },
  {
   "cell_type": "code",
   "execution_count": null,
   "metadata": {},
   "outputs": [],
   "source": []
  }
 ],
 "metadata": {
  "kernelspec": {
   "display_name": "Python 3",
   "language": "python",
   "name": "python3"
  },
  "language_info": {
   "codemirror_mode": {
    "name": "ipython",
    "version": 3
   },
   "file_extension": ".py",
   "mimetype": "text/x-python",
   "name": "python",
   "nbconvert_exporter": "python",
   "pygments_lexer": "ipython3",
   "version": "3.6.9"
  }
 },
 "nbformat": 4,
 "nbformat_minor": 4
}
