{
 "cells": [
  {
   "cell_type": "code",
   "execution_count": 1,
   "metadata": {},
   "outputs": [],
   "source": [
    "import pandas as pd\n",
    "import numpy as np\n",
    "import matplotlib.pyplot as plt\n",
    "%matplotlib inline\n",
    "\n",
    "from sklearn.metrics import mean_squared_error,log_loss\n",
    "from sklearn.model_selection import KFold\n",
    "import lightgbm as lgb\n",
    "from tqdm import tqdm_notebook\n",
    "import geopandas as gpd\n",
    "\n",
    "import warnings\n",
    "warnings.filterwarnings(\"ignore\")\n",
    "import math"
   ]
  },
  {
   "cell_type": "code",
   "execution_count": 2,
   "metadata": {},
   "outputs": [],
   "source": [
    "DATA_FOLDER = './input_files/'\n",
    "OUTPUT_PATH = './output_files/model_3_withoutexternal.csv'\n",
    "df = pd.read_csv(DATA_FOLDER + \"Train.csv\")\n",
    "sub_df = pd.read_csv(DATA_FOLDER + \"SampleSubmission.csv\")\n",
    "wetlands = pd.read_csv(DATA_FOLDER + 'wetlands.csv')"
   ]
  },
  {
   "cell_type": "code",
   "execution_count": 3,
   "metadata": {},
   "outputs": [
    {
     "data": {
      "text/plain": [
       "(34, 17)"
      ]
     },
     "execution_count": 3,
     "metadata": {},
     "output_type": "execute_result"
    }
   ],
   "source": [
    "precip_cols = [c for c in df.columns if 'precip' in c]\n",
    "len(precip_cols), len(precip_cols)//2"
   ]
  },
  {
   "cell_type": "code",
   "execution_count": 4,
   "metadata": {},
   "outputs": [],
   "source": [
    "precip_cols_2015 = precip_cols[0: 17]\n",
    "precip_cols_2019 = precip_cols[17: 34]\n",
    "train = df[precip_cols_2015]\n",
    "train.columns = [f'precip_week_{i}' for i in range(1, 18)]\n",
    "test = df[precip_cols_2019]\n",
    "test.columns = [f'precip_week_{i}' for i in range(1, 18)]\n",
    "train = pd.concat([train, df[['X', 'Y', 'target_2015', 'elevation', 'LC_Type1_mode', 'Square_ID']]], axis=1)\n",
    "test = pd.concat([test, df[['X', 'Y', 'target_2015', 'elevation', 'LC_Type1_mode', 'Square_ID']]], axis=1)"
   ]
  },
  {
   "cell_type": "code",
   "execution_count": 5,
   "metadata": {},
   "outputs": [],
   "source": [
    "gdf = gpd.GeoDataFrame(df, geometry=gpd.points_from_xy(df.X, df.Y))"
   ]
  },
  {
   "cell_type": "code",
   "execution_count": 6,
   "metadata": {},
   "outputs": [
    {
     "data": {
      "text/plain": [
       "(32932, 23)"
      ]
     },
     "execution_count": 6,
     "metadata": {},
     "output_type": "execute_result"
    }
   ],
   "source": [
    "df = pd.concat([train, test]).reset_index(drop=True)\n",
    "df.shape"
   ]
  },
  {
   "cell_type": "code",
   "execution_count": 7,
   "metadata": {},
   "outputs": [
    {
     "name": "stdout",
     "output_type": "stream",
     "text": [
      "['precip_week_1', 'precip_week_2', 'precip_week_3', 'precip_week_4', 'precip_week_5', 'precip_week_6', 'precip_week_7', 'precip_week_8', 'precip_week_9', 'precip_week_10', 'precip_week_11', 'precip_week_12', 'precip_week_13', 'precip_week_14', 'precip_week_15', 'precip_week_16', 'precip_week_17']\n"
     ]
    }
   ],
   "source": [
    "precip_cols = [c for c in df.columns if 'precip' in c]\n",
    "len(precip_cols)\n",
    "print(precip_cols)"
   ]
  },
  {
   "cell_type": "code",
   "execution_count": 8,
   "metadata": {},
   "outputs": [],
   "source": [
    "def add_diff_interacts(df, inter_cols):\n",
    "    '''\n",
    "    This function calucates all possible combinations of differences for columns provided to into pairs for the given dataframe.\n",
    "    For example: If we have columns: Col_1, Col_2, Col_3 then it will calculate Col_1 - Col_2, Col_1 - Col_3, Col_2 - Col_3\n",
    "    This is to calculate the differnce in precipitation between different weeks of rainfall, like the difference in rainfall between week 17 and week 16.\n",
    "    \n",
    "    df: DataFrame\n",
    "    inter_cols: The columns for which the difference needs to be computed\n",
    "    \n",
    "    returns: New dataframe with the difference columns added to it.\n",
    "    '''\n",
    "    def apply_interacts(x, inter_cols):\n",
    "        cols = [x + '_diff_' + c for c in inter_cols[inter_cols.index(x)+1:]]\n",
    "        interacts_df[cols] = pd.concat([df[x] - df[c] for c in inter_cols[inter_cols.index(x)+1:]], axis=1)\n",
    "    \n",
    "    interacts_df = pd.DataFrame()\n",
    "    _ = df[inter_cols[:-1]].apply(lambda x: apply_interacts(x.name, inter_cols))\n",
    "    df = pd.concat([df, interacts_df], axis=1)\n",
    "\n",
    "    return df\n",
    "df = add_diff_interacts(df, precip_cols)\n",
    "\n",
    "step = 0.2\n",
    "to_bin = lambda x: np.floor(x / step) * step\n",
    "df[\"latbin\"] = df.X.map(to_bin)\n",
    "df[\"lonbin\"] = df.Y.map(to_bin)\n",
    "\n",
    "df['prev_x'] = df['X'] - 0.01\n",
    "df['next_x'] = df['X'] + 0.01\n",
    "df['prev_y'] = df['Y'] - 0.01\n",
    "df['next_y'] = df['Y'] + 0.01"
   ]
  },
  {
   "cell_type": "code",
   "execution_count": 9,
   "metadata": {},
   "outputs": [],
   "source": [
    "def cart2rho(x, y):\n",
    "    rho = np.sqrt(x**2 + y**2)\n",
    "    return rho\n",
    "\n",
    "\n",
    "def cart2phi(x, y):\n",
    "    phi = np.arctan2(y, x)\n",
    "    return phi\n",
    "\n",
    "\n",
    "def operating_with_coordinates(tr_df, te_df):\n",
    "    for df in [tr_df, te_df]:\n",
    "        # apply the polar coordinates system\n",
    "        df[\"num_rho\"] = df.apply(lambda x: cart2rho(x[\"X\"] - 35.12, x[\"Y\"]+15.82), axis=1)\n",
    "        df[\"num_phi\"] = df.apply(lambda x: cart2phi(x[\"X\"] - 35.12, x[\"Y\"]+15.82), axis=1)\n",
    "    return tr_df, te_df"
   ]
  },
  {
   "cell_type": "code",
   "execution_count": 10,
   "metadata": {},
   "outputs": [],
   "source": [
    "train = df[:train.shape[0]].reset_index(drop=True)\n",
    "test = df[train.shape[0]:].reset_index(drop=True)\n",
    "features = [c for c in train.columns if c not in ['Square_ID','target_2015', 'geometry'] + precip_cols]"
   ]
  },
  {
   "cell_type": "code",
   "execution_count": 11,
   "metadata": {},
   "outputs": [],
   "source": [
    "train,test=operating_with_coordinates(train,test)"
   ]
  },
  {
   "cell_type": "code",
   "execution_count": 12,
   "metadata": {},
   "outputs": [],
   "source": [
    "rotation_cols = [c for c in train.columns if 'num_rot' in c]\n",
    "features = [c for c in train.columns if c not in ['Square_ID','target_2015', 'geometry'] + precip_cols + rotation_cols]"
   ]
  },
  {
   "cell_type": "code",
   "execution_count": 13,
   "metadata": {},
   "outputs": [
    {
     "name": "stdout",
     "output_type": "stream",
     "text": [
      "fold n°0\n",
      "Training until validation scores don't improve for 200 rounds.\n",
      "[100]\ttraining's rmse: 0.0830385\tvalid_1's rmse: 0.10379\n",
      "[200]\ttraining's rmse: 0.0720546\tvalid_1's rmse: 0.100299\n",
      "[300]\ttraining's rmse: 0.0664536\tvalid_1's rmse: 0.0988795\n",
      "[400]\ttraining's rmse: 0.0617854\tvalid_1's rmse: 0.0978769\n",
      "[500]\ttraining's rmse: 0.0585365\tvalid_1's rmse: 0.0973809\n",
      "[600]\ttraining's rmse: 0.0552914\tvalid_1's rmse: 0.097191\n",
      "[700]\ttraining's rmse: 0.0528525\tvalid_1's rmse: 0.0969422\n",
      "[800]\ttraining's rmse: 0.0506333\tvalid_1's rmse: 0.0968877\n",
      "[900]\ttraining's rmse: 0.0487459\tvalid_1's rmse: 0.0969237\n",
      "Early stopping, best iteration is:\n",
      "[764]\ttraining's rmse: 0.0513792\tvalid_1's rmse: 0.0968748\n",
      "count    16466.000000\n",
      "mean         0.025145\n",
      "std          0.118364\n",
      "min          0.000000\n",
      "25%          0.000000\n",
      "50%          0.000000\n",
      "75%          0.000000\n",
      "max          0.869717\n",
      "dtype: float64\n",
      "fold n°1\n",
      "Training until validation scores don't improve for 200 rounds.\n",
      "[100]\ttraining's rmse: 0.0823515\tvalid_1's rmse: 0.109186\n",
      "[200]\ttraining's rmse: 0.0720704\tvalid_1's rmse: 0.105422\n",
      "[300]\ttraining's rmse: 0.0654309\tvalid_1's rmse: 0.104228\n",
      "[400]\ttraining's rmse: 0.0613556\tvalid_1's rmse: 0.103586\n",
      "[500]\ttraining's rmse: 0.0582139\tvalid_1's rmse: 0.10311\n",
      "[600]\ttraining's rmse: 0.0548841\tvalid_1's rmse: 0.102551\n",
      "[700]\ttraining's rmse: 0.0523607\tvalid_1's rmse: 0.102527\n",
      "[800]\ttraining's rmse: 0.0500752\tvalid_1's rmse: 0.102331\n",
      "[900]\ttraining's rmse: 0.0481376\tvalid_1's rmse: 0.102287\n",
      "[1000]\ttraining's rmse: 0.0464473\tvalid_1's rmse: 0.102282\n",
      "Early stopping, best iteration is:\n",
      "[836]\ttraining's rmse: 0.0492479\tvalid_1's rmse: 0.102197\n",
      "count    16466.000000\n",
      "mean         0.026231\n",
      "std          0.124458\n",
      "min          0.000000\n",
      "25%          0.000000\n",
      "50%          0.000000\n",
      "75%          0.000000\n",
      "max          0.895830\n",
      "dtype: float64\n",
      "fold n°2\n",
      "Training until validation scores don't improve for 200 rounds.\n",
      "[100]\ttraining's rmse: 0.0833047\tvalid_1's rmse: 0.102888\n",
      "[200]\ttraining's rmse: 0.0725117\tvalid_1's rmse: 0.0997392\n",
      "[300]\ttraining's rmse: 0.0667256\tvalid_1's rmse: 0.0988555\n",
      "[400]\ttraining's rmse: 0.062797\tvalid_1's rmse: 0.0982697\n",
      "[500]\ttraining's rmse: 0.058914\tvalid_1's rmse: 0.0975597\n",
      "[600]\ttraining's rmse: 0.0556645\tvalid_1's rmse: 0.0972088\n",
      "[700]\ttraining's rmse: 0.0529328\tvalid_1's rmse: 0.0969083\n",
      "[800]\ttraining's rmse: 0.0508661\tvalid_1's rmse: 0.0967082\n",
      "[900]\ttraining's rmse: 0.0488966\tvalid_1's rmse: 0.0968869\n",
      "Early stopping, best iteration is:\n",
      "[794]\ttraining's rmse: 0.0510126\tvalid_1's rmse: 0.0966908\n",
      "count    16466.000000\n",
      "mean         0.027387\n",
      "std          0.127120\n",
      "min          0.000000\n",
      "25%          0.000000\n",
      "50%          0.000000\n",
      "75%          0.000000\n",
      "max          0.869773\n",
      "dtype: float64\n",
      "fold n°3\n",
      "Training until validation scores don't improve for 200 rounds.\n",
      "[100]\ttraining's rmse: 0.0810566\tvalid_1's rmse: 0.107463\n",
      "[200]\ttraining's rmse: 0.0718308\tvalid_1's rmse: 0.105578\n",
      "[300]\ttraining's rmse: 0.0663058\tvalid_1's rmse: 0.104807\n",
      "[400]\ttraining's rmse: 0.0617598\tvalid_1's rmse: 0.104383\n",
      "[500]\ttraining's rmse: 0.0583658\tvalid_1's rmse: 0.104275\n",
      "[600]\ttraining's rmse: 0.0551799\tvalid_1's rmse: 0.10422\n",
      "[700]\ttraining's rmse: 0.0526273\tvalid_1's rmse: 0.104263\n",
      "Early stopping, best iteration is:\n",
      "[586]\ttraining's rmse: 0.0556599\tvalid_1's rmse: 0.104132\n",
      "count    16466.000000\n",
      "mean         0.027376\n",
      "std          0.124861\n",
      "min          0.000000\n",
      "25%          0.000000\n",
      "50%          0.000000\n",
      "75%          0.000000\n",
      "max          0.947655\n",
      "dtype: float64\n",
      "fold n°4\n",
      "Training until validation scores don't improve for 200 rounds.\n",
      "[100]\ttraining's rmse: 0.0826762\tvalid_1's rmse: 0.10662\n",
      "[200]\ttraining's rmse: 0.0726827\tvalid_1's rmse: 0.103144\n",
      "[300]\ttraining's rmse: 0.0671078\tvalid_1's rmse: 0.101761\n",
      "[400]\ttraining's rmse: 0.0621272\tvalid_1's rmse: 0.101055\n",
      "[500]\ttraining's rmse: 0.0588552\tvalid_1's rmse: 0.100577\n",
      "[600]\ttraining's rmse: 0.0557564\tvalid_1's rmse: 0.100504\n",
      "[700]\ttraining's rmse: 0.0529794\tvalid_1's rmse: 0.100306\n",
      "[800]\ttraining's rmse: 0.0506243\tvalid_1's rmse: 0.100106\n",
      "[900]\ttraining's rmse: 0.048783\tvalid_1's rmse: 0.100004\n",
      "[1000]\ttraining's rmse: 0.0469213\tvalid_1's rmse: 0.0999879\n",
      "[1100]\ttraining's rmse: 0.0451186\tvalid_1's rmse: 0.100045\n",
      "Early stopping, best iteration is:\n",
      "[952]\ttraining's rmse: 0.0477338\tvalid_1's rmse: 0.0999513\n",
      "count    16466.000000\n",
      "mean         0.028656\n",
      "std          0.131670\n",
      "min          0.000000\n",
      "25%          0.000000\n",
      "50%          0.000000\n",
      "75%          0.000000\n",
      "max          0.981256\n",
      "dtype: float64\n",
      "CV score: 0.09377 \n"
     ]
    }
   ],
   "source": [
    "param = {'num_leaves': 186,\n",
    "     'min_data_in_leaf': 40, \n",
    "     'objective':'regression',\n",
    "     'max_depth': 18,\n",
    "     'learning_rate': 0.1,\n",
    "     \"boosting\": \"gbdt\",\n",
    "     \"feature_fraction\": 0.8,\n",
    "     \"metric\": 'rmse',\n",
    "     \"lambda_l1\": 0,\n",
    "     \"lambda_l2\": 0.1,\n",
    "    }\n",
    "\n",
    "\n",
    "target = train['target_2015']\n",
    "\n",
    "folds = KFold(n_splits=5, shuffle=True, random_state=15)\n",
    "oof_lgb = np.zeros(len(train))\n",
    "predictions_lgb = np.zeros(len(test))\n",
    "feature_importance_df = pd.DataFrame()\n",
    "\n",
    "\n",
    "\n",
    "#### Our chosen hyperparameters were under-predicting the floods in some sense, the maximum flooding was around 0.8xx\n",
    "#### To remedy this underprediction we chose an arbitary number greater than one, i.e, 1.08, so our maximum flooding crossed 0.9\n",
    "#### Choosing a multiplier only changes the non-zero values.\n",
    "#### The '0' values or areas with no flood will not be affected as 0 x 1.08 = 0 still.\n",
    "\n",
    "for fold_, (trn_idx, val_idx) in enumerate(folds.split(train.values, target.values)):\n",
    "    print(\"fold n°{}\".format(fold_))\n",
    "    trn_data = lgb.Dataset(train.iloc[trn_idx][features], label=target.iloc[trn_idx]*1.08)\n",
    "    val_data = lgb.Dataset(train.iloc[val_idx][features], label=target.iloc[val_idx]*1.08)\n",
    "\n",
    "    num_round = 1500\n",
    "    clf = lgb.train(param, trn_data, num_round, valid_sets = [trn_data, val_data], verbose_eval=100, early_stopping_rounds = 200)\n",
    "    oof_lgb[val_idx] = clf.predict(train.iloc[val_idx][features], num_iteration=clf.best_iteration)\n",
    "\n",
    "    fold_importance_df = pd.DataFrame()\n",
    "    fold_importance_df[\"feature\"] = features\n",
    "    fold_importance_df[\"importance\"] = clf.feature_importance()\n",
    "    fold_importance_df[\"fold\"] = fold_ + 1\n",
    "    feature_importance_df = pd.concat([feature_importance_df, fold_importance_df], axis=0)\n",
    "\n",
    "    curr_preds = clf.predict(test[features], num_iteration=clf.best_iteration)\n",
    "    curr_preds[curr_preds < 0.2] = 0\n",
    "    curr_preds[curr_preds > 1] = 1\n",
    "    print(pd.Series(curr_preds).describe())\n",
    "    predictions_lgb += clf.predict(test[features], num_iteration=clf.best_iteration) / folds.n_splits\n",
    "\n",
    "oof_lgb[oof_lgb < 0] = 0\n",
    "print(\"CV score: {:<8.5f}\".format(mean_squared_error(oof_lgb, target)**0.5))\n",
    "#     preds_df[mult] = predictions_lgb\n",
    "pt_1 = predictions_lgb"
   ]
  },
  {
   "cell_type": "code",
   "execution_count": 14,
   "metadata": {},
   "outputs": [],
   "source": [
    "pt_1[pt_1 < 0.2] = 0\n",
    "pt_1[pt_1 > 1] = 1"
   ]
  },
  {
   "cell_type": "code",
   "execution_count": 15,
   "metadata": {},
   "outputs": [
    {
     "name": "stdout",
     "output_type": "stream",
     "text": [
      "146\n",
      "fold n°0\n",
      "Training until validation scores don't improve for 200 rounds.\n",
      "[100]\ttraining's rmse: 0.0870207\tvalid_1's rmse: 0.107534\n",
      "[200]\ttraining's rmse: 0.0786058\tvalid_1's rmse: 0.105295\n",
      "[300]\ttraining's rmse: 0.0735251\tvalid_1's rmse: 0.104011\n",
      "[400]\ttraining's rmse: 0.0693709\tvalid_1's rmse: 0.103302\n",
      "[500]\ttraining's rmse: 0.0658148\tvalid_1's rmse: 0.102391\n",
      "[600]\ttraining's rmse: 0.0633515\tvalid_1's rmse: 0.102048\n",
      "[700]\ttraining's rmse: 0.0607474\tvalid_1's rmse: 0.101767\n",
      "[800]\ttraining's rmse: 0.0585479\tvalid_1's rmse: 0.101763\n",
      "[900]\ttraining's rmse: 0.0566462\tvalid_1's rmse: 0.101536\n",
      "[1000]\ttraining's rmse: 0.0550786\tvalid_1's rmse: 0.101504\n",
      "[1100]\ttraining's rmse: 0.053607\tvalid_1's rmse: 0.101366\n",
      "[1200]\ttraining's rmse: 0.0521633\tvalid_1's rmse: 0.101392\n",
      "[1300]\ttraining's rmse: 0.0508622\tvalid_1's rmse: 0.101331\n",
      "[1400]\ttraining's rmse: 0.0498141\tvalid_1's rmse: 0.101231\n",
      "[1500]\ttraining's rmse: 0.0487748\tvalid_1's rmse: 0.101147\n",
      "Did not meet early stopping. Best iteration is:\n",
      "[1500]\ttraining's rmse: 0.0487748\tvalid_1's rmse: 0.101147\n",
      "fold n°1\n",
      "Training until validation scores don't improve for 200 rounds.\n",
      "[100]\ttraining's rmse: 0.0868826\tvalid_1's rmse: 0.109597\n",
      "[200]\ttraining's rmse: 0.0787278\tvalid_1's rmse: 0.106533\n",
      "[300]\ttraining's rmse: 0.0732699\tvalid_1's rmse: 0.105369\n",
      "[400]\ttraining's rmse: 0.0695702\tvalid_1's rmse: 0.104603\n",
      "[500]\ttraining's rmse: 0.0663269\tvalid_1's rmse: 0.103954\n",
      "[600]\ttraining's rmse: 0.0636523\tvalid_1's rmse: 0.103601\n",
      "[700]\ttraining's rmse: 0.0612156\tvalid_1's rmse: 0.103438\n",
      "[800]\ttraining's rmse: 0.059219\tvalid_1's rmse: 0.103241\n",
      "[900]\ttraining's rmse: 0.0572371\tvalid_1's rmse: 0.102961\n",
      "[1000]\ttraining's rmse: 0.0555036\tvalid_1's rmse: 0.102975\n",
      "[1100]\ttraining's rmse: 0.0541145\tvalid_1's rmse: 0.103112\n",
      "Early stopping, best iteration is:\n",
      "[988]\ttraining's rmse: 0.0556853\tvalid_1's rmse: 0.102914\n",
      "fold n°2\n",
      "Training until validation scores don't improve for 200 rounds.\n",
      "[100]\ttraining's rmse: 0.0874963\tvalid_1's rmse: 0.104601\n",
      "[200]\ttraining's rmse: 0.0782129\tvalid_1's rmse: 0.102293\n",
      "[300]\ttraining's rmse: 0.0731833\tvalid_1's rmse: 0.100881\n",
      "[400]\ttraining's rmse: 0.069335\tvalid_1's rmse: 0.100219\n",
      "[500]\ttraining's rmse: 0.065735\tvalid_1's rmse: 0.0997377\n",
      "[600]\ttraining's rmse: 0.0629806\tvalid_1's rmse: 0.0994975\n",
      "[700]\ttraining's rmse: 0.0606141\tvalid_1's rmse: 0.0992228\n",
      "[800]\ttraining's rmse: 0.0586595\tvalid_1's rmse: 0.0990918\n",
      "[900]\ttraining's rmse: 0.0567761\tvalid_1's rmse: 0.099106\n",
      "[1000]\ttraining's rmse: 0.055424\tvalid_1's rmse: 0.0990467\n",
      "Early stopping, best iteration is:\n",
      "[865]\ttraining's rmse: 0.0573511\tvalid_1's rmse: 0.0989798\n",
      "fold n°3\n",
      "Training until validation scores don't improve for 200 rounds.\n",
      "[100]\ttraining's rmse: 0.0864719\tvalid_1's rmse: 0.111314\n",
      "[200]\ttraining's rmse: 0.0775377\tvalid_1's rmse: 0.108764\n",
      "[300]\ttraining's rmse: 0.0721189\tvalid_1's rmse: 0.107561\n",
      "[400]\ttraining's rmse: 0.068233\tvalid_1's rmse: 0.106879\n",
      "[500]\ttraining's rmse: 0.0654467\tvalid_1's rmse: 0.106458\n",
      "[600]\ttraining's rmse: 0.0629281\tvalid_1's rmse: 0.10635\n",
      "[700]\ttraining's rmse: 0.0605749\tvalid_1's rmse: 0.106112\n",
      "[800]\ttraining's rmse: 0.058813\tvalid_1's rmse: 0.106114\n",
      "Early stopping, best iteration is:\n",
      "[665]\ttraining's rmse: 0.0612724\tvalid_1's rmse: 0.106057\n",
      "fold n°4\n",
      "Training until validation scores don't improve for 200 rounds.\n",
      "[100]\ttraining's rmse: 0.0877326\tvalid_1's rmse: 0.109372\n",
      "[200]\ttraining's rmse: 0.0792609\tvalid_1's rmse: 0.106485\n",
      "[300]\ttraining's rmse: 0.0738298\tvalid_1's rmse: 0.104676\n",
      "[400]\ttraining's rmse: 0.0695429\tvalid_1's rmse: 0.103341\n",
      "[500]\ttraining's rmse: 0.0660508\tvalid_1's rmse: 0.102546\n",
      "[600]\ttraining's rmse: 0.0634371\tvalid_1's rmse: 0.102091\n",
      "[700]\ttraining's rmse: 0.0610274\tvalid_1's rmse: 0.101656\n",
      "[800]\ttraining's rmse: 0.0587104\tvalid_1's rmse: 0.101534\n",
      "[900]\ttraining's rmse: 0.0569651\tvalid_1's rmse: 0.101474\n",
      "[1000]\ttraining's rmse: 0.0552538\tvalid_1's rmse: 0.101374\n",
      "[1100]\ttraining's rmse: 0.0538892\tvalid_1's rmse: 0.101239\n",
      "[1200]\ttraining's rmse: 0.0524842\tvalid_1's rmse: 0.101246\n",
      "[1300]\ttraining's rmse: 0.0513048\tvalid_1's rmse: 0.101296\n",
      "Early stopping, best iteration is:\n",
      "[1144]\ttraining's rmse: 0.0532369\tvalid_1's rmse: 0.101187\n",
      "CV score: 0.09587 \n"
     ]
    }
   ],
   "source": [
    "features = [c for c in train.columns if c not in ['Square_ID','target_2015', 'geometry'] + precip_cols + rotation_cols + ['num_rho','num_phi']]\n",
    "print(len(features))\n",
    "all_test_preds_df = pd.DataFrame()\n",
    "param = {'num_leaves': 186,\n",
    "     'min_data_in_leaf': 40, \n",
    "     'objective':'regression',\n",
    "     'max_depth': 18,\n",
    "     'learning_rate': 0.1,\n",
    "     \"boosting\": \"gbdt\",\n",
    "     \"feature_fraction\": 0.8,\n",
    "     \"metric\": 'rmse',\n",
    "     \"lambda_l1\": 0,\n",
    "     \"lambda_l2\": 0.1,\n",
    "    }\n",
    "\n",
    "\n",
    "target = train['target_2015']\n",
    "\n",
    "folds = KFold(n_splits=5, shuffle=True, random_state=15)\n",
    "oof_lgb = np.zeros(len(train))\n",
    "predictions_lgb = np.zeros(len(test))\n",
    "feature_importance_df = pd.DataFrame()\n",
    "\n",
    "\n",
    "#### Our chosen hyperparameters were under-predicting the floods in some sense, the maximum flooding was around 0.8xx\n",
    "#### To remedy this underprediction we chose an arbitary number greater than one, i.e, 1.08, so our maximum flooding crossed 0.9\n",
    "#### Choosing a multiplier only changes the non-zero values.\n",
    "#### The '0' values or areas with no flood will not be affected as 0 x 1.08 = 0 still.\n",
    "\n",
    "for fold_, (trn_idx, val_idx) in enumerate(folds.split(train.values, target.values)):\n",
    "    print(\"fold n°{}\".format(fold_))\n",
    "    trn_data = lgb.Dataset(train.iloc[trn_idx][features], label=target.iloc[trn_idx]*1.08)\n",
    "    val_data = lgb.Dataset(train.iloc[val_idx][features], label=target.iloc[val_idx]*1.08)\n",
    "\n",
    "    num_round = 1500\n",
    "    clf = lgb.train(param, trn_data, num_round, valid_sets = [trn_data, val_data], verbose_eval=100, early_stopping_rounds = 200)\n",
    "    oof_lgb[val_idx] = clf.predict(train.iloc[val_idx][features], num_iteration=clf.best_iteration)\n",
    "\n",
    "    fold_importance_df = pd.DataFrame()\n",
    "    fold_importance_df[\"feature\"] = features\n",
    "    fold_importance_df[\"importance\"] = clf.feature_importance()\n",
    "    fold_importance_df[\"fold\"] = fold_ + 1\n",
    "    feature_importance_df = pd.concat([feature_importance_df, fold_importance_df], axis=0)\n",
    "\n",
    "    predictions_lgb += clf.predict(test[features], num_iteration=clf.best_iteration) / folds.n_splits\n",
    "\n",
    "oof_lgb[oof_lgb < 0] = 0\n",
    "print(\"CV score: {:<8.5f}\".format(mean_squared_error(oof_lgb, target)**0.5))\n",
    "pt_2 = predictions_lgb\n"
   ]
  },
  {
   "cell_type": "code",
   "execution_count": 16,
   "metadata": {},
   "outputs": [],
   "source": [
    "pt_2[pt_2 < 0.2] = 0\n",
    "pt_2[pt_2 > 1] = 1"
   ]
  },
  {
   "cell_type": "code",
   "execution_count": 17,
   "metadata": {},
   "outputs": [],
   "source": [
    "predictions_lgb = pt_1 * 0.7 + pt_2 * 0.3"
   ]
  },
  {
   "cell_type": "code",
   "execution_count": 18,
   "metadata": {},
   "outputs": [],
   "source": [
    "def rectify_submission(best_sub):\n",
    "    '''\n",
    "    This function is used to rectify the submissions based on EDA, and external data. \n",
    "    The documentation for the function can be found at: \" \"\n",
    "    wetlands: Gives the wetland distance of the place. The data source used is \" \", and is described at: \" \"\n",
    "    \n",
    "    '''\n",
    "    \n",
    "    train['wetland_dist'] = wetlands['wetland_dist']\n",
    "    target = train['target_2015']\n",
    "    gdf = gpd.GeoDataFrame(\n",
    "        train, geometry=gpd.points_from_xy(train.X, train.Y))\n",
    "    gdf['target_2015'] = target\n",
    "    gdf['best_sub'] =  best_sub\n",
    "    \n",
    "    best_sub_2 = best_sub.copy()\n",
    "    \n",
    "    #### Rectifications based on wetland distance. Places very near the wetlands are more likely to get flooded and vice versa.\n",
    "    #### The magnitues are in metres, So 5000 metres = 5 kilometres and 10000 metres = 10 kilometres\n",
    "    sel = (best_sub_2 == 0)\n",
    "    best_sub_2[sel] = 0.03\n",
    "    sel = (train['wetland_dist'] > 5000) & (train['wetland_dist'] <= 10000)\n",
    "    best_sub_2[sel] = 0.015\n",
    "    sel = (train['wetland_dist'] > 10000)\n",
    "    best_sub_2[sel] = 0\n",
    "    sel = (train['wetland_dist'] == 0) & (train['target_2015'] == 1) & (train['elevation'] < 55)\n",
    "    best_sub_2[sel] = 0.94\n",
    "    \n",
    "    ### These regions have very low elevation, and the predictions is quite high for them, so we make it even higher\n",
    "    sel = (train['elevation'] < 100) & (best_sub_2 > 0.85)\n",
    "    best_sub_2[sel] = 0.95\n",
    "    \n",
    "    #### These regions are neither unflooded nor too much flooded, we blend them with the floods of 2015, by a very small amount to get a small boost\n",
    "    sel = (best_sub_2 > 0.1) & (best_sub_2 < 0.9)\n",
    "    best_sub_2[sel] = best_sub_2[sel] * 0.85 + train['target_2015'][sel] * 0.15\n",
    "    \n",
    "    \n",
    "    ### The lower part of the map is mostly flooded, so we increase the flooding of the unflooded regions by a small percen (5 %).\n",
    "    ### This is again an arbitary number, and can further be tuned further\n",
    "    sel = (best_sub_2 > 0) & (best_sub_2 < 0.03) & (train.Y < 16.0)\n",
    "    print(sel.sum())\n",
    "    best_sub_2[sel] *= 1.05\n",
    "    \n",
    "    ### The eastern hemisphere is almost completely not flooded in our 2019 predictions, and we only see a negligibly small spot flooded.\n",
    "    ### To get rid of it, we set the flooding of the entire eastern region to 0.\n",
    "    gdf['rectified'] = best_sub_2\n",
    "    sel = (train.X >= 35.3) & (train.Y <= 15.9)\n",
    "    gdf.loc[sel, 'rectified'] = 0.00\n",
    "    return gdf['rectified']"
   ]
  },
  {
   "cell_type": "code",
   "execution_count": 19,
   "metadata": {},
   "outputs": [
    {
     "name": "stdout",
     "output_type": "stream",
     "text": [
      "3285\n"
     ]
    }
   ],
   "source": [
    "predictions_lgb = rectify_submission(predictions_lgb)"
   ]
  },
  {
   "cell_type": "code",
   "execution_count": 20,
   "metadata": {},
   "outputs": [
    {
     "data": {
      "text/plain": [
       "count    16466.000000\n",
       "mean         0.034141\n",
       "std          0.137324\n",
       "min          0.000000\n",
       "25%          0.000000\n",
       "50%          0.000000\n",
       "75%          0.015750\n",
       "max          0.950000\n",
       "Name: target_2019, dtype: float64"
      ]
     },
     "execution_count": 20,
     "metadata": {},
     "output_type": "execute_result"
    }
   ],
   "source": [
    "SUB_FILE_NAME = OUTPUT_PATH\n",
    "sub=test[[\"Square_ID\"]]\n",
    "sub['target_2019'] = predictions_lgb\n",
    "sub.to_csv(SUB_FILE_NAME, index = False)\n",
    "sub['target_2019'].describe()"
   ]
  },
  {
   "cell_type": "code",
   "execution_count": 21,
   "metadata": {},
   "outputs": [
    {
     "data": {
      "text/html": [
       "<a href=./output_files/model_3_withoutexternal.csv>Download CSV file</a>"
      ],
      "text/plain": [
       "<IPython.core.display.HTML object>"
      ]
     },
     "execution_count": 21,
     "metadata": {},
     "output_type": "execute_result"
    }
   ],
   "source": [
    "from IPython.display import HTML\n",
    "def create_download_link(title = \"Download CSV file\", filename = \"data.csv\"):  \n",
    "    html = '<a href={filename}>{title}</a>'\n",
    "    html = html.format(title=title,filename=filename)\n",
    "    return HTML(html)\n",
    "create_download_link(filename = SUB_FILE_NAME)"
   ]
  },
  {
   "cell_type": "code",
   "execution_count": 22,
   "metadata": {},
   "outputs": [
    {
     "data": {
      "image/png": "[encoded data removed]",
      "text/plain": [
       "<Figure size 1296x432 with 6 Axes>"
      ]
     },
     "metadata": {
      "needs_background": "light"
     },
     "output_type": "display_data"
    }
   ],
   "source": [
    "fig, axes = plt.subplots(1, 3, figsize=(18, 6))\n",
    "gdf['target_2019'] = predictions_lgb\n",
    "gdf['target_2015'] = target\n",
    "gdf['difference_in_predictions (2015 - 2019)'] = gdf['target_2015'] - gdf['target_2019']\n",
    "gdf.plot(column = 'target_2015', figsize=(6, 6), legend=True, ax = axes[0])\n",
    "gdf.plot(column = 'target_2019', figsize=(6, 6), legend=True, ax = axes[1])\n",
    "gdf.plot(column = 'difference_in_predictions (2015 - 2019)', legend=True, ax = axes[2])\n",
    "_ = axes[0].set_title('2019 Predictions')\n",
    "_ = axes[1].set_title('2015 Predictions')\n",
    "_ = axes[2].set_title('difference_in_predictions (2015 - 2019)')"
   ]
  },
  {
   "cell_type": "code",
   "execution_count": 23,
   "metadata": {},
   "outputs": [
    {
     "data": {
      "text/plain": [
       "count    16466.000000\n",
       "mean         0.034141\n",
       "std          0.137324\n",
       "min          0.000000\n",
       "25%          0.000000\n",
       "50%          0.000000\n",
       "75%          0.015750\n",
       "max          0.950000\n",
       "Name: target_2019, dtype: float64"
      ]
     },
     "execution_count": 23,
     "metadata": {},
     "output_type": "execute_result"
    }
   ],
   "source": [
    "sub['target_2019'].describe()"
   ]
  },
  {
   "cell_type": "code",
   "execution_count": null,
   "metadata": {},
   "outputs": [],
   "source": []
  }
 ],
 "metadata": {
  "kernelspec": {
   "display_name": "Python 3",
   "language": "python",
   "name": "python3"
  },
  "language_info": {
   "codemirror_mode": {
    "name": "ipython",
    "version": 3
   },
   "file_extension": ".py",
   "mimetype": "text/x-python",
   "name": "python",
   "nbconvert_exporter": "python",
   "pygments_lexer": "ipython3",
   "version": "3.6.9"
  }
 },
 "nbformat": 4,
 "nbformat_minor": 4
}
