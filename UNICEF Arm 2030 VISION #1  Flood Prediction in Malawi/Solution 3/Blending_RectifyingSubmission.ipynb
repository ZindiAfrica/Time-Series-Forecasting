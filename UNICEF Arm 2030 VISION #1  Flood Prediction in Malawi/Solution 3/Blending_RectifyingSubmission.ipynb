{
 "cells": [
  {
   "cell_type": "code",
   "execution_count": 156,
   "metadata": {
    "_cell_guid": "b1076dfc-b9ad-4769-8c92-a6c4dae69d19",
    "_uuid": "8f2839f25d086af736a60e9eeb907d3b93b6e0e5"
   },
   "outputs": [],
   "source": [
    "import pandas as pd\n",
    "import numpy as np\n",
    "import matplotlib.pyplot as plt\n",
    "%matplotlib inline\n",
    "\n",
    "from sklearn.metrics import mean_squared_error,log_loss\n",
    "from sklearn.model_selection import KFold\n",
    "import lightgbm as lgb\n",
    "from tqdm import tqdm_notebook\n",
    "import geopandas as gpd\n",
    "\n",
    "import warnings\n",
    "warnings.filterwarnings(\"ignore\")"
   ]
  },
  {
   "cell_type": "code",
   "execution_count": 157,
   "metadata": {},
   "outputs": [],
   "source": [
    "DATA_FOLDER = './input_files/'\n",
    "OUTPUT_DATA_FOLDER = './output_files/'\n",
    "\n",
    "sub_df = pd.read_csv(DATA_FOLDER + \"SampleSubmission.csv\")\n",
    "wetlands = pd.read_csv(DATA_FOLDER + 'wetlands.csv')"
   ]
  },
  {
   "cell_type": "code",
   "execution_count": 160,
   "metadata": {},
   "outputs": [
    {
     "data": {
      "text/html": [
       "<div>\n",
       "<style scoped>\n",
       "    .dataframe tbody tr th:only-of-type {\n",
       "        vertical-align: middle;\n",
       "    }\n",
       "\n",
       "    .dataframe tbody tr th {\n",
       "        vertical-align: top;\n",
       "    }\n",
       "\n",
       "    .dataframe thead th {\n",
       "        text-align: right;\n",
       "    }\n",
       "</style>\n",
       "<table border=\"1\" class=\"dataframe\">\n",
       "  <thead>\n",
       "    <tr style=\"text-align: right;\">\n",
       "      <th></th>\n",
       "      <th>A</th>\n",
       "      <th>B</th>\n",
       "      <th>C</th>\n",
       "      <th>D</th>\n",
       "    </tr>\n",
       "  </thead>\n",
       "  <tbody>\n",
       "    <tr>\n",
       "      <th>count</th>\n",
       "      <td>16466.000000</td>\n",
       "      <td>16466.000000</td>\n",
       "      <td>16466.000000</td>\n",
       "      <td>16466.000000</td>\n",
       "    </tr>\n",
       "    <tr>\n",
       "      <th>mean</th>\n",
       "      <td>0.036397</td>\n",
       "      <td>0.034735</td>\n",
       "      <td>0.034141</td>\n",
       "      <td>0.034581</td>\n",
       "    </tr>\n",
       "    <tr>\n",
       "      <th>std</th>\n",
       "      <td>0.142943</td>\n",
       "      <td>0.144535</td>\n",
       "      <td>0.137324</td>\n",
       "      <td>0.138919</td>\n",
       "    </tr>\n",
       "    <tr>\n",
       "      <th>min</th>\n",
       "      <td>0.000000</td>\n",
       "      <td>0.000000</td>\n",
       "      <td>0.000000</td>\n",
       "      <td>0.000000</td>\n",
       "    </tr>\n",
       "    <tr>\n",
       "      <th>25%</th>\n",
       "      <td>0.000000</td>\n",
       "      <td>0.000000</td>\n",
       "      <td>0.000000</td>\n",
       "      <td>0.000000</td>\n",
       "    </tr>\n",
       "    <tr>\n",
       "      <th>50%</th>\n",
       "      <td>0.000000</td>\n",
       "      <td>0.000000</td>\n",
       "      <td>0.000000</td>\n",
       "      <td>0.000000</td>\n",
       "    </tr>\n",
       "    <tr>\n",
       "      <th>75%</th>\n",
       "      <td>0.015750</td>\n",
       "      <td>0.010500</td>\n",
       "      <td>0.015750</td>\n",
       "      <td>0.015750</td>\n",
       "    </tr>\n",
       "    <tr>\n",
       "      <th>max</th>\n",
       "      <td>0.940000</td>\n",
       "      <td>0.969000</td>\n",
       "      <td>0.950000</td>\n",
       "      <td>0.950000</td>\n",
       "    </tr>\n",
       "  </tbody>\n",
       "</table>\n",
       "</div>"
      ],
      "text/plain": [
       "                  A             B             C             D\n",
       "count  16466.000000  16466.000000  16466.000000  16466.000000\n",
       "mean       0.036397      0.034735      0.034141      0.034581\n",
       "std        0.142943      0.144535      0.137324      0.138919\n",
       "min        0.000000      0.000000      0.000000      0.000000\n",
       "25%        0.000000      0.000000      0.000000      0.000000\n",
       "50%        0.000000      0.000000      0.000000      0.000000\n",
       "75%        0.015750      0.010500      0.015750      0.015750\n",
       "max        0.940000      0.969000      0.950000      0.950000"
      ]
     },
     "execution_count": 160,
     "metadata": {},
     "output_type": "execute_result"
    }
   ],
   "source": [
    "df = pd.read_csv(OUTPUT_DATA_FOLDER + 'model_1_withoutexternal.csv')\n",
    "df['A'] = pd.read_csv(OUTPUT_DATA_FOLDER + 'model_1_withoutexternal.csv')['target_2019'] \n",
    "df['B'] = pd.read_csv(OUTPUT_DATA_FOLDER + 'model_2_withoutexternal.csv')['target_2019']\n",
    "df['C'] = pd.read_csv(OUTPUT_DATA_FOLDER + 'model_3_withoutexternal.csv')['target_2019']\n",
    "df['D'] = pd.read_csv(OUTPUT_DATA_FOLDER + 'model_4_withoutexternal.csv')['target_2019']\n",
    "df[['A', 'B', 'C', 'D']].describe()"
   ]
  },
  {
   "cell_type": "code",
   "execution_count": 161,
   "metadata": {},
   "outputs": [
    {
     "data": {
      "text/html": [
       "<div>\n",
       "<style scoped>\n",
       "    .dataframe tbody tr th:only-of-type {\n",
       "        vertical-align: middle;\n",
       "    }\n",
       "\n",
       "    .dataframe tbody tr th {\n",
       "        vertical-align: top;\n",
       "    }\n",
       "\n",
       "    .dataframe thead th {\n",
       "        text-align: right;\n",
       "    }\n",
       "</style>\n",
       "<table border=\"1\" class=\"dataframe\">\n",
       "  <thead>\n",
       "    <tr style=\"text-align: right;\">\n",
       "      <th></th>\n",
       "      <th>A</th>\n",
       "      <th>B</th>\n",
       "      <th>C</th>\n",
       "      <th>D</th>\n",
       "    </tr>\n",
       "  </thead>\n",
       "  <tbody>\n",
       "    <tr>\n",
       "      <th>A</th>\n",
       "      <td>1.000000</td>\n",
       "      <td>0.997630</td>\n",
       "      <td>0.992707</td>\n",
       "      <td>0.992174</td>\n",
       "    </tr>\n",
       "    <tr>\n",
       "      <th>B</th>\n",
       "      <td>0.997630</td>\n",
       "      <td>1.000000</td>\n",
       "      <td>0.992946</td>\n",
       "      <td>0.991615</td>\n",
       "    </tr>\n",
       "    <tr>\n",
       "      <th>C</th>\n",
       "      <td>0.992707</td>\n",
       "      <td>0.992946</td>\n",
       "      <td>1.000000</td>\n",
       "      <td>0.998090</td>\n",
       "    </tr>\n",
       "    <tr>\n",
       "      <th>D</th>\n",
       "      <td>0.992174</td>\n",
       "      <td>0.991615</td>\n",
       "      <td>0.998090</td>\n",
       "      <td>1.000000</td>\n",
       "    </tr>\n",
       "  </tbody>\n",
       "</table>\n",
       "</div>"
      ],
      "text/plain": [
       "          A         B         C         D\n",
       "A  1.000000  0.997630  0.992707  0.992174\n",
       "B  0.997630  1.000000  0.992946  0.991615\n",
       "C  0.992707  0.992946  1.000000  0.998090\n",
       "D  0.992174  0.991615  0.998090  1.000000"
      ]
     },
     "execution_count": 161,
     "metadata": {},
     "output_type": "execute_result"
    }
   ],
   "source": [
    "df[['A', 'B', 'C', 'D']].corr()"
   ]
  },
  {
   "cell_type": "code",
   "execution_count": 162,
   "metadata": {},
   "outputs": [
    {
     "data": {
      "text/plain": [
       "count    16466.000000\n",
       "mean         0.035538\n",
       "std          0.141197\n",
       "min          0.000000\n",
       "25%          0.000000\n",
       "50%          0.000000\n",
       "75%          0.015238\n",
       "max          0.946327\n",
       "Name: target_2019, dtype: float64"
      ]
     },
     "execution_count": 162,
     "metadata": {},
     "output_type": "execute_result"
    }
   ],
   "source": [
    "SUB_FILE_NAME = 'mishra_models_blend_no_external_data.csv'\n",
    "sub = df[['Square_ID']]\n",
    "sub['target_2019'] = (df['A'] * 0.85 + df['B'] * 0.15) * 0.65 + (df['C'] * 0.4 + df['D'] * 0.6)*0.35\n",
    "sub.to_csv(OUTPUT_DATA_FOLDER+SUB_FILE_NAME, index = False)\n",
    "sub['target_2019'].describe()"
   ]
  },
  {
   "cell_type": "code",
   "execution_count": 163,
   "metadata": {},
   "outputs": [
    {
     "data": {
      "text/html": [
       "<a href=mishra_models_blend_no_external_data.csv>Download CSV file</a>"
      ],
      "text/plain": [
       "<IPython.core.display.HTML object>"
      ]
     },
     "execution_count": 163,
     "metadata": {},
     "output_type": "execute_result"
    }
   ],
   "source": [
    "from IPython.display import HTML\n",
    "def create_download_link(title = \"Download CSV file\", filename = \"data.csv\"):  \n",
    "    html = '<a href={filename}>{title}</a>'\n",
    "    html = html.format(title=title,filename=filename)\n",
    "    return HTML(html)\n",
    "create_download_link(filename = SUB_FILE_NAME)"
   ]
  },
  {
   "cell_type": "code",
   "execution_count": 164,
   "metadata": {},
   "outputs": [
    {
     "data": {
      "text/html": [
       "<div>\n",
       "<style scoped>\n",
       "    .dataframe tbody tr th:only-of-type {\n",
       "        vertical-align: middle;\n",
       "    }\n",
       "\n",
       "    .dataframe tbody tr th {\n",
       "        vertical-align: top;\n",
       "    }\n",
       "\n",
       "    .dataframe thead th {\n",
       "        text-align: right;\n",
       "    }\n",
       "</style>\n",
       "<table border=\"1\" class=\"dataframe\">\n",
       "  <thead>\n",
       "    <tr style=\"text-align: right;\">\n",
       "      <th></th>\n",
       "      <th>A</th>\n",
       "      <th>B</th>\n",
       "      <th>C</th>\n",
       "      <th>D</th>\n",
       "    </tr>\n",
       "  </thead>\n",
       "  <tbody>\n",
       "    <tr>\n",
       "      <th>count</th>\n",
       "      <td>16466.000000</td>\n",
       "      <td>16466.000000</td>\n",
       "      <td>16466.000000</td>\n",
       "      <td>16466.000000</td>\n",
       "    </tr>\n",
       "    <tr>\n",
       "      <th>mean</th>\n",
       "      <td>0.038788</td>\n",
       "      <td>0.038833</td>\n",
       "      <td>0.040282</td>\n",
       "      <td>0.040271</td>\n",
       "    </tr>\n",
       "    <tr>\n",
       "      <th>std</th>\n",
       "      <td>0.155528</td>\n",
       "      <td>0.148957</td>\n",
       "      <td>0.155794</td>\n",
       "      <td>0.157151</td>\n",
       "    </tr>\n",
       "    <tr>\n",
       "      <th>min</th>\n",
       "      <td>0.000000</td>\n",
       "      <td>0.000000</td>\n",
       "      <td>0.000000</td>\n",
       "      <td>0.000000</td>\n",
       "    </tr>\n",
       "    <tr>\n",
       "      <th>25%</th>\n",
       "      <td>0.000000</td>\n",
       "      <td>0.000000</td>\n",
       "      <td>0.000000</td>\n",
       "      <td>0.000000</td>\n",
       "    </tr>\n",
       "    <tr>\n",
       "      <th>50%</th>\n",
       "      <td>0.000000</td>\n",
       "      <td>0.000000</td>\n",
       "      <td>0.000000</td>\n",
       "      <td>0.000000</td>\n",
       "    </tr>\n",
       "    <tr>\n",
       "      <th>75%</th>\n",
       "      <td>0.015750</td>\n",
       "      <td>0.010500</td>\n",
       "      <td>0.015750</td>\n",
       "      <td>0.015750</td>\n",
       "    </tr>\n",
       "    <tr>\n",
       "      <th>max</th>\n",
       "      <td>1.000000</td>\n",
       "      <td>1.000000</td>\n",
       "      <td>0.950000</td>\n",
       "      <td>0.950000</td>\n",
       "    </tr>\n",
       "  </tbody>\n",
       "</table>\n",
       "</div>"
      ],
      "text/plain": [
       "                  A             B             C             D\n",
       "count  16466.000000  16466.000000  16466.000000  16466.000000\n",
       "mean       0.038788      0.038833      0.040282      0.040271\n",
       "std        0.155528      0.148957      0.155794      0.157151\n",
       "min        0.000000      0.000000      0.000000      0.000000\n",
       "25%        0.000000      0.000000      0.000000      0.000000\n",
       "50%        0.000000      0.000000      0.000000      0.000000\n",
       "75%        0.015750      0.010500      0.015750      0.015750\n",
       "max        1.000000      1.000000      0.950000      0.950000"
      ]
     },
     "execution_count": 164,
     "metadata": {},
     "output_type": "execute_result"
    }
   ],
   "source": [
    "df = pd.read_csv(OUTPUT_DATA_FOLDER + 'model_1_partial_terra.csv')\n",
    "df['A'] = pd.read_csv(OUTPUT_DATA_FOLDER + 'model_1_partial_terra.csv')['target_2019'] \n",
    "df['B'] = pd.read_csv(OUTPUT_DATA_FOLDER + 'model_2_partial_terra.csv')['target_2019']\n",
    "df['C'] = pd.read_csv(OUTPUT_DATA_FOLDER + 'model_3_partial_terra.csv')['target_2019']\n",
    "df['D'] = pd.read_csv(OUTPUT_DATA_FOLDER + 'model_4_partial_terra.csv')['target_2019']\n",
    "df[['A', 'B', 'C', 'D']].describe()"
   ]
  },
  {
   "cell_type": "code",
   "execution_count": 165,
   "metadata": {},
   "outputs": [
    {
     "data": {
      "text/html": [
       "<div>\n",
       "<style scoped>\n",
       "    .dataframe tbody tr th:only-of-type {\n",
       "        vertical-align: middle;\n",
       "    }\n",
       "\n",
       "    .dataframe tbody tr th {\n",
       "        vertical-align: top;\n",
       "    }\n",
       "\n",
       "    .dataframe thead th {\n",
       "        text-align: right;\n",
       "    }\n",
       "</style>\n",
       "<table border=\"1\" class=\"dataframe\">\n",
       "  <thead>\n",
       "    <tr style=\"text-align: right;\">\n",
       "      <th></th>\n",
       "      <th>A</th>\n",
       "      <th>B</th>\n",
       "      <th>C</th>\n",
       "      <th>D</th>\n",
       "    </tr>\n",
       "  </thead>\n",
       "  <tbody>\n",
       "    <tr>\n",
       "      <th>A</th>\n",
       "      <td>1.000000</td>\n",
       "      <td>0.980557</td>\n",
       "      <td>0.991729</td>\n",
       "      <td>0.990731</td>\n",
       "    </tr>\n",
       "    <tr>\n",
       "      <th>B</th>\n",
       "      <td>0.980557</td>\n",
       "      <td>1.000000</td>\n",
       "      <td>0.978887</td>\n",
       "      <td>0.982918</td>\n",
       "    </tr>\n",
       "    <tr>\n",
       "      <th>C</th>\n",
       "      <td>0.991729</td>\n",
       "      <td>0.978887</td>\n",
       "      <td>1.000000</td>\n",
       "      <td>0.993926</td>\n",
       "    </tr>\n",
       "    <tr>\n",
       "      <th>D</th>\n",
       "      <td>0.990731</td>\n",
       "      <td>0.982918</td>\n",
       "      <td>0.993926</td>\n",
       "      <td>1.000000</td>\n",
       "    </tr>\n",
       "  </tbody>\n",
       "</table>\n",
       "</div>"
      ],
      "text/plain": [
       "          A         B         C         D\n",
       "A  1.000000  0.980557  0.991729  0.990731\n",
       "B  0.980557  1.000000  0.978887  0.982918\n",
       "C  0.991729  0.978887  1.000000  0.993926\n",
       "D  0.990731  0.982918  0.993926  1.000000"
      ]
     },
     "execution_count": 165,
     "metadata": {},
     "output_type": "execute_result"
    }
   ],
   "source": [
    "df[['A', 'B', 'C', 'D']].corr()"
   ]
  },
  {
   "cell_type": "code",
   "execution_count": 166,
   "metadata": {},
   "outputs": [
    {
     "data": {
      "text/plain": [
       "count    16466.000000\n",
       "mean         0.039313\n",
       "std          0.154715\n",
       "min          0.000000\n",
       "25%          0.000000\n",
       "50%          0.000000\n",
       "75%          0.015238\n",
       "max          0.982500\n",
       "Name: target_2019, dtype: float64"
      ]
     },
     "execution_count": 166,
     "metadata": {},
     "output_type": "execute_result"
    }
   ],
   "source": [
    "SUB_FILE_NAME = 'mishra_models_blend_partial_terra.csv'\n",
    "sub = df[['Square_ID']]\n",
    "sub['target_2019'] = (df['A'] * 0.85 + df['B'] * 0.15) * 0.65 + (df['C'] * 0.4 + df['D'] * 0.6)*0.35\n",
    "sub.to_csv(OUTPUT_DATA_FOLDER+SUB_FILE_NAME, index = False)\n",
    "sub['target_2019'].describe()"
   ]
  },
  {
   "cell_type": "code",
   "execution_count": 172,
   "metadata": {},
   "outputs": [],
   "source": [
    "BEST_FADHLOUN = pd.read_csv('../ModelsOutputs/bestsub.csv')"
   ]
  },
  {
   "cell_type": "code",
   "execution_count": 173,
   "metadata": {},
   "outputs": [],
   "source": [
    "BEST_MISHRA = pd.read_csv(OUTPUT_DATA_FOLDER+'mishra_models_blend_no_external_data.csv')"
   ]
  },
  {
   "cell_type": "code",
   "execution_count": 174,
   "metadata": {},
   "outputs": [],
   "source": [
    "BEST_MISHRA['target_2019'] = BEST_MISHRA['target_2019']*0.4+BEST_FADHLOUN['target_2019']*0.6"
   ]
  },
  {
   "cell_type": "code",
   "execution_count": 177,
   "metadata": {},
   "outputs": [],
   "source": [
    "BEST_MISHRA.to_csv(OUTPUT_DATA_FOLDER+'0.07195Sub.csv',index=False)"
   ]
  },
  {
   "cell_type": "code",
   "execution_count": 178,
   "metadata": {},
   "outputs": [],
   "source": [
    "BEST_FADHLOUN =  pd.read_csv('../ModelsOutputs/bestsub.csv')\n",
    "BEST_MISHRA = pd.read_csv(OUTPUT_DATA_FOLDER+'mishra_models_blend_partial_terra.csv')"
   ]
  },
  {
   "cell_type": "code",
   "execution_count": 179,
   "metadata": {},
   "outputs": [],
   "source": [
    "BEST_MISHRA['target_2019'] = BEST_MISHRA['target_2019']*0.4+BEST_FADHLOUN['target_2019']*0.6"
   ]
  },
  {
   "cell_type": "code",
   "execution_count": 180,
   "metadata": {},
   "outputs": [],
   "source": [
    "BEST_MISHRA.to_csv(OUTPUT_DATA_FOLDER+'0.0725Sub.csv',index=False)"
   ]
  },
  {
   "cell_type": "code",
   "execution_count": 181,
   "metadata": {},
   "outputs": [],
   "source": [
    "BEST = pd.read_csv(OUTPUT_DATA_FOLDER+'0.07195Sub.csv')\n",
    "Partial_terra = pd.read_csv(OUTPUT_DATA_FOLDER+'0.0725Sub.csv')"
   ]
  },
  {
   "cell_type": "code",
   "execution_count": 182,
   "metadata": {},
   "outputs": [],
   "source": [
    "BEST['target_2019'] = BEST['target_2019']*0.8 + Partial_terra['target_2019']*0.2"
   ]
  },
  {
   "cell_type": "code",
   "execution_count": 184,
   "metadata": {},
   "outputs": [],
   "source": [
    "BEST.to_csv(OUTPUT_DATA_FOLDER+'0.07189Sub.csv',index=False)"
   ]
  },
  {
   "cell_type": "code",
   "execution_count": null,
   "metadata": {},
   "outputs": [],
   "source": []
  },
  {
   "cell_type": "code",
   "execution_count": null,
   "metadata": {},
   "outputs": [],
   "source": []
  },
  {
   "cell_type": "code",
   "execution_count": null,
   "metadata": {},
   "outputs": [],
   "source": []
  }
 ],
 "metadata": {
  "kernelspec": {
   "display_name": "Python 3",
   "language": "python",
   "name": "python3"
  },
  "language_info": {
   "codemirror_mode": {
    "name": "ipython",
    "version": 3
   },
   "file_extension": ".py",
   "mimetype": "text/x-python",
   "name": "python",
   "nbconvert_exporter": "python",
   "pygments_lexer": "ipython3",
   "version": "3.6.9"
  }
 },
 "nbformat": 4,
 "nbformat_minor": 4
}
