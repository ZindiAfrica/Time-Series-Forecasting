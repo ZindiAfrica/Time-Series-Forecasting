{
  "nbformat": 4,
  "nbformat_minor": 0,
  "metadata": {
    "colab": {
      "name": "Layer.ai Air Quality Prediction Challenge (DESCRIPTION NOTEBOOK).ipynb",
      "provenance": []
    },
    "kernelspec": {
      "name": "python3",
      "display_name": "Python 3"
    },
    "language_info": {
      "name": "python"
    }
  },
  "cells": [
    {
      "cell_type": "markdown",
      "source": [
        "Title : **MICADEE - Zindi Weekendz: Layer.ai Air Quality Prediction Challenge**\n",
        "\n",
        "                          Final Notebooks (using free colab)\n",
        "\n",
        "FINAL SCORE: (**13.3997 on Public LB / 13.2949 on Private LB**)\n",
        "\n",
        "Platform/Competition : **Zindi / Zindi Weekendz: Layer.ai Air Quality Prediction Challenge**\n",
        "\n",
        "\n",
        "# Description : \n",
        "**The single zip file of all the Datasets was downloaded directly from Zindi Platform, uploaded into my Google Drive and lastly using \"gdown\" to read back the datasets to each of six(6) notebooks.:**\n",
        "\n",
        "\n",
        "\n",
        "\n",
        " \n",
        "\n",
        "\n",
        "\n",
        "\n",
        "\n",
        "Author : **MICADEE**\n",
        "\n",
        "ID: DUbo1zVz\n",
        "\n",
        "Filename: ensemble6.csv\n",
        "\n",
        "Current Position: 2nd place on Private LB\n",
        "\n",
        "Date Submitted: 2 July 18:54\n",
        "\n",
        "Today's Date: 04 July 7:21\n",
        "\n",
        "Python_version: Python 3.7.10 (free colab)\n",
        "\n",
        "Libraries:\n",
        "\n",
        "                 numpy:   1.19.5\n",
        " \n",
        "                 pandas:  1.1.5\n",
        " \n",
        "                 sklearn: 0.22.2.post1"
      ],
      "metadata": {
        "id": "JzWNKFL9pcdB"
      }
    },
    {
      "cell_type": "code",
      "execution_count": null,
      "metadata": {
        "id": "t7FZbDL7pbVw"
      },
      "outputs": [],
      "source": [
        ""
      ]
    },
    {
      "cell_type": "code",
      "source": [
        ""
      ],
      "metadata": {
        "id": "dZSmyw_f0ga-"
      },
      "execution_count": null,
      "outputs": []
    },
    {
      "cell_type": "code",
      "source": [
        ""
      ],
      "metadata": {
        "id": "WwPi09Ll0g5p"
      },
      "execution_count": null,
      "outputs": []
    },
    {
      "cell_type": "code",
      "source": [
        ""
      ],
      "metadata": {
        "id": "u5u_e5jX0g3q"
      },
      "execution_count": null,
      "outputs": []
    },
    {
      "cell_type": "code",
      "source": [
        ""
      ],
      "metadata": {
        "id": "ol0wOwoM0g1N"
      },
      "execution_count": null,
      "outputs": []
    }
  ]
}