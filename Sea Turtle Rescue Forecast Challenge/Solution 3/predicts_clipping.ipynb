{
 "cells": [
  {
   "cell_type": "code",
   "execution_count": 1,
   "metadata": {},
   "outputs": [
    {
     "name": "stdout",
     "output_type": "stream",
     "text": [
      "CPython 3.7.3\n",
      "IPython 7.6.1\n",
      "\n",
      "pandas 1.0.1\n",
      "numpy 1.18.1\n",
      "matplotlib 3.1.2\n"
     ]
    }
   ],
   "source": [
    "import pandas as pd\n",
    "import numpy as np\n",
    "import matplotlib.pyplot as plt\n",
    "%load_ext watermark\n",
    "%watermark --python --packages pandas,numpy,matplotlib"
   ]
  },
  {
   "cell_type": "markdown",
   "metadata": {},
   "source": [
    "***"
   ]
  },
  {
   "cell_type": "markdown",
   "metadata": {},
   "source": [
    "## Clipping/smothing\n",
    "We saw that some predictions had a higher value than it was historically, also picks occurred over blending because of some overfitted solutions. So, let's try to smooth the picks."
   ]
  },
  {
   "cell_type": "markdown",
   "metadata": {},
   "source": [
    "Now, let's **attach the weights to the outstanding values** of Capture_Number. \n",
    "\n",
    "To define the 'outstanding values' we will use quantiles, the values of quantile was picked manually with validation on LB (risky way). Empirically, we've evaluated the quantile to be equal to about $0.75$. To pick weight will use the same validation strategy. Empirically, we've evaluated the weight to be in a range from $0.55$ to $0.8$."
   ]
  },
  {
   "cell_type": "code",
   "execution_count": 2,
   "metadata": {},
   "outputs": [],
   "source": [
    "a = pd.read_csv('submission_1.csv') # read the best submission from blendings\n",
    "df_date = pd.read_csv('aux_train_data.csv') # read aux preprocesed data"
   ]
  },
  {
   "cell_type": "code",
   "execution_count": 3,
   "metadata": {},
   "outputs": [],
   "source": [
    "# some preprocessing of files\n",
    "df_aux = pd.concat([a.ID, a.ID.str.split('_', expand=True), a['Capture_Number']], axis=1)\n",
    "df_aux['CaptureSite'] = df_aux[0] + '_' + df_aux[1]\n",
    "# iterate over groups, count quantile, get indexes array and multiply predics[rows is in indexes] on weight\n",
    "for group in df_aux.CaptureSite.unique():\n",
    "    qunatile_high = df_date.groupby('CaptureSite')['Capture_Number'].quantile(0.75)[group]\n",
    "    indx_to_max = df_aux[df_aux.CaptureSite == group][df_aux[df_aux.CaptureSite == group].Capture_Number >= qunatile_high].index\n",
    "    \n",
    "   # qunatile_low = df_date.groupby('CaptureSite')['Capture_Number'].quantile(0.5)[group]\n",
    "   # indx_to_zero = df_aux[df_aux.CaptureSite == group][df_aux[df_aux.CaptureSite == group].Capture_Number <= qunatile_low].index\n",
    "    \n",
    "    #print(len(indx_to_max), end=', ')\n",
    "    #print(len(indx_to_zero), end=', ')\n",
    "    \n",
    "    df_aux.loc[indx_to_max, 'Capture_Number'] = 0.7 * df_aux.loc[indx_to_max, 'Capture_Number']\n",
    "    #df_aux.loc[indx_to_zero, 'Capture_Number'] = 2.5 * df_aux.loc[indx_to_zero, 'Capture_Number']\n",
    "\n",
    "#df_aux[['ID', 'Capture_Number']].to_csv('one_more_try_to_reproduce_1.csv', index=False)"
   ]
  },
  {
   "cell_type": "markdown",
   "metadata": {},
   "source": [
    "Let's evaluate the new distribution in comparison with the old one."
   ]
  },
  {
   "cell_type": "code",
   "execution_count": 4,
   "metadata": {},
   "outputs": [
    {
     "data": {
      "text/plain": [
       "<matplotlib.legend.Legend at 0xd104267240>"
      ]
     },
     "execution_count": 4,
     "metadata": {},
     "output_type": "execute_result"
    },
    {
     "data": {
      "image/png": "[encoded data removed]",
      "text/plain": [
       "<Figure size 432x288 with 1 Axes>"
      ]
     },
     "metadata": {
      "needs_background": "light"
     },
     "output_type": "display_data"
    }
   ],
   "source": [
    "plt.title('Distribution of predicts')\n",
    "a['Capture_Number'].plot.hist(bins=50, color='lightblue', alpha=0.5, label='Before clipping');\n",
    "df_aux['Capture_Number'].plot.hist(bins=50, color='orange', alpha=0.5, label='After clipping');\n",
    "plt.legend()"
   ]
  }
 ],
 "metadata": {
  "kernelspec": {
   "display_name": "Python 3",
   "language": "python",
   "name": "python3"
  },
  "language_info": {
   "codemirror_mode": {
    "name": "ipython",
    "version": 3
   },
   "file_extension": ".py",
   "mimetype": "text/x-python",
   "name": "python",
   "nbconvert_exporter": "python",
   "pygments_lexer": "ipython3",
   "version": "3.7.3"
  }
 },
 "nbformat": 4,
 "nbformat_minor": 2
}
