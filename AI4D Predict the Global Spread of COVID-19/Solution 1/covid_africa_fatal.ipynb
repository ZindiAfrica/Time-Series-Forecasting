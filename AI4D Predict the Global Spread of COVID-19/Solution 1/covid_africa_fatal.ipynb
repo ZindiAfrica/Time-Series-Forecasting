{
 "cells": [
  {
   "cell_type": "code",
   "execution_count": 1,
   "metadata": {},
   "outputs": [],
   "source": [
    "import numpy as np\n",
    "import pandas as pd\n",
    "from tqdm.notebook import tqdm\n",
    "from scipy.optimize import curve_fit\n",
    "from sklearn.metrics import mean_absolute_error"
   ]
  },
  {
   "cell_type": "code",
   "execution_count": 2,
   "metadata": {},
   "outputs": [],
   "source": [
    "ss = pd.read_csv('SampleSubmission.csv')\n",
    "ss['country'] = [x[:-11].replace(' (the)', '') for x in ss['Territory X Date'].tolist()]"
   ]
  },
  {
   "cell_type": "code",
   "execution_count": 3,
   "metadata": {},
   "outputs": [],
   "source": [
    "date = '4/19/20'\n",
    "confirmed_data = pd.read_csv('COVID-19/csse_covid_19_data/csse_covid_19_time_series/time_series_covid19_deaths_global.csv')\n",
    "confirmed_data.loc[:, date] = 0"
   ]
  },
  {
   "cell_type": "code",
   "execution_count": 4,
   "metadata": {},
   "outputs": [],
   "source": [
    "for country in ['Australia', 'Canada', 'China']:\n",
    "    tmp_data = confirmed_data[confirmed_data['Country/Region'] == country]\n",
    "    sum_vals = tmp_data.values[:, 4:].sum(axis = 0).tolist()\n",
    "    vals = tmp_data.values[0, :4].tolist() + sum_vals\n",
    "    max_index = confirmed_data.index[-1]\n",
    "    confirmed_data = confirmed_data.drop(tmp_data.index)\n",
    "    confirmed_data.loc[max_index + 1, :] = [np.nan] + vals[1:]\n",
    "    \n",
    "confirmed_data['country'] = [s + '_' + c if s == s else c for s,c in confirmed_data[['Province/State', 'Country/Region']].values ]"
   ]
  },
  {
   "cell_type": "code",
   "execution_count": 5,
   "metadata": {},
   "outputs": [],
   "source": [
    "dict_reaplce = {\"Cote d'Ivoire\": \"Côte d'Ivoire\", 'Russia': 'Russian Federation',  'Bolivia': \"Bolivia (Plurinational State of)\",\n",
    "    'Brunei': 'Brunei Darussalam' , 'Cayman Islands_United Kingdom' : 'Cayman Islands', 'Bermuda_United Kingdom' : 'Bermuda', \n",
    "    'Aruba_Netherlands': 'Aruba',  'Taiwan*': 'Taiwan',  'US' : 'United States of America', \"Greenland_Denmark\" : 'Greenland',\n",
    "    'Venezuela': 'Venezuela (Bolivarian Republic of)', 'Reunion_France' : 'Reunion', 'Vietnam' : 'Viet Nam',\n",
    "    'New Caledonia_France' : 'New Caledonia', 'French Polynesia_France' : 'French Polynesia', 'French Guiana_France' : 'French Guiana',\n",
    "    'Faroe Islands_Denmark' : 'Faroe Islands' ,'Iran' : 'Iran (Islamic Republic of)', \n",
    "    'Korea, South': \"Republic of Korea\", 'Moldova' : 'Republic of Moldova', 'Congo (Kinshasa)' : 'Democratic Republic of the Congo',\n",
    "    'Congo (Brazzaville)' : 'Congo','United Kingdom': 'United Kingdom of Great Britain and Northern Ireland',\n",
    "    'Tanzania' : 'United Republic of Tanzania', 'Syria': 'Syrian Arab Republic', 'St Martin_France' : 'St Martin',\n",
    "    'Saint Barthelemy_France' : 'Saint Barthelemy', 'Montserrat_United Kingdom' : 'Montserrat', 'Mayotte_France': 'Mayotte',\n",
    "    'Laos': \"Lao People's Democratic Republic\", 'Guadeloupe_France' : 'Guadeloupe', 'Curacao_Netherlands': 'Curacao'}\n",
    "\n",
    "confirmed_data['country'] = [dict_reaplce.get(x,x) for x in confirmed_data['country'].unique()]"
   ]
  },
  {
   "cell_type": "code",
   "execution_count": 6,
   "metadata": {},
   "outputs": [],
   "source": [
    "today_countries_state = pd.read_csv(\"COVID-19-new/data/cases_state.csv\")\n",
    "today_countries = pd.read_csv(\"COVID-19-new/data/cases_country.csv\")"
   ]
  },
  {
   "cell_type": "code",
   "execution_count": 7,
   "metadata": {},
   "outputs": [],
   "source": [
    "dict_today_vals = {}\n",
    "col = 'Deaths'"
   ]
  },
  {
   "cell_type": "code",
   "execution_count": 8,
   "metadata": {},
   "outputs": [],
   "source": [
    "today_countries_state['State_Country'] = [s + '_' + c if s == s else c for s,c in today_countries_state[['Province_State', 'Country_Region']].values ]\n",
    "today_countries_state['State_Country'] = [dict_reaplce.get(x,x) for x in today_countries_state['State_Country'].unique()]\n",
    "for country, val in today_countries_state[['State_Country', col]].values:\n",
    "    dict_today_vals[country] = val\n",
    "\n",
    "today_countries['State_Country'] = [dict_reaplce.get(x,x) for x in today_countries['Country_Region'].unique()]\n",
    "for country, val in today_countries[['State_Country', col]].values:\n",
    "    dict_today_vals[country] = val"
   ]
  },
  {
   "cell_type": "code",
   "execution_count": 9,
   "metadata": {},
   "outputs": [],
   "source": [
    "diff_country = list(set(ss['country'].unique()) - set(confirmed_data['country'].unique()))\n",
    "\n",
    "for country in diff_country:\n",
    "    confirmed_data.loc[ confirmed_data.index[-1] + 1, :] = 0\n",
    "    confirmed_data.iloc[-1, -1] = country\n",
    "    \n",
    "confirmed_data = confirmed_data.reset_index(drop = True)    "
   ]
  },
  {
   "cell_type": "code",
   "execution_count": 10,
   "metadata": {},
   "outputs": [],
   "source": [
    "confirmed_data[date] = [dict_today_vals.get(c, 0) for c in confirmed_data['country'].values]\n",
    "confirmed_data = confirmed_data[ confirmed_data['country'].isin(ss['country'].unique()) ].reset_index(drop = True)  "
   ]
  },
  {
   "cell_type": "code",
   "execution_count": 11,
   "metadata": {},
   "outputs": [
    {
     "name": "stdout",
     "output_type": "stream",
     "text": [
      "Cyprus\n",
      "Finland\n",
      "Germany\n",
      "Iceland\n",
      "India\n",
      "Kazakhstan\n",
      "Luxembourg\n",
      "Philippines\n",
      "Serbia\n",
      "Slovakia\n"
     ]
    }
   ],
   "source": [
    "dict_values = {}\n",
    "for val in confirmed_data.values:\n",
    "    dict_values[val[-1]] = val[4:-1]\n",
    "    \n",
    "for country in dict_values:\n",
    "    if sum(np.diff(dict_values[country]) < 0):\n",
    "        print(country)\n",
    "        new_val = [dict_values[country][-1]]\n",
    "        for val_1, val_2 in zip(dict_values[country][1:][::-1], dict_values[country][:-1][::-1]):\n",
    "            if val_2 <= new_val[-1]:\n",
    "                new_val += [val_2]\n",
    "            else:\n",
    "                new_val += [new_val[-1]]\n",
    "        new_val = np.array(new_val[::-1])\n",
    "        ind_country = confirmed_data[confirmed_data['country'] == country].index[0]\n",
    "        confirmed_data.iloc[ind_country, 4:-1] = new_val"
   ]
  },
  {
   "cell_type": "code",
   "execution_count": 12,
   "metadata": {},
   "outputs": [],
   "source": [
    "def predict(data, country, len_predict, metrics, len_intersection, bound_0, bound_1):\n",
    "    country_data = data[data['country']==country].values[0][4:-1]\n",
    "\n",
    "    if metrics != 'Fatalities':\n",
    "        if country_data.max() > 5000:\n",
    "            start_people = 3\n",
    "        elif country_data.max() > 500:\n",
    "            start_people = 2\n",
    "        else:\n",
    "            start_people = 0\n",
    "    else:\n",
    "        if country_data.max() > 50:\n",
    "            start_people = 1\n",
    "        else:\n",
    "            start_people = 0        \n",
    "\n",
    "    country_data = country_data[dict_case_date[country][start_people]:]\n",
    "\n",
    "    x_data = np.arange(len(country_data))\n",
    "    y_data = np.array(country_data, dtype = float)\n",
    "\n",
    "    if len(x_data) <= 1:\n",
    "        y_val = np.arange(len(x_data), len(x_data) + len_predict)\n",
    "        if metrics != 'Fatalities':\n",
    "            return [-1, -1, -1], log_curve(y_val, bound_0, bound_1, 10, 1)\n",
    "        else:\n",
    "            return [-1, -1, -1], log_curve(y_val, bound_0, bound_1, 1, 0)            \n",
    "    else:\n",
    "        if metrics != 'Fatalities':\n",
    "#             y_max = max(country_data['Population'].values[0] * 0.001, y_data[-1] * 5)\n",
    "            y_max = y_data[-1] * 15\n",
    "        else:\n",
    "            y_max = y_data[-1] * 15\n",
    "        y_min = y_data[-1]\n",
    "        if metrics != 'Fatalities':\n",
    "            diff_k = max(1,  y_data[-1] - y_data[-2])\n",
    "        else:\n",
    "            diff_k = 1\n",
    "\n",
    "        best_score = 100000000000\n",
    "\n",
    "        if len(x_data) < 10:\n",
    "            range_num = 1\n",
    "        else:\n",
    "            range_num = len(x_data) - 9\n",
    "            \n",
    "        for i in range(range_num):\n",
    "            popt, pcov = curve_fit(log_curve, x_data[i:], y_data[i:],  bounds=([bound_0 - 0.05, bound_1 - 7.5 , y_min, 0 ],\n",
    "                                                                  [bound_0 + 0.1, bound_1 + 7.5, y_max, diff_k]),\n",
    "                                p0=[bound_0, bound_1 ,(y_min + y_max) / 2, 0], maxfev=100000)\n",
    "            \n",
    "            tmp_pred = log_curve(x_data[-5:], popt[0], popt[1], popt[2], popt[3])\n",
    "            score = rmsle(y_data[-5:], tmp_pred)\n",
    "            if score < best_score:\n",
    "                best_score = score\n",
    "                best_i = i\n",
    "                best_popt = popt\n",
    "        \n",
    "\n",
    "        y_val = np.arange(len(x_data) - len_intersection, len(x_data) + len_predict - len_intersection)\n",
    "\n",
    "        return  popt, log_curve(y_val, best_popt[0], best_popt[1], best_popt[2], best_popt[3])\n",
    "    \n",
    "\n",
    "\n",
    "def log_curve(x, k, x_0, ymax, x_1):\n",
    "    return ymax / (1 + np.exp(-k*(x-x_0))) + x_1 * x\n",
    "\n",
    "def rmsle(true, pred):\n",
    "    return mean_absolute_error(true,pred)"
   ]
  },
  {
   "cell_type": "code",
   "execution_count": 13,
   "metadata": {},
   "outputs": [],
   "source": [
    "metrics = 'Fatalities'\n",
    "# num_val_dates = 7\n",
    "num_val_dates = 0\n",
    "# val_range = np.arange(confirmed_data.shape[1]).tolist()[: -(num_val_dates + 1)] + [-1]\n",
    "# data_train = confirmed_data.iloc[:, val_range].copy()\n",
    "data_train = confirmed_data.iloc[:, :].copy()\n",
    "\n",
    "dict_values = {}\n",
    "for val in data_train.values:\n",
    "    dict_values[val[-1]] = val[4:-1]\n",
    "\n",
    "dict_case_date = {}\n",
    "for country in dict_values:\n",
    "    dict_case_date[country] = []\n",
    "    for case in [1, 5]:\n",
    "        try:\n",
    "            dict_case_date[country] += [np.where(dict_values[country] >= case)[0][0]]\n",
    "        except:\n",
    "            dict_case_date[country] += [-1]\n",
    "    dict_case_date[country] = np.array(dict_case_date[country])\n",
    "    \n",
    "len_pred = ss[ss.country == 'Albania'].shape[0]\n",
    "len_intersection = confirmed_data.columns[48:-1].shape[0]"
   ]
  },
  {
   "cell_type": "code",
   "execution_count": 14,
   "metadata": {},
   "outputs": [
    {
     "data": {
      "application/vnd.jupyter.widget-view+json": {
       "model_id": "edc0e195a5544dd48fd1c1ae79e5c2e0",
       "version_major": 2,
       "version_minor": 0
      },
      "text/plain": [
       "HBox(children=(IntProgress(value=0, max=209), HTML(value='')))"
      ]
     },
     "metadata": {},
     "output_type": "display_data"
    },
    {
     "name": "stderr",
     "output_type": "stream",
     "text": [
      "C:\\Users\\Sergei\\Anaconda3\\lib\\site-packages\\scipy\\optimize\\minpack.py:787: OptimizeWarning: Covariance of the parameters could not be estimated\n",
      "  category=OptimizeWarning)\n"
     ]
    },
    {
     "name": "stdout",
     "output_type": "stream",
     "text": [
      "\n"
     ]
    }
   ],
   "source": [
    "# val_range = [0,1,2,3] + np.arange(confirmed_data.shape[1]).tolist()[-(num_val_dates + 1):]\n",
    "# data_val = confirmed_data.iloc[:, val_range].copy()\n",
    "\n",
    "dict_predict = {}\n",
    "\n",
    "for country in tqdm(data_train['country'].unique()):\n",
    "\n",
    "    popt, pred_values = predict(data_train, country, len_pred, metrics,len_intersection, 0.15, 30)\n",
    "    last_val = data_train[data_train['country'] == country].values[0][-2]\n",
    "    if last_val > pred_values[len_intersection]:\n",
    "        pred_values += np.abs(last_val - pred_values[len_intersection])\n",
    "    dict_predict[country] = pred_values\n",
    "    \n",
    "# pred_list = []\n",
    "# true_list = []\n",
    "# for country in data_train['country'].unique()[ :50]:\n",
    "#     pred_list += dict_predict[country].tolist()[len_intersection  : len_intersection + num_val_dates]\n",
    "#     true_list += data_val[data_val['country'] == country].values[0][4: - 1].tolist()\n",
    "    \n",
    "# print(rmsle(true_list, pred_list))\n",
    "\n",
    "ss['Death'] = 0\n",
    "for country in ss['country'].unique():\n",
    "    ss.loc[ss['country'] == country, 'Death'] = dict_predict[country].tolist()"
   ]
  },
  {
   "cell_type": "code",
   "execution_count": 15,
   "metadata": {},
   "outputs": [
    {
     "data": {
      "application/vnd.jupyter.widget-view+json": {
       "model_id": "f721ade1997c438191a5a308dff858c2",
       "version_major": 2,
       "version_minor": 0
      },
      "text/plain": [
       "HBox(children=(IntProgress(value=0, max=209), HTML(value='')))"
      ]
     },
     "metadata": {},
     "output_type": "display_data"
    },
    {
     "name": "stdout",
     "output_type": "stream",
     "text": [
      "\n"
     ]
    }
   ],
   "source": [
    "def simple_pred(vals, len_intersection, len_predict):\n",
    "    diff_vals = (vals[-1] - vals[-4] ) / 3 * 0.95\n",
    "    answer = np.ones(len_predict)\n",
    "    answer[:len_intersection] = vals[-len_intersection : ]\n",
    "    start_val = vals[- 1]\n",
    "    for i in range(len_predict - len_intersection):\n",
    "        start_val += diff_vals\n",
    "        answer[len_intersection + i] = start_val\n",
    "    return answer\n",
    "\n",
    "dict_predict_new = {}\n",
    "\n",
    "for country in tqdm(data_train['country'].unique()):\n",
    "    vals = data_train[data_train['country'] == country].values[0][-len_intersection - 1: - 1]\n",
    "    pred_values = simple_pred(vals, len_intersection, len_pred)\n",
    "    dict_predict_new[country] = pred_values\n",
    "    \n",
    "# pred_list = []\n",
    "# true_list = []\n",
    "# for country in data_train['country'].unique()[ :50]:\n",
    "#     pred_list += dict_predict_new[country].tolist()[len_intersection : len_intersection + num_val_dates]\n",
    "#     true_list += data_val[data_val['country'] == country].values[0][4: - 1].tolist()\n",
    "    \n",
    "# print(rmsle(true_list, pred_list))\n",
    "\n",
    "\n",
    "ss['New_Death'] = 0\n",
    "for country in ss['country'].unique():\n",
    "    ss.loc[ss['country'] == country, 'New_Death'] = dict_predict_new[country].tolist()"
   ]
  },
  {
   "cell_type": "code",
   "execution_count": 16,
   "metadata": {},
   "outputs": [],
   "source": [
    "ss_confirm = pd.read_csv('submision_cc.csv')"
   ]
  },
  {
   "cell_type": "code",
   "execution_count": 17,
   "metadata": {},
   "outputs": [],
   "source": [
    "ss['ConfirmedCases'] = ss_confirm['ConfirmedCases']\n",
    "ss['New_ConfirmedCases'] = ss_confirm['New_ConfirmedCases']"
   ]
  },
  {
   "cell_type": "code",
   "execution_count": 18,
   "metadata": {},
   "outputs": [],
   "source": [
    "k = 0.4"
   ]
  },
  {
   "cell_type": "code",
   "execution_count": 19,
   "metadata": {},
   "outputs": [],
   "source": [
    "ss['mean_ConfirmedCases'] = (ss['ConfirmedCases'] * k + ss['New_ConfirmedCases'] * (1 - k)) "
   ]
  },
  {
   "cell_type": "code",
   "execution_count": 20,
   "metadata": {},
   "outputs": [],
   "source": [
    "ss['target'] = (ss['Death'] * k + ss['New_Death'] * (1 - k))\n",
    "ss['target'] = ss['target'].clip(0, ss['mean_ConfirmedCases'] * 0.2)"
   ]
  },
  {
   "cell_type": "code",
   "execution_count": 23,
   "metadata": {},
   "outputs": [],
   "source": [
    "ss['Territory X Date'] = [(x[:-8] + x[-7:]).replace('/0', '/') for x in ss['Territory X Date'].values]"
   ]
  },
  {
   "cell_type": "code",
   "execution_count": 25,
   "metadata": {},
   "outputs": [],
   "source": [
    "ss[['Territory X Date', 'target']].to_csv('predict_{}.csv'.format(k), index = False)"
   ]
  },
  {
   "cell_type": "code",
   "execution_count": null,
   "metadata": {},
   "outputs": [],
   "source": []
  }
 ],
 "metadata": {
  "kernelspec": {
   "display_name": "Python 3",
   "language": "python",
   "name": "python3"
  },
  "language_info": {
   "codemirror_mode": {
    "name": "ipython",
    "version": 3
   },
   "file_extension": ".py",
   "mimetype": "text/x-python",
   "name": "python",
   "nbconvert_exporter": "python",
   "pygments_lexer": "ipython3",
   "version": "3.7.3"
  }
 },
 "nbformat": 4,
 "nbformat_minor": 2
}
