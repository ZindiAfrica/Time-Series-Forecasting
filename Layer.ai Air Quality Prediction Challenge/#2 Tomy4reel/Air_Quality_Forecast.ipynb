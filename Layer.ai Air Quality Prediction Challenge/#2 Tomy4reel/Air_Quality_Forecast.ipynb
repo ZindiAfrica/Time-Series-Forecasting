{
  "cells": [
    {
      "cell_type": "markdown",
      "metadata": {
        "id": "qdoJUydLaoEo"
      },
      "source": [
        "# **Table of Contents** \n",
        "\n",
        "\n",
        "1.   Import Libraries\n",
        "2.   Modelling\n",
        "        *   Approach 1 - one for all, one for one, new devices prediction\n",
        "        *   Approach 2 - one for all, one for one, new devices prediction\n",
        "        *   Approach 3 - one for all, one for one, new devices prediction\n",
        "        *   Approach 4 - one for all, one for one, new devices prediction\n",
        "        *   Approach 5 - one for all, one for one, new devices prediction\n",
        "\n",
        "3.   Submit\n"
      ],
      "id": "qdoJUydLaoEo"
    },
    {
      "cell_type": "markdown",
      "metadata": {
        "id": "Vy76srKhAJpa"
      },
      "source": [
        "# **1. Import Libraries**"
      ],
      "id": "Vy76srKhAJpa"
    },
    {
      "cell_type": "code",
      "execution_count": 1,
      "metadata": {
        "colab": {
          "base_uri": "https://localhost:8080/"
        },
        "id": "oS2xaVTdbiYd",
        "outputId": "d578307c-806f-46e9-dac0-ca6a1de95160"
      },
      "outputs": [
        {
          "output_type": "stream",
          "name": "stdout",
          "text": [
            "Found GPU at: /device:GPU:0\n"
          ]
        }
      ],
      "source": [
        "#'''\n",
        "# Run with GPU \n",
        "import tensorflow as tf\n",
        "device_name = tf.test.gpu_device_name()\n",
        "if device_name != '/device:GPU:0':\n",
        "  raise SystemError('GPU device not found')\n",
        "print('Found GPU at: {}'.format(device_name))\n",
        "#'''"
      ],
      "id": "oS2xaVTdbiYd"
    },
    {
      "cell_type": "code",
      "execution_count": 2,
      "metadata": {
        "id": "YOlTemI6Y_pI"
      },
      "outputs": [],
      "source": [
        "validation=0"
      ],
      "id": "YOlTemI6Y_pI"
    },
    {
      "cell_type": "code",
      "execution_count": 3,
      "metadata": {
        "id": "wmQFlyNwYSoq"
      },
      "outputs": [],
      "source": [
        "m=40\n",
        "n=5"
      ],
      "id": "wmQFlyNwYSoq"
    },
    {
      "cell_type": "code",
      "execution_count": 4,
      "metadata": {
        "colab": {
          "base_uri": "https://localhost:8080/"
        },
        "id": "prVKpZ6WCr3C",
        "outputId": "384da3e3-adb6-4e09-9dd7-0d57f958ae8a"
      },
      "outputs": [
        {
          "output_type": "stream",
          "name": "stdout",
          "text": [
            "Looking in indexes: https://pypi.org/simple, https://us-python.pkg.dev/colab-wheels/public/simple/\n",
            "Requirement already satisfied: layer in /usr/local/lib/python3.7/dist-packages (0.10.3150493728)\n",
            "Requirement already satisfied: cryptography>=3.4.7 in /usr/local/lib/python3.7/dist-packages (from layer) (38.0.1)\n",
            "Requirement already satisfied: numpy<1.22 in /usr/local/lib/python3.7/dist-packages (from layer) (1.21.6)\n",
            "Requirement already satisfied: pyarrow==9.0.0 in /usr/local/lib/python3.7/dist-packages (from layer) (9.0.0)\n",
            "Requirement already satisfied: requests>=2.23.0 in /usr/local/lib/python3.7/dist-packages (from layer) (2.23.0)\n",
            "Requirement already satisfied: rich>=11 in /usr/local/lib/python3.7/dist-packages (from layer) (12.6.0)\n",
            "Requirement already satisfied: lazy_loader==0.1rc3 in /usr/local/lib/python3.7/dist-packages (from layer) (0.1rc3)\n",
            "Requirement already satisfied: psutil>=5.4.8 in /usr/local/lib/python3.7/dist-packages (from layer) (5.4.8)\n",
            "Requirement already satisfied: yarl>=1.6.3 in /usr/local/lib/python3.7/dist-packages (from layer) (1.8.1)\n",
            "Requirement already satisfied: pandas==1.3.5 in /usr/local/lib/python3.7/dist-packages (from layer) (1.3.5)\n",
            "Requirement already satisfied: layer-api==0.9.384528 in /usr/local/lib/python3.7/dist-packages (from layer) (0.9.384528)\n",
            "Requirement already satisfied: mlflow-skinny>=1.25.0 in /usr/local/lib/python3.7/dist-packages (from layer) (1.29.0)\n",
            "Requirement already satisfied: aiohttp<3.8.0,>=3.7.3 in /usr/local/lib/python3.7/dist-packages (from layer) (3.7.4.post0)\n",
            "Requirement already satisfied: polling>=0.3.1 in /usr/local/lib/python3.7/dist-packages (from layer) (0.3.2)\n",
            "Requirement already satisfied: humanize>=3.11.0 in /usr/local/lib/python3.7/dist-packages (from layer) (4.4.0)\n",
            "Requirement already satisfied: Jinja2 in /usr/local/lib/python3.7/dist-packages (from layer) (2.11.3)\n",
            "Requirement already satisfied: wrapt>=1.13.3 in /usr/local/lib/python3.7/dist-packages (from layer) (1.14.1)\n",
            "Requirement already satisfied: boto3>=1.16.24 in /usr/local/lib/python3.7/dist-packages (from layer) (1.24.84)\n",
            "Requirement already satisfied: networkx>=2.5 in /usr/local/lib/python3.7/dist-packages (from layer) (2.6.3)\n",
            "Requirement already satisfied: pyjwt<3.0.0,>=2.0.0 in /usr/local/lib/python3.7/dist-packages (from layer) (2.5.0)\n",
            "Requirement already satisfied: nvsmi<0.5.0,>=0.4.2 in /usr/local/lib/python3.7/dist-packages (from layer) (0.4.2)\n",
            "Requirement already satisfied: protobuf<3.20,>=3.17.3 in /usr/local/lib/python3.7/dist-packages (from layer-api==0.9.384528->layer) (3.17.3)\n",
            "Requirement already satisfied: grpcio-tools>=1.43.0 in /usr/local/lib/python3.7/dist-packages (from layer-api==0.9.384528->layer) (1.48.2)\n",
            "Requirement already satisfied: python-dateutil>=2.7.3 in /usr/local/lib/python3.7/dist-packages (from pandas==1.3.5->layer) (2.8.2)\n",
            "Requirement already satisfied: pytz>=2017.3 in /usr/local/lib/python3.7/dist-packages (from pandas==1.3.5->layer) (2022.2.1)\n",
            "Requirement already satisfied: chardet<5.0,>=2.0 in /usr/local/lib/python3.7/dist-packages (from aiohttp<3.8.0,>=3.7.3->layer) (3.0.4)\n",
            "Requirement already satisfied: attrs>=17.3.0 in /usr/local/lib/python3.7/dist-packages (from aiohttp<3.8.0,>=3.7.3->layer) (22.1.0)\n",
            "Requirement already satisfied: typing-extensions>=3.6.5 in /usr/local/lib/python3.7/dist-packages (from aiohttp<3.8.0,>=3.7.3->layer) (4.1.1)\n",
            "Requirement already satisfied: async-timeout<4.0,>=3.0 in /usr/local/lib/python3.7/dist-packages (from aiohttp<3.8.0,>=3.7.3->layer) (3.0.1)\n",
            "Requirement already satisfied: multidict<7.0,>=4.5 in /usr/local/lib/python3.7/dist-packages (from aiohttp<3.8.0,>=3.7.3->layer) (6.0.2)\n",
            "Requirement already satisfied: s3transfer<0.7.0,>=0.6.0 in /usr/local/lib/python3.7/dist-packages (from boto3>=1.16.24->layer) (0.6.0)\n",
            "Requirement already satisfied: jmespath<2.0.0,>=0.7.1 in /usr/local/lib/python3.7/dist-packages (from boto3>=1.16.24->layer) (1.0.1)\n",
            "Requirement already satisfied: botocore<1.28.0,>=1.27.84 in /usr/local/lib/python3.7/dist-packages (from boto3>=1.16.24->layer) (1.27.84)\n",
            "Requirement already satisfied: urllib3<1.27,>=1.25.4 in /usr/local/lib/python3.7/dist-packages (from botocore<1.28.0,>=1.27.84->boto3>=1.16.24->layer) (1.25.11)\n",
            "Requirement already satisfied: cffi>=1.12 in /usr/local/lib/python3.7/dist-packages (from cryptography>=3.4.7->layer) (1.15.1)\n",
            "Requirement already satisfied: pycparser in /usr/local/lib/python3.7/dist-packages (from cffi>=1.12->cryptography>=3.4.7->layer) (2.21)\n",
            "Requirement already satisfied: grpcio>=1.48.2 in /usr/local/lib/python3.7/dist-packages (from grpcio-tools>=1.43.0->layer-api==0.9.384528->layer) (1.49.1)\n",
            "Requirement already satisfied: setuptools in /usr/local/lib/python3.7/dist-packages (from grpcio-tools>=1.43.0->layer-api==0.9.384528->layer) (57.4.0)\n",
            "Requirement already satisfied: six>=1.5.2 in /usr/local/lib/python3.7/dist-packages (from grpcio>=1.48.2->grpcio-tools>=1.43.0->layer-api==0.9.384528->layer) (1.15.0)\n",
            "Requirement already satisfied: importlib-metadata in /usr/local/lib/python3.7/dist-packages (from humanize>=3.11.0->layer) (4.12.0)\n",
            "Requirement already satisfied: entrypoints<1 in /usr/local/lib/python3.7/dist-packages (from mlflow-skinny>=1.25.0->layer) (0.4)\n",
            "Requirement already satisfied: databricks-cli<1,>=0.8.7 in /usr/local/lib/python3.7/dist-packages (from mlflow-skinny>=1.25.0->layer) (0.17.3)\n",
            "Requirement already satisfied: pyyaml<7,>=5.1 in /usr/local/lib/python3.7/dist-packages (from mlflow-skinny>=1.25.0->layer) (6.0)\n",
            "Requirement already satisfied: cloudpickle<3 in /usr/local/lib/python3.7/dist-packages (from mlflow-skinny>=1.25.0->layer) (1.5.0)\n",
            "Requirement already satisfied: click<9,>=7.0 in /usr/local/lib/python3.7/dist-packages (from mlflow-skinny>=1.25.0->layer) (7.1.2)\n",
            "Requirement already satisfied: packaging<22 in /usr/local/lib/python3.7/dist-packages (from mlflow-skinny>=1.25.0->layer) (21.3)\n",
            "Requirement already satisfied: sqlparse<1,>=0.4.0 in /usr/local/lib/python3.7/dist-packages (from mlflow-skinny>=1.25.0->layer) (0.4.2)\n",
            "Requirement already satisfied: gitpython<4,>=2.1.0 in /usr/local/lib/python3.7/dist-packages (from mlflow-skinny>=1.25.0->layer) (3.1.27)\n",
            "Requirement already satisfied: tabulate>=0.7.7 in /usr/local/lib/python3.7/dist-packages (from databricks-cli<1,>=0.8.7->mlflow-skinny>=1.25.0->layer) (0.8.10)\n",
            "Requirement already satisfied: oauthlib>=3.1.0 in /usr/local/lib/python3.7/dist-packages (from databricks-cli<1,>=0.8.7->mlflow-skinny>=1.25.0->layer) (3.2.0)\n",
            "Requirement already satisfied: gitdb<5,>=4.0.1 in /usr/local/lib/python3.7/dist-packages (from gitpython<4,>=2.1.0->mlflow-skinny>=1.25.0->layer) (4.0.9)\n",
            "Requirement already satisfied: smmap<6,>=3.0.1 in /usr/local/lib/python3.7/dist-packages (from gitdb<5,>=4.0.1->gitpython<4,>=2.1.0->mlflow-skinny>=1.25.0->layer) (5.0.0)\n",
            "Requirement already satisfied: zipp>=0.5 in /usr/local/lib/python3.7/dist-packages (from importlib-metadata->humanize>=3.11.0->layer) (3.8.1)\n",
            "Requirement already satisfied: pyparsing!=3.0.5,>=2.0.2 in /usr/local/lib/python3.7/dist-packages (from packaging<22->mlflow-skinny>=1.25.0->layer) (3.0.9)\n",
            "Requirement already satisfied: idna<3,>=2.5 in /usr/local/lib/python3.7/dist-packages (from requests>=2.23.0->layer) (2.10)\n",
            "Requirement already satisfied: certifi>=2017.4.17 in /usr/local/lib/python3.7/dist-packages (from requests>=2.23.0->layer) (2022.6.15)\n",
            "Requirement already satisfied: pygments<3.0.0,>=2.6.0 in /usr/local/lib/python3.7/dist-packages (from rich>=11->layer) (2.6.1)\n",
            "Requirement already satisfied: commonmark<0.10.0,>=0.9.0 in /usr/local/lib/python3.7/dist-packages (from rich>=11->layer) (0.9.1)\n",
            "Requirement already satisfied: MarkupSafe>=0.23 in /usr/local/lib/python3.7/dist-packages (from Jinja2->layer) (2.0.1)\n"
          ]
        }
      ],
      "source": [
        "pip install -U layer"
      ],
      "id": "prVKpZ6WCr3C"
    },
    {
      "cell_type": "code",
      "execution_count": 5,
      "metadata": {
        "id": "1s5P8dKQ3zJA"
      },
      "outputs": [],
      "source": [
        "import numpy as np\n",
        "import pandas as pd\n",
        "from sklearn.preprocessing import LabelEncoder\n",
        "from sklearn.metrics import mean_absolute_error as mae\n",
        "import layer\n",
        "from layer.decorators import dataset,model, pip_requirements"
      ],
      "id": "1s5P8dKQ3zJA"
    },
    {
      "cell_type": "code",
      "execution_count": 6,
      "metadata": {
        "colab": {
          "base_uri": "https://localhost:8080/"
        },
        "id": "Kudy-GaqbWqK",
        "outputId": "2311ea34-71d3-4ece-f362-676f2a9f62d7"
      },
      "outputs": [
        {
          "output_type": "stream",
          "name": "stdout",
          "text": [
            "Looking in indexes: https://pypi.org/simple, https://us-python.pkg.dev/colab-wheels/public/simple/\n",
            "Requirement already satisfied: catboost in /usr/local/lib/python3.7/dist-packages (1.1)\n",
            "Requirement already satisfied: pandas>=0.24.0 in /usr/local/lib/python3.7/dist-packages (from catboost) (1.3.5)\n",
            "Requirement already satisfied: numpy>=1.16.0 in /usr/local/lib/python3.7/dist-packages (from catboost) (1.21.6)\n",
            "Requirement already satisfied: plotly in /usr/local/lib/python3.7/dist-packages (from catboost) (5.5.0)\n",
            "Requirement already satisfied: matplotlib in /usr/local/lib/python3.7/dist-packages (from catboost) (3.2.2)\n",
            "Requirement already satisfied: six in /usr/local/lib/python3.7/dist-packages (from catboost) (1.15.0)\n",
            "Requirement already satisfied: graphviz in /usr/local/lib/python3.7/dist-packages (from catboost) (0.10.1)\n",
            "Requirement already satisfied: scipy in /usr/local/lib/python3.7/dist-packages (from catboost) (1.7.3)\n",
            "Requirement already satisfied: python-dateutil>=2.7.3 in /usr/local/lib/python3.7/dist-packages (from pandas>=0.24.0->catboost) (2.8.2)\n",
            "Requirement already satisfied: pytz>=2017.3 in /usr/local/lib/python3.7/dist-packages (from pandas>=0.24.0->catboost) (2022.2.1)\n",
            "Requirement already satisfied: kiwisolver>=1.0.1 in /usr/local/lib/python3.7/dist-packages (from matplotlib->catboost) (1.4.4)\n",
            "Requirement already satisfied: pyparsing!=2.0.4,!=2.1.2,!=2.1.6,>=2.0.1 in /usr/local/lib/python3.7/dist-packages (from matplotlib->catboost) (3.0.9)\n",
            "Requirement already satisfied: cycler>=0.10 in /usr/local/lib/python3.7/dist-packages (from matplotlib->catboost) (0.11.0)\n",
            "Requirement already satisfied: typing-extensions in /usr/local/lib/python3.7/dist-packages (from kiwisolver>=1.0.1->matplotlib->catboost) (4.1.1)\n",
            "Requirement already satisfied: tenacity>=6.2.0 in /usr/local/lib/python3.7/dist-packages (from plotly->catboost) (8.0.1)\n"
          ]
        }
      ],
      "source": [
        "!pip install catboost\n",
        "from catboost import CatBoostRegressor"
      ],
      "id": "Kudy-GaqbWqK"
    },
    {
      "cell_type": "code",
      "execution_count": 7,
      "metadata": {
        "colab": {
          "base_uri": "https://localhost:8080/"
        },
        "id": "Ne0zPYEFxDQv",
        "outputId": "0d05c56a-e00c-4b2d-b244-69a571993127"
      },
      "outputs": [
        {
          "output_type": "stream",
          "name": "stdout",
          "text": [
            "Looking in indexes: https://pypi.org/simple, https://us-python.pkg.dev/colab-wheels/public/simple/\n",
            "Requirement already satisfied: xgboost==1.6.1 in /usr/local/lib/python3.7/dist-packages (1.6.1)\n",
            "Requirement already satisfied: numpy in /usr/local/lib/python3.7/dist-packages (from xgboost==1.6.1) (1.21.6)\n",
            "Requirement already satisfied: scipy in /usr/local/lib/python3.7/dist-packages (from xgboost==1.6.1) (1.7.3)\n"
          ]
        }
      ],
      "source": [
        "# Use newer xgboost version\n",
        "!pip install xgboost==1.6.1\n",
        "from xgboost import XGBRegressor"
      ],
      "id": "Ne0zPYEFxDQv"
    },
    {
      "cell_type": "markdown",
      "metadata": {
        "id": "6b539b39-9a7a-421c-af38-ca02a481bf1d"
      },
      "source": [
        "## Log in to your Layer account"
      ],
      "id": "6b539b39-9a7a-421c-af38-ca02a481bf1d"
    },
    {
      "cell_type": "code",
      "execution_count": 8,
      "metadata": {
        "id": "1559b153-a383-4014-ac41-017b9f2b317f"
      },
      "outputs": [],
      "source": [
        "layer.login()"
      ],
      "id": "1559b153-a383-4014-ac41-017b9f2b317f"
    },
    {
      "cell_type": "markdown",
      "metadata": {
        "id": "be8c963a-42d6-446d-8429-cfd33952b735"
      },
      "source": [
        "## Create a Layer project"
      ],
      "id": "be8c963a-42d6-446d-8429-cfd33952b735"
    },
    {
      "cell_type": "code",
      "execution_count": 9,
      "metadata": {
        "colab": {
          "base_uri": "https://localhost:8080/"
        },
        "id": "4fa445e3-9cab-4ecb-b608-569cb0b4a13d",
        "outputId": "86794764-b873-4024-ef34-946c23c71a52"
      },
      "outputs": [
        {
          "output_type": "execute_result",
          "data": {
            "text/plain": [
              "Your Layer project is here: https://app.layer.ai/tomy4reel/aqssh-645h-wver"
            ]
          },
          "metadata": {},
          "execution_count": 9
        }
      ],
      "source": [
        "layer.init(\"tomy4reel/aqssh-645h-wver\")"
      ],
      "id": "4fa445e3-9cab-4ecb-b608-569cb0b4a13d"
    },
    {
      "cell_type": "markdown",
      "metadata": {
        "id": "f4fc6bb3-47d2-417c-806a-8905728a5026"
      },
      "source": [
        "## Fetch the datasets as Pandas DataFrames"
      ],
      "id": "f4fc6bb3-47d2-417c-806a-8905728a5026"
    },
    {
      "cell_type": "markdown",
      "metadata": {
        "id": "7ww_ZSCRaa8V"
      },
      "source": [
        "# **2. Modelling**"
      ],
      "id": "7ww_ZSCRaa8V"
    },
    {
      "cell_type": "markdown",
      "metadata": {
        "id": "5Gboy6TSeSTe"
      },
      "source": [
        "   - ## Approach 1"
      ],
      "id": "5Gboy6TSeSTe"
    },
    {
      "cell_type": "code",
      "execution_count": 10,
      "metadata": {
        "colab": {
          "base_uri": "https://localhost:8080/",
          "height": 773,
          "referenced_widgets": [
            "e1e8d9baf651473ba3c6a5065288e1b1",
            "38c27983783f4cef93f9be044454d201",
            "b00c26e983374df3b753e4fc9d85df7f",
            "2a2d0bc9789a4032b06f946915e7c70a",
            "a08c08dc78a9433f8926b2b5df35dc12",
            "b8a79537c1ef4a35a5b7c533ee99c2e1",
            "f6a8f0f275e44b4386d35136bc9be019",
            "653c9f724ba3423293c16830aad75a97",
            "d2918b7ad6d44a1f9575087f605ea2d1",
            "9135ac1a2edd49649b8e132c6f78e7a5"
          ]
        },
        "id": "5yzFgtNmrR2k",
        "outputId": "3bab5ae0-17c6-4ee2-c4a2-9b7ad2c0b129"
      },
      "outputs": [
        {
          "output_type": "display_data",
          "data": {
            "text/plain": [
              "Output()"
            ],
            "application/vnd.jupyter.widget-view+json": {
              "version_major": 2,
              "version_minor": 0,
              "model_id": "e1e8d9baf651473ba3c6a5065288e1b1"
            }
          },
          "metadata": {}
        },
        {
          "output_type": "display_data",
          "data": {
            "text/plain": [],
            "text/html": [
              "<pre style=\"white-space:pre;overflow-x:auto;line-height:normal;font-family:Menlo,'DejaVu Sans Mono',consolas,'Courier New',monospace\"></pre>\n"
            ]
          },
          "metadata": {}
        },
        {
          "output_type": "display_data",
          "data": {
            "text/plain": [
              "\n"
            ],
            "text/html": [
              "<pre style=\"white-space:pre;overflow-x:auto;line-height:normal;font-family:Menlo,'DejaVu Sans Mono',consolas,'Courier New',monospace\">\n",
              "</pre>\n"
            ]
          },
          "metadata": {}
        },
        {
          "output_type": "display_data",
          "data": {
            "text/plain": [
              "Output()"
            ],
            "application/vnd.jupyter.widget-view+json": {
              "version_major": 2,
              "version_minor": 0,
              "model_id": "b00c26e983374df3b753e4fc9d85df7f"
            }
          },
          "metadata": {}
        },
        {
          "output_type": "display_data",
          "data": {
            "text/plain": [],
            "text/html": [
              "<pre style=\"white-space:pre;overflow-x:auto;line-height:normal;font-family:Menlo,'DejaVu Sans Mono',consolas,'Courier New',monospace\"></pre>\n"
            ]
          },
          "metadata": {}
        },
        {
          "output_type": "display_data",
          "data": {
            "text/plain": [
              "\n"
            ],
            "text/html": [
              "<pre style=\"white-space:pre;overflow-x:auto;line-height:normal;font-family:Menlo,'DejaVu Sans Mono',consolas,'Courier New',monospace\">\n",
              "</pre>\n"
            ]
          },
          "metadata": {}
        },
        {
          "output_type": "display_data",
          "data": {
            "text/plain": [
              "Output()"
            ],
            "application/vnd.jupyter.widget-view+json": {
              "version_major": 2,
              "version_minor": 0,
              "model_id": "a08c08dc78a9433f8926b2b5df35dc12"
            }
          },
          "metadata": {}
        },
        {
          "output_type": "display_data",
          "data": {
            "text/plain": [],
            "text/html": [
              "<pre style=\"white-space:pre;overflow-x:auto;line-height:normal;font-family:Menlo,'DejaVu Sans Mono',consolas,'Courier New',monospace\"></pre>\n"
            ]
          },
          "metadata": {}
        },
        {
          "output_type": "display_data",
          "data": {
            "text/plain": [
              "\n"
            ],
            "text/html": [
              "<pre style=\"white-space:pre;overflow-x:auto;line-height:normal;font-family:Menlo,'DejaVu Sans Mono',consolas,'Courier New',monospace\">\n",
              "</pre>\n"
            ]
          },
          "metadata": {}
        },
        {
          "output_type": "stream",
          "name": "stdout",
          "text": [
            "9923 4254\n"
          ]
        },
        {
          "output_type": "stream",
          "name": "stderr",
          "text": [
            "/usr/local/lib/python3.7/dist-packages/ipykernel_launcher.py:17: FutureWarning: casting timedelta64[ns] values to int64 with .astype(...) is deprecated and will raise in a future version. Use .view(...) instead.\n",
            "/usr/local/lib/python3.7/dist-packages/ipykernel_launcher.py:18: FutureWarning: casting timedelta64[ns] values to int64 with .astype(...) is deprecated and will raise in a future version. Use .view(...) instead.\n"
          ]
        },
        {
          "output_type": "stream",
          "name": "stdout",
          "text": [
            "0 525\n",
            "525 658\n",
            "number of new devices =  2\n"
          ]
        },
        {
          "output_type": "stream",
          "name": "stderr",
          "text": [
            "/usr/local/lib/python3.7/dist-packages/ipykernel_launcher.py:61: PerformanceWarning: DataFrame is highly fragmented.  This is usually the result of calling `frame.insert` many times, which has poor performance.  Consider joining all columns at once using pd.concat(axis=1) instead.  To get a de-fragmented frame, use `newframe = frame.copy()`\n",
            "/usr/local/lib/python3.7/dist-packages/ipykernel_launcher.py:55: PerformanceWarning: DataFrame is highly fragmented.  This is usually the result of calling `frame.insert` many times, which has poor performance.  Consider joining all columns at once using pd.concat(axis=1) instead.  To get a de-fragmented frame, use `newframe = frame.copy()`\n",
            "/usr/local/lib/python3.7/dist-packages/ipykernel_launcher.py:56: PerformanceWarning: DataFrame is highly fragmented.  This is usually the result of calling `frame.insert` many times, which has poor performance.  Consider joining all columns at once using pd.concat(axis=1) instead.  To get a de-fragmented frame, use `newframe = frame.copy()`\n",
            "/usr/local/lib/python3.7/dist-packages/ipykernel_launcher.py:57: PerformanceWarning: DataFrame is highly fragmented.  This is usually the result of calling `frame.insert` many times, which has poor performance.  Consider joining all columns at once using pd.concat(axis=1) instead.  To get a de-fragmented frame, use `newframe = frame.copy()`\n",
            "/usr/local/lib/python3.7/dist-packages/ipykernel_launcher.py:59: PerformanceWarning: DataFrame is highly fragmented.  This is usually the result of calling `frame.insert` many times, which has poor performance.  Consider joining all columns at once using pd.concat(axis=1) instead.  To get a de-fragmented frame, use `newframe = frame.copy()`\n"
          ]
        },
        {
          "output_type": "stream",
          "name": "stdout",
          "text": [
            "length of features =  1536\n"
          ]
        },
        {
          "output_type": "display_data",
          "data": {
            "text/plain": [
              "Output()"
            ],
            "application/vnd.jupyter.widget-view+json": {
              "version_major": 2,
              "version_minor": 0,
              "model_id": "f6a8f0f275e44b4386d35136bc9be019"
            }
          },
          "metadata": {}
        },
        {
          "output_type": "display_data",
          "data": {
            "text/plain": [],
            "text/html": [
              "<pre style=\"white-space:pre;overflow-x:auto;line-height:normal;font-family:Menlo,'DejaVu Sans Mono',consolas,'Courier New',monospace\"></pre>\n"
            ]
          },
          "metadata": {}
        },
        {
          "output_type": "display_data",
          "data": {
            "text/plain": [
              "\n"
            ],
            "text/html": [
              "<pre style=\"white-space:pre;overflow-x:auto;line-height:normal;font-family:Menlo,'DejaVu Sans Mono',consolas,'Courier New',monospace\">\n",
              "</pre>\n"
            ]
          },
          "metadata": {}
        },
        {
          "output_type": "display_data",
          "data": {
            "text/plain": [
              "Output()"
            ],
            "application/vnd.jupyter.widget-view+json": {
              "version_major": 2,
              "version_minor": 0,
              "model_id": "d2918b7ad6d44a1f9575087f605ea2d1"
            }
          },
          "metadata": {}
        },
        {
          "output_type": "display_data",
          "data": {
            "text/plain": [],
            "text/html": [
              "<pre style=\"white-space:pre;overflow-x:auto;line-height:normal;font-family:Menlo,'DejaVu Sans Mono',consolas,'Courier New',monospace\"></pre>\n"
            ]
          },
          "metadata": {}
        },
        {
          "output_type": "display_data",
          "data": {
            "text/plain": [
              "\n"
            ],
            "text/html": [
              "<pre style=\"white-space:pre;overflow-x:auto;line-height:normal;font-family:Menlo,'DejaVu Sans Mono',consolas,'Courier New',monospace\">\n",
              "</pre>\n"
            ]
          },
          "metadata": {}
        },
        {
          "output_type": "execute_result",
          "data": {
            "text/plain": [
              "                 ID      pm2_5\n",
              "3557  ID_M1T3S50WVB  77.073039\n",
              "1406  ID_35WTU72HHD  75.843380\n",
              "925   ID_O7K2PDWG93  71.224603\n",
              "3432  ID_N9WDA8G4OZ  67.153408\n",
              "2205  ID_WFYVDUY1LY  84.775910\n",
              "...             ...        ...\n",
              "3325  ID_RK7GNMXWDG  51.947519\n",
              "1766  ID_6IIMDQC260  46.028823\n",
              "750   ID_8JPX2POPNL  60.153839\n",
              "2549  ID_7TFB8NHLY9  60.831844\n",
              "2213  ID_J3OS2LVO1N  46.010666\n",
              "\n",
              "[4254 rows x 2 columns]"
            ],
            "text/html": [
              "\n",
              "  <div id=\"df-3eeeab50-8381-4366-9cc6-6eb5ecfc893a\">\n",
              "    <div class=\"colab-df-container\">\n",
              "      <div>\n",
              "<style scoped>\n",
              "    .dataframe tbody tr th:only-of-type {\n",
              "        vertical-align: middle;\n",
              "    }\n",
              "\n",
              "    .dataframe tbody tr th {\n",
              "        vertical-align: top;\n",
              "    }\n",
              "\n",
              "    .dataframe thead th {\n",
              "        text-align: right;\n",
              "    }\n",
              "</style>\n",
              "<table border=\"1\" class=\"dataframe\">\n",
              "  <thead>\n",
              "    <tr style=\"text-align: right;\">\n",
              "      <th></th>\n",
              "      <th>ID</th>\n",
              "      <th>pm2_5</th>\n",
              "    </tr>\n",
              "  </thead>\n",
              "  <tbody>\n",
              "    <tr>\n",
              "      <th>3557</th>\n",
              "      <td>ID_M1T3S50WVB</td>\n",
              "      <td>77.073039</td>\n",
              "    </tr>\n",
              "    <tr>\n",
              "      <th>1406</th>\n",
              "      <td>ID_35WTU72HHD</td>\n",
              "      <td>75.843380</td>\n",
              "    </tr>\n",
              "    <tr>\n",
              "      <th>925</th>\n",
              "      <td>ID_O7K2PDWG93</td>\n",
              "      <td>71.224603</td>\n",
              "    </tr>\n",
              "    <tr>\n",
              "      <th>3432</th>\n",
              "      <td>ID_N9WDA8G4OZ</td>\n",
              "      <td>67.153408</td>\n",
              "    </tr>\n",
              "    <tr>\n",
              "      <th>2205</th>\n",
              "      <td>ID_WFYVDUY1LY</td>\n",
              "      <td>84.775910</td>\n",
              "    </tr>\n",
              "    <tr>\n",
              "      <th>...</th>\n",
              "      <td>...</td>\n",
              "      <td>...</td>\n",
              "    </tr>\n",
              "    <tr>\n",
              "      <th>3325</th>\n",
              "      <td>ID_RK7GNMXWDG</td>\n",
              "      <td>51.947519</td>\n",
              "    </tr>\n",
              "    <tr>\n",
              "      <th>1766</th>\n",
              "      <td>ID_6IIMDQC260</td>\n",
              "      <td>46.028823</td>\n",
              "    </tr>\n",
              "    <tr>\n",
              "      <th>750</th>\n",
              "      <td>ID_8JPX2POPNL</td>\n",
              "      <td>60.153839</td>\n",
              "    </tr>\n",
              "    <tr>\n",
              "      <th>2549</th>\n",
              "      <td>ID_7TFB8NHLY9</td>\n",
              "      <td>60.831844</td>\n",
              "    </tr>\n",
              "    <tr>\n",
              "      <th>2213</th>\n",
              "      <td>ID_J3OS2LVO1N</td>\n",
              "      <td>46.010666</td>\n",
              "    </tr>\n",
              "  </tbody>\n",
              "</table>\n",
              "<p>4254 rows × 2 columns</p>\n",
              "</div>\n",
              "      <button class=\"colab-df-convert\" onclick=\"convertToInteractive('df-3eeeab50-8381-4366-9cc6-6eb5ecfc893a')\"\n",
              "              title=\"Convert this dataframe to an interactive table.\"\n",
              "              style=\"display:none;\">\n",
              "        \n",
              "  <svg xmlns=\"http://www.w3.org/2000/svg\" height=\"24px\"viewBox=\"0 0 24 24\"\n",
              "       width=\"24px\">\n",
              "    <path d=\"M0 0h24v24H0V0z\" fill=\"none\"/>\n",
              "    <path d=\"M18.56 5.44l.94 2.06.94-2.06 2.06-.94-2.06-.94-.94-2.06-.94 2.06-2.06.94zm-11 1L8.5 8.5l.94-2.06 2.06-.94-2.06-.94L8.5 2.5l-.94 2.06-2.06.94zm10 10l.94 2.06.94-2.06 2.06-.94-2.06-.94-.94-2.06-.94 2.06-2.06.94z\"/><path d=\"M17.41 7.96l-1.37-1.37c-.4-.4-.92-.59-1.43-.59-.52 0-1.04.2-1.43.59L10.3 9.45l-7.72 7.72c-.78.78-.78 2.05 0 2.83L4 21.41c.39.39.9.59 1.41.59.51 0 1.02-.2 1.41-.59l7.78-7.78 2.81-2.81c.8-.78.8-2.07 0-2.86zM5.41 20L4 18.59l7.72-7.72 1.47 1.35L5.41 20z\"/>\n",
              "  </svg>\n",
              "      </button>\n",
              "      \n",
              "  <style>\n",
              "    .colab-df-container {\n",
              "      display:flex;\n",
              "      flex-wrap:wrap;\n",
              "      gap: 12px;\n",
              "    }\n",
              "\n",
              "    .colab-df-convert {\n",
              "      background-color: #E8F0FE;\n",
              "      border: none;\n",
              "      border-radius: 50%;\n",
              "      cursor: pointer;\n",
              "      display: none;\n",
              "      fill: #1967D2;\n",
              "      height: 32px;\n",
              "      padding: 0 0 0 0;\n",
              "      width: 32px;\n",
              "    }\n",
              "\n",
              "    .colab-df-convert:hover {\n",
              "      background-color: #E2EBFA;\n",
              "      box-shadow: 0px 1px 2px rgba(60, 64, 67, 0.3), 0px 1px 3px 1px rgba(60, 64, 67, 0.15);\n",
              "      fill: #174EA6;\n",
              "    }\n",
              "\n",
              "    [theme=dark] .colab-df-convert {\n",
              "      background-color: #3B4455;\n",
              "      fill: #D2E3FC;\n",
              "    }\n",
              "\n",
              "    [theme=dark] .colab-df-convert:hover {\n",
              "      background-color: #434B5C;\n",
              "      box-shadow: 0px 1px 3px 1px rgba(0, 0, 0, 0.15);\n",
              "      filter: drop-shadow(0px 1px 2px rgba(0, 0, 0, 0.3));\n",
              "      fill: #FFFFFF;\n",
              "    }\n",
              "  </style>\n",
              "\n",
              "      <script>\n",
              "        const buttonEl =\n",
              "          document.querySelector('#df-3eeeab50-8381-4366-9cc6-6eb5ecfc893a button.colab-df-convert');\n",
              "        buttonEl.style.display =\n",
              "          google.colab.kernel.accessAllowed ? 'block' : 'none';\n",
              "\n",
              "        async function convertToInteractive(key) {\n",
              "          const element = document.querySelector('#df-3eeeab50-8381-4366-9cc6-6eb5ecfc893a');\n",
              "          const dataTable =\n",
              "            await google.colab.kernel.invokeFunction('convertToInteractive',\n",
              "                                                     [key], {});\n",
              "          if (!dataTable) return;\n",
              "\n",
              "          const docLinkHtml = 'Like what you see? Visit the ' +\n",
              "            '<a target=\"_blank\" href=https://colab.research.google.com/notebooks/data_table.ipynb>data table notebook</a>'\n",
              "            + ' to learn more about interactive tables.';\n",
              "          element.innerHTML = '';\n",
              "          dataTable['output_type'] = 'display_data';\n",
              "          await google.colab.output.renderOutput(dataTable, element);\n",
              "          const docLink = document.createElement('div');\n",
              "          docLink.innerHTML = docLinkHtml;\n",
              "          element.appendChild(docLink);\n",
              "        }\n",
              "      </script>\n",
              "    </div>\n",
              "  </div>\n",
              "  "
            ]
          },
          "metadata": {},
          "execution_count": 10
        }
      ],
      "source": [
        "ss = layer.get_dataset(\"zindi/air-quality/datasets/sample_submission\").to_pandas()\n",
        "test_df = layer.get_dataset(\"zindi/air-quality/datasets/test\").to_pandas()\n",
        "train_df = layer.get_dataset(\"zindi/air-quality/datasets/train\").to_pandas()\n",
        "print(len(train_df),len(test_df))\n",
        "target=\"pm2_5\"\n",
        "# Drop Correlared Cols\n",
        "cc=['site_longitude','SulphurDioxide_SO2_column_number_density','Cloud_cloud_base_height','NitrogenDioxide_sensor_altitude','SulphurDioxide_sensor_azimuth_angle','SulphurDioxide_sensor_zenith_angle',\n",
        "    'NitrogenDioxide_sensor_azimuth_angle','NitrogenDioxide_sensor_zenith_angle','Formaldehyde_sensor_azimuth_angle','Formaldehyde_sensor_zenith_angle','Ozone_sensor_azimuth_angle','Ozone_sensor_zenith_angle',\n",
        "    'Cloud_sensor_azimuth_angle','Cloud_sensor_zenith_angle','CarbonMonoxide_sensor_azimuth_angle','CarbonMonoxide_sensor_azimuth_angle']\n",
        "train_df.drop(cc,axis=1,inplace=True)\n",
        "#Preprocess date\n",
        "train_df['date']=pd.to_datetime(train_df['date'])\n",
        "test_df['date']=pd.to_datetime(test_df['date'])\n",
        "min_date=train_df['date'].min()\n",
        "train_df['timestamp']=train_df['date']-min_date\n",
        "test_df['timestamp']=test_df['date']-min_date\n",
        "train_df['timestamp']=train_df['timestamp'].astype('int')/(24*60*60*(10**9))\n",
        "test_df['timestamp']=test_df['timestamp'].astype('int')/(24*60*60*(10**9))\n",
        "train_df['timestamp']=train_df['timestamp'].astype('int')\n",
        "test_df['timestamp']=test_df['timestamp'].astype('int')\n",
        "print(train_df.timestamp.min(),train_df.timestamp.max())\n",
        "print(test_df.timestamp.min(),test_df.timestamp.max())\n",
        "if validation==1:\n",
        "    test_df=train_df[train_df.timestamp>=380]\n",
        "    train_df=train_df[train_df.timestamp<380]\n",
        "    test_df[target]=np.nan\n",
        "    ss=test_df[['ID',target]]\n",
        "    print(len(train_df),len(test_df))\n",
        "# density features\n",
        "density_amf = list(train_df.filter(regex='density_amf').columns)\n",
        "density = ['SulphurDioxide_SO2_slant_column_number_density','SulphurDioxide_SO2_column_number_density_15km','CarbonMonoxide_CO_column_number_density','CarbonMonoxide_H2O_column_number_density',\n",
        " 'NitrogenDioxide_NO2_column_number_density', 'NitrogenDioxide_tropospheric_NO2_column_number_density', 'NitrogenDioxide_stratospheric_NO2_column_number_density', 'NitrogenDioxide_NO2_slant_column_number_density', 'Formaldehyde_tropospheric_HCHO_column_number_density',\n",
        " 'Formaldehyde_HCHO_slant_column_number_density','Ozone_O3_column_number_density','Ozone_O3_slant_column_number_density']\n",
        "# Feature Clusters\n",
        "Cloud = list(train_df.filter(regex='Cloud').columns)\n",
        "Ozone = list(train_df.filter(regex='Ozone').columns)\n",
        "Carbon = list(train_df.filter(regex='Carbon').columns)\n",
        "Aerosol = list(train_df.filter(regex='Aerosol').columns)\n",
        "Sulphur = list(train_df.filter(regex='Sulphur').columns)\n",
        "Nitrogen = list(train_df.filter(regex='Nitrogen').columns)\n",
        "Formaldehyde = list(train_df.filter(regex='Formaldehyde').columns)\n",
        "Weather = ['temp_mean','humidity']\n",
        "test_df[target]=np.nan\n",
        "test_df=test_df[train_df.columns]\n",
        "# new devices\n",
        "missing=list(set(test_df.device.unique())-set(train_df.device.unique()))\n",
        "print('number of new devices = ',len(missing))\n",
        "train_df=train_df.append(test_df)\n",
        "train_df['density_sum']=train_df[density].sum(axis=1)\n",
        "train_df['density_amf_sum']=train_df[density_amf].sum(axis=1)\n",
        "train_df['NO2_sum']=train_df.NitrogenDioxide_NO2_column_number_density+train_df.NitrogenDioxide_tropospheric_NO2_column_number_density\n",
        "train_df=train_df.sort_values(['device','timestamp'])\n",
        "# Feature generation\n",
        "for col in Cloud+Ozone+Carbon+Aerosol+Sulphur+Nitrogen+Weather+Formaldehyde:\n",
        "    train_df[col+'dev']=train_df.groupby('device')[col].transform('mean')\n",
        "    train_df[col+'diff']=train_df[col]/train_df[col+'dev']\n",
        "    train_df[col+'std']=train_df.groupby('device')[col].transform('std')\n",
        "    b=3\n",
        "    train_df[col+'rollin_mean']=train_df.groupby('device')[col].rolling(b,min_periods=b).mean().values\n",
        "    for i in range(1,26,1):\n",
        "        train_df[col+'change'+str(i)]=train_df.groupby('device')[col].shift(i)\n",
        "        train_df[col+'change'+str(i)]=train_df[col]/train_df[col+'change'+str(i)]\n",
        "\n",
        "le = LabelEncoder()\n",
        "train_df = train_df.assign(device = le.fit_transform(train_df[\"device\"]))\n",
        "missing=le.transform(missing)\n",
        "drop_cols=[\"pm2_5\", \"ID\",\"date\"]\n",
        "test_df=train_df[train_df[target].isna()]\n",
        "train_df=train_df[train_df[target].notna()]\n",
        "cols=list(train_df.drop(drop_cols,axis=1).columns)\n",
        "train_df=train_df.replace({np.inf:np.nan,(-1*np.inf):np.nan})\n",
        "test_df=test_df.replace({np.inf:np.nan,(-1*np.inf):np.nan})\n",
        "print('length of features = ',len(cols))\n",
        "\n",
        "# One for All Prediction\n",
        "#-----------------------------------------------\n",
        "@model(\"model1all\")\n",
        "@pip_requirements(packages=[\"catboost\"])\n",
        "def train():\n",
        "    import catboost\n",
        "    from catboost import CatBoostRegressor\n",
        "    import pandas as pd\n",
        "    import matplotlib.pyplot as plt\n",
        "    import seaborn as sns\n",
        "    est=500\n",
        "    random_state = 42\n",
        "    layer.log({\"est\":est})\n",
        "    layer.log({\"random_state\":random_state})\n",
        "    model=CatBoostRegressor(silent=True,learning_rate=0.1, n_estimators=est).fit(train_df[cols],train_df[target])\n",
        "    importance = model.get_feature_importance()\n",
        "    importance_df = pd.DataFrame(importance, index=cols, columns=['Importance'])\n",
        "    importance_df = importance_df.sort_values(by='Importance', ascending=False)\n",
        "    importance_df = importance_df[importance_df['Importance'] > 0]\n",
        "    importance_df = importance_df.head(10)\n",
        "    plt.figure(figsize=(8,8))\n",
        "    plt.xticks(rotation=60, fontsize = 20)\n",
        "    sns.barplot(y=importance_df.index, x=importance_df['Importance'])\n",
        "    layer.log({\"Feature importance\": plt.gcf()})\n",
        "    return model\n",
        "layer.run([train],debug=True)\n",
        "model1all = layer.get_model(\"tomy4reel/aqssh-645h-wver/models/model1all\").get_train()\n",
        "submission = pd.DataFrame(data=test_df[\"ID\"], columns = [\"ID\"])\n",
        "submission[\"pm2_5\"] = model1all.predict(test_df[cols])   \n",
        "submission "
      ],
      "id": "5yzFgtNmrR2k"
    },
    {
      "cell_type": "code",
      "execution_count": 11,
      "metadata": {
        "colab": {
          "base_uri": "https://localhost:8080/"
        },
        "id": "e9gwHx6jW22y",
        "outputId": "d549f960-f11a-447c-fdef-35778fd38905"
      },
      "outputs": [
        {
          "output_type": "stream",
          "name": "stdout",
          "text": [
            "9889 34 1\n",
            "9855 68 2\n",
            "9821 102 3\n",
            "9787 136 4\n",
            "9753 170 5\n",
            "9719 204 6\n",
            "9685 238 7\n",
            "9651 272 8\n",
            "9617 306 9\n",
            "9583 340 10\n",
            "9549 374 11\n",
            "9515 408 12\n",
            "9481 442 13\n",
            "9447 476 14\n",
            "9413 510 15\n",
            "9379 544 16\n",
            "9345 578 17\n",
            "9311 612 18\n",
            "9277 646 19\n",
            "9243 680 20\n",
            "9209 714 21\n",
            "9175 748 22\n",
            "9141 782 23\n",
            "9107 816 24\n",
            "9073 850 25\n",
            "9039 884 26\n",
            "9005 918 27\n",
            "8971 952 28\n",
            "8937 986 29\n",
            "8903 1020 30\n",
            "8869 1054 31\n",
            "8835 1088 32\n",
            "8801 1122 33\n",
            "8767 1156 34\n",
            "8733 1190 35\n",
            "8699 1224 36\n",
            "8665 1258 37\n",
            "8631 1292 38\n",
            "8597 1326 39\n"
          ]
        }
      ],
      "source": [
        "# One for One Prediction\n",
        "#-----------------------------------------------\n",
        "pred=pd.DataFrame()\n",
        "df001=train_df.copy()\n",
        "df002=test_df.copy()\n",
        "model1=XGBRegressor(n_estimators=10)\n",
        "train_df=train_df.append(test_df[train_df.columns])\n",
        "train_df=train_df.sort_values(['device','timestamp'])\n",
        "train_df2=train_df.copy()\n",
        "for i in range(1,m,1):\n",
        "    train_df['last_pm2_5']=train_df.groupby(['device'])[target].shift(i)\n",
        "    for j in range(1,n,1):\n",
        "        train_df['last_'+str(j)+'pm2_5']=train_df.groupby(['device'])[target].shift(i+j)\n",
        "        train_df['last_'+str(j)+'pm2_5_trend']=train_df['last_'+str(j)+'pm2_5']/train_df['last_pm2_5']\n",
        "    test_df=train_df[train_df[target].isna()]\n",
        "    train_df=train_df[train_df[target].notna()]\n",
        "    test_df=test_df[test_df['last_pm2_5'].notna()]\n",
        "    train_df=train_df[train_df['last_pm2_5'].notna()]\n",
        "    print(len(train_df),len(test_df),i)\n",
        "    col=list(train_df.drop(drop_cols,axis=1).columns)\n",
        "    test_df[target]=model1.fit(train_df[col],train_df[target]).predict(test_df[col])\n",
        "    train_df=train_df2.copy()\n",
        "    pred=pred.append(test_df[['ID',target]])\n",
        "pred=pred.drop_duplicates('ID',keep='first')\n",
        "submission=pred.append(submission)\n",
        "submission[target]=submission.groupby('ID')[target].transform('mean')\n",
        "submission=submission.drop_duplicates('ID',keep='first')\n",
        "train_df=df001.copy()\n",
        "test_df=df002.copy()\n",
        "del df001, df002"
      ],
      "id": "e9gwHx6jW22y"
    },
    {
      "cell_type": "code",
      "execution_count": 12,
      "metadata": {
        "colab": {
          "base_uri": "https://localhost:8080/",
          "height": 478,
          "referenced_widgets": [
            "4e8c202e449e42f2ba1572cc0a015a2f",
            "53a99ea6ae0a4fb9928c4d09c64c6739",
            "51af61991eca46c681dbfbfec485094f",
            "21abe46f88b841f3803e4e209d62e59e"
          ]
        },
        "id": "lWQztf-gXUEO",
        "outputId": "777794fb-5d8a-4d1f-a70a-c1ce03cfc5ff"
      },
      "outputs": [
        {
          "output_type": "display_data",
          "data": {
            "text/plain": [
              "Output()"
            ],
            "application/vnd.jupyter.widget-view+json": {
              "version_major": 2,
              "version_minor": 0,
              "model_id": "4e8c202e449e42f2ba1572cc0a015a2f"
            }
          },
          "metadata": {}
        },
        {
          "output_type": "display_data",
          "data": {
            "text/plain": [],
            "text/html": [
              "<pre style=\"white-space:pre;overflow-x:auto;line-height:normal;font-family:Menlo,'DejaVu Sans Mono',consolas,'Courier New',monospace\"></pre>\n"
            ]
          },
          "metadata": {}
        },
        {
          "output_type": "display_data",
          "data": {
            "text/plain": [
              "\n"
            ],
            "text/html": [
              "<pre style=\"white-space:pre;overflow-x:auto;line-height:normal;font-family:Menlo,'DejaVu Sans Mono',consolas,'Courier New',monospace\">\n",
              "</pre>\n"
            ]
          },
          "metadata": {}
        },
        {
          "output_type": "display_data",
          "data": {
            "text/plain": [
              "Output()"
            ],
            "application/vnd.jupyter.widget-view+json": {
              "version_major": 2,
              "version_minor": 0,
              "model_id": "51af61991eca46c681dbfbfec485094f"
            }
          },
          "metadata": {}
        },
        {
          "output_type": "display_data",
          "data": {
            "text/plain": [],
            "text/html": [
              "<pre style=\"white-space:pre;overflow-x:auto;line-height:normal;font-family:Menlo,'DejaVu Sans Mono',consolas,'Courier New',monospace\"></pre>\n"
            ]
          },
          "metadata": {}
        },
        {
          "output_type": "display_data",
          "data": {
            "text/plain": [
              "\n"
            ],
            "text/html": [
              "<pre style=\"white-space:pre;overflow-x:auto;line-height:normal;font-family:Menlo,'DejaVu Sans Mono',consolas,'Courier New',monospace\">\n",
              "</pre>\n"
            ]
          },
          "metadata": {}
        },
        {
          "output_type": "execute_result",
          "data": {
            "text/plain": [
              "                 ID      pm2_5\n",
              "0     ID_UOH62J0XHX  45.684040\n",
              "1     ID_4OPWSB0UHJ  96.491835\n",
              "2     ID_3SLMNNG1Z3  58.086591\n",
              "3     ID_MFUHTXYPM4  71.531910\n",
              "4     ID_TY1DAND8ZP  69.430477\n",
              "...             ...        ...\n",
              "4249  ID_NYKGOYFBKZ  44.397399\n",
              "4250  ID_IWO4EVLHSQ  76.812648\n",
              "4251  ID_G1M1IMY9WU  61.134451\n",
              "4252  ID_DXV65Q1QXI  53.813085\n",
              "4253  ID_RY4ONQKO9E  46.268297\n",
              "\n",
              "[4254 rows x 2 columns]"
            ],
            "text/html": [
              "\n",
              "  <div id=\"df-0765898f-bb19-4124-911a-ee484aa67544\">\n",
              "    <div class=\"colab-df-container\">\n",
              "      <div>\n",
              "<style scoped>\n",
              "    .dataframe tbody tr th:only-of-type {\n",
              "        vertical-align: middle;\n",
              "    }\n",
              "\n",
              "    .dataframe tbody tr th {\n",
              "        vertical-align: top;\n",
              "    }\n",
              "\n",
              "    .dataframe thead th {\n",
              "        text-align: right;\n",
              "    }\n",
              "</style>\n",
              "<table border=\"1\" class=\"dataframe\">\n",
              "  <thead>\n",
              "    <tr style=\"text-align: right;\">\n",
              "      <th></th>\n",
              "      <th>ID</th>\n",
              "      <th>pm2_5</th>\n",
              "    </tr>\n",
              "  </thead>\n",
              "  <tbody>\n",
              "    <tr>\n",
              "      <th>0</th>\n",
              "      <td>ID_UOH62J0XHX</td>\n",
              "      <td>45.684040</td>\n",
              "    </tr>\n",
              "    <tr>\n",
              "      <th>1</th>\n",
              "      <td>ID_4OPWSB0UHJ</td>\n",
              "      <td>96.491835</td>\n",
              "    </tr>\n",
              "    <tr>\n",
              "      <th>2</th>\n",
              "      <td>ID_3SLMNNG1Z3</td>\n",
              "      <td>58.086591</td>\n",
              "    </tr>\n",
              "    <tr>\n",
              "      <th>3</th>\n",
              "      <td>ID_MFUHTXYPM4</td>\n",
              "      <td>71.531910</td>\n",
              "    </tr>\n",
              "    <tr>\n",
              "      <th>4</th>\n",
              "      <td>ID_TY1DAND8ZP</td>\n",
              "      <td>69.430477</td>\n",
              "    </tr>\n",
              "    <tr>\n",
              "      <th>...</th>\n",
              "      <td>...</td>\n",
              "      <td>...</td>\n",
              "    </tr>\n",
              "    <tr>\n",
              "      <th>4249</th>\n",
              "      <td>ID_NYKGOYFBKZ</td>\n",
              "      <td>44.397399</td>\n",
              "    </tr>\n",
              "    <tr>\n",
              "      <th>4250</th>\n",
              "      <td>ID_IWO4EVLHSQ</td>\n",
              "      <td>76.812648</td>\n",
              "    </tr>\n",
              "    <tr>\n",
              "      <th>4251</th>\n",
              "      <td>ID_G1M1IMY9WU</td>\n",
              "      <td>61.134451</td>\n",
              "    </tr>\n",
              "    <tr>\n",
              "      <th>4252</th>\n",
              "      <td>ID_DXV65Q1QXI</td>\n",
              "      <td>53.813085</td>\n",
              "    </tr>\n",
              "    <tr>\n",
              "      <th>4253</th>\n",
              "      <td>ID_RY4ONQKO9E</td>\n",
              "      <td>46.268297</td>\n",
              "    </tr>\n",
              "  </tbody>\n",
              "</table>\n",
              "<p>4254 rows × 2 columns</p>\n",
              "</div>\n",
              "      <button class=\"colab-df-convert\" onclick=\"convertToInteractive('df-0765898f-bb19-4124-911a-ee484aa67544')\"\n",
              "              title=\"Convert this dataframe to an interactive table.\"\n",
              "              style=\"display:none;\">\n",
              "        \n",
              "  <svg xmlns=\"http://www.w3.org/2000/svg\" height=\"24px\"viewBox=\"0 0 24 24\"\n",
              "       width=\"24px\">\n",
              "    <path d=\"M0 0h24v24H0V0z\" fill=\"none\"/>\n",
              "    <path d=\"M18.56 5.44l.94 2.06.94-2.06 2.06-.94-2.06-.94-.94-2.06-.94 2.06-2.06.94zm-11 1L8.5 8.5l.94-2.06 2.06-.94-2.06-.94L8.5 2.5l-.94 2.06-2.06.94zm10 10l.94 2.06.94-2.06 2.06-.94-2.06-.94-.94-2.06-.94 2.06-2.06.94z\"/><path d=\"M17.41 7.96l-1.37-1.37c-.4-.4-.92-.59-1.43-.59-.52 0-1.04.2-1.43.59L10.3 9.45l-7.72 7.72c-.78.78-.78 2.05 0 2.83L4 21.41c.39.39.9.59 1.41.59.51 0 1.02-.2 1.41-.59l7.78-7.78 2.81-2.81c.8-.78.8-2.07 0-2.86zM5.41 20L4 18.59l7.72-7.72 1.47 1.35L5.41 20z\"/>\n",
              "  </svg>\n",
              "      </button>\n",
              "      \n",
              "  <style>\n",
              "    .colab-df-container {\n",
              "      display:flex;\n",
              "      flex-wrap:wrap;\n",
              "      gap: 12px;\n",
              "    }\n",
              "\n",
              "    .colab-df-convert {\n",
              "      background-color: #E8F0FE;\n",
              "      border: none;\n",
              "      border-radius: 50%;\n",
              "      cursor: pointer;\n",
              "      display: none;\n",
              "      fill: #1967D2;\n",
              "      height: 32px;\n",
              "      padding: 0 0 0 0;\n",
              "      width: 32px;\n",
              "    }\n",
              "\n",
              "    .colab-df-convert:hover {\n",
              "      background-color: #E2EBFA;\n",
              "      box-shadow: 0px 1px 2px rgba(60, 64, 67, 0.3), 0px 1px 3px 1px rgba(60, 64, 67, 0.15);\n",
              "      fill: #174EA6;\n",
              "    }\n",
              "\n",
              "    [theme=dark] .colab-df-convert {\n",
              "      background-color: #3B4455;\n",
              "      fill: #D2E3FC;\n",
              "    }\n",
              "\n",
              "    [theme=dark] .colab-df-convert:hover {\n",
              "      background-color: #434B5C;\n",
              "      box-shadow: 0px 1px 3px 1px rgba(0, 0, 0, 0.15);\n",
              "      filter: drop-shadow(0px 1px 2px rgba(0, 0, 0, 0.3));\n",
              "      fill: #FFFFFF;\n",
              "    }\n",
              "  </style>\n",
              "\n",
              "      <script>\n",
              "        const buttonEl =\n",
              "          document.querySelector('#df-0765898f-bb19-4124-911a-ee484aa67544 button.colab-df-convert');\n",
              "        buttonEl.style.display =\n",
              "          google.colab.kernel.accessAllowed ? 'block' : 'none';\n",
              "\n",
              "        async function convertToInteractive(key) {\n",
              "          const element = document.querySelector('#df-0765898f-bb19-4124-911a-ee484aa67544');\n",
              "          const dataTable =\n",
              "            await google.colab.kernel.invokeFunction('convertToInteractive',\n",
              "                                                     [key], {});\n",
              "          if (!dataTable) return;\n",
              "\n",
              "          const docLinkHtml = 'Like what you see? Visit the ' +\n",
              "            '<a target=\"_blank\" href=https://colab.research.google.com/notebooks/data_table.ipynb>data table notebook</a>'\n",
              "            + ' to learn more about interactive tables.';\n",
              "          element.innerHTML = '';\n",
              "          dataTable['output_type'] = 'display_data';\n",
              "          await google.colab.output.renderOutput(dataTable, element);\n",
              "          const docLink = document.createElement('div');\n",
              "          docLink.innerHTML = docLinkHtml;\n",
              "          element.appendChild(docLink);\n",
              "        }\n",
              "      </script>\n",
              "    </div>\n",
              "  </div>\n",
              "  "
            ]
          },
          "metadata": {},
          "execution_count": 12
        }
      ],
      "source": [
        "# New Devices Prediction\n",
        "#-----------------------------------------------\n",
        "test_df=test_df[test_df['device'].isin(missing)]\n",
        "drop_cols=test_df.columns[test_df.isnull().all()].tolist()[1:]\n",
        "cols=list(test_df[cols].drop(drop_cols,axis=1).columns)\n",
        "\n",
        "@model(\"model1new\")\n",
        "@pip_requirements(packages=[\"catboost\"])\n",
        "def train():\n",
        "    import catboost\n",
        "    from catboost import CatBoostRegressor\n",
        "    import pandas as pd\n",
        "    import matplotlib.pyplot as plt\n",
        "    import seaborn as sns\n",
        "    est=200\n",
        "    random_state = 42\n",
        "    layer.log({\"est\":est})\n",
        "    layer.log({\"random_state\":random_state})\n",
        "    model=CatBoostRegressor(silent=True,learning_rate=0.1, n_estimators=est).fit(train_df[cols],train_df[target])\n",
        "    importance = model.get_feature_importance()\n",
        "    importance_df = pd.DataFrame(importance, index=cols, columns=['Importance'])\n",
        "    importance_df = importance_df.sort_values(by='Importance', ascending=False)\n",
        "    importance_df = importance_df[importance_df['Importance'] > 0]\n",
        "    importance_df = importance_df.head(10)\n",
        "    plt.figure(figsize=(8,8))\n",
        "    plt.xticks(rotation=60, fontsize = 20)\n",
        "    sns.barplot(y=importance_df.index, x=importance_df['Importance'])\n",
        "    layer.log({\"Feature importance\": plt.gcf()})\n",
        "    return model\n",
        "layer.run([train],debug=True)\n",
        "model1new = layer.get_model(\"tomy4reel/aqssh-645h-wver/models/model1new\").get_train()\n",
        "submission2 = pd.DataFrame(data=test_df[\"ID\"], columns = [\"ID\"])\n",
        "submission2[\"pm2_5\"] = model1new.predict(test_df[cols])  \n",
        "# replace predictions for new devices\n",
        "submission=submission2.append(submission)\n",
        "submission=submission.drop_duplicates('ID')\n",
        "df1=pd.merge(ss[['ID']],submission,on='ID',how='left')\n",
        "df1 "
      ],
      "id": "lWQztf-gXUEO"
    },
    {
      "cell_type": "markdown",
      "metadata": {
        "id": "Cq64lRNxeI-J"
      },
      "source": [
        "- ## Approach 2"
      ],
      "id": "Cq64lRNxeI-J"
    },
    {
      "cell_type": "code",
      "execution_count": 13,
      "metadata": {
        "colab": {
          "base_uri": "https://localhost:8080/",
          "height": 717,
          "referenced_widgets": [
            "b508f90551d54b7b989b1a35dcc1743e",
            "ec48fd58b2c24e3f8f924b59757b76b1",
            "a93b80860b144a878f8acefafb775a9f",
            "6e05e41e0e3b43e9813abff2b6895e74",
            "79072b055dc945a387f462c2157876d6",
            "448b8c7a31ea419da1026f3f1b576327",
            "c3da483c3501452788db681a18154221",
            "3f8b2c0a1daf444ab87e4f846491a87a"
          ]
        },
        "id": "6CNyDsHs_P8S",
        "outputId": "5aa3d7b1-1587-4c85-d712-eb00300dc552"
      },
      "outputs": [
        {
          "output_type": "display_data",
          "data": {
            "text/plain": [
              "Output()"
            ],
            "application/vnd.jupyter.widget-view+json": {
              "version_major": 2,
              "version_minor": 0,
              "model_id": "b508f90551d54b7b989b1a35dcc1743e"
            }
          },
          "metadata": {}
        },
        {
          "output_type": "display_data",
          "data": {
            "text/plain": [],
            "text/html": [
              "<pre style=\"white-space:pre;overflow-x:auto;line-height:normal;font-family:Menlo,'DejaVu Sans Mono',consolas,'Courier New',monospace\"></pre>\n"
            ]
          },
          "metadata": {}
        },
        {
          "output_type": "display_data",
          "data": {
            "text/plain": [
              "\n"
            ],
            "text/html": [
              "<pre style=\"white-space:pre;overflow-x:auto;line-height:normal;font-family:Menlo,'DejaVu Sans Mono',consolas,'Courier New',monospace\">\n",
              "</pre>\n"
            ]
          },
          "metadata": {}
        },
        {
          "output_type": "display_data",
          "data": {
            "text/plain": [
              "Output()"
            ],
            "application/vnd.jupyter.widget-view+json": {
              "version_major": 2,
              "version_minor": 0,
              "model_id": "a93b80860b144a878f8acefafb775a9f"
            }
          },
          "metadata": {}
        },
        {
          "output_type": "display_data",
          "data": {
            "text/plain": [],
            "text/html": [
              "<pre style=\"white-space:pre;overflow-x:auto;line-height:normal;font-family:Menlo,'DejaVu Sans Mono',consolas,'Courier New',monospace\"></pre>\n"
            ]
          },
          "metadata": {}
        },
        {
          "output_type": "display_data",
          "data": {
            "text/plain": [
              "\n"
            ],
            "text/html": [
              "<pre style=\"white-space:pre;overflow-x:auto;line-height:normal;font-family:Menlo,'DejaVu Sans Mono',consolas,'Courier New',monospace\">\n",
              "</pre>\n"
            ]
          },
          "metadata": {}
        },
        {
          "output_type": "stream",
          "name": "stderr",
          "text": [
            "/usr/local/lib/python3.7/dist-packages/ipykernel_launcher.py:12: FutureWarning: casting timedelta64[ns] values to int64 with .astype(...) is deprecated and will raise in a future version. Use .view(...) instead.\n",
            "  if sys.path[0] == '':\n",
            "/usr/local/lib/python3.7/dist-packages/ipykernel_launcher.py:13: FutureWarning: casting timedelta64[ns] values to int64 with .astype(...) is deprecated and will raise in a future version. Use .view(...) instead.\n",
            "  del sys.path[0]\n",
            "/usr/local/lib/python3.7/dist-packages/ipykernel_launcher.py:53: PerformanceWarning: DataFrame is highly fragmented.  This is usually the result of calling `frame.insert` many times, which has poor performance.  Consider joining all columns at once using pd.concat(axis=1) instead.  To get a de-fragmented frame, use `newframe = frame.copy()`\n",
            "/usr/local/lib/python3.7/dist-packages/ipykernel_launcher.py:45: PerformanceWarning: DataFrame is highly fragmented.  This is usually the result of calling `frame.insert` many times, which has poor performance.  Consider joining all columns at once using pd.concat(axis=1) instead.  To get a de-fragmented frame, use `newframe = frame.copy()`\n",
            "/usr/local/lib/python3.7/dist-packages/ipykernel_launcher.py:46: PerformanceWarning: DataFrame is highly fragmented.  This is usually the result of calling `frame.insert` many times, which has poor performance.  Consider joining all columns at once using pd.concat(axis=1) instead.  To get a de-fragmented frame, use `newframe = frame.copy()`\n",
            "/usr/local/lib/python3.7/dist-packages/ipykernel_launcher.py:47: PerformanceWarning: DataFrame is highly fragmented.  This is usually the result of calling `frame.insert` many times, which has poor performance.  Consider joining all columns at once using pd.concat(axis=1) instead.  To get a de-fragmented frame, use `newframe = frame.copy()`\n",
            "/usr/local/lib/python3.7/dist-packages/ipykernel_launcher.py:50: PerformanceWarning: DataFrame is highly fragmented.  This is usually the result of calling `frame.insert` many times, which has poor performance.  Consider joining all columns at once using pd.concat(axis=1) instead.  To get a de-fragmented frame, use `newframe = frame.copy()`\n"
          ]
        },
        {
          "output_type": "stream",
          "name": "stdout",
          "text": [
            "length of features =  1995\n"
          ]
        },
        {
          "output_type": "display_data",
          "data": {
            "text/plain": [
              "Output()"
            ],
            "application/vnd.jupyter.widget-view+json": {
              "version_major": 2,
              "version_minor": 0,
              "model_id": "79072b055dc945a387f462c2157876d6"
            }
          },
          "metadata": {}
        },
        {
          "output_type": "display_data",
          "data": {
            "text/plain": [],
            "text/html": [
              "<pre style=\"white-space:pre;overflow-x:auto;line-height:normal;font-family:Menlo,'DejaVu Sans Mono',consolas,'Courier New',monospace\"></pre>\n"
            ]
          },
          "metadata": {}
        },
        {
          "output_type": "display_data",
          "data": {
            "text/plain": [
              "\n"
            ],
            "text/html": [
              "<pre style=\"white-space:pre;overflow-x:auto;line-height:normal;font-family:Menlo,'DejaVu Sans Mono',consolas,'Courier New',monospace\">\n",
              "</pre>\n"
            ]
          },
          "metadata": {}
        },
        {
          "output_type": "display_data",
          "data": {
            "text/plain": [
              "Output()"
            ],
            "application/vnd.jupyter.widget-view+json": {
              "version_major": 2,
              "version_minor": 0,
              "model_id": "c3da483c3501452788db681a18154221"
            }
          },
          "metadata": {}
        },
        {
          "output_type": "display_data",
          "data": {
            "text/plain": [],
            "text/html": [
              "<pre style=\"white-space:pre;overflow-x:auto;line-height:normal;font-family:Menlo,'DejaVu Sans Mono',consolas,'Courier New',monospace\"></pre>\n"
            ]
          },
          "metadata": {}
        },
        {
          "output_type": "display_data",
          "data": {
            "text/plain": [
              "\n"
            ],
            "text/html": [
              "<pre style=\"white-space:pre;overflow-x:auto;line-height:normal;font-family:Menlo,'DejaVu Sans Mono',consolas,'Courier New',monospace\">\n",
              "</pre>\n"
            ]
          },
          "metadata": {}
        },
        {
          "output_type": "execute_result",
          "data": {
            "text/plain": [
              "                 ID      pm2_5\n",
              "3557  ID_M1T3S50WVB  78.833181\n",
              "1406  ID_35WTU72HHD  75.477429\n",
              "925   ID_O7K2PDWG93  69.638476\n",
              "3432  ID_N9WDA8G4OZ  67.801012\n",
              "2205  ID_WFYVDUY1LY  85.870084\n",
              "...             ...        ...\n",
              "3325  ID_RK7GNMXWDG  44.474359\n",
              "1766  ID_6IIMDQC260  47.413532\n",
              "750   ID_8JPX2POPNL  62.882649\n",
              "2549  ID_7TFB8NHLY9  58.729734\n",
              "2213  ID_J3OS2LVO1N  38.852572\n",
              "\n",
              "[4254 rows x 2 columns]"
            ],
            "text/html": [
              "\n",
              "  <div id=\"df-4a25759f-47a7-4032-b2c2-aa26b834fd42\">\n",
              "    <div class=\"colab-df-container\">\n",
              "      <div>\n",
              "<style scoped>\n",
              "    .dataframe tbody tr th:only-of-type {\n",
              "        vertical-align: middle;\n",
              "    }\n",
              "\n",
              "    .dataframe tbody tr th {\n",
              "        vertical-align: top;\n",
              "    }\n",
              "\n",
              "    .dataframe thead th {\n",
              "        text-align: right;\n",
              "    }\n",
              "</style>\n",
              "<table border=\"1\" class=\"dataframe\">\n",
              "  <thead>\n",
              "    <tr style=\"text-align: right;\">\n",
              "      <th></th>\n",
              "      <th>ID</th>\n",
              "      <th>pm2_5</th>\n",
              "    </tr>\n",
              "  </thead>\n",
              "  <tbody>\n",
              "    <tr>\n",
              "      <th>3557</th>\n",
              "      <td>ID_M1T3S50WVB</td>\n",
              "      <td>78.833181</td>\n",
              "    </tr>\n",
              "    <tr>\n",
              "      <th>1406</th>\n",
              "      <td>ID_35WTU72HHD</td>\n",
              "      <td>75.477429</td>\n",
              "    </tr>\n",
              "    <tr>\n",
              "      <th>925</th>\n",
              "      <td>ID_O7K2PDWG93</td>\n",
              "      <td>69.638476</td>\n",
              "    </tr>\n",
              "    <tr>\n",
              "      <th>3432</th>\n",
              "      <td>ID_N9WDA8G4OZ</td>\n",
              "      <td>67.801012</td>\n",
              "    </tr>\n",
              "    <tr>\n",
              "      <th>2205</th>\n",
              "      <td>ID_WFYVDUY1LY</td>\n",
              "      <td>85.870084</td>\n",
              "    </tr>\n",
              "    <tr>\n",
              "      <th>...</th>\n",
              "      <td>...</td>\n",
              "      <td>...</td>\n",
              "    </tr>\n",
              "    <tr>\n",
              "      <th>3325</th>\n",
              "      <td>ID_RK7GNMXWDG</td>\n",
              "      <td>44.474359</td>\n",
              "    </tr>\n",
              "    <tr>\n",
              "      <th>1766</th>\n",
              "      <td>ID_6IIMDQC260</td>\n",
              "      <td>47.413532</td>\n",
              "    </tr>\n",
              "    <tr>\n",
              "      <th>750</th>\n",
              "      <td>ID_8JPX2POPNL</td>\n",
              "      <td>62.882649</td>\n",
              "    </tr>\n",
              "    <tr>\n",
              "      <th>2549</th>\n",
              "      <td>ID_7TFB8NHLY9</td>\n",
              "      <td>58.729734</td>\n",
              "    </tr>\n",
              "    <tr>\n",
              "      <th>2213</th>\n",
              "      <td>ID_J3OS2LVO1N</td>\n",
              "      <td>38.852572</td>\n",
              "    </tr>\n",
              "  </tbody>\n",
              "</table>\n",
              "<p>4254 rows × 2 columns</p>\n",
              "</div>\n",
              "      <button class=\"colab-df-convert\" onclick=\"convertToInteractive('df-4a25759f-47a7-4032-b2c2-aa26b834fd42')\"\n",
              "              title=\"Convert this dataframe to an interactive table.\"\n",
              "              style=\"display:none;\">\n",
              "        \n",
              "  <svg xmlns=\"http://www.w3.org/2000/svg\" height=\"24px\"viewBox=\"0 0 24 24\"\n",
              "       width=\"24px\">\n",
              "    <path d=\"M0 0h24v24H0V0z\" fill=\"none\"/>\n",
              "    <path d=\"M18.56 5.44l.94 2.06.94-2.06 2.06-.94-2.06-.94-.94-2.06-.94 2.06-2.06.94zm-11 1L8.5 8.5l.94-2.06 2.06-.94-2.06-.94L8.5 2.5l-.94 2.06-2.06.94zm10 10l.94 2.06.94-2.06 2.06-.94-2.06-.94-.94-2.06-.94 2.06-2.06.94z\"/><path d=\"M17.41 7.96l-1.37-1.37c-.4-.4-.92-.59-1.43-.59-.52 0-1.04.2-1.43.59L10.3 9.45l-7.72 7.72c-.78.78-.78 2.05 0 2.83L4 21.41c.39.39.9.59 1.41.59.51 0 1.02-.2 1.41-.59l7.78-7.78 2.81-2.81c.8-.78.8-2.07 0-2.86zM5.41 20L4 18.59l7.72-7.72 1.47 1.35L5.41 20z\"/>\n",
              "  </svg>\n",
              "      </button>\n",
              "      \n",
              "  <style>\n",
              "    .colab-df-container {\n",
              "      display:flex;\n",
              "      flex-wrap:wrap;\n",
              "      gap: 12px;\n",
              "    }\n",
              "\n",
              "    .colab-df-convert {\n",
              "      background-color: #E8F0FE;\n",
              "      border: none;\n",
              "      border-radius: 50%;\n",
              "      cursor: pointer;\n",
              "      display: none;\n",
              "      fill: #1967D2;\n",
              "      height: 32px;\n",
              "      padding: 0 0 0 0;\n",
              "      width: 32px;\n",
              "    }\n",
              "\n",
              "    .colab-df-convert:hover {\n",
              "      background-color: #E2EBFA;\n",
              "      box-shadow: 0px 1px 2px rgba(60, 64, 67, 0.3), 0px 1px 3px 1px rgba(60, 64, 67, 0.15);\n",
              "      fill: #174EA6;\n",
              "    }\n",
              "\n",
              "    [theme=dark] .colab-df-convert {\n",
              "      background-color: #3B4455;\n",
              "      fill: #D2E3FC;\n",
              "    }\n",
              "\n",
              "    [theme=dark] .colab-df-convert:hover {\n",
              "      background-color: #434B5C;\n",
              "      box-shadow: 0px 1px 3px 1px rgba(0, 0, 0, 0.15);\n",
              "      filter: drop-shadow(0px 1px 2px rgba(0, 0, 0, 0.3));\n",
              "      fill: #FFFFFF;\n",
              "    }\n",
              "  </style>\n",
              "\n",
              "      <script>\n",
              "        const buttonEl =\n",
              "          document.querySelector('#df-4a25759f-47a7-4032-b2c2-aa26b834fd42 button.colab-df-convert');\n",
              "        buttonEl.style.display =\n",
              "          google.colab.kernel.accessAllowed ? 'block' : 'none';\n",
              "\n",
              "        async function convertToInteractive(key) {\n",
              "          const element = document.querySelector('#df-4a25759f-47a7-4032-b2c2-aa26b834fd42');\n",
              "          const dataTable =\n",
              "            await google.colab.kernel.invokeFunction('convertToInteractive',\n",
              "                                                     [key], {});\n",
              "          if (!dataTable) return;\n",
              "\n",
              "          const docLinkHtml = 'Like what you see? Visit the ' +\n",
              "            '<a target=\"_blank\" href=https://colab.research.google.com/notebooks/data_table.ipynb>data table notebook</a>'\n",
              "            + ' to learn more about interactive tables.';\n",
              "          element.innerHTML = '';\n",
              "          dataTable['output_type'] = 'display_data';\n",
              "          await google.colab.output.renderOutput(dataTable, element);\n",
              "          const docLink = document.createElement('div');\n",
              "          docLink.innerHTML = docLinkHtml;\n",
              "          element.appendChild(docLink);\n",
              "        }\n",
              "      </script>\n",
              "    </div>\n",
              "  </div>\n",
              "  "
            ]
          },
          "metadata": {},
          "execution_count": 13
        }
      ],
      "source": [
        "# Reload datasets\n",
        "test_df = layer.get_dataset(\"zindi/air-quality/datasets/test\").to_pandas()\n",
        "train_df = layer.get_dataset(\"zindi/air-quality/datasets/train\").to_pandas()\n",
        "# re-process data and create more features \n",
        "\n",
        "train_df.drop(cc,axis=1,inplace=True)\n",
        "train_df['date']=pd.to_datetime(train_df['date'])\n",
        "test_df['date']=pd.to_datetime(test_df['date'])\n",
        "min_date=train_df['date'].min()\n",
        "train_df['timestamp']=train_df['date']-min_date\n",
        "test_df['timestamp']=test_df['date']-min_date\n",
        "train_df['timestamp']=train_df['timestamp'].astype('int')/(24*60*60*(10**9))\n",
        "test_df['timestamp']=test_df['timestamp'].astype('int')/(24*60*60*(10**9))\n",
        "train_df['timestamp']=train_df['timestamp'].astype('int')\n",
        "test_df['timestamp']=test_df['timestamp'].astype('int')\n",
        "if validation==1:\n",
        "    test_df=train_df[train_df.timestamp>=380]\n",
        "    train_df=train_df[train_df.timestamp<380]\n",
        "    test_df[target]=np.nan\n",
        "    ss=test_df[['ID',target]]\n",
        "    print(len(train_df),len(test_df))\n",
        "density_amf = list(train_df.filter(regex='density_amf').columns)\n",
        "density = ['SulphurDioxide_SO2_slant_column_number_density','SulphurDioxide_SO2_column_number_density_15km','CarbonMonoxide_CO_column_number_density','CarbonMonoxide_H2O_column_number_density',\n",
        " 'NitrogenDioxide_NO2_column_number_density', 'NitrogenDioxide_tropospheric_NO2_column_number_density', 'NitrogenDioxide_stratospheric_NO2_column_number_density', 'NitrogenDioxide_NO2_slant_column_number_density', 'Formaldehyde_tropospheric_HCHO_column_number_density',\n",
        " 'Formaldehyde_HCHO_slant_column_number_density','Ozone_O3_column_number_density','Ozone_O3_slant_column_number_density']\n",
        "Cloud = list(train_df.filter(regex='Cloud').columns)\n",
        "Ozone = list(train_df.filter(regex='Ozone').columns)\n",
        "Carbon = list(train_df.filter(regex='Carbon').columns)\n",
        "Aerosol = list(train_df.filter(regex='Aerosol').columns)\n",
        "Sulphur = list(train_df.filter(regex='Sulphur').columns)\n",
        "Nitrogen = list(train_df.filter(regex='Nitrogen').columns)\n",
        "Formaldehyde = list(train_df.filter(regex='Formaldehyde').columns)\n",
        "Weather = ['temp_mean','humidity']\n",
        "test_df[target]=np.nan\n",
        "test_df=test_df[train_df.columns]\n",
        "# new devices\n",
        "missing=list(set(test_df.device.unique())-set(train_df.device.unique()))\n",
        "train_df=train_df.append(test_df)\n",
        "train_df['density_sum']=train_df[density].sum(axis=1)\n",
        "train_df['density_amf_sum']=train_df[density_amf].sum(axis=1)\n",
        "train_df['NO2_sum']=train_df.NitrogenDioxide_NO2_column_number_density+train_df.NitrogenDioxide_tropospheric_NO2_column_number_density\n",
        "train_df=train_df.sort_values(['device','timestamp'])\n",
        "# feature generation\n",
        "for col in Cloud+Ozone+Carbon+Aerosol+Sulphur+Nitrogen+Weather+Formaldehyde:\n",
        "    train_df[col+'dev']=train_df.groupby('device')[col].transform('mean')\n",
        "    train_df[col+'diff']=train_df[col]/train_df[col+'dev']\n",
        "    train_df[col+'std']=train_df.groupby('device')[col].transform('std')\n",
        "    #train_df[col+'skew']=train_df.groupby('device')[col].transform('skew')\n",
        "    b=3\n",
        "    train_df[col+'rollin_mean']=train_df.groupby('device')[col].rolling(b,min_periods=b).mean().values\n",
        "    #train_df[col+'rollin_std']=train_df.groupby('device')[col].rolling(b,min_periods=b).std().values\n",
        "    for i in range(1,35,1):\n",
        "        train_df[col+'change'+str(i)]=train_df.groupby('device')[col].shift(i)\n",
        "        train_df[col+'change'+str(i)]=train_df[col]/train_df[col+'change'+str(i)]\n",
        "le = LabelEncoder()\n",
        "train_df = train_df.assign(device = le.fit_transform(train_df[\"device\"]))\n",
        "missing=le.transform(missing)\n",
        "drop_cols=[\"pm2_5\", \"ID\",\"date\"]\n",
        "test_df=train_df[train_df[target].isna()]\n",
        "train_df=train_df[train_df[target].notna()]\n",
        "cols=list(train_df.drop(drop_cols,axis=1).columns)\n",
        "train_df=train_df.replace({np.inf:np.nan,(-1*np.inf):np.nan})\n",
        "test_df=test_df.replace({np.inf:np.nan,(-1*np.inf):np.nan})\n",
        "print('length of features = ',len(cols))\n",
        "\n",
        "# One for All Prediction\n",
        "#-----------------------------------------------\n",
        "@model(\"model2all\")\n",
        "@pip_requirements(packages=[\"catboost\"])\n",
        "def train():\n",
        "    import catboost\n",
        "    from catboost import CatBoostRegressor\n",
        "    import pandas as pd\n",
        "    import matplotlib.pyplot as plt\n",
        "    import seaborn as sns\n",
        "    est=500\n",
        "    random_state = 42\n",
        "    layer.log({\"est\":est})\n",
        "    layer.log({\"random_state\":random_state})\n",
        "    model=CatBoostRegressor(silent=True,learning_rate=0.1, n_estimators=est).fit(train_df[cols],train_df[target])\n",
        "    importance = model.get_feature_importance()\n",
        "    importance_df = pd.DataFrame(importance, index=cols, columns=['Importance'])\n",
        "    importance_df = importance_df.sort_values(by='Importance', ascending=False)\n",
        "    importance_df = importance_df[importance_df['Importance'] > 0]\n",
        "    importance_df = importance_df.head(10)\n",
        "    plt.figure(figsize=(8,8))\n",
        "    plt.xticks(rotation=60, fontsize = 20)\n",
        "    sns.barplot(y=importance_df.index, x=importance_df['Importance'])\n",
        "    layer.log({\"Feature importance\": plt.gcf()})\n",
        "    return model\n",
        "layer.run([train],debug=True)\n",
        "model2all = layer.get_model(\"tomy4reel/aqssh-645h-wver/models/model2all\").get_train()\n",
        "submission = pd.DataFrame(data=test_df[\"ID\"], columns = [\"ID\"])\n",
        "submission[\"pm2_5\"] = model2all.predict(test_df[cols])  \n",
        "submission  "
      ],
      "id": "6CNyDsHs_P8S"
    },
    {
      "cell_type": "code",
      "execution_count": 14,
      "metadata": {
        "colab": {
          "base_uri": "https://localhost:8080/"
        },
        "id": "uFEH4ZAqSvtD",
        "outputId": "a6f33ed3-3134-4df7-a4f5-d9b0d1c3d427"
      },
      "outputs": [
        {
          "output_type": "stream",
          "name": "stdout",
          "text": [
            "9889 34 1\n",
            "9855 68 2\n",
            "9821 102 3\n",
            "9787 136 4\n",
            "9753 170 5\n",
            "9719 204 6\n",
            "9685 238 7\n",
            "9651 272 8\n",
            "9617 306 9\n",
            "9583 340 10\n",
            "9549 374 11\n",
            "9515 408 12\n",
            "9481 442 13\n",
            "9447 476 14\n",
            "9413 510 15\n",
            "9379 544 16\n",
            "9345 578 17\n",
            "9311 612 18\n",
            "9277 646 19\n",
            "9243 680 20\n",
            "9209 714 21\n",
            "9175 748 22\n",
            "9141 782 23\n",
            "9107 816 24\n",
            "9073 850 25\n",
            "9039 884 26\n",
            "9005 918 27\n",
            "8971 952 28\n",
            "8937 986 29\n",
            "8903 1020 30\n",
            "8869 1054 31\n",
            "8835 1088 32\n",
            "8801 1122 33\n",
            "8767 1156 34\n",
            "8733 1190 35\n",
            "8699 1224 36\n",
            "8665 1258 37\n",
            "8631 1292 38\n",
            "8597 1326 39\n"
          ]
        }
      ],
      "source": [
        "# One for One Prediction\n",
        "#-----------------------------------------------\n",
        "pred=pd.DataFrame()\n",
        "df001=train_df.copy()\n",
        "df002=test_df.copy()\n",
        "model2=XGBRegressor(n_estimators=10)\n",
        "train_df=train_df.append(test_df[train_df.columns])\n",
        "train_df=train_df.sort_values(['device','timestamp'])\n",
        "train_df2=train_df.copy()\n",
        "for i in range(1,m,1):\n",
        "    train_df['last_pm2_5']=train_df.groupby(['device'])[target].shift(i)\n",
        "    for j in range(1,n,1):\n",
        "        train_df['last_'+str(j)+'pm2_5']=train_df.groupby(['device'])[target].shift(i+j)\n",
        "        train_df['last_'+str(j)+'pm2_5_trend']=train_df['last_'+str(j)+'pm2_5']/train_df['last_pm2_5']\n",
        "    test_df=train_df[train_df[target].isna()]\n",
        "    train_df=train_df[train_df[target].notna()]\n",
        "    test_df=test_df[test_df['last_pm2_5'].notna()]\n",
        "    train_df=train_df[train_df['last_pm2_5'].notna()]\n",
        "    print(len(train_df),len(test_df),i)\n",
        "    col=list(train_df.drop(drop_cols,axis=1).columns)\n",
        "    test_df[target]=model2.fit(train_df[col],train_df[target]).predict(test_df[col])\n",
        "    train_df=train_df2.copy()\n",
        "    pred=pred.append(test_df[['ID',target]])\n",
        "pred=pred.drop_duplicates('ID',keep='first')\n",
        "submission=pred.append(submission)\n",
        "submission[target]=submission.groupby('ID')[target].transform('mean')\n",
        "submission=submission.drop_duplicates('ID',keep='first')\n",
        "train_df=df001.copy()\n",
        "test_df=df002.copy()\n",
        "del df001, df002"
      ],
      "id": "uFEH4ZAqSvtD"
    },
    {
      "cell_type": "code",
      "execution_count": 15,
      "metadata": {
        "colab": {
          "base_uri": "https://localhost:8080/",
          "height": 478,
          "referenced_widgets": [
            "6ed9b821220d4ddeac5ada98bf701703",
            "74d66acb24ef4c598a8670073fd0e4c3",
            "5dd4f3465678405e931a50235669e118",
            "83b6141b49eb435292ad94137c620924"
          ]
        },
        "id": "-DADiksU_QED",
        "outputId": "f74e0e38-d7c2-4792-c30c-c34ee4145596"
      },
      "outputs": [
        {
          "output_type": "display_data",
          "data": {
            "text/plain": [
              "Output()"
            ],
            "application/vnd.jupyter.widget-view+json": {
              "version_major": 2,
              "version_minor": 0,
              "model_id": "6ed9b821220d4ddeac5ada98bf701703"
            }
          },
          "metadata": {}
        },
        {
          "output_type": "display_data",
          "data": {
            "text/plain": [],
            "text/html": [
              "<pre style=\"white-space:pre;overflow-x:auto;line-height:normal;font-family:Menlo,'DejaVu Sans Mono',consolas,'Courier New',monospace\"></pre>\n"
            ]
          },
          "metadata": {}
        },
        {
          "output_type": "display_data",
          "data": {
            "text/plain": [
              "\n"
            ],
            "text/html": [
              "<pre style=\"white-space:pre;overflow-x:auto;line-height:normal;font-family:Menlo,'DejaVu Sans Mono',consolas,'Courier New',monospace\">\n",
              "</pre>\n"
            ]
          },
          "metadata": {}
        },
        {
          "output_type": "display_data",
          "data": {
            "text/plain": [
              "Output()"
            ],
            "application/vnd.jupyter.widget-view+json": {
              "version_major": 2,
              "version_minor": 0,
              "model_id": "5dd4f3465678405e931a50235669e118"
            }
          },
          "metadata": {}
        },
        {
          "output_type": "display_data",
          "data": {
            "text/plain": [],
            "text/html": [
              "<pre style=\"white-space:pre;overflow-x:auto;line-height:normal;font-family:Menlo,'DejaVu Sans Mono',consolas,'Courier New',monospace\"></pre>\n"
            ]
          },
          "metadata": {}
        },
        {
          "output_type": "display_data",
          "data": {
            "text/plain": [
              "\n"
            ],
            "text/html": [
              "<pre style=\"white-space:pre;overflow-x:auto;line-height:normal;font-family:Menlo,'DejaVu Sans Mono',consolas,'Courier New',monospace\">\n",
              "</pre>\n"
            ]
          },
          "metadata": {}
        },
        {
          "output_type": "execute_result",
          "data": {
            "text/plain": [
              "                 ID      pm2_5\n",
              "3492  ID_EF1OY5RDML  53.841963\n",
              "4195  ID_V7OQFWQBJI  52.262942\n",
              "982   ID_H5GZIE1XUI  42.812489\n",
              "2330  ID_A8DVZ9U3EN  43.958055\n",
              "2903  ID_RP7DMQ4CV9  45.246653\n",
              "...             ...        ...\n",
              "1485  ID_TTMFHMFJ91  60.234149\n",
              "690   ID_T0N8DGLZJB  56.938791\n",
              "2165  ID_3FU0SYNFLW  53.998520\n",
              "1091  ID_PT0DLR6U76  54.484949\n",
              "381   ID_FO4YN5QN6I  51.889495\n",
              "\n",
              "[4254 rows x 2 columns]"
            ],
            "text/html": [
              "\n",
              "  <div id=\"df-3b76b675-3a60-4fa1-bb0b-a72a7b2bb8f5\">\n",
              "    <div class=\"colab-df-container\">\n",
              "      <div>\n",
              "<style scoped>\n",
              "    .dataframe tbody tr th:only-of-type {\n",
              "        vertical-align: middle;\n",
              "    }\n",
              "\n",
              "    .dataframe tbody tr th {\n",
              "        vertical-align: top;\n",
              "    }\n",
              "\n",
              "    .dataframe thead th {\n",
              "        text-align: right;\n",
              "    }\n",
              "</style>\n",
              "<table border=\"1\" class=\"dataframe\">\n",
              "  <thead>\n",
              "    <tr style=\"text-align: right;\">\n",
              "      <th></th>\n",
              "      <th>ID</th>\n",
              "      <th>pm2_5</th>\n",
              "    </tr>\n",
              "  </thead>\n",
              "  <tbody>\n",
              "    <tr>\n",
              "      <th>3492</th>\n",
              "      <td>ID_EF1OY5RDML</td>\n",
              "      <td>53.841963</td>\n",
              "    </tr>\n",
              "    <tr>\n",
              "      <th>4195</th>\n",
              "      <td>ID_V7OQFWQBJI</td>\n",
              "      <td>52.262942</td>\n",
              "    </tr>\n",
              "    <tr>\n",
              "      <th>982</th>\n",
              "      <td>ID_H5GZIE1XUI</td>\n",
              "      <td>42.812489</td>\n",
              "    </tr>\n",
              "    <tr>\n",
              "      <th>2330</th>\n",
              "      <td>ID_A8DVZ9U3EN</td>\n",
              "      <td>43.958055</td>\n",
              "    </tr>\n",
              "    <tr>\n",
              "      <th>2903</th>\n",
              "      <td>ID_RP7DMQ4CV9</td>\n",
              "      <td>45.246653</td>\n",
              "    </tr>\n",
              "    <tr>\n",
              "      <th>...</th>\n",
              "      <td>...</td>\n",
              "      <td>...</td>\n",
              "    </tr>\n",
              "    <tr>\n",
              "      <th>1485</th>\n",
              "      <td>ID_TTMFHMFJ91</td>\n",
              "      <td>60.234149</td>\n",
              "    </tr>\n",
              "    <tr>\n",
              "      <th>690</th>\n",
              "      <td>ID_T0N8DGLZJB</td>\n",
              "      <td>56.938791</td>\n",
              "    </tr>\n",
              "    <tr>\n",
              "      <th>2165</th>\n",
              "      <td>ID_3FU0SYNFLW</td>\n",
              "      <td>53.998520</td>\n",
              "    </tr>\n",
              "    <tr>\n",
              "      <th>1091</th>\n",
              "      <td>ID_PT0DLR6U76</td>\n",
              "      <td>54.484949</td>\n",
              "    </tr>\n",
              "    <tr>\n",
              "      <th>381</th>\n",
              "      <td>ID_FO4YN5QN6I</td>\n",
              "      <td>51.889495</td>\n",
              "    </tr>\n",
              "  </tbody>\n",
              "</table>\n",
              "<p>4254 rows × 2 columns</p>\n",
              "</div>\n",
              "      <button class=\"colab-df-convert\" onclick=\"convertToInteractive('df-3b76b675-3a60-4fa1-bb0b-a72a7b2bb8f5')\"\n",
              "              title=\"Convert this dataframe to an interactive table.\"\n",
              "              style=\"display:none;\">\n",
              "        \n",
              "  <svg xmlns=\"http://www.w3.org/2000/svg\" height=\"24px\"viewBox=\"0 0 24 24\"\n",
              "       width=\"24px\">\n",
              "    <path d=\"M0 0h24v24H0V0z\" fill=\"none\"/>\n",
              "    <path d=\"M18.56 5.44l.94 2.06.94-2.06 2.06-.94-2.06-.94-.94-2.06-.94 2.06-2.06.94zm-11 1L8.5 8.5l.94-2.06 2.06-.94-2.06-.94L8.5 2.5l-.94 2.06-2.06.94zm10 10l.94 2.06.94-2.06 2.06-.94-2.06-.94-.94-2.06-.94 2.06-2.06.94z\"/><path d=\"M17.41 7.96l-1.37-1.37c-.4-.4-.92-.59-1.43-.59-.52 0-1.04.2-1.43.59L10.3 9.45l-7.72 7.72c-.78.78-.78 2.05 0 2.83L4 21.41c.39.39.9.59 1.41.59.51 0 1.02-.2 1.41-.59l7.78-7.78 2.81-2.81c.8-.78.8-2.07 0-2.86zM5.41 20L4 18.59l7.72-7.72 1.47 1.35L5.41 20z\"/>\n",
              "  </svg>\n",
              "      </button>\n",
              "      \n",
              "  <style>\n",
              "    .colab-df-container {\n",
              "      display:flex;\n",
              "      flex-wrap:wrap;\n",
              "      gap: 12px;\n",
              "    }\n",
              "\n",
              "    .colab-df-convert {\n",
              "      background-color: #E8F0FE;\n",
              "      border: none;\n",
              "      border-radius: 50%;\n",
              "      cursor: pointer;\n",
              "      display: none;\n",
              "      fill: #1967D2;\n",
              "      height: 32px;\n",
              "      padding: 0 0 0 0;\n",
              "      width: 32px;\n",
              "    }\n",
              "\n",
              "    .colab-df-convert:hover {\n",
              "      background-color: #E2EBFA;\n",
              "      box-shadow: 0px 1px 2px rgba(60, 64, 67, 0.3), 0px 1px 3px 1px rgba(60, 64, 67, 0.15);\n",
              "      fill: #174EA6;\n",
              "    }\n",
              "\n",
              "    [theme=dark] .colab-df-convert {\n",
              "      background-color: #3B4455;\n",
              "      fill: #D2E3FC;\n",
              "    }\n",
              "\n",
              "    [theme=dark] .colab-df-convert:hover {\n",
              "      background-color: #434B5C;\n",
              "      box-shadow: 0px 1px 3px 1px rgba(0, 0, 0, 0.15);\n",
              "      filter: drop-shadow(0px 1px 2px rgba(0, 0, 0, 0.3));\n",
              "      fill: #FFFFFF;\n",
              "    }\n",
              "  </style>\n",
              "\n",
              "      <script>\n",
              "        const buttonEl =\n",
              "          document.querySelector('#df-3b76b675-3a60-4fa1-bb0b-a72a7b2bb8f5 button.colab-df-convert');\n",
              "        buttonEl.style.display =\n",
              "          google.colab.kernel.accessAllowed ? 'block' : 'none';\n",
              "\n",
              "        async function convertToInteractive(key) {\n",
              "          const element = document.querySelector('#df-3b76b675-3a60-4fa1-bb0b-a72a7b2bb8f5');\n",
              "          const dataTable =\n",
              "            await google.colab.kernel.invokeFunction('convertToInteractive',\n",
              "                                                     [key], {});\n",
              "          if (!dataTable) return;\n",
              "\n",
              "          const docLinkHtml = 'Like what you see? Visit the ' +\n",
              "            '<a target=\"_blank\" href=https://colab.research.google.com/notebooks/data_table.ipynb>data table notebook</a>'\n",
              "            + ' to learn more about interactive tables.';\n",
              "          element.innerHTML = '';\n",
              "          dataTable['output_type'] = 'display_data';\n",
              "          await google.colab.output.renderOutput(dataTable, element);\n",
              "          const docLink = document.createElement('div');\n",
              "          docLink.innerHTML = docLinkHtml;\n",
              "          element.appendChild(docLink);\n",
              "        }\n",
              "      </script>\n",
              "    </div>\n",
              "  </div>\n",
              "  "
            ]
          },
          "metadata": {},
          "execution_count": 15
        }
      ],
      "source": [
        "# New Devices Prediction\n",
        "#-----------------------------------------------\n",
        "test_df=test_df[test_df['device'].isin(missing)]\n",
        "drop_cols=test_df.columns[test_df.isnull().all()].tolist()[1:]\n",
        "cols=list(test_df[cols].drop(drop_cols,axis=1).columns)\n",
        "\n",
        "@model(\"model2new\")\n",
        "@pip_requirements(packages=[\"catboost\"])\n",
        "def train():\n",
        "    import catboost\n",
        "    from catboost import CatBoostRegressor\n",
        "    import pandas as pd\n",
        "    import matplotlib.pyplot as plt\n",
        "    import seaborn as sns\n",
        "    est=200\n",
        "    random_state = 42\n",
        "    layer.log({\"est\":est})\n",
        "    layer.log({\"random_state\":random_state})\n",
        "    model=CatBoostRegressor(silent=True,learning_rate=0.1, n_estimators=est).fit(train_df[cols],train_df[target])\n",
        "    importance = model.get_feature_importance()\n",
        "    importance_df = pd.DataFrame(importance, index=cols, columns=['Importance'])\n",
        "    importance_df = importance_df.sort_values(by='Importance', ascending=False)\n",
        "    importance_df = importance_df[importance_df['Importance'] > 0]\n",
        "    importance_df = importance_df.head(10)\n",
        "    plt.figure(figsize=(8,8))\n",
        "    plt.xticks(rotation=60, fontsize = 20)\n",
        "    sns.barplot(y=importance_df.index, x=importance_df['Importance'])\n",
        "    layer.log({\"Feature importance\": plt.gcf()})\n",
        "    return model\n",
        "layer.run([train],debug=True)\n",
        "model2new = layer.get_model(\"tomy4reel/aqssh-645h-wver/models/model2new\").get_train()\n",
        "submission2 = pd.DataFrame(data=test_df[\"ID\"], columns = [\"ID\"])\n",
        "submission2[\"pm2_5\"] = model2new.predict(test_df[cols])    \n",
        "# take mean \n",
        "submission=submission2.append(submission)\n",
        "sm=submission.copy()\n",
        "sm[target]=submission.groupby('ID')['pm2_5'].transform('mean')\n",
        "df2=sm.drop_duplicates('ID')\n",
        "df2"
      ],
      "id": "-DADiksU_QED"
    },
    {
      "cell_type": "markdown",
      "metadata": {
        "id": "dudhynrHYdAK"
      },
      "source": [
        "   - ## Approach 3"
      ],
      "id": "dudhynrHYdAK"
    },
    {
      "cell_type": "code",
      "execution_count": 16,
      "metadata": {
        "colab": {
          "base_uri": "https://localhost:8080/",
          "height": 736,
          "referenced_widgets": [
            "edfb587541cd48e2976d16efd9ccbcde",
            "ffe424ca052449f3ab60201b7f6891c5",
            "24dbf3ce3a3640dd92f526dee49c1c62",
            "fa7635f27de544d1825c05e34618afba",
            "f0d09f4e395e4e99abba301f9b1306e3",
            "1d2a99195130427fac7c62ea555787d9",
            "7725db3cf5254c8888e20606f50430ba",
            "bbec7768a965480e8cab3e42b2b959cc",
            "6fd24aed442d48f3a7af225774b3e389",
            "eddd0262445a477d9eda32c384d6eaff"
          ]
        },
        "id": "qqUZvnrnYlRO",
        "outputId": "3fd484be-6bc0-4037-b01a-798a9b74ddb8"
      },
      "outputs": [
        {
          "output_type": "display_data",
          "data": {
            "text/plain": [
              "Output()"
            ],
            "application/vnd.jupyter.widget-view+json": {
              "version_major": 2,
              "version_minor": 0,
              "model_id": "edfb587541cd48e2976d16efd9ccbcde"
            }
          },
          "metadata": {}
        },
        {
          "output_type": "display_data",
          "data": {
            "text/plain": [],
            "text/html": [
              "<pre style=\"white-space:pre;overflow-x:auto;line-height:normal;font-family:Menlo,'DejaVu Sans Mono',consolas,'Courier New',monospace\"></pre>\n"
            ]
          },
          "metadata": {}
        },
        {
          "output_type": "display_data",
          "data": {
            "text/plain": [
              "\n"
            ],
            "text/html": [
              "<pre style=\"white-space:pre;overflow-x:auto;line-height:normal;font-family:Menlo,'DejaVu Sans Mono',consolas,'Courier New',monospace\">\n",
              "</pre>\n"
            ]
          },
          "metadata": {}
        },
        {
          "output_type": "display_data",
          "data": {
            "text/plain": [
              "Output()"
            ],
            "application/vnd.jupyter.widget-view+json": {
              "version_major": 2,
              "version_minor": 0,
              "model_id": "24dbf3ce3a3640dd92f526dee49c1c62"
            }
          },
          "metadata": {}
        },
        {
          "output_type": "display_data",
          "data": {
            "text/plain": [],
            "text/html": [
              "<pre style=\"white-space:pre;overflow-x:auto;line-height:normal;font-family:Menlo,'DejaVu Sans Mono',consolas,'Courier New',monospace\"></pre>\n"
            ]
          },
          "metadata": {}
        },
        {
          "output_type": "display_data",
          "data": {
            "text/plain": [
              "\n"
            ],
            "text/html": [
              "<pre style=\"white-space:pre;overflow-x:auto;line-height:normal;font-family:Menlo,'DejaVu Sans Mono',consolas,'Courier New',monospace\">\n",
              "</pre>\n"
            ]
          },
          "metadata": {}
        },
        {
          "output_type": "display_data",
          "data": {
            "text/plain": [
              "Output()"
            ],
            "application/vnd.jupyter.widget-view+json": {
              "version_major": 2,
              "version_minor": 0,
              "model_id": "f0d09f4e395e4e99abba301f9b1306e3"
            }
          },
          "metadata": {}
        },
        {
          "output_type": "display_data",
          "data": {
            "text/plain": [],
            "text/html": [
              "<pre style=\"white-space:pre;overflow-x:auto;line-height:normal;font-family:Menlo,'DejaVu Sans Mono',consolas,'Courier New',monospace\"></pre>\n"
            ]
          },
          "metadata": {}
        },
        {
          "output_type": "display_data",
          "data": {
            "text/plain": [
              "\n"
            ],
            "text/html": [
              "<pre style=\"white-space:pre;overflow-x:auto;line-height:normal;font-family:Menlo,'DejaVu Sans Mono',consolas,'Courier New',monospace\">\n",
              "</pre>\n"
            ]
          },
          "metadata": {}
        },
        {
          "output_type": "stream",
          "name": "stderr",
          "text": [
            "/usr/local/lib/python3.7/dist-packages/ipykernel_launcher.py:11: FutureWarning: casting timedelta64[ns] values to int64 with .astype(...) is deprecated and will raise in a future version. Use .view(...) instead.\n",
            "  # This is added back by InteractiveShellApp.init_path()\n",
            "/usr/local/lib/python3.7/dist-packages/ipykernel_launcher.py:12: FutureWarning: casting timedelta64[ns] values to int64 with .astype(...) is deprecated and will raise in a future version. Use .view(...) instead.\n",
            "  if sys.path[0] == '':\n",
            "/usr/local/lib/python3.7/dist-packages/ipykernel_launcher.py:81: PerformanceWarning: DataFrame is highly fragmented.  This is usually the result of calling `frame.insert` many times, which has poor performance.  Consider joining all columns at once using pd.concat(axis=1) instead.  To get a de-fragmented frame, use `newframe = frame.copy()`\n",
            "/usr/local/lib/python3.7/dist-packages/ipykernel_launcher.py:75: PerformanceWarning: DataFrame is highly fragmented.  This is usually the result of calling `frame.insert` many times, which has poor performance.  Consider joining all columns at once using pd.concat(axis=1) instead.  To get a de-fragmented frame, use `newframe = frame.copy()`\n",
            "/usr/local/lib/python3.7/dist-packages/ipykernel_launcher.py:76: PerformanceWarning: DataFrame is highly fragmented.  This is usually the result of calling `frame.insert` many times, which has poor performance.  Consider joining all columns at once using pd.concat(axis=1) instead.  To get a de-fragmented frame, use `newframe = frame.copy()`\n",
            "/usr/local/lib/python3.7/dist-packages/ipykernel_launcher.py:77: PerformanceWarning: DataFrame is highly fragmented.  This is usually the result of calling `frame.insert` many times, which has poor performance.  Consider joining all columns at once using pd.concat(axis=1) instead.  To get a de-fragmented frame, use `newframe = frame.copy()`\n",
            "/usr/local/lib/python3.7/dist-packages/ipykernel_launcher.py:79: PerformanceWarning: DataFrame is highly fragmented.  This is usually the result of calling `frame.insert` many times, which has poor performance.  Consider joining all columns at once using pd.concat(axis=1) instead.  To get a de-fragmented frame, use `newframe = frame.copy()`\n"
          ]
        },
        {
          "output_type": "stream",
          "name": "stdout",
          "text": [
            "length of features =  1544\n"
          ]
        },
        {
          "output_type": "display_data",
          "data": {
            "text/plain": [
              "Output()"
            ],
            "application/vnd.jupyter.widget-view+json": {
              "version_major": 2,
              "version_minor": 0,
              "model_id": "7725db3cf5254c8888e20606f50430ba"
            }
          },
          "metadata": {}
        },
        {
          "output_type": "display_data",
          "data": {
            "text/plain": [],
            "text/html": [
              "<pre style=\"white-space:pre;overflow-x:auto;line-height:normal;font-family:Menlo,'DejaVu Sans Mono',consolas,'Courier New',monospace\"></pre>\n"
            ]
          },
          "metadata": {}
        },
        {
          "output_type": "display_data",
          "data": {
            "text/plain": [
              "\n"
            ],
            "text/html": [
              "<pre style=\"white-space:pre;overflow-x:auto;line-height:normal;font-family:Menlo,'DejaVu Sans Mono',consolas,'Courier New',monospace\">\n",
              "</pre>\n"
            ]
          },
          "metadata": {}
        },
        {
          "output_type": "display_data",
          "data": {
            "text/plain": [
              "Output()"
            ],
            "application/vnd.jupyter.widget-view+json": {
              "version_major": 2,
              "version_minor": 0,
              "model_id": "6fd24aed442d48f3a7af225774b3e389"
            }
          },
          "metadata": {}
        },
        {
          "output_type": "display_data",
          "data": {
            "text/plain": [],
            "text/html": [
              "<pre style=\"white-space:pre;overflow-x:auto;line-height:normal;font-family:Menlo,'DejaVu Sans Mono',consolas,'Courier New',monospace\"></pre>\n"
            ]
          },
          "metadata": {}
        },
        {
          "output_type": "display_data",
          "data": {
            "text/plain": [
              "\n"
            ],
            "text/html": [
              "<pre style=\"white-space:pre;overflow-x:auto;line-height:normal;font-family:Menlo,'DejaVu Sans Mono',consolas,'Courier New',monospace\">\n",
              "</pre>\n"
            ]
          },
          "metadata": {}
        },
        {
          "output_type": "execute_result",
          "data": {
            "text/plain": [
              "                 ID      pm2_5\n",
              "3557  ID_M1T3S50WVB  74.314712\n",
              "1406  ID_35WTU72HHD  74.772778\n",
              "925   ID_O7K2PDWG93  72.096713\n",
              "3432  ID_N9WDA8G4OZ  71.801604\n",
              "2205  ID_WFYVDUY1LY  85.820175\n",
              "...             ...        ...\n",
              "3325  ID_RK7GNMXWDG  36.540251\n",
              "1766  ID_6IIMDQC260  35.904443\n",
              "750   ID_8JPX2POPNL  45.819038\n",
              "2549  ID_7TFB8NHLY9  36.943268\n",
              "2213  ID_J3OS2LVO1N  27.329894\n",
              "\n",
              "[4254 rows x 2 columns]"
            ],
            "text/html": [
              "\n",
              "  <div id=\"df-adee89b1-ea5a-4f34-b59d-f47e4b1154e1\">\n",
              "    <div class=\"colab-df-container\">\n",
              "      <div>\n",
              "<style scoped>\n",
              "    .dataframe tbody tr th:only-of-type {\n",
              "        vertical-align: middle;\n",
              "    }\n",
              "\n",
              "    .dataframe tbody tr th {\n",
              "        vertical-align: top;\n",
              "    }\n",
              "\n",
              "    .dataframe thead th {\n",
              "        text-align: right;\n",
              "    }\n",
              "</style>\n",
              "<table border=\"1\" class=\"dataframe\">\n",
              "  <thead>\n",
              "    <tr style=\"text-align: right;\">\n",
              "      <th></th>\n",
              "      <th>ID</th>\n",
              "      <th>pm2_5</th>\n",
              "    </tr>\n",
              "  </thead>\n",
              "  <tbody>\n",
              "    <tr>\n",
              "      <th>3557</th>\n",
              "      <td>ID_M1T3S50WVB</td>\n",
              "      <td>74.314712</td>\n",
              "    </tr>\n",
              "    <tr>\n",
              "      <th>1406</th>\n",
              "      <td>ID_35WTU72HHD</td>\n",
              "      <td>74.772778</td>\n",
              "    </tr>\n",
              "    <tr>\n",
              "      <th>925</th>\n",
              "      <td>ID_O7K2PDWG93</td>\n",
              "      <td>72.096713</td>\n",
              "    </tr>\n",
              "    <tr>\n",
              "      <th>3432</th>\n",
              "      <td>ID_N9WDA8G4OZ</td>\n",
              "      <td>71.801604</td>\n",
              "    </tr>\n",
              "    <tr>\n",
              "      <th>2205</th>\n",
              "      <td>ID_WFYVDUY1LY</td>\n",
              "      <td>85.820175</td>\n",
              "    </tr>\n",
              "    <tr>\n",
              "      <th>...</th>\n",
              "      <td>...</td>\n",
              "      <td>...</td>\n",
              "    </tr>\n",
              "    <tr>\n",
              "      <th>3325</th>\n",
              "      <td>ID_RK7GNMXWDG</td>\n",
              "      <td>36.540251</td>\n",
              "    </tr>\n",
              "    <tr>\n",
              "      <th>1766</th>\n",
              "      <td>ID_6IIMDQC260</td>\n",
              "      <td>35.904443</td>\n",
              "    </tr>\n",
              "    <tr>\n",
              "      <th>750</th>\n",
              "      <td>ID_8JPX2POPNL</td>\n",
              "      <td>45.819038</td>\n",
              "    </tr>\n",
              "    <tr>\n",
              "      <th>2549</th>\n",
              "      <td>ID_7TFB8NHLY9</td>\n",
              "      <td>36.943268</td>\n",
              "    </tr>\n",
              "    <tr>\n",
              "      <th>2213</th>\n",
              "      <td>ID_J3OS2LVO1N</td>\n",
              "      <td>27.329894</td>\n",
              "    </tr>\n",
              "  </tbody>\n",
              "</table>\n",
              "<p>4254 rows × 2 columns</p>\n",
              "</div>\n",
              "      <button class=\"colab-df-convert\" onclick=\"convertToInteractive('df-adee89b1-ea5a-4f34-b59d-f47e4b1154e1')\"\n",
              "              title=\"Convert this dataframe to an interactive table.\"\n",
              "              style=\"display:none;\">\n",
              "        \n",
              "  <svg xmlns=\"http://www.w3.org/2000/svg\" height=\"24px\"viewBox=\"0 0 24 24\"\n",
              "       width=\"24px\">\n",
              "    <path d=\"M0 0h24v24H0V0z\" fill=\"none\"/>\n",
              "    <path d=\"M18.56 5.44l.94 2.06.94-2.06 2.06-.94-2.06-.94-.94-2.06-.94 2.06-2.06.94zm-11 1L8.5 8.5l.94-2.06 2.06-.94-2.06-.94L8.5 2.5l-.94 2.06-2.06.94zm10 10l.94 2.06.94-2.06 2.06-.94-2.06-.94-.94-2.06-.94 2.06-2.06.94z\"/><path d=\"M17.41 7.96l-1.37-1.37c-.4-.4-.92-.59-1.43-.59-.52 0-1.04.2-1.43.59L10.3 9.45l-7.72 7.72c-.78.78-.78 2.05 0 2.83L4 21.41c.39.39.9.59 1.41.59.51 0 1.02-.2 1.41-.59l7.78-7.78 2.81-2.81c.8-.78.8-2.07 0-2.86zM5.41 20L4 18.59l7.72-7.72 1.47 1.35L5.41 20z\"/>\n",
              "  </svg>\n",
              "      </button>\n",
              "      \n",
              "  <style>\n",
              "    .colab-df-container {\n",
              "      display:flex;\n",
              "      flex-wrap:wrap;\n",
              "      gap: 12px;\n",
              "    }\n",
              "\n",
              "    .colab-df-convert {\n",
              "      background-color: #E8F0FE;\n",
              "      border: none;\n",
              "      border-radius: 50%;\n",
              "      cursor: pointer;\n",
              "      display: none;\n",
              "      fill: #1967D2;\n",
              "      height: 32px;\n",
              "      padding: 0 0 0 0;\n",
              "      width: 32px;\n",
              "    }\n",
              "\n",
              "    .colab-df-convert:hover {\n",
              "      background-color: #E2EBFA;\n",
              "      box-shadow: 0px 1px 2px rgba(60, 64, 67, 0.3), 0px 1px 3px 1px rgba(60, 64, 67, 0.15);\n",
              "      fill: #174EA6;\n",
              "    }\n",
              "\n",
              "    [theme=dark] .colab-df-convert {\n",
              "      background-color: #3B4455;\n",
              "      fill: #D2E3FC;\n",
              "    }\n",
              "\n",
              "    [theme=dark] .colab-df-convert:hover {\n",
              "      background-color: #434B5C;\n",
              "      box-shadow: 0px 1px 3px 1px rgba(0, 0, 0, 0.15);\n",
              "      filter: drop-shadow(0px 1px 2px rgba(0, 0, 0, 0.3));\n",
              "      fill: #FFFFFF;\n",
              "    }\n",
              "  </style>\n",
              "\n",
              "      <script>\n",
              "        const buttonEl =\n",
              "          document.querySelector('#df-adee89b1-ea5a-4f34-b59d-f47e4b1154e1 button.colab-df-convert');\n",
              "        buttonEl.style.display =\n",
              "          google.colab.kernel.accessAllowed ? 'block' : 'none';\n",
              "\n",
              "        async function convertToInteractive(key) {\n",
              "          const element = document.querySelector('#df-adee89b1-ea5a-4f34-b59d-f47e4b1154e1');\n",
              "          const dataTable =\n",
              "            await google.colab.kernel.invokeFunction('convertToInteractive',\n",
              "                                                     [key], {});\n",
              "          if (!dataTable) return;\n",
              "\n",
              "          const docLinkHtml = 'Like what you see? Visit the ' +\n",
              "            '<a target=\"_blank\" href=https://colab.research.google.com/notebooks/data_table.ipynb>data table notebook</a>'\n",
              "            + ' to learn more about interactive tables.';\n",
              "          element.innerHTML = '';\n",
              "          dataTable['output_type'] = 'display_data';\n",
              "          await google.colab.output.renderOutput(dataTable, element);\n",
              "          const docLink = document.createElement('div');\n",
              "          docLink.innerHTML = docLinkHtml;\n",
              "          element.appendChild(docLink);\n",
              "        }\n",
              "      </script>\n",
              "    </div>\n",
              "  </div>\n",
              "  "
            ]
          },
          "metadata": {},
          "execution_count": 16
        }
      ],
      "source": [
        "ss = layer.get_dataset(\"zindi/air-quality/datasets/sample_submission\").to_pandas()\n",
        "test_df = layer.get_dataset(\"zindi/air-quality/datasets/test\").to_pandas()\n",
        "train_df = layer.get_dataset(\"zindi/air-quality/datasets/train\").to_pandas()\n",
        "#Preprocess date\n",
        "train_df['date']=pd.to_datetime(train_df['date'])\n",
        "test_df['date']=pd.to_datetime(test_df['date'])\n",
        "\n",
        "min_date=train_df['date'].min()\n",
        "train_df['timestamp']=train_df['date']-min_date\n",
        "test_df['timestamp']=test_df['date']-min_date\n",
        "train_df['timestamp']=train_df['timestamp'].astype('int')/(24*60*60*(10**9))\n",
        "test_df['timestamp']=test_df['timestamp'].astype('int')/(24*60*60*(10**9))\n",
        "train_df['timestamp']=train_df['timestamp'].astype('int')\n",
        "test_df['timestamp']=test_df['timestamp'].astype('int')\n",
        "target=\"pm2_5\"\n",
        "if validation==1:\n",
        "    test_df=train_df[train_df.timestamp>=380]\n",
        "    ss=test_df[['ID']]\n",
        "    scorer=test_df[['ID']]\n",
        "    scorer['scorer']=test_df[target].values\n",
        "    test_df[target]=np.nan\n",
        "    train_df=train_df[train_df.timestamp<380]\n",
        "\n",
        "new_devices=list(set(test_df.device.unique())-set(train_df.device.unique()))\n",
        "train_df['year']=train_df['date'].astype(str).str[:4].astype('int')\n",
        "train_df['month']=train_df['date'].astype(str).str[5:7].astype('int')\n",
        "train_df['day']=train_df['date'].astype(str).str[8:10].astype('int')\n",
        "test_df['year']=test_df['date'].astype(str).str[:4].astype('int')\n",
        "test_df['month']=test_df['date'].astype(str).str[5:7].astype('int')\n",
        "test_df['day']=test_df['date'].astype(str).str[8:10].astype('int')\n",
        "c='NitrogenDioxide_tropospheric_NO2_column_number_density'\n",
        "b='NitrogenDioxide_NO2_column_number_density'\n",
        "a='CarbonMonoxide_CO_column_number_density'\n",
        "train_df['d']=train_df[b]/train_df[c]\n",
        "test_df['d']=test_df[b]/test_df[c]\n",
        "\n",
        "cc=['SulphurDioxide_SO2_column_number_density','Cloud_cloud_base_height','NitrogenDioxide_sensor_altitude','SulphurDioxide_sensor_azimuth_angle','SulphurDioxide_sensor_zenith_angle',\n",
        "    'NitrogenDioxide_sensor_azimuth_angle','NitrogenDioxide_sensor_zenith_angle','Formaldehyde_sensor_azimuth_angle','Formaldehyde_sensor_zenith_angle','Ozone_sensor_azimuth_angle','Ozone_sensor_zenith_angle',\n",
        "    'Cloud_sensor_azimuth_angle','Cloud_sensor_zenith_angle','CarbonMonoxide_sensor_azimuth_angle','CarbonMonoxide_sensor_azimuth_angle']\n",
        "# Drop Correlared Cols\n",
        "train_df.drop(cc,axis=1,inplace=True)\n",
        "# density features\n",
        "density_amf = list(train_df.filter(regex='density_amf').columns)\n",
        "density = ['SulphurDioxide_SO2_slant_column_number_density','SulphurDioxide_SO2_column_number_density_15km','CarbonMonoxide_CO_column_number_density','CarbonMonoxide_H2O_column_number_density',\n",
        " 'NitrogenDioxide_NO2_column_number_density', 'NitrogenDioxide_tropospheric_NO2_column_number_density', 'NitrogenDioxide_stratospheric_NO2_column_number_density', 'NitrogenDioxide_NO2_slant_column_number_density', 'Formaldehyde_tropospheric_HCHO_column_number_density',\n",
        " 'Formaldehyde_HCHO_slant_column_number_density','Ozone_O3_column_number_density','Ozone_O3_slant_column_number_density']\n",
        "# Feature Clusters\n",
        "Cloud = list(train_df.filter(regex='Cloud').columns)\n",
        "Ozone = list(train_df.filter(regex='Ozone').columns)\n",
        "Carbon = list(train_df.filter(regex='Carbon').columns)\n",
        "Aerosol = list(train_df.filter(regex='Aerosol').columns)\n",
        "Sulphur = list(train_df.filter(regex='Sulphur').columns)\n",
        "Nitrogen = list(train_df.filter(regex='Nitrogen').columns)\n",
        "Formaldehyde = list(train_df.filter(regex='Formaldehyde').columns)\n",
        "Weather = ['temp_mean','humidity']\n",
        "\n",
        "# Preprocess data\n",
        "test_df[target]=np.nan\n",
        "test_df=test_df[train_df.columns]\n",
        "train_df=train_df.append(test_df)\n",
        "\n",
        "train_df['month'+'_pm2_5']=train_df.groupby(['month'])[target].transform('mean')\n",
        "#train_df['day'+'_pm2_5']=train_df.groupby(['day'])[target].transform('mean')\n",
        "train_df['device'+'_pm2_5']=train_df.groupby(['device'])[target].transform('mean')\n",
        "#train_df['year'+'_pm2_5']=train_df.groupby(['year'])[target].transform('mean')\n",
        "train_df['site_latitude'+'_pm2_5']=train_df.groupby(['site_latitude'])[target].transform('mean')\n",
        "#train_df['site_longitude'+'_pm2_5']=train_df.groupby(['site_longitude'])[target].transform('mean')\n",
        "#train_df['location'+'_pm2_5']=train_df.groupby(['site_longitude','site_latitude'])[target].transform('mean')\n",
        "train_df['density_sum']=train_df[density].sum(axis=1)\n",
        "train_df['density_amf_sum']=train_df[density_amf].sum(axis=1)\n",
        "train_df['NO2_sum']=train_df.NitrogenDioxide_NO2_column_number_density+train_df.NitrogenDioxide_tropospheric_NO2_column_number_density\n",
        "train_df=train_df.sort_values(['device','timestamp'])\n",
        "# Feature generation\n",
        "for col in Cloud+Ozone+Carbon+Aerosol+Sulphur+Nitrogen+Weather+Formaldehyde:\n",
        "    train_df[col+'dev']=train_df.groupby('device')[col].transform('mean')\n",
        "    train_df[col+'diff']=train_df[col]/train_df[col+'dev']\n",
        "    train_df[col+'std']=train_df.groupby('device')[col].transform('std')\n",
        "    b=3\n",
        "    train_df[col+'rollin_mean']=train_df.groupby('device')[col].rolling(b,min_periods=b).mean().values\n",
        "    for i in range(1,26,1):\n",
        "        train_df[col+'change'+str(i)]=train_df.groupby('device')[col].shift(i)\n",
        "        train_df[col+'change'+str(i)]=train_df[col]/train_df[col+'change'+str(i)]\n",
        "missing=train_df[train_df.device.isin(new_devices)]\n",
        "le = LabelEncoder()\n",
        "train_df = train_df.assign(device = le.fit_transform(train_df[\"device\"]))\n",
        "drop_cols=[\"pm2_5\", \"ID\",\"date\"]\n",
        "test_df=train_df[train_df[target].isna()]\n",
        "train_df=train_df[train_df[target].notna()]\n",
        "cols=list(train_df.drop(drop_cols,axis=1).columns)\n",
        "train_df=train_df.replace({np.inf:np.nan,(-1*np.inf):np.nan})\n",
        "test_df=test_df.replace({np.inf:np.nan,(-1*np.inf):np.nan})\n",
        "print('length of features = ',len(cols))\n",
        "\n",
        "# One for All Prediction\n",
        "#-----------------------------------------------\n",
        "\n",
        "@model(\"model3all\")\n",
        "@pip_requirements(packages=[\"catboost\"])\n",
        "def train():\n",
        "    import catboost\n",
        "    from catboost import CatBoostRegressor\n",
        "    import pandas as pd\n",
        "    import matplotlib.pyplot as plt\n",
        "    import seaborn as sns\n",
        "    est=500\n",
        "    random_state = 42\n",
        "    layer.log({\"est\":est})\n",
        "    layer.log({\"random_state\":random_state})\n",
        "    model=CatBoostRegressor(silent=True,learning_rate=0.1, n_estimators=est).fit(train_df[cols],train_df[target])\n",
        "    importance = model.get_feature_importance()\n",
        "    importance_df = pd.DataFrame(importance, index=cols, columns=['Importance'])\n",
        "    importance_df = importance_df.sort_values(by='Importance', ascending=False)\n",
        "    importance_df = importance_df[importance_df['Importance'] > 0]\n",
        "    importance_df = importance_df.head(10)\n",
        "    plt.figure(figsize=(8,8))\n",
        "    plt.xticks(rotation=60, fontsize = 20)\n",
        "    sns.barplot(y=importance_df.index, x=importance_df['Importance'])\n",
        "    layer.log({\"Feature importance\": plt.gcf()})\n",
        "    return model\n",
        "layer.run([train],debug=True)\n",
        "model3all = layer.get_model(\"tomy4reel/aqssh-645h-wver/models/model3all\").get_train()\n",
        "submission = pd.DataFrame(data=test_df[\"ID\"], columns = [\"ID\"])\n",
        "submission[\"pm2_5\"] = model3all.predict(test_df[cols]) \n",
        "submission\n"
      ],
      "id": "qqUZvnrnYlRO"
    },
    {
      "cell_type": "code",
      "execution_count": 17,
      "metadata": {
        "id": "RJ94aNd0YtC_",
        "colab": {
          "base_uri": "https://localhost:8080/"
        },
        "outputId": "848d37f6-1a06-47dd-8bc9-708e330f7168"
      },
      "outputs": [
        {
          "output_type": "stream",
          "name": "stdout",
          "text": [
            "9889 34 1\n",
            "9855 68 2\n",
            "9821 102 3\n",
            "9787 136 4\n",
            "9753 170 5\n",
            "9719 204 6\n",
            "9685 238 7\n",
            "9651 272 8\n",
            "9617 306 9\n",
            "9583 340 10\n",
            "9549 374 11\n",
            "9515 408 12\n",
            "9481 442 13\n",
            "9447 476 14\n",
            "9413 510 15\n",
            "9379 544 16\n",
            "9345 578 17\n",
            "9311 612 18\n",
            "9277 646 19\n",
            "9243 680 20\n",
            "9209 714 21\n",
            "9175 748 22\n",
            "9141 782 23\n",
            "9107 816 24\n",
            "9073 850 25\n",
            "9039 884 26\n",
            "9005 918 27\n",
            "8971 952 28\n",
            "8937 986 29\n",
            "8903 1020 30\n",
            "8869 1054 31\n",
            "8835 1088 32\n",
            "8801 1122 33\n",
            "8767 1156 34\n",
            "8733 1190 35\n",
            "8699 1224 36\n",
            "8665 1258 37\n",
            "8631 1292 38\n",
            "8597 1326 39\n"
          ]
        }
      ],
      "source": [
        "# One for One Approach\n",
        "#-----------------------------------------------\n",
        "pred=pd.DataFrame()\n",
        "df001=train_df.copy()\n",
        "df002=test_df.copy()\n",
        "model3=XGBRegressor(n_estimators=10)\n",
        "train_df=train_df.append(test_df[train_df.columns])\n",
        "train_df=train_df.sort_values(['device','timestamp'])\n",
        "train_df2=train_df.copy()\n",
        "for i in range(1,m,1):\n",
        "    train_df['last_pm2_5']=train_df.groupby(['device'])[target].shift(i)\n",
        "    for j in range(1,n,1):\n",
        "        train_df['last_'+str(j)+'pm2_5']=train_df.groupby(['device'])[target].shift(i+j)\n",
        "        train_df['last_'+str(j)+'pm2_5_trend']=train_df['last_'+str(j)+'pm2_5']/train_df['last_pm2_5']\n",
        "    test_df=train_df[train_df[target].isna()]\n",
        "    train_df=train_df[train_df[target].notna()]\n",
        "    test_df=test_df[test_df['last_pm2_5'].notna()]\n",
        "    train_df=train_df[train_df['last_pm2_5'].notna()]\n",
        "    print(len(train_df),len(test_df),i)\n",
        "    col=list(train_df.drop(drop_cols,axis=1).columns)\n",
        "    test_df[target]=model3.fit(train_df[col],train_df[target]).predict(test_df[col])\n",
        "    train_df=train_df2.copy()\n",
        "    pred=pred.append(test_df[['ID',target]])\n",
        "pred=pred.drop_duplicates('ID',keep='first')\n",
        "submission=pred.append(submission)\n",
        "submission[target]=submission.groupby('ID')[target].transform('mean')\n",
        "submission=submission.drop_duplicates('ID',keep='first')\n",
        "train_df=df001.copy()\n",
        "test_df=df002.copy()\n",
        "del df001, df002"
      ],
      "id": "RJ94aNd0YtC_"
    },
    {
      "cell_type": "code",
      "execution_count": 18,
      "metadata": {
        "id": "TyPluo3rYy4I",
        "colab": {
          "base_uri": "https://localhost:8080/",
          "height": 478,
          "referenced_widgets": [
            "46d2f259171343dc8b23fe27a0767193",
            "fe60783e49cc4187b9421bdf44ff003e",
            "8e3ba95ba867489092d6c1646c70a3e6",
            "3b5c496a8e1547b6b226989e8e5e4b3c"
          ]
        },
        "outputId": "3b0fcdc8-d531-45a0-fc80-be1d78eacebd"
      },
      "outputs": [
        {
          "output_type": "display_data",
          "data": {
            "text/plain": [
              "Output()"
            ],
            "application/vnd.jupyter.widget-view+json": {
              "version_major": 2,
              "version_minor": 0,
              "model_id": "46d2f259171343dc8b23fe27a0767193"
            }
          },
          "metadata": {}
        },
        {
          "output_type": "display_data",
          "data": {
            "text/plain": [],
            "text/html": [
              "<pre style=\"white-space:pre;overflow-x:auto;line-height:normal;font-family:Menlo,'DejaVu Sans Mono',consolas,'Courier New',monospace\"></pre>\n"
            ]
          },
          "metadata": {}
        },
        {
          "output_type": "display_data",
          "data": {
            "text/plain": [
              "\n"
            ],
            "text/html": [
              "<pre style=\"white-space:pre;overflow-x:auto;line-height:normal;font-family:Menlo,'DejaVu Sans Mono',consolas,'Courier New',monospace\">\n",
              "</pre>\n"
            ]
          },
          "metadata": {}
        },
        {
          "output_type": "display_data",
          "data": {
            "text/plain": [
              "Output()"
            ],
            "application/vnd.jupyter.widget-view+json": {
              "version_major": 2,
              "version_minor": 0,
              "model_id": "8e3ba95ba867489092d6c1646c70a3e6"
            }
          },
          "metadata": {}
        },
        {
          "output_type": "display_data",
          "data": {
            "text/plain": [],
            "text/html": [
              "<pre style=\"white-space:pre;overflow-x:auto;line-height:normal;font-family:Menlo,'DejaVu Sans Mono',consolas,'Courier New',monospace\"></pre>\n"
            ]
          },
          "metadata": {}
        },
        {
          "output_type": "display_data",
          "data": {
            "text/plain": [
              "\n"
            ],
            "text/html": [
              "<pre style=\"white-space:pre;overflow-x:auto;line-height:normal;font-family:Menlo,'DejaVu Sans Mono',consolas,'Courier New',monospace\">\n",
              "</pre>\n"
            ]
          },
          "metadata": {}
        },
        {
          "output_type": "execute_result",
          "data": {
            "text/plain": [
              "                 ID       pm2_5\n",
              "0     ID_UOH62J0XHX   32.731282\n",
              "1     ID_4OPWSB0UHJ  115.603892\n",
              "2     ID_3SLMNNG1Z3   47.527696\n",
              "3     ID_MFUHTXYPM4   72.837300\n",
              "4     ID_TY1DAND8ZP   76.237748\n",
              "...             ...         ...\n",
              "4249  ID_NYKGOYFBKZ   45.554887\n",
              "4250  ID_IWO4EVLHSQ   74.457139\n",
              "4251  ID_G1M1IMY9WU   57.434548\n",
              "4252  ID_DXV65Q1QXI   65.268846\n",
              "4253  ID_RY4ONQKO9E   33.735997\n",
              "\n",
              "[4254 rows x 2 columns]"
            ],
            "text/html": [
              "\n",
              "  <div id=\"df-499b9168-ca13-4ccd-9bfd-260c60f07cfc\">\n",
              "    <div class=\"colab-df-container\">\n",
              "      <div>\n",
              "<style scoped>\n",
              "    .dataframe tbody tr th:only-of-type {\n",
              "        vertical-align: middle;\n",
              "    }\n",
              "\n",
              "    .dataframe tbody tr th {\n",
              "        vertical-align: top;\n",
              "    }\n",
              "\n",
              "    .dataframe thead th {\n",
              "        text-align: right;\n",
              "    }\n",
              "</style>\n",
              "<table border=\"1\" class=\"dataframe\">\n",
              "  <thead>\n",
              "    <tr style=\"text-align: right;\">\n",
              "      <th></th>\n",
              "      <th>ID</th>\n",
              "      <th>pm2_5</th>\n",
              "    </tr>\n",
              "  </thead>\n",
              "  <tbody>\n",
              "    <tr>\n",
              "      <th>0</th>\n",
              "      <td>ID_UOH62J0XHX</td>\n",
              "      <td>32.731282</td>\n",
              "    </tr>\n",
              "    <tr>\n",
              "      <th>1</th>\n",
              "      <td>ID_4OPWSB0UHJ</td>\n",
              "      <td>115.603892</td>\n",
              "    </tr>\n",
              "    <tr>\n",
              "      <th>2</th>\n",
              "      <td>ID_3SLMNNG1Z3</td>\n",
              "      <td>47.527696</td>\n",
              "    </tr>\n",
              "    <tr>\n",
              "      <th>3</th>\n",
              "      <td>ID_MFUHTXYPM4</td>\n",
              "      <td>72.837300</td>\n",
              "    </tr>\n",
              "    <tr>\n",
              "      <th>4</th>\n",
              "      <td>ID_TY1DAND8ZP</td>\n",
              "      <td>76.237748</td>\n",
              "    </tr>\n",
              "    <tr>\n",
              "      <th>...</th>\n",
              "      <td>...</td>\n",
              "      <td>...</td>\n",
              "    </tr>\n",
              "    <tr>\n",
              "      <th>4249</th>\n",
              "      <td>ID_NYKGOYFBKZ</td>\n",
              "      <td>45.554887</td>\n",
              "    </tr>\n",
              "    <tr>\n",
              "      <th>4250</th>\n",
              "      <td>ID_IWO4EVLHSQ</td>\n",
              "      <td>74.457139</td>\n",
              "    </tr>\n",
              "    <tr>\n",
              "      <th>4251</th>\n",
              "      <td>ID_G1M1IMY9WU</td>\n",
              "      <td>57.434548</td>\n",
              "    </tr>\n",
              "    <tr>\n",
              "      <th>4252</th>\n",
              "      <td>ID_DXV65Q1QXI</td>\n",
              "      <td>65.268846</td>\n",
              "    </tr>\n",
              "    <tr>\n",
              "      <th>4253</th>\n",
              "      <td>ID_RY4ONQKO9E</td>\n",
              "      <td>33.735997</td>\n",
              "    </tr>\n",
              "  </tbody>\n",
              "</table>\n",
              "<p>4254 rows × 2 columns</p>\n",
              "</div>\n",
              "      <button class=\"colab-df-convert\" onclick=\"convertToInteractive('df-499b9168-ca13-4ccd-9bfd-260c60f07cfc')\"\n",
              "              title=\"Convert this dataframe to an interactive table.\"\n",
              "              style=\"display:none;\">\n",
              "        \n",
              "  <svg xmlns=\"http://www.w3.org/2000/svg\" height=\"24px\"viewBox=\"0 0 24 24\"\n",
              "       width=\"24px\">\n",
              "    <path d=\"M0 0h24v24H0V0z\" fill=\"none\"/>\n",
              "    <path d=\"M18.56 5.44l.94 2.06.94-2.06 2.06-.94-2.06-.94-.94-2.06-.94 2.06-2.06.94zm-11 1L8.5 8.5l.94-2.06 2.06-.94-2.06-.94L8.5 2.5l-.94 2.06-2.06.94zm10 10l.94 2.06.94-2.06 2.06-.94-2.06-.94-.94-2.06-.94 2.06-2.06.94z\"/><path d=\"M17.41 7.96l-1.37-1.37c-.4-.4-.92-.59-1.43-.59-.52 0-1.04.2-1.43.59L10.3 9.45l-7.72 7.72c-.78.78-.78 2.05 0 2.83L4 21.41c.39.39.9.59 1.41.59.51 0 1.02-.2 1.41-.59l7.78-7.78 2.81-2.81c.8-.78.8-2.07 0-2.86zM5.41 20L4 18.59l7.72-7.72 1.47 1.35L5.41 20z\"/>\n",
              "  </svg>\n",
              "      </button>\n",
              "      \n",
              "  <style>\n",
              "    .colab-df-container {\n",
              "      display:flex;\n",
              "      flex-wrap:wrap;\n",
              "      gap: 12px;\n",
              "    }\n",
              "\n",
              "    .colab-df-convert {\n",
              "      background-color: #E8F0FE;\n",
              "      border: none;\n",
              "      border-radius: 50%;\n",
              "      cursor: pointer;\n",
              "      display: none;\n",
              "      fill: #1967D2;\n",
              "      height: 32px;\n",
              "      padding: 0 0 0 0;\n",
              "      width: 32px;\n",
              "    }\n",
              "\n",
              "    .colab-df-convert:hover {\n",
              "      background-color: #E2EBFA;\n",
              "      box-shadow: 0px 1px 2px rgba(60, 64, 67, 0.3), 0px 1px 3px 1px rgba(60, 64, 67, 0.15);\n",
              "      fill: #174EA6;\n",
              "    }\n",
              "\n",
              "    [theme=dark] .colab-df-convert {\n",
              "      background-color: #3B4455;\n",
              "      fill: #D2E3FC;\n",
              "    }\n",
              "\n",
              "    [theme=dark] .colab-df-convert:hover {\n",
              "      background-color: #434B5C;\n",
              "      box-shadow: 0px 1px 3px 1px rgba(0, 0, 0, 0.15);\n",
              "      filter: drop-shadow(0px 1px 2px rgba(0, 0, 0, 0.3));\n",
              "      fill: #FFFFFF;\n",
              "    }\n",
              "  </style>\n",
              "\n",
              "      <script>\n",
              "        const buttonEl =\n",
              "          document.querySelector('#df-499b9168-ca13-4ccd-9bfd-260c60f07cfc button.colab-df-convert');\n",
              "        buttonEl.style.display =\n",
              "          google.colab.kernel.accessAllowed ? 'block' : 'none';\n",
              "\n",
              "        async function convertToInteractive(key) {\n",
              "          const element = document.querySelector('#df-499b9168-ca13-4ccd-9bfd-260c60f07cfc');\n",
              "          const dataTable =\n",
              "            await google.colab.kernel.invokeFunction('convertToInteractive',\n",
              "                                                     [key], {});\n",
              "          if (!dataTable) return;\n",
              "\n",
              "          const docLinkHtml = 'Like what you see? Visit the ' +\n",
              "            '<a target=\"_blank\" href=https://colab.research.google.com/notebooks/data_table.ipynb>data table notebook</a>'\n",
              "            + ' to learn more about interactive tables.';\n",
              "          element.innerHTML = '';\n",
              "          dataTable['output_type'] = 'display_data';\n",
              "          await google.colab.output.renderOutput(dataTable, element);\n",
              "          const docLink = document.createElement('div');\n",
              "          docLink.innerHTML = docLinkHtml;\n",
              "          element.appendChild(docLink);\n",
              "        }\n",
              "      </script>\n",
              "    </div>\n",
              "  </div>\n",
              "  "
            ]
          },
          "metadata": {},
          "execution_count": 18
        }
      ],
      "source": [
        "# New Devices Prediction\n",
        "#-----------------------------------------------\n",
        "test_df=test_df[test_df['ID'].isin(list(missing['ID'].unique()))]\n",
        "submission2=pd.DataFrame()\n",
        "drop_cols=test_df.columns[test_df.isnull().all()].tolist()[1:]\n",
        "cols=list(test_df[cols].drop(drop_cols,axis=1).columns)\n",
        "@model(\"model3new\")\n",
        "@pip_requirements(packages=[\"catboost\"])\n",
        "def train():\n",
        "    import catboost\n",
        "    from catboost import CatBoostRegressor\n",
        "    import pandas as pd\n",
        "    import matplotlib.pyplot as plt\n",
        "    import seaborn as sns\n",
        "    est=200\n",
        "    random_state = 42\n",
        "    layer.log({\"est\":est})\n",
        "    layer.log({\"random_state\":random_state})\n",
        "    model=CatBoostRegressor(silent=True,learning_rate=0.1, n_estimators=est).fit(train_df[cols],train_df[target])\n",
        "    importance = model.get_feature_importance()\n",
        "    importance_df = pd.DataFrame(importance, index=cols, columns=['Importance'])\n",
        "    importance_df = importance_df.sort_values(by='Importance', ascending=False)\n",
        "    importance_df = importance_df[importance_df['Importance'] > 0]\n",
        "    importance_df = importance_df.head(10)\n",
        "    plt.figure(figsize=(8,8))\n",
        "    plt.xticks(rotation=60, fontsize = 20)\n",
        "    sns.barplot(y=importance_df.index, x=importance_df['Importance'])\n",
        "    layer.log({\"Feature importance\": plt.gcf()})\n",
        "    return model\n",
        "layer.run([train],debug=True)\n",
        "model3new = layer.get_model(\"tomy4reel/aqssh-645h-wver/models/model3new\").get_train()\n",
        "submission2 = pd.DataFrame(data=test_df[\"ID\"], columns = [\"ID\"])\n",
        "submission2[\"pm2_5\"] = model3new.predict(test_df[cols])    \n",
        "submission=submission2.append(submission)\n",
        "submission=submission.drop_duplicates('ID')\n",
        "# replace predictions for new devices\n",
        "df3=pd.merge(ss[['ID']],submission,on='ID',how='left')\n",
        "df3"
      ],
      "id": "TyPluo3rYy4I"
    },
    {
      "cell_type": "markdown",
      "metadata": {
        "id": "0g2rfRmOaMLc"
      },
      "source": [
        "- ## Approach 4"
      ],
      "id": "0g2rfRmOaMLc"
    },
    {
      "cell_type": "code",
      "execution_count": 19,
      "metadata": {
        "id": "38guZ7PqdGn_",
        "colab": {
          "base_uri": "https://localhost:8080/",
          "height": 717,
          "referenced_widgets": [
            "e1486b8ae4ed4c6f8993dcfd45ac8b74",
            "4cd2a28dd31f4e69a38f4caa5f71f2b1",
            "f268f2020f9e4ca3a481b2941302ca44",
            "7e29ba723c8d43ef89729c95677db06c",
            "31a71599e73d42e29d807d521adb1367",
            "613717c7366b4794bd7e960a17d9fa9a",
            "53a2848c5db24f19ba96dd82b8ac09f5",
            "7ca8c64908724bcaa1c62768319d9f82"
          ]
        },
        "outputId": "c7bdc29f-32e7-4bab-8664-1dea51a4bcd7"
      },
      "outputs": [
        {
          "output_type": "display_data",
          "data": {
            "text/plain": [
              "Output()"
            ],
            "application/vnd.jupyter.widget-view+json": {
              "version_major": 2,
              "version_minor": 0,
              "model_id": "e1486b8ae4ed4c6f8993dcfd45ac8b74"
            }
          },
          "metadata": {}
        },
        {
          "output_type": "display_data",
          "data": {
            "text/plain": [],
            "text/html": [
              "<pre style=\"white-space:pre;overflow-x:auto;line-height:normal;font-family:Menlo,'DejaVu Sans Mono',consolas,'Courier New',monospace\"></pre>\n"
            ]
          },
          "metadata": {}
        },
        {
          "output_type": "display_data",
          "data": {
            "text/plain": [
              "\n"
            ],
            "text/html": [
              "<pre style=\"white-space:pre;overflow-x:auto;line-height:normal;font-family:Menlo,'DejaVu Sans Mono',consolas,'Courier New',monospace\">\n",
              "</pre>\n"
            ]
          },
          "metadata": {}
        },
        {
          "output_type": "display_data",
          "data": {
            "text/plain": [
              "Output()"
            ],
            "application/vnd.jupyter.widget-view+json": {
              "version_major": 2,
              "version_minor": 0,
              "model_id": "f268f2020f9e4ca3a481b2941302ca44"
            }
          },
          "metadata": {}
        },
        {
          "output_type": "display_data",
          "data": {
            "text/plain": [],
            "text/html": [
              "<pre style=\"white-space:pre;overflow-x:auto;line-height:normal;font-family:Menlo,'DejaVu Sans Mono',consolas,'Courier New',monospace\"></pre>\n"
            ]
          },
          "metadata": {}
        },
        {
          "output_type": "display_data",
          "data": {
            "text/plain": [
              "\n"
            ],
            "text/html": [
              "<pre style=\"white-space:pre;overflow-x:auto;line-height:normal;font-family:Menlo,'DejaVu Sans Mono',consolas,'Courier New',monospace\">\n",
              "</pre>\n"
            ]
          },
          "metadata": {}
        },
        {
          "output_type": "stream",
          "name": "stderr",
          "text": [
            "/usr/local/lib/python3.7/dist-packages/ipykernel_launcher.py:10: FutureWarning: casting timedelta64[ns] values to int64 with .astype(...) is deprecated and will raise in a future version. Use .view(...) instead.\n",
            "  # Remove the CWD from sys.path while we load stuff.\n",
            "/usr/local/lib/python3.7/dist-packages/ipykernel_launcher.py:11: FutureWarning: casting timedelta64[ns] values to int64 with .astype(...) is deprecated and will raise in a future version. Use .view(...) instead.\n",
            "  # This is added back by InteractiveShellApp.init_path()\n",
            "/usr/local/lib/python3.7/dist-packages/ipykernel_launcher.py:59: PerformanceWarning: DataFrame is highly fragmented.  This is usually the result of calling `frame.insert` many times, which has poor performance.  Consider joining all columns at once using pd.concat(axis=1) instead.  To get a de-fragmented frame, use `newframe = frame.copy()`\n",
            "/usr/local/lib/python3.7/dist-packages/ipykernel_launcher.py:51: PerformanceWarning: DataFrame is highly fragmented.  This is usually the result of calling `frame.insert` many times, which has poor performance.  Consider joining all columns at once using pd.concat(axis=1) instead.  To get a de-fragmented frame, use `newframe = frame.copy()`\n",
            "/usr/local/lib/python3.7/dist-packages/ipykernel_launcher.py:52: PerformanceWarning: DataFrame is highly fragmented.  This is usually the result of calling `frame.insert` many times, which has poor performance.  Consider joining all columns at once using pd.concat(axis=1) instead.  To get a de-fragmented frame, use `newframe = frame.copy()`\n",
            "/usr/local/lib/python3.7/dist-packages/ipykernel_launcher.py:53: PerformanceWarning: DataFrame is highly fragmented.  This is usually the result of calling `frame.insert` many times, which has poor performance.  Consider joining all columns at once using pd.concat(axis=1) instead.  To get a de-fragmented frame, use `newframe = frame.copy()`\n",
            "/usr/local/lib/python3.7/dist-packages/ipykernel_launcher.py:56: PerformanceWarning: DataFrame is highly fragmented.  This is usually the result of calling `frame.insert` many times, which has poor performance.  Consider joining all columns at once using pd.concat(axis=1) instead.  To get a de-fragmented frame, use `newframe = frame.copy()`\n"
          ]
        },
        {
          "output_type": "stream",
          "name": "stdout",
          "text": [
            "length of features =  2003\n"
          ]
        },
        {
          "output_type": "display_data",
          "data": {
            "text/plain": [
              "Output()"
            ],
            "application/vnd.jupyter.widget-view+json": {
              "version_major": 2,
              "version_minor": 0,
              "model_id": "31a71599e73d42e29d807d521adb1367"
            }
          },
          "metadata": {}
        },
        {
          "output_type": "display_data",
          "data": {
            "text/plain": [],
            "text/html": [
              "<pre style=\"white-space:pre;overflow-x:auto;line-height:normal;font-family:Menlo,'DejaVu Sans Mono',consolas,'Courier New',monospace\"></pre>\n"
            ]
          },
          "metadata": {}
        },
        {
          "output_type": "display_data",
          "data": {
            "text/plain": [
              "\n"
            ],
            "text/html": [
              "<pre style=\"white-space:pre;overflow-x:auto;line-height:normal;font-family:Menlo,'DejaVu Sans Mono',consolas,'Courier New',monospace\">\n",
              "</pre>\n"
            ]
          },
          "metadata": {}
        },
        {
          "output_type": "display_data",
          "data": {
            "text/plain": [
              "Output()"
            ],
            "application/vnd.jupyter.widget-view+json": {
              "version_major": 2,
              "version_minor": 0,
              "model_id": "53a2848c5db24f19ba96dd82b8ac09f5"
            }
          },
          "metadata": {}
        },
        {
          "output_type": "display_data",
          "data": {
            "text/plain": [],
            "text/html": [
              "<pre style=\"white-space:pre;overflow-x:auto;line-height:normal;font-family:Menlo,'DejaVu Sans Mono',consolas,'Courier New',monospace\"></pre>\n"
            ]
          },
          "metadata": {}
        },
        {
          "output_type": "display_data",
          "data": {
            "text/plain": [
              "\n"
            ],
            "text/html": [
              "<pre style=\"white-space:pre;overflow-x:auto;line-height:normal;font-family:Menlo,'DejaVu Sans Mono',consolas,'Courier New',monospace\">\n",
              "</pre>\n"
            ]
          },
          "metadata": {}
        },
        {
          "output_type": "execute_result",
          "data": {
            "text/plain": [
              "                 ID      pm2_5\n",
              "3557  ID_M1T3S50WVB  78.083540\n",
              "1406  ID_35WTU72HHD  72.884549\n",
              "925   ID_O7K2PDWG93  78.262081\n",
              "3432  ID_N9WDA8G4OZ  72.320999\n",
              "2205  ID_WFYVDUY1LY  81.095007\n",
              "...             ...        ...\n",
              "3325  ID_RK7GNMXWDG  40.147772\n",
              "1766  ID_6IIMDQC260  33.570919\n",
              "750   ID_8JPX2POPNL  43.143023\n",
              "2549  ID_7TFB8NHLY9  32.067789\n",
              "2213  ID_J3OS2LVO1N  33.086052\n",
              "\n",
              "[4254 rows x 2 columns]"
            ],
            "text/html": [
              "\n",
              "  <div id=\"df-4abecf1f-b445-4991-bef1-b14e1a11a68d\">\n",
              "    <div class=\"colab-df-container\">\n",
              "      <div>\n",
              "<style scoped>\n",
              "    .dataframe tbody tr th:only-of-type {\n",
              "        vertical-align: middle;\n",
              "    }\n",
              "\n",
              "    .dataframe tbody tr th {\n",
              "        vertical-align: top;\n",
              "    }\n",
              "\n",
              "    .dataframe thead th {\n",
              "        text-align: right;\n",
              "    }\n",
              "</style>\n",
              "<table border=\"1\" class=\"dataframe\">\n",
              "  <thead>\n",
              "    <tr style=\"text-align: right;\">\n",
              "      <th></th>\n",
              "      <th>ID</th>\n",
              "      <th>pm2_5</th>\n",
              "    </tr>\n",
              "  </thead>\n",
              "  <tbody>\n",
              "    <tr>\n",
              "      <th>3557</th>\n",
              "      <td>ID_M1T3S50WVB</td>\n",
              "      <td>78.083540</td>\n",
              "    </tr>\n",
              "    <tr>\n",
              "      <th>1406</th>\n",
              "      <td>ID_35WTU72HHD</td>\n",
              "      <td>72.884549</td>\n",
              "    </tr>\n",
              "    <tr>\n",
              "      <th>925</th>\n",
              "      <td>ID_O7K2PDWG93</td>\n",
              "      <td>78.262081</td>\n",
              "    </tr>\n",
              "    <tr>\n",
              "      <th>3432</th>\n",
              "      <td>ID_N9WDA8G4OZ</td>\n",
              "      <td>72.320999</td>\n",
              "    </tr>\n",
              "    <tr>\n",
              "      <th>2205</th>\n",
              "      <td>ID_WFYVDUY1LY</td>\n",
              "      <td>81.095007</td>\n",
              "    </tr>\n",
              "    <tr>\n",
              "      <th>...</th>\n",
              "      <td>...</td>\n",
              "      <td>...</td>\n",
              "    </tr>\n",
              "    <tr>\n",
              "      <th>3325</th>\n",
              "      <td>ID_RK7GNMXWDG</td>\n",
              "      <td>40.147772</td>\n",
              "    </tr>\n",
              "    <tr>\n",
              "      <th>1766</th>\n",
              "      <td>ID_6IIMDQC260</td>\n",
              "      <td>33.570919</td>\n",
              "    </tr>\n",
              "    <tr>\n",
              "      <th>750</th>\n",
              "      <td>ID_8JPX2POPNL</td>\n",
              "      <td>43.143023</td>\n",
              "    </tr>\n",
              "    <tr>\n",
              "      <th>2549</th>\n",
              "      <td>ID_7TFB8NHLY9</td>\n",
              "      <td>32.067789</td>\n",
              "    </tr>\n",
              "    <tr>\n",
              "      <th>2213</th>\n",
              "      <td>ID_J3OS2LVO1N</td>\n",
              "      <td>33.086052</td>\n",
              "    </tr>\n",
              "  </tbody>\n",
              "</table>\n",
              "<p>4254 rows × 2 columns</p>\n",
              "</div>\n",
              "      <button class=\"colab-df-convert\" onclick=\"convertToInteractive('df-4abecf1f-b445-4991-bef1-b14e1a11a68d')\"\n",
              "              title=\"Convert this dataframe to an interactive table.\"\n",
              "              style=\"display:none;\">\n",
              "        \n",
              "  <svg xmlns=\"http://www.w3.org/2000/svg\" height=\"24px\"viewBox=\"0 0 24 24\"\n",
              "       width=\"24px\">\n",
              "    <path d=\"M0 0h24v24H0V0z\" fill=\"none\"/>\n",
              "    <path d=\"M18.56 5.44l.94 2.06.94-2.06 2.06-.94-2.06-.94-.94-2.06-.94 2.06-2.06.94zm-11 1L8.5 8.5l.94-2.06 2.06-.94-2.06-.94L8.5 2.5l-.94 2.06-2.06.94zm10 10l.94 2.06.94-2.06 2.06-.94-2.06-.94-.94-2.06-.94 2.06-2.06.94z\"/><path d=\"M17.41 7.96l-1.37-1.37c-.4-.4-.92-.59-1.43-.59-.52 0-1.04.2-1.43.59L10.3 9.45l-7.72 7.72c-.78.78-.78 2.05 0 2.83L4 21.41c.39.39.9.59 1.41.59.51 0 1.02-.2 1.41-.59l7.78-7.78 2.81-2.81c.8-.78.8-2.07 0-2.86zM5.41 20L4 18.59l7.72-7.72 1.47 1.35L5.41 20z\"/>\n",
              "  </svg>\n",
              "      </button>\n",
              "      \n",
              "  <style>\n",
              "    .colab-df-container {\n",
              "      display:flex;\n",
              "      flex-wrap:wrap;\n",
              "      gap: 12px;\n",
              "    }\n",
              "\n",
              "    .colab-df-convert {\n",
              "      background-color: #E8F0FE;\n",
              "      border: none;\n",
              "      border-radius: 50%;\n",
              "      cursor: pointer;\n",
              "      display: none;\n",
              "      fill: #1967D2;\n",
              "      height: 32px;\n",
              "      padding: 0 0 0 0;\n",
              "      width: 32px;\n",
              "    }\n",
              "\n",
              "    .colab-df-convert:hover {\n",
              "      background-color: #E2EBFA;\n",
              "      box-shadow: 0px 1px 2px rgba(60, 64, 67, 0.3), 0px 1px 3px 1px rgba(60, 64, 67, 0.15);\n",
              "      fill: #174EA6;\n",
              "    }\n",
              "\n",
              "    [theme=dark] .colab-df-convert {\n",
              "      background-color: #3B4455;\n",
              "      fill: #D2E3FC;\n",
              "    }\n",
              "\n",
              "    [theme=dark] .colab-df-convert:hover {\n",
              "      background-color: #434B5C;\n",
              "      box-shadow: 0px 1px 3px 1px rgba(0, 0, 0, 0.15);\n",
              "      filter: drop-shadow(0px 1px 2px rgba(0, 0, 0, 0.3));\n",
              "      fill: #FFFFFF;\n",
              "    }\n",
              "  </style>\n",
              "\n",
              "      <script>\n",
              "        const buttonEl =\n",
              "          document.querySelector('#df-4abecf1f-b445-4991-bef1-b14e1a11a68d button.colab-df-convert');\n",
              "        buttonEl.style.display =\n",
              "          google.colab.kernel.accessAllowed ? 'block' : 'none';\n",
              "\n",
              "        async function convertToInteractive(key) {\n",
              "          const element = document.querySelector('#df-4abecf1f-b445-4991-bef1-b14e1a11a68d');\n",
              "          const dataTable =\n",
              "            await google.colab.kernel.invokeFunction('convertToInteractive',\n",
              "                                                     [key], {});\n",
              "          if (!dataTable) return;\n",
              "\n",
              "          const docLinkHtml = 'Like what you see? Visit the ' +\n",
              "            '<a target=\"_blank\" href=https://colab.research.google.com/notebooks/data_table.ipynb>data table notebook</a>'\n",
              "            + ' to learn more about interactive tables.';\n",
              "          element.innerHTML = '';\n",
              "          dataTable['output_type'] = 'display_data';\n",
              "          await google.colab.output.renderOutput(dataTable, element);\n",
              "          const docLink = document.createElement('div');\n",
              "          docLink.innerHTML = docLinkHtml;\n",
              "          element.appendChild(docLink);\n",
              "        }\n",
              "      </script>\n",
              "    </div>\n",
              "  </div>\n",
              "  "
            ]
          },
          "metadata": {},
          "execution_count": 19
        }
      ],
      "source": [
        "# Reload datasets\n",
        "test_df = layer.get_dataset(\"zindi/air-quality/datasets/test\").to_pandas()\n",
        "train_df = layer.get_dataset(\"zindi/air-quality/datasets/train\").to_pandas()\n",
        "# re-process data and create more features \n",
        "train_df['date']=pd.to_datetime(train_df['date'])\n",
        "test_df['date']=pd.to_datetime(test_df['date'])\n",
        "min_date=train_df['date'].min()\n",
        "train_df['timestamp']=train_df['date']-min_date\n",
        "test_df['timestamp']=test_df['date']-min_date\n",
        "train_df['timestamp']=train_df['timestamp'].astype('int')/(24*60*60*(10**9))\n",
        "test_df['timestamp']=test_df['timestamp'].astype('int')/(24*60*60*(10**9))\n",
        "train_df['timestamp']=train_df['timestamp'].astype('int')\n",
        "test_df['timestamp']=test_df['timestamp'].astype('int')\n",
        "target=\"pm2_5\"\n",
        "if validation==1:\n",
        "    test_df=train_df[train_df.timestamp>=380]\n",
        "    scorer=test_df[['ID']]\n",
        "    scorer['scorer']=test_df[target].values\n",
        "    test_df[target]=np.nan\n",
        "    train_df=train_df[train_df.timestamp<380]\n",
        "\n",
        "train_df['year']=train_df['date'].astype(str).str[:4].astype('int')\n",
        "train_df['month']=train_df['date'].astype(str).str[5:7].astype('int')\n",
        "train_df['day']=train_df['date'].astype(str).str[8:10].astype('int')\n",
        "test_df['year']=test_df['date'].astype(str).str[:4].astype('int')\n",
        "test_df['month']=test_df['date'].astype(str).str[5:7].astype('int')\n",
        "test_df['day']=test_df['date'].astype(str).str[8:10].astype('int')\n",
        "c='NitrogenDioxide_tropospheric_NO2_column_number_density'\n",
        "b='NitrogenDioxide_NO2_column_number_density'\n",
        "a='CarbonMonoxide_CO_column_number_density'\n",
        "train_df['d']=train_df[b]/train_df[c]\n",
        "test_df['d']=test_df[b]/test_df[c]\n",
        "\n",
        "train_df.drop(cc,axis=1,inplace=True)\n",
        "test_df[target]=np.nan\n",
        "test_df=test_df[train_df.columns]\n",
        "train_df=train_df.append(test_df)\n",
        "train_df['month'+'_pm2_5']=train_df.groupby(['month'])[target].transform('mean')\n",
        "#train_df['day'+'_pm2_5']=train_df.groupby(['day'])[target].transform('mean')\n",
        "train_df['device'+'_pm2_5']=train_df.groupby(['device'])[target].transform('mean')\n",
        "#train_df['year'+'_pm2_5']=train_df.groupby(['year'])[target].transform('mean')\n",
        "train_df['site_latitude'+'_pm2_5']=train_df.groupby(['site_latitude'])[target].transform('mean')\n",
        "#train_df['site_longitude'+'_pm2_5']=train_df.groupby(['site_longitude'])[target].transform('mean')\n",
        "#train_df['location'+'_pm2_5']=train_df.groupby(['site_longitude','site_latitude'])[target].transform('mean')\n",
        "train_df['density_sum']=train_df[density].sum(axis=1)\n",
        "train_df['density_amf_sum']=train_df[density_amf].sum(axis=1)\n",
        "train_df['NO2_sum']=train_df.NitrogenDioxide_NO2_column_number_density+train_df.NitrogenDioxide_tropospheric_NO2_column_number_density\n",
        "train_df=train_df.sort_values(['device','timestamp'])\n",
        "# feature generation\n",
        "for col in Cloud+Ozone+Carbon+Aerosol+Sulphur+Nitrogen+Weather+Formaldehyde:\n",
        "    train_df[col+'dev']=train_df.groupby('device')[col].transform('mean')\n",
        "    train_df[col+'diff']=train_df[col]/train_df[col+'dev']\n",
        "    train_df[col+'std']=train_df.groupby('device')[col].transform('std')\n",
        "    #train_df[col+'skew']=train_df.groupby('device')[col].transform('skew')\n",
        "    b=3\n",
        "    train_df[col+'rollin_mean']=train_df.groupby('device')[col].rolling(b,min_periods=b).mean().values\n",
        "    #train_df[col+'rollin_std']=train_df.groupby('device')[col].rolling(b,min_periods=b).std().values\n",
        "    for i in range(1,35,1):\n",
        "        train_df[col+'change'+str(i)]=train_df.groupby('device')[col].shift(i)\n",
        "        train_df[col+'change'+str(i)]=train_df[col]/train_df[col+'change'+str(i)]\n",
        "missing=train_df[train_df.device.isin(new_devices)]\n",
        "le = LabelEncoder()\n",
        "train_df = train_df.assign(device = le.fit_transform(train_df[\"device\"]))\n",
        "drop_cols=[\"pm2_5\", \"ID\",\"date\"]\n",
        "test_df=train_df[train_df[target].isna()]\n",
        "train_df=train_df[train_df[target].notna()]\n",
        "cols=list(train_df.drop(drop_cols,axis=1).columns)\n",
        "train_df=train_df.replace({np.inf:np.nan,(-1*np.inf):np.nan})\n",
        "test_df=test_df.replace({np.inf:np.nan,(-1*np.inf):np.nan})\n",
        "print('length of features = ',len(cols))\n",
        "\n",
        "# One for All Prediction\n",
        "#-----------------------------------------------\n",
        "\n",
        "@model(\"model4all\")\n",
        "@pip_requirements(packages=[\"catboost\"])\n",
        "def train():\n",
        "    import catboost\n",
        "    from catboost import CatBoostRegressor\n",
        "    import pandas as pd\n",
        "    import matplotlib.pyplot as plt\n",
        "    import seaborn as sns\n",
        "    est=500\n",
        "    random_state = 42\n",
        "    layer.log({\"est\":est})\n",
        "    layer.log({\"random_state\":random_state})\n",
        "    model=CatBoostRegressor(silent=True,learning_rate=0.1, n_estimators=est).fit(train_df[cols],train_df[target])\n",
        "    importance = model.get_feature_importance()\n",
        "    importance_df = pd.DataFrame(importance, index=cols, columns=['Importance'])\n",
        "    importance_df = importance_df.sort_values(by='Importance', ascending=False)\n",
        "    importance_df = importance_df[importance_df['Importance'] > 0]\n",
        "    importance_df = importance_df.head(10)\n",
        "    plt.figure(figsize=(8,8))\n",
        "    plt.xticks(rotation=60, fontsize = 20)\n",
        "    sns.barplot(y=importance_df.index, x=importance_df['Importance'])\n",
        "    layer.log({\"Feature importance\": plt.gcf()})\n",
        "    return model\n",
        "layer.run([train],debug=True)\n",
        "model4all = layer.get_model(\"tomy4reel/aqssh-645h-wver/models/model4all\").get_train()\n",
        "submission = pd.DataFrame(data=test_df[\"ID\"], columns = [\"ID\"])\n",
        "submission[\"pm2_5\"] = model4all.predict(test_df[cols]) \n",
        "submission   "
      ],
      "id": "38guZ7PqdGn_"
    },
    {
      "cell_type": "code",
      "execution_count": 20,
      "metadata": {
        "id": "Eqf7QQvOdHxK",
        "colab": {
          "base_uri": "https://localhost:8080/"
        },
        "outputId": "57068f9a-7b26-4337-bb35-79ed900243a2"
      },
      "outputs": [
        {
          "output_type": "stream",
          "name": "stdout",
          "text": [
            "9889 34 1\n",
            "9855 68 2\n",
            "9821 102 3\n",
            "9787 136 4\n",
            "9753 170 5\n",
            "9719 204 6\n",
            "9685 238 7\n",
            "9651 272 8\n",
            "9617 306 9\n",
            "9583 340 10\n",
            "9549 374 11\n",
            "9515 408 12\n",
            "9481 442 13\n",
            "9447 476 14\n",
            "9413 510 15\n",
            "9379 544 16\n",
            "9345 578 17\n",
            "9311 612 18\n",
            "9277 646 19\n",
            "9243 680 20\n",
            "9209 714 21\n",
            "9175 748 22\n",
            "9141 782 23\n",
            "9107 816 24\n",
            "9073 850 25\n",
            "9039 884 26\n",
            "9005 918 27\n",
            "8971 952 28\n",
            "8937 986 29\n",
            "8903 1020 30\n",
            "8869 1054 31\n",
            "8835 1088 32\n",
            "8801 1122 33\n",
            "8767 1156 34\n",
            "8733 1190 35\n",
            "8699 1224 36\n",
            "8665 1258 37\n",
            "8631 1292 38\n",
            "8597 1326 39\n"
          ]
        }
      ],
      "source": [
        "# One for One Prediction\n",
        "#-----------------------------------------------\n",
        "pred=pd.DataFrame()\n",
        "df001=train_df.copy()\n",
        "df002=test_df.copy()\n",
        "model4=XGBRegressor(n_estimators=10)\n",
        "train_df=train_df.append(test_df[train_df.columns])\n",
        "train_df=train_df.sort_values(['device','timestamp'])\n",
        "train_df2=train_df.copy()\n",
        "for i in range(1,m,1):\n",
        "    train_df['last_pm2_5']=train_df.groupby(['device'])[target].shift(i)\n",
        "    for j in range(1,n,1):\n",
        "        train_df['last_'+str(j)+'pm2_5']=train_df.groupby(['device'])[target].shift(i+j)\n",
        "        train_df['last_'+str(j)+'pm2_5_trend']=train_df['last_'+str(j)+'pm2_5']/train_df['last_pm2_5']\n",
        "    test_df=train_df[train_df[target].isna()]\n",
        "    train_df=train_df[train_df[target].notna()]\n",
        "    test_df=test_df[test_df['last_pm2_5'].notna()]\n",
        "    train_df=train_df[train_df['last_pm2_5'].notna()]\n",
        "    print(len(train_df),len(test_df),i)\n",
        "    col=list(train_df.drop(drop_cols,axis=1).columns)\n",
        "    test_df[target]=model4.fit(train_df[col],train_df[target]).predict(test_df[col])\n",
        "    train_df=train_df2.copy()\n",
        "    pred=pred.append(test_df[['ID',target]])\n",
        "    if validation==1:\n",
        "        test_df=pd.merge(test_df[['ID',target]],scorer,on='ID',how='left')\n",
        "        print(mae(test_df['scorer'],test_df[target]))\n",
        "pred=pred.drop_duplicates('ID',keep='first')\n",
        "submission=pred.append(submission)\n",
        "submission[target]=submission.groupby('ID')[target].transform('mean')\n",
        "submission=submission.drop_duplicates('ID',keep='first')\n",
        "train_df=df001.copy()\n",
        "test_df=df002.copy()\n",
        "del df001, df002"
      ],
      "id": "Eqf7QQvOdHxK"
    },
    {
      "cell_type": "code",
      "execution_count": 21,
      "metadata": {
        "id": "dcOE3ZqSdH9G",
        "colab": {
          "base_uri": "https://localhost:8080/",
          "height": 478,
          "referenced_widgets": [
            "205f5d5ec5a34abfbb54be8163abcd13",
            "e87651a4451f4dbf89db27211bfaee44",
            "b84807bac9cb40d480a48f93023c677f",
            "a50eec3f8e07458c9eaab6e72ee5d82e"
          ]
        },
        "outputId": "33b7adea-7ca5-412d-a5cb-9b90c8945e02"
      },
      "outputs": [
        {
          "output_type": "display_data",
          "data": {
            "text/plain": [
              "Output()"
            ],
            "application/vnd.jupyter.widget-view+json": {
              "version_major": 2,
              "version_minor": 0,
              "model_id": "205f5d5ec5a34abfbb54be8163abcd13"
            }
          },
          "metadata": {}
        },
        {
          "output_type": "display_data",
          "data": {
            "text/plain": [],
            "text/html": [
              "<pre style=\"white-space:pre;overflow-x:auto;line-height:normal;font-family:Menlo,'DejaVu Sans Mono',consolas,'Courier New',monospace\"></pre>\n"
            ]
          },
          "metadata": {}
        },
        {
          "output_type": "display_data",
          "data": {
            "text/plain": [
              "\n"
            ],
            "text/html": [
              "<pre style=\"white-space:pre;overflow-x:auto;line-height:normal;font-family:Menlo,'DejaVu Sans Mono',consolas,'Courier New',monospace\">\n",
              "</pre>\n"
            ]
          },
          "metadata": {}
        },
        {
          "output_type": "display_data",
          "data": {
            "text/plain": [
              "Output()"
            ],
            "application/vnd.jupyter.widget-view+json": {
              "version_major": 2,
              "version_minor": 0,
              "model_id": "b84807bac9cb40d480a48f93023c677f"
            }
          },
          "metadata": {}
        },
        {
          "output_type": "display_data",
          "data": {
            "text/plain": [],
            "text/html": [
              "<pre style=\"white-space:pre;overflow-x:auto;line-height:normal;font-family:Menlo,'DejaVu Sans Mono',consolas,'Courier New',monospace\"></pre>\n"
            ]
          },
          "metadata": {}
        },
        {
          "output_type": "display_data",
          "data": {
            "text/plain": [
              "\n"
            ],
            "text/html": [
              "<pre style=\"white-space:pre;overflow-x:auto;line-height:normal;font-family:Menlo,'DejaVu Sans Mono',consolas,'Courier New',monospace\">\n",
              "</pre>\n"
            ]
          },
          "metadata": {}
        },
        {
          "output_type": "execute_result",
          "data": {
            "text/plain": [
              "                 ID      pm2_5\n",
              "3492  ID_EF1OY5RDML  50.724467\n",
              "4195  ID_V7OQFWQBJI  42.390676\n",
              "982   ID_H5GZIE1XUI  38.039749\n",
              "2330  ID_A8DVZ9U3EN  36.928239\n",
              "2903  ID_RP7DMQ4CV9  36.029801\n",
              "...             ...        ...\n",
              "1485  ID_TTMFHMFJ91  53.543479\n",
              "690   ID_T0N8DGLZJB  55.839946\n",
              "2165  ID_3FU0SYNFLW  59.778304\n",
              "1091  ID_PT0DLR6U76  49.329259\n",
              "381   ID_FO4YN5QN6I  52.063500\n",
              "\n",
              "[4254 rows x 2 columns]"
            ],
            "text/html": [
              "\n",
              "  <div id=\"df-209b6dea-b941-4010-a22b-114e320591aa\">\n",
              "    <div class=\"colab-df-container\">\n",
              "      <div>\n",
              "<style scoped>\n",
              "    .dataframe tbody tr th:only-of-type {\n",
              "        vertical-align: middle;\n",
              "    }\n",
              "\n",
              "    .dataframe tbody tr th {\n",
              "        vertical-align: top;\n",
              "    }\n",
              "\n",
              "    .dataframe thead th {\n",
              "        text-align: right;\n",
              "    }\n",
              "</style>\n",
              "<table border=\"1\" class=\"dataframe\">\n",
              "  <thead>\n",
              "    <tr style=\"text-align: right;\">\n",
              "      <th></th>\n",
              "      <th>ID</th>\n",
              "      <th>pm2_5</th>\n",
              "    </tr>\n",
              "  </thead>\n",
              "  <tbody>\n",
              "    <tr>\n",
              "      <th>3492</th>\n",
              "      <td>ID_EF1OY5RDML</td>\n",
              "      <td>50.724467</td>\n",
              "    </tr>\n",
              "    <tr>\n",
              "      <th>4195</th>\n",
              "      <td>ID_V7OQFWQBJI</td>\n",
              "      <td>42.390676</td>\n",
              "    </tr>\n",
              "    <tr>\n",
              "      <th>982</th>\n",
              "      <td>ID_H5GZIE1XUI</td>\n",
              "      <td>38.039749</td>\n",
              "    </tr>\n",
              "    <tr>\n",
              "      <th>2330</th>\n",
              "      <td>ID_A8DVZ9U3EN</td>\n",
              "      <td>36.928239</td>\n",
              "    </tr>\n",
              "    <tr>\n",
              "      <th>2903</th>\n",
              "      <td>ID_RP7DMQ4CV9</td>\n",
              "      <td>36.029801</td>\n",
              "    </tr>\n",
              "    <tr>\n",
              "      <th>...</th>\n",
              "      <td>...</td>\n",
              "      <td>...</td>\n",
              "    </tr>\n",
              "    <tr>\n",
              "      <th>1485</th>\n",
              "      <td>ID_TTMFHMFJ91</td>\n",
              "      <td>53.543479</td>\n",
              "    </tr>\n",
              "    <tr>\n",
              "      <th>690</th>\n",
              "      <td>ID_T0N8DGLZJB</td>\n",
              "      <td>55.839946</td>\n",
              "    </tr>\n",
              "    <tr>\n",
              "      <th>2165</th>\n",
              "      <td>ID_3FU0SYNFLW</td>\n",
              "      <td>59.778304</td>\n",
              "    </tr>\n",
              "    <tr>\n",
              "      <th>1091</th>\n",
              "      <td>ID_PT0DLR6U76</td>\n",
              "      <td>49.329259</td>\n",
              "    </tr>\n",
              "    <tr>\n",
              "      <th>381</th>\n",
              "      <td>ID_FO4YN5QN6I</td>\n",
              "      <td>52.063500</td>\n",
              "    </tr>\n",
              "  </tbody>\n",
              "</table>\n",
              "<p>4254 rows × 2 columns</p>\n",
              "</div>\n",
              "      <button class=\"colab-df-convert\" onclick=\"convertToInteractive('df-209b6dea-b941-4010-a22b-114e320591aa')\"\n",
              "              title=\"Convert this dataframe to an interactive table.\"\n",
              "              style=\"display:none;\">\n",
              "        \n",
              "  <svg xmlns=\"http://www.w3.org/2000/svg\" height=\"24px\"viewBox=\"0 0 24 24\"\n",
              "       width=\"24px\">\n",
              "    <path d=\"M0 0h24v24H0V0z\" fill=\"none\"/>\n",
              "    <path d=\"M18.56 5.44l.94 2.06.94-2.06 2.06-.94-2.06-.94-.94-2.06-.94 2.06-2.06.94zm-11 1L8.5 8.5l.94-2.06 2.06-.94-2.06-.94L8.5 2.5l-.94 2.06-2.06.94zm10 10l.94 2.06.94-2.06 2.06-.94-2.06-.94-.94-2.06-.94 2.06-2.06.94z\"/><path d=\"M17.41 7.96l-1.37-1.37c-.4-.4-.92-.59-1.43-.59-.52 0-1.04.2-1.43.59L10.3 9.45l-7.72 7.72c-.78.78-.78 2.05 0 2.83L4 21.41c.39.39.9.59 1.41.59.51 0 1.02-.2 1.41-.59l7.78-7.78 2.81-2.81c.8-.78.8-2.07 0-2.86zM5.41 20L4 18.59l7.72-7.72 1.47 1.35L5.41 20z\"/>\n",
              "  </svg>\n",
              "      </button>\n",
              "      \n",
              "  <style>\n",
              "    .colab-df-container {\n",
              "      display:flex;\n",
              "      flex-wrap:wrap;\n",
              "      gap: 12px;\n",
              "    }\n",
              "\n",
              "    .colab-df-convert {\n",
              "      background-color: #E8F0FE;\n",
              "      border: none;\n",
              "      border-radius: 50%;\n",
              "      cursor: pointer;\n",
              "      display: none;\n",
              "      fill: #1967D2;\n",
              "      height: 32px;\n",
              "      padding: 0 0 0 0;\n",
              "      width: 32px;\n",
              "    }\n",
              "\n",
              "    .colab-df-convert:hover {\n",
              "      background-color: #E2EBFA;\n",
              "      box-shadow: 0px 1px 2px rgba(60, 64, 67, 0.3), 0px 1px 3px 1px rgba(60, 64, 67, 0.15);\n",
              "      fill: #174EA6;\n",
              "    }\n",
              "\n",
              "    [theme=dark] .colab-df-convert {\n",
              "      background-color: #3B4455;\n",
              "      fill: #D2E3FC;\n",
              "    }\n",
              "\n",
              "    [theme=dark] .colab-df-convert:hover {\n",
              "      background-color: #434B5C;\n",
              "      box-shadow: 0px 1px 3px 1px rgba(0, 0, 0, 0.15);\n",
              "      filter: drop-shadow(0px 1px 2px rgba(0, 0, 0, 0.3));\n",
              "      fill: #FFFFFF;\n",
              "    }\n",
              "  </style>\n",
              "\n",
              "      <script>\n",
              "        const buttonEl =\n",
              "          document.querySelector('#df-209b6dea-b941-4010-a22b-114e320591aa button.colab-df-convert');\n",
              "        buttonEl.style.display =\n",
              "          google.colab.kernel.accessAllowed ? 'block' : 'none';\n",
              "\n",
              "        async function convertToInteractive(key) {\n",
              "          const element = document.querySelector('#df-209b6dea-b941-4010-a22b-114e320591aa');\n",
              "          const dataTable =\n",
              "            await google.colab.kernel.invokeFunction('convertToInteractive',\n",
              "                                                     [key], {});\n",
              "          if (!dataTable) return;\n",
              "\n",
              "          const docLinkHtml = 'Like what you see? Visit the ' +\n",
              "            '<a target=\"_blank\" href=https://colab.research.google.com/notebooks/data_table.ipynb>data table notebook</a>'\n",
              "            + ' to learn more about interactive tables.';\n",
              "          element.innerHTML = '';\n",
              "          dataTable['output_type'] = 'display_data';\n",
              "          await google.colab.output.renderOutput(dataTable, element);\n",
              "          const docLink = document.createElement('div');\n",
              "          docLink.innerHTML = docLinkHtml;\n",
              "          element.appendChild(docLink);\n",
              "        }\n",
              "      </script>\n",
              "    </div>\n",
              "  </div>\n",
              "  "
            ]
          },
          "metadata": {},
          "execution_count": 21
        }
      ],
      "source": [
        "# New Devices Prediction\n",
        "#-----------------------------------------------\n",
        "test_df=test_df[test_df['ID'].isin(list(missing['ID'].unique()))]\n",
        "submission2=pd.DataFrame()\n",
        "drop_cols=test_df.columns[test_df.isnull().all()].tolist()[1:]\n",
        "cols=list(test_df[cols].drop(drop_cols,axis=1).columns)\n",
        "@model(\"model4new\")\n",
        "@pip_requirements(packages=[\"catboost\"])\n",
        "def train():\n",
        "    import catboost\n",
        "    from catboost import CatBoostRegressor\n",
        "    import pandas as pd\n",
        "    import matplotlib.pyplot as plt\n",
        "    import seaborn as sns\n",
        "    est=200\n",
        "    random_state = 42\n",
        "    layer.log({\"est\":est})\n",
        "    layer.log({\"random_state\":random_state})\n",
        "    model=CatBoostRegressor(silent=True,learning_rate=0.1, n_estimators=est).fit(train_df[cols],train_df[target])\n",
        "    importance = model.get_feature_importance()\n",
        "    importance_df = pd.DataFrame(importance, index=cols, columns=['Importance'])\n",
        "    importance_df = importance_df.sort_values(by='Importance', ascending=False)\n",
        "    importance_df = importance_df[importance_df['Importance'] > 0]\n",
        "    importance_df = importance_df.head(10)\n",
        "    plt.figure(figsize=(8,8))\n",
        "    plt.xticks(rotation=60, fontsize = 20)\n",
        "    sns.barplot(y=importance_df.index, x=importance_df['Importance'])\n",
        "    layer.log({\"Feature importance\": plt.gcf()})\n",
        "    return model\n",
        "layer.run([train],debug=True)\n",
        "model4new = layer.get_model(\"tomy4reel/aqssh-645h-wver/models/model4new\").get_train()\n",
        "submission2 = pd.DataFrame(data=test_df[\"ID\"], columns = [\"ID\"])\n",
        "submission2[\"pm2_5\"] = model4new.predict(test_df[cols])   \n",
        "# do not replace predictions for new devices with predictions from model4\n",
        "# take mean instead\n",
        "sm=submission2.append(submission)\n",
        "submission=sm.copy()\n",
        "submission[target]=sm.groupby('ID')['pm2_5'].transform('mean')\n",
        "df4=submission.drop_duplicates('ID')\n",
        "df4"
      ],
      "id": "dcOE3ZqSdH9G"
    },
    {
      "cell_type": "markdown",
      "source": [
        "   - ## Approach 5"
      ],
      "metadata": {
        "id": "SQwSxdrbgSIJ"
      },
      "id": "SQwSxdrbgSIJ"
    },
    {
      "cell_type": "code",
      "source": [
        "ss = layer.get_dataset(\"zindi/air-quality/datasets/sample_submission\").to_pandas()\n",
        "test_df = layer.get_dataset(\"zindi/air-quality/datasets/test\").to_pandas()\n",
        "train_df = layer.get_dataset(\"zindi/air-quality/datasets/train\").to_pandas()\n",
        "print(len(train_df),len(test_df))\n",
        "target=\"pm2_5\"\n",
        "new_devices=list(set(test_df.device.unique())-set(train_df.device.unique()))\n",
        "\n",
        "# Drop Correlared Cols\n",
        "cc=['SulphurDioxide_SO2_column_number_density','Cloud_cloud_base_height','NitrogenDioxide_sensor_altitude','SulphurDioxide_sensor_azimuth_angle','SulphurDioxide_sensor_zenith_angle',\n",
        "    'NitrogenDioxide_sensor_azimuth_angle','NitrogenDioxide_sensor_zenith_angle','Formaldehyde_sensor_azimuth_angle','Formaldehyde_sensor_zenith_angle','Ozone_sensor_azimuth_angle','Ozone_sensor_zenith_angle',\n",
        "    'Cloud_sensor_azimuth_angle','Cloud_sensor_zenith_angle','CarbonMonoxide_sensor_azimuth_angle','CarbonMonoxide_sensor_azimuth_angle']\n",
        "train_df.drop(cc,axis=1,inplace=True)\n",
        "#Preprocess date\n",
        "train_df['date']=pd.to_datetime(train_df['date'])\n",
        "test_df['date']=pd.to_datetime(test_df['date'])\n",
        "min_date=train_df['date'].min()\n",
        "train_df['timestamp']=train_df['date']-min_date\n",
        "test_df['timestamp']=test_df['date']-min_date\n",
        "train_df['timestamp']=train_df['timestamp'].astype('int')/(24*60*60*(10**9))\n",
        "test_df['timestamp']=test_df['timestamp'].astype('int')/(24*60*60*(10**9))\n",
        "train_df['timestamp']=train_df['timestamp'].astype('int')\n",
        "test_df['timestamp']=test_df['timestamp'].astype('int')\n",
        "print(train_df.timestamp.min(),train_df.timestamp.max())\n",
        "print(test_df.timestamp.min(),test_df.timestamp.max())\n",
        "if validation==1:\n",
        "    test_df=train_df[train_df.timestamp>=380]\n",
        "    train_df=train_df[train_df.timestamp<380]\n",
        "    test_df[target]=np.nan\n",
        "    ss=test_df[['ID',target]]\n",
        "    print(len(train_df),len(test_df))\n",
        "# density features\n",
        "density_amf = list(train_df.filter(regex='density_amf').columns)\n",
        "density = ['SulphurDioxide_SO2_slant_column_number_density','SulphurDioxide_SO2_column_number_density_15km','CarbonMonoxide_CO_column_number_density','CarbonMonoxide_H2O_column_number_density',\n",
        " 'NitrogenDioxide_NO2_column_number_density', 'NitrogenDioxide_tropospheric_NO2_column_number_density', 'NitrogenDioxide_stratospheric_NO2_column_number_density', 'NitrogenDioxide_NO2_slant_column_number_density', 'Formaldehyde_tropospheric_HCHO_column_number_density',\n",
        " 'Formaldehyde_HCHO_slant_column_number_density','Ozone_O3_column_number_density','Ozone_O3_slant_column_number_density']\n",
        "# Feature Clusters\n",
        "Cloud = list(train_df.filter(regex='Cloud').columns)\n",
        "Ozone = list(train_df.filter(regex='Ozone').columns)\n",
        "Carbon = list(train_df.filter(regex='Carbon').columns)\n",
        "Aerosol = list(train_df.filter(regex='Aerosol').columns)\n",
        "Sulphur = list(train_df.filter(regex='Sulphur').columns)\n",
        "Nitrogen = list(train_df.filter(regex='Nitrogen').columns)\n",
        "Formaldehyde = list(train_df.filter(regex='Formaldehyde').columns)\n",
        "Weather = ['temp_mean','humidity']\n",
        "\n",
        "# Preprocess data\n",
        "test_df[target]=np.nan\n",
        "test_df=test_df[train_df.columns]\n",
        "train_df=train_df.append(test_df)\n",
        "\n",
        "#train_df=train_df.sort_values(['device','timestamp'])\n",
        "#train_df['no_of_dev']=train_df.groupby('timestamp')['device'].nunique()\n",
        "#train_df['last_no_of_dev']=train_df.groupby('device')['no_of_dev'].shift(1)\n",
        "#train_df['no_of_new_dev']=train_df['no_of_dev']-train_df['last_no_of_dev']\n",
        "train_df['first_day']=train_df.groupby('device')['timestamp'].transform('min')\n",
        "train_df['age_of_device']=train_df['timestamp']-train_df['first_day']\n",
        "train_df['last_day']=train_df.groupby('device')['timestamp'].transform('max')\n",
        "train_df['days_left']=train_df['last_day']-train_df['timestamp']\n",
        "\n",
        "train_df['density_sum']=train_df[density].sum(axis=1)\n",
        "train_df['density_amf_sum']=train_df[density_amf].sum(axis=1)\n",
        "train_df['NO2_sum']=train_df.NitrogenDioxide_NO2_column_number_density+train_df.NitrogenDioxide_tropospheric_NO2_column_number_density\n",
        "train_df=train_df.sort_values(['device','timestamp'])\n",
        "# Feature generation\n",
        "for col in Cloud+Ozone+Carbon+Aerosol+Sulphur+Nitrogen+Weather+Formaldehyde:\n",
        "    train_df[col+'dev']=train_df.groupby('device')[col].transform('mean')\n",
        "    train_df[col+'diff']=train_df[col]/train_df[col+'dev']\n",
        "    train_df[col+'std']=train_df.groupby('device')[col].transform('std')\n",
        "    b=3\n",
        "    train_df[col+'rollin_mean']=train_df.groupby('device')[col].rolling(b,min_periods=b).mean().values\n",
        "    for i in range(1,26,1):\n",
        "        train_df[col+'change'+str(i)]=train_df.groupby('device')[col].shift(i)\n",
        "        train_df[col+'change'+str(i)]=train_df[col]/train_df[col+'change'+str(i)]\n",
        "for col in Cloud+Ozone+Carbon+Aerosol+Sulphur+Nitrogen+Weather+Formaldehyde:\n",
        "    train_df[col+'dev2']=train_df.groupby('timestamp')[col].transform('mean')\n",
        "    train_df[col+'diff2']=train_df[col]/train_df[col+'dev2']\n",
        "    train_df[col+'std2']=train_df.groupby('timestamp')[col].transform('std')\n",
        "    \n",
        "# new devices\n",
        "missing=train_df[train_df.device.isin(new_devices)]\n",
        "\n",
        "le = LabelEncoder()\n",
        "train_df = train_df.assign(device = le.fit_transform(train_df[\"device\"]))\n",
        "drop_cols=[\"pm2_5\", \"ID\",\"date\"]\n",
        "test_df=train_df[train_df[target].isna()]\n",
        "train_df=train_df[train_df[target].notna()]\n",
        "cols=list(train_df.drop(drop_cols,axis=1).columns)\n",
        "train_df=train_df.replace({np.inf:np.nan,(-1*np.inf):np.nan})\n",
        "test_df=test_df.replace({np.inf:np.nan,(-1*np.inf):np.nan})\n",
        "print('length of features = ',len(cols))\n",
        "# One for All Prediction\n",
        "#-----------------------------------------------\n",
        "@model(\"model5all\")\n",
        "@pip_requirements(packages=[\"catboost\"])\n",
        "def train():\n",
        "    import catboost\n",
        "    from catboost import CatBoostRegressor\n",
        "    import pandas as pd\n",
        "    import matplotlib.pyplot as plt\n",
        "    import seaborn as sns\n",
        "    est=200\n",
        "    random_state = 42\n",
        "    layer.log({\"est\":est})\n",
        "    layer.log({\"random_state\":random_state})\n",
        "    model=CatBoostRegressor(silent=True,learning_rate=0.1, n_estimators=est).fit(train_df[cols],train_df[target])\n",
        "    importance = model.get_feature_importance()\n",
        "    importance_df = pd.DataFrame(importance, index=cols, columns=['Importance'])\n",
        "    importance_df = importance_df.sort_values(by='Importance', ascending=False)\n",
        "    importance_df = importance_df[importance_df['Importance'] > 0]\n",
        "    importance_df = importance_df.head(10)\n",
        "    plt.figure(figsize=(8,8))\n",
        "    plt.xticks(rotation=60, fontsize = 20)\n",
        "    sns.barplot(y=importance_df.index, x=importance_df['Importance'])\n",
        "    layer.log({\"Feature importance\": plt.gcf()})\n",
        "    return model\n",
        "layer.run([train],debug=True)\n",
        "model5all = layer.get_model(\"tomy4reel/aqssh-645h-wver/models/model5all\").get_train()\n",
        "submission = pd.DataFrame(data=test_df[\"ID\"], columns = [\"ID\"])\n",
        "submission[\"pm2_5\"] = model5all.predict(test_df[cols]) \n",
        "submission   "
      ],
      "metadata": {
        "colab": {
          "base_uri": "https://localhost:8080/",
          "height": 809,
          "referenced_widgets": [
            "763bc91a5e174e6099c0939d3d2ceb15",
            "64371923e0fb4eea82137b852a13ebd0",
            "da6ebd53c7d742d1831af06f853cc588",
            "f23ff58b40aa4d4a9c8a12d885108564",
            "35bec29acd1b4c8898dda17a8ddbfe7b",
            "ad4103030e6044c3bd55086d70dc99ce",
            "af1eb2fd48be485a962e165ab7f2419a",
            "a659f728593142c385d3162480b59727",
            "7a4b283eab0d4c2aac2e2f26817e6ade",
            "4b894d3e753a4f4d8b6c9b1385bf88c3"
          ]
        },
        "id": "qqnIMVlTgO_Y",
        "outputId": "b365bb85-8904-4c37-b110-64fe6ed55226"
      },
      "id": "qqnIMVlTgO_Y",
      "execution_count": 22,
      "outputs": [
        {
          "output_type": "display_data",
          "data": {
            "text/plain": [
              "Output()"
            ],
            "application/vnd.jupyter.widget-view+json": {
              "version_major": 2,
              "version_minor": 0,
              "model_id": "763bc91a5e174e6099c0939d3d2ceb15"
            }
          },
          "metadata": {}
        },
        {
          "output_type": "display_data",
          "data": {
            "text/plain": [],
            "text/html": [
              "<pre style=\"white-space:pre;overflow-x:auto;line-height:normal;font-family:Menlo,'DejaVu Sans Mono',consolas,'Courier New',monospace\"></pre>\n"
            ]
          },
          "metadata": {}
        },
        {
          "output_type": "display_data",
          "data": {
            "text/plain": [
              "\n"
            ],
            "text/html": [
              "<pre style=\"white-space:pre;overflow-x:auto;line-height:normal;font-family:Menlo,'DejaVu Sans Mono',consolas,'Courier New',monospace\">\n",
              "</pre>\n"
            ]
          },
          "metadata": {}
        },
        {
          "output_type": "display_data",
          "data": {
            "text/plain": [
              "Output()"
            ],
            "application/vnd.jupyter.widget-view+json": {
              "version_major": 2,
              "version_minor": 0,
              "model_id": "da6ebd53c7d742d1831af06f853cc588"
            }
          },
          "metadata": {}
        },
        {
          "output_type": "display_data",
          "data": {
            "text/plain": [],
            "text/html": [
              "<pre style=\"white-space:pre;overflow-x:auto;line-height:normal;font-family:Menlo,'DejaVu Sans Mono',consolas,'Courier New',monospace\"></pre>\n"
            ]
          },
          "metadata": {}
        },
        {
          "output_type": "display_data",
          "data": {
            "text/plain": [
              "\n"
            ],
            "text/html": [
              "<pre style=\"white-space:pre;overflow-x:auto;line-height:normal;font-family:Menlo,'DejaVu Sans Mono',consolas,'Courier New',monospace\">\n",
              "</pre>\n"
            ]
          },
          "metadata": {}
        },
        {
          "output_type": "display_data",
          "data": {
            "text/plain": [
              "Output()"
            ],
            "application/vnd.jupyter.widget-view+json": {
              "version_major": 2,
              "version_minor": 0,
              "model_id": "35bec29acd1b4c8898dda17a8ddbfe7b"
            }
          },
          "metadata": {}
        },
        {
          "output_type": "display_data",
          "data": {
            "text/plain": [],
            "text/html": [
              "<pre style=\"white-space:pre;overflow-x:auto;line-height:normal;font-family:Menlo,'DejaVu Sans Mono',consolas,'Courier New',monospace\"></pre>\n"
            ]
          },
          "metadata": {}
        },
        {
          "output_type": "display_data",
          "data": {
            "text/plain": [
              "\n"
            ],
            "text/html": [
              "<pre style=\"white-space:pre;overflow-x:auto;line-height:normal;font-family:Menlo,'DejaVu Sans Mono',consolas,'Courier New',monospace\">\n",
              "</pre>\n"
            ]
          },
          "metadata": {}
        },
        {
          "output_type": "stream",
          "name": "stdout",
          "text": [
            "9923 4254\n",
            "0 525\n",
            "525 658\n"
          ]
        },
        {
          "output_type": "stream",
          "name": "stderr",
          "text": [
            "/usr/local/lib/python3.7/dist-packages/ipykernel_launcher.py:19: FutureWarning: casting timedelta64[ns] values to int64 with .astype(...) is deprecated and will raise in a future version. Use .view(...) instead.\n",
            "/usr/local/lib/python3.7/dist-packages/ipykernel_launcher.py:20: FutureWarning: casting timedelta64[ns] values to int64 with .astype(...) is deprecated and will raise in a future version. Use .view(...) instead.\n",
            "/usr/local/lib/python3.7/dist-packages/ipykernel_launcher.py:72: PerformanceWarning: DataFrame is highly fragmented.  This is usually the result of calling `frame.insert` many times, which has poor performance.  Consider joining all columns at once using pd.concat(axis=1) instead.  To get a de-fragmented frame, use `newframe = frame.copy()`\n",
            "/usr/local/lib/python3.7/dist-packages/ipykernel_launcher.py:66: PerformanceWarning: DataFrame is highly fragmented.  This is usually the result of calling `frame.insert` many times, which has poor performance.  Consider joining all columns at once using pd.concat(axis=1) instead.  To get a de-fragmented frame, use `newframe = frame.copy()`\n",
            "/usr/local/lib/python3.7/dist-packages/ipykernel_launcher.py:67: PerformanceWarning: DataFrame is highly fragmented.  This is usually the result of calling `frame.insert` many times, which has poor performance.  Consider joining all columns at once using pd.concat(axis=1) instead.  To get a de-fragmented frame, use `newframe = frame.copy()`\n",
            "/usr/local/lib/python3.7/dist-packages/ipykernel_launcher.py:68: PerformanceWarning: DataFrame is highly fragmented.  This is usually the result of calling `frame.insert` many times, which has poor performance.  Consider joining all columns at once using pd.concat(axis=1) instead.  To get a de-fragmented frame, use `newframe = frame.copy()`\n",
            "/usr/local/lib/python3.7/dist-packages/ipykernel_launcher.py:70: PerformanceWarning: DataFrame is highly fragmented.  This is usually the result of calling `frame.insert` many times, which has poor performance.  Consider joining all columns at once using pd.concat(axis=1) instead.  To get a de-fragmented frame, use `newframe = frame.copy()`\n",
            "/usr/local/lib/python3.7/dist-packages/ipykernel_launcher.py:75: PerformanceWarning: DataFrame is highly fragmented.  This is usually the result of calling `frame.insert` many times, which has poor performance.  Consider joining all columns at once using pd.concat(axis=1) instead.  To get a de-fragmented frame, use `newframe = frame.copy()`\n",
            "/usr/local/lib/python3.7/dist-packages/ipykernel_launcher.py:76: PerformanceWarning: DataFrame is highly fragmented.  This is usually the result of calling `frame.insert` many times, which has poor performance.  Consider joining all columns at once using pd.concat(axis=1) instead.  To get a de-fragmented frame, use `newframe = frame.copy()`\n",
            "/usr/local/lib/python3.7/dist-packages/ipykernel_launcher.py:77: PerformanceWarning: DataFrame is highly fragmented.  This is usually the result of calling `frame.insert` many times, which has poor performance.  Consider joining all columns at once using pd.concat(axis=1) instead.  To get a de-fragmented frame, use `newframe = frame.copy()`\n"
          ]
        },
        {
          "output_type": "stream",
          "name": "stdout",
          "text": [
            "length of features =  1694\n"
          ]
        },
        {
          "output_type": "display_data",
          "data": {
            "text/plain": [
              "Output()"
            ],
            "application/vnd.jupyter.widget-view+json": {
              "version_major": 2,
              "version_minor": 0,
              "model_id": "af1eb2fd48be485a962e165ab7f2419a"
            }
          },
          "metadata": {}
        },
        {
          "output_type": "display_data",
          "data": {
            "text/plain": [],
            "text/html": [
              "<pre style=\"white-space:pre;overflow-x:auto;line-height:normal;font-family:Menlo,'DejaVu Sans Mono',consolas,'Courier New',monospace\"></pre>\n"
            ]
          },
          "metadata": {}
        },
        {
          "output_type": "display_data",
          "data": {
            "text/plain": [
              "\n"
            ],
            "text/html": [
              "<pre style=\"white-space:pre;overflow-x:auto;line-height:normal;font-family:Menlo,'DejaVu Sans Mono',consolas,'Courier New',monospace\">\n",
              "</pre>\n"
            ]
          },
          "metadata": {}
        },
        {
          "output_type": "display_data",
          "data": {
            "text/plain": [
              "Output()"
            ],
            "application/vnd.jupyter.widget-view+json": {
              "version_major": 2,
              "version_minor": 0,
              "model_id": "7a4b283eab0d4c2aac2e2f26817e6ade"
            }
          },
          "metadata": {}
        },
        {
          "output_type": "display_data",
          "data": {
            "text/plain": [],
            "text/html": [
              "<pre style=\"white-space:pre;overflow-x:auto;line-height:normal;font-family:Menlo,'DejaVu Sans Mono',consolas,'Courier New',monospace\"></pre>\n"
            ]
          },
          "metadata": {}
        },
        {
          "output_type": "display_data",
          "data": {
            "text/plain": [
              "\n"
            ],
            "text/html": [
              "<pre style=\"white-space:pre;overflow-x:auto;line-height:normal;font-family:Menlo,'DejaVu Sans Mono',consolas,'Courier New',monospace\">\n",
              "</pre>\n"
            ]
          },
          "metadata": {}
        },
        {
          "output_type": "execute_result",
          "data": {
            "text/plain": [
              "                 ID      pm2_5\n",
              "3557  ID_M1T3S50WVB  73.923428\n",
              "1406  ID_35WTU72HHD  71.182961\n",
              "925   ID_O7K2PDWG93  77.842260\n",
              "3432  ID_N9WDA8G4OZ  70.722704\n",
              "2205  ID_WFYVDUY1LY  79.585122\n",
              "...             ...        ...\n",
              "3325  ID_RK7GNMXWDG  56.878590\n",
              "1766  ID_6IIMDQC260  64.655453\n",
              "750   ID_8JPX2POPNL  58.169381\n",
              "2549  ID_7TFB8NHLY9  53.871476\n",
              "2213  ID_J3OS2LVO1N  48.555534\n",
              "\n",
              "[4254 rows x 2 columns]"
            ],
            "text/html": [
              "\n",
              "  <div id=\"df-49ff5970-07b8-4d45-89e8-82a3b9ccb9aa\">\n",
              "    <div class=\"colab-df-container\">\n",
              "      <div>\n",
              "<style scoped>\n",
              "    .dataframe tbody tr th:only-of-type {\n",
              "        vertical-align: middle;\n",
              "    }\n",
              "\n",
              "    .dataframe tbody tr th {\n",
              "        vertical-align: top;\n",
              "    }\n",
              "\n",
              "    .dataframe thead th {\n",
              "        text-align: right;\n",
              "    }\n",
              "</style>\n",
              "<table border=\"1\" class=\"dataframe\">\n",
              "  <thead>\n",
              "    <tr style=\"text-align: right;\">\n",
              "      <th></th>\n",
              "      <th>ID</th>\n",
              "      <th>pm2_5</th>\n",
              "    </tr>\n",
              "  </thead>\n",
              "  <tbody>\n",
              "    <tr>\n",
              "      <th>3557</th>\n",
              "      <td>ID_M1T3S50WVB</td>\n",
              "      <td>73.923428</td>\n",
              "    </tr>\n",
              "    <tr>\n",
              "      <th>1406</th>\n",
              "      <td>ID_35WTU72HHD</td>\n",
              "      <td>71.182961</td>\n",
              "    </tr>\n",
              "    <tr>\n",
              "      <th>925</th>\n",
              "      <td>ID_O7K2PDWG93</td>\n",
              "      <td>77.842260</td>\n",
              "    </tr>\n",
              "    <tr>\n",
              "      <th>3432</th>\n",
              "      <td>ID_N9WDA8G4OZ</td>\n",
              "      <td>70.722704</td>\n",
              "    </tr>\n",
              "    <tr>\n",
              "      <th>2205</th>\n",
              "      <td>ID_WFYVDUY1LY</td>\n",
              "      <td>79.585122</td>\n",
              "    </tr>\n",
              "    <tr>\n",
              "      <th>...</th>\n",
              "      <td>...</td>\n",
              "      <td>...</td>\n",
              "    </tr>\n",
              "    <tr>\n",
              "      <th>3325</th>\n",
              "      <td>ID_RK7GNMXWDG</td>\n",
              "      <td>56.878590</td>\n",
              "    </tr>\n",
              "    <tr>\n",
              "      <th>1766</th>\n",
              "      <td>ID_6IIMDQC260</td>\n",
              "      <td>64.655453</td>\n",
              "    </tr>\n",
              "    <tr>\n",
              "      <th>750</th>\n",
              "      <td>ID_8JPX2POPNL</td>\n",
              "      <td>58.169381</td>\n",
              "    </tr>\n",
              "    <tr>\n",
              "      <th>2549</th>\n",
              "      <td>ID_7TFB8NHLY9</td>\n",
              "      <td>53.871476</td>\n",
              "    </tr>\n",
              "    <tr>\n",
              "      <th>2213</th>\n",
              "      <td>ID_J3OS2LVO1N</td>\n",
              "      <td>48.555534</td>\n",
              "    </tr>\n",
              "  </tbody>\n",
              "</table>\n",
              "<p>4254 rows × 2 columns</p>\n",
              "</div>\n",
              "      <button class=\"colab-df-convert\" onclick=\"convertToInteractive('df-49ff5970-07b8-4d45-89e8-82a3b9ccb9aa')\"\n",
              "              title=\"Convert this dataframe to an interactive table.\"\n",
              "              style=\"display:none;\">\n",
              "        \n",
              "  <svg xmlns=\"http://www.w3.org/2000/svg\" height=\"24px\"viewBox=\"0 0 24 24\"\n",
              "       width=\"24px\">\n",
              "    <path d=\"M0 0h24v24H0V0z\" fill=\"none\"/>\n",
              "    <path d=\"M18.56 5.44l.94 2.06.94-2.06 2.06-.94-2.06-.94-.94-2.06-.94 2.06-2.06.94zm-11 1L8.5 8.5l.94-2.06 2.06-.94-2.06-.94L8.5 2.5l-.94 2.06-2.06.94zm10 10l.94 2.06.94-2.06 2.06-.94-2.06-.94-.94-2.06-.94 2.06-2.06.94z\"/><path d=\"M17.41 7.96l-1.37-1.37c-.4-.4-.92-.59-1.43-.59-.52 0-1.04.2-1.43.59L10.3 9.45l-7.72 7.72c-.78.78-.78 2.05 0 2.83L4 21.41c.39.39.9.59 1.41.59.51 0 1.02-.2 1.41-.59l7.78-7.78 2.81-2.81c.8-.78.8-2.07 0-2.86zM5.41 20L4 18.59l7.72-7.72 1.47 1.35L5.41 20z\"/>\n",
              "  </svg>\n",
              "      </button>\n",
              "      \n",
              "  <style>\n",
              "    .colab-df-container {\n",
              "      display:flex;\n",
              "      flex-wrap:wrap;\n",
              "      gap: 12px;\n",
              "    }\n",
              "\n",
              "    .colab-df-convert {\n",
              "      background-color: #E8F0FE;\n",
              "      border: none;\n",
              "      border-radius: 50%;\n",
              "      cursor: pointer;\n",
              "      display: none;\n",
              "      fill: #1967D2;\n",
              "      height: 32px;\n",
              "      padding: 0 0 0 0;\n",
              "      width: 32px;\n",
              "    }\n",
              "\n",
              "    .colab-df-convert:hover {\n",
              "      background-color: #E2EBFA;\n",
              "      box-shadow: 0px 1px 2px rgba(60, 64, 67, 0.3), 0px 1px 3px 1px rgba(60, 64, 67, 0.15);\n",
              "      fill: #174EA6;\n",
              "    }\n",
              "\n",
              "    [theme=dark] .colab-df-convert {\n",
              "      background-color: #3B4455;\n",
              "      fill: #D2E3FC;\n",
              "    }\n",
              "\n",
              "    [theme=dark] .colab-df-convert:hover {\n",
              "      background-color: #434B5C;\n",
              "      box-shadow: 0px 1px 3px 1px rgba(0, 0, 0, 0.15);\n",
              "      filter: drop-shadow(0px 1px 2px rgba(0, 0, 0, 0.3));\n",
              "      fill: #FFFFFF;\n",
              "    }\n",
              "  </style>\n",
              "\n",
              "      <script>\n",
              "        const buttonEl =\n",
              "          document.querySelector('#df-49ff5970-07b8-4d45-89e8-82a3b9ccb9aa button.colab-df-convert');\n",
              "        buttonEl.style.display =\n",
              "          google.colab.kernel.accessAllowed ? 'block' : 'none';\n",
              "\n",
              "        async function convertToInteractive(key) {\n",
              "          const element = document.querySelector('#df-49ff5970-07b8-4d45-89e8-82a3b9ccb9aa');\n",
              "          const dataTable =\n",
              "            await google.colab.kernel.invokeFunction('convertToInteractive',\n",
              "                                                     [key], {});\n",
              "          if (!dataTable) return;\n",
              "\n",
              "          const docLinkHtml = 'Like what you see? Visit the ' +\n",
              "            '<a target=\"_blank\" href=https://colab.research.google.com/notebooks/data_table.ipynb>data table notebook</a>'\n",
              "            + ' to learn more about interactive tables.';\n",
              "          element.innerHTML = '';\n",
              "          dataTable['output_type'] = 'display_data';\n",
              "          await google.colab.output.renderOutput(dataTable, element);\n",
              "          const docLink = document.createElement('div');\n",
              "          docLink.innerHTML = docLinkHtml;\n",
              "          element.appendChild(docLink);\n",
              "        }\n",
              "      </script>\n",
              "    </div>\n",
              "  </div>\n",
              "  "
            ]
          },
          "metadata": {},
          "execution_count": 22
        }
      ]
    },
    {
      "cell_type": "code",
      "source": [
        "# One for One Prediction\n",
        "#-----------------------------------------------\n",
        "pred=pd.DataFrame()\n",
        "df001=train_df.copy()\n",
        "df002=test_df.copy()\n",
        "est=200\n",
        "model5=CatBoostRegressor(silent=True,learning_rate=0.1, n_estimators=est)\n",
        "train_df=train_df.append(test_df[train_df.columns])\n",
        "train_df=train_df.sort_values(['device','timestamp'])\n",
        "train_df2=train_df.copy()\n",
        "for i in range(1,m,1):\n",
        "    train_df['last_pm2_5']=train_df.groupby(['device'])[target].shift(i)\n",
        "    for j in range(1,n,1):\n",
        "        train_df['last_'+str(j)+'pm2_5']=train_df.groupby(['device'])[target].shift(i+j)\n",
        "        train_df['last_'+str(j)+'pm2_5_trend']=train_df['last_'+str(j)+'pm2_5']/train_df['last_pm2_5']\n",
        "    test_df=train_df[train_df[target].isna()]\n",
        "    train_df=train_df[train_df[target].notna()]\n",
        "    test_df=test_df[test_df['last_pm2_5'].notna()]\n",
        "    train_df=train_df[train_df['last_pm2_5'].notna()]\n",
        "    print(len(train_df),len(test_df),i)\n",
        "    col=list(train_df.drop(drop_cols,axis=1).columns)\n",
        "    test_df[target]=model5.fit(train_df[col],train_df[target]).predict(test_df[col])\n",
        "    train_df=train_df2.copy()\n",
        "    pred=pred.append(test_df[['ID',target]])\n",
        "    if validation==1:\n",
        "        test_df=pd.merge(test_df[['ID',target]],scorer,on='ID',how='left')\n",
        "        print(mae(test_df['scorer'],test_df[target]))\n",
        "pred=pred.drop_duplicates('ID',keep='first')\n",
        "submission=pred.append(submission)\n",
        "#submission[target]=submission.groupby('ID')[target].transform('mean')\n",
        "submission=submission.drop_duplicates('ID',keep='first')\n",
        "train_df=df001.copy()\n",
        "test_df=df002.copy()\n",
        "del df001, df002"
      ],
      "metadata": {
        "colab": {
          "base_uri": "https://localhost:8080/"
        },
        "id": "hlodj0VchZM6",
        "outputId": "f86f2663-c666-409a-fa4e-73732cea1682"
      },
      "id": "hlodj0VchZM6",
      "execution_count": 23,
      "outputs": [
        {
          "output_type": "stream",
          "name": "stdout",
          "text": [
            "9889 34 1\n",
            "9855 68 2\n",
            "9821 102 3\n",
            "9787 136 4\n",
            "9753 170 5\n",
            "9719 204 6\n",
            "9685 238 7\n",
            "9651 272 8\n",
            "9617 306 9\n",
            "9583 340 10\n",
            "9549 374 11\n",
            "9515 408 12\n",
            "9481 442 13\n",
            "9447 476 14\n",
            "9413 510 15\n",
            "9379 544 16\n",
            "9345 578 17\n",
            "9311 612 18\n",
            "9277 646 19\n",
            "9243 680 20\n",
            "9209 714 21\n",
            "9175 748 22\n",
            "9141 782 23\n",
            "9107 816 24\n",
            "9073 850 25\n",
            "9039 884 26\n",
            "9005 918 27\n",
            "8971 952 28\n",
            "8937 986 29\n",
            "8903 1020 30\n",
            "8869 1054 31\n",
            "8835 1088 32\n",
            "8801 1122 33\n",
            "8767 1156 34\n",
            "8733 1190 35\n",
            "8699 1224 36\n",
            "8665 1258 37\n",
            "8631 1292 38\n",
            "8597 1326 39\n"
          ]
        }
      ]
    },
    {
      "cell_type": "code",
      "source": [
        "# New Devices Prediction\n",
        "#-----------------------------------------------\n",
        "test_df=test_df[test_df['ID'].isin(list(missing['ID'].unique()))]\n",
        "submission2=pd.DataFrame()\n",
        "drop_cols=test_df.columns[test_df.isnull().all()].tolist()[1:]\n",
        "cols=list(test_df[cols].drop(drop_cols,axis=1).columns)\n",
        "@model(\"model5new\")\n",
        "@pip_requirements(packages=[\"catboost\"])\n",
        "def train():\n",
        "    import catboost\n",
        "    from catboost import CatBoostRegressor\n",
        "    import pandas as pd\n",
        "    import matplotlib.pyplot as plt\n",
        "    import seaborn as sns\n",
        "    est=200\n",
        "    random_state = 42\n",
        "    layer.log({\"est\":est})\n",
        "    layer.log({\"random_state\":random_state})\n",
        "    model=CatBoostRegressor(silent=True,learning_rate=0.1, n_estimators=est).fit(train_df[cols],train_df[target])\n",
        "    importance = model.get_feature_importance()\n",
        "    importance_df = pd.DataFrame(importance, index=cols, columns=['Importance'])\n",
        "    importance_df = importance_df.sort_values(by='Importance', ascending=False)\n",
        "    importance_df = importance_df[importance_df['Importance'] > 0]\n",
        "    importance_df = importance_df.head(10)\n",
        "    plt.figure(figsize=(8,8))\n",
        "    plt.xticks(rotation=60, fontsize = 20)\n",
        "    sns.barplot(y=importance_df.index, x=importance_df['Importance'])\n",
        "    layer.log({\"Feature importance\": plt.gcf()})\n",
        "    return model\n",
        "layer.run([train],debug=True)\n",
        "model5new = layer.get_model(\"tomy4reel/aqssh-645h-wver/models/model5new\").get_train()\n",
        "submission2 = pd.DataFrame(data=test_df[\"ID\"], columns = [\"ID\"])\n",
        "submission2[\"pm2_5\"] = model5new.predict(test_df[cols])    \n",
        "submission=submission2.append(submission)\n",
        "submission=submission.drop_duplicates('ID')\n",
        "# replace predictions for new devices \n",
        "df5=pd.merge(ss[['ID']],submission,on='ID',how='left')\n",
        "df5"
      ],
      "metadata": {
        "colab": {
          "base_uri": "https://localhost:8080/",
          "height": 478,
          "referenced_widgets": [
            "f24b25795d2940c18a46e2dc40d633a8",
            "72f0b4dcb7264389af6eef5f712ec0e6",
            "57b0125c4c584c2c94a65c8bb4503724",
            "5506603ca7ce4a8d8adb8bdbe9c495ee"
          ]
        },
        "id": "wa-FYfeVhaRi",
        "outputId": "e97f6cef-e215-4fba-aa2c-dc485060c689"
      },
      "id": "wa-FYfeVhaRi",
      "execution_count": 24,
      "outputs": [
        {
          "output_type": "display_data",
          "data": {
            "text/plain": [
              "Output()"
            ],
            "application/vnd.jupyter.widget-view+json": {
              "version_major": 2,
              "version_minor": 0,
              "model_id": "f24b25795d2940c18a46e2dc40d633a8"
            }
          },
          "metadata": {}
        },
        {
          "output_type": "display_data",
          "data": {
            "text/plain": [],
            "text/html": [
              "<pre style=\"white-space:pre;overflow-x:auto;line-height:normal;font-family:Menlo,'DejaVu Sans Mono',consolas,'Courier New',monospace\"></pre>\n"
            ]
          },
          "metadata": {}
        },
        {
          "output_type": "display_data",
          "data": {
            "text/plain": [
              "\n"
            ],
            "text/html": [
              "<pre style=\"white-space:pre;overflow-x:auto;line-height:normal;font-family:Menlo,'DejaVu Sans Mono',consolas,'Courier New',monospace\">\n",
              "</pre>\n"
            ]
          },
          "metadata": {}
        },
        {
          "output_type": "display_data",
          "data": {
            "text/plain": [
              "Output()"
            ],
            "application/vnd.jupyter.widget-view+json": {
              "version_major": 2,
              "version_minor": 0,
              "model_id": "57b0125c4c584c2c94a65c8bb4503724"
            }
          },
          "metadata": {}
        },
        {
          "output_type": "display_data",
          "data": {
            "text/plain": [],
            "text/html": [
              "<pre style=\"white-space:pre;overflow-x:auto;line-height:normal;font-family:Menlo,'DejaVu Sans Mono',consolas,'Courier New',monospace\"></pre>\n"
            ]
          },
          "metadata": {}
        },
        {
          "output_type": "display_data",
          "data": {
            "text/plain": [
              "\n"
            ],
            "text/html": [
              "<pre style=\"white-space:pre;overflow-x:auto;line-height:normal;font-family:Menlo,'DejaVu Sans Mono',consolas,'Courier New',monospace\">\n",
              "</pre>\n"
            ]
          },
          "metadata": {}
        },
        {
          "output_type": "execute_result",
          "data": {
            "text/plain": [
              "                 ID      pm2_5\n",
              "0     ID_UOH62J0XHX  52.633002\n",
              "1     ID_4OPWSB0UHJ  93.021880\n",
              "2     ID_3SLMNNG1Z3  54.317341\n",
              "3     ID_MFUHTXYPM4  84.976998\n",
              "4     ID_TY1DAND8ZP  80.419835\n",
              "...             ...        ...\n",
              "4249  ID_NYKGOYFBKZ  57.571389\n",
              "4250  ID_IWO4EVLHSQ  65.104465\n",
              "4251  ID_G1M1IMY9WU  57.078758\n",
              "4252  ID_DXV65Q1QXI  68.697898\n",
              "4253  ID_RY4ONQKO9E  36.568121\n",
              "\n",
              "[4254 rows x 2 columns]"
            ],
            "text/html": [
              "\n",
              "  <div id=\"df-329dbce4-e540-4372-a569-560fd238338d\">\n",
              "    <div class=\"colab-df-container\">\n",
              "      <div>\n",
              "<style scoped>\n",
              "    .dataframe tbody tr th:only-of-type {\n",
              "        vertical-align: middle;\n",
              "    }\n",
              "\n",
              "    .dataframe tbody tr th {\n",
              "        vertical-align: top;\n",
              "    }\n",
              "\n",
              "    .dataframe thead th {\n",
              "        text-align: right;\n",
              "    }\n",
              "</style>\n",
              "<table border=\"1\" class=\"dataframe\">\n",
              "  <thead>\n",
              "    <tr style=\"text-align: right;\">\n",
              "      <th></th>\n",
              "      <th>ID</th>\n",
              "      <th>pm2_5</th>\n",
              "    </tr>\n",
              "  </thead>\n",
              "  <tbody>\n",
              "    <tr>\n",
              "      <th>0</th>\n",
              "      <td>ID_UOH62J0XHX</td>\n",
              "      <td>52.633002</td>\n",
              "    </tr>\n",
              "    <tr>\n",
              "      <th>1</th>\n",
              "      <td>ID_4OPWSB0UHJ</td>\n",
              "      <td>93.021880</td>\n",
              "    </tr>\n",
              "    <tr>\n",
              "      <th>2</th>\n",
              "      <td>ID_3SLMNNG1Z3</td>\n",
              "      <td>54.317341</td>\n",
              "    </tr>\n",
              "    <tr>\n",
              "      <th>3</th>\n",
              "      <td>ID_MFUHTXYPM4</td>\n",
              "      <td>84.976998</td>\n",
              "    </tr>\n",
              "    <tr>\n",
              "      <th>4</th>\n",
              "      <td>ID_TY1DAND8ZP</td>\n",
              "      <td>80.419835</td>\n",
              "    </tr>\n",
              "    <tr>\n",
              "      <th>...</th>\n",
              "      <td>...</td>\n",
              "      <td>...</td>\n",
              "    </tr>\n",
              "    <tr>\n",
              "      <th>4249</th>\n",
              "      <td>ID_NYKGOYFBKZ</td>\n",
              "      <td>57.571389</td>\n",
              "    </tr>\n",
              "    <tr>\n",
              "      <th>4250</th>\n",
              "      <td>ID_IWO4EVLHSQ</td>\n",
              "      <td>65.104465</td>\n",
              "    </tr>\n",
              "    <tr>\n",
              "      <th>4251</th>\n",
              "      <td>ID_G1M1IMY9WU</td>\n",
              "      <td>57.078758</td>\n",
              "    </tr>\n",
              "    <tr>\n",
              "      <th>4252</th>\n",
              "      <td>ID_DXV65Q1QXI</td>\n",
              "      <td>68.697898</td>\n",
              "    </tr>\n",
              "    <tr>\n",
              "      <th>4253</th>\n",
              "      <td>ID_RY4ONQKO9E</td>\n",
              "      <td>36.568121</td>\n",
              "    </tr>\n",
              "  </tbody>\n",
              "</table>\n",
              "<p>4254 rows × 2 columns</p>\n",
              "</div>\n",
              "      <button class=\"colab-df-convert\" onclick=\"convertToInteractive('df-329dbce4-e540-4372-a569-560fd238338d')\"\n",
              "              title=\"Convert this dataframe to an interactive table.\"\n",
              "              style=\"display:none;\">\n",
              "        \n",
              "  <svg xmlns=\"http://www.w3.org/2000/svg\" height=\"24px\"viewBox=\"0 0 24 24\"\n",
              "       width=\"24px\">\n",
              "    <path d=\"M0 0h24v24H0V0z\" fill=\"none\"/>\n",
              "    <path d=\"M18.56 5.44l.94 2.06.94-2.06 2.06-.94-2.06-.94-.94-2.06-.94 2.06-2.06.94zm-11 1L8.5 8.5l.94-2.06 2.06-.94-2.06-.94L8.5 2.5l-.94 2.06-2.06.94zm10 10l.94 2.06.94-2.06 2.06-.94-2.06-.94-.94-2.06-.94 2.06-2.06.94z\"/><path d=\"M17.41 7.96l-1.37-1.37c-.4-.4-.92-.59-1.43-.59-.52 0-1.04.2-1.43.59L10.3 9.45l-7.72 7.72c-.78.78-.78 2.05 0 2.83L4 21.41c.39.39.9.59 1.41.59.51 0 1.02-.2 1.41-.59l7.78-7.78 2.81-2.81c.8-.78.8-2.07 0-2.86zM5.41 20L4 18.59l7.72-7.72 1.47 1.35L5.41 20z\"/>\n",
              "  </svg>\n",
              "      </button>\n",
              "      \n",
              "  <style>\n",
              "    .colab-df-container {\n",
              "      display:flex;\n",
              "      flex-wrap:wrap;\n",
              "      gap: 12px;\n",
              "    }\n",
              "\n",
              "    .colab-df-convert {\n",
              "      background-color: #E8F0FE;\n",
              "      border: none;\n",
              "      border-radius: 50%;\n",
              "      cursor: pointer;\n",
              "      display: none;\n",
              "      fill: #1967D2;\n",
              "      height: 32px;\n",
              "      padding: 0 0 0 0;\n",
              "      width: 32px;\n",
              "    }\n",
              "\n",
              "    .colab-df-convert:hover {\n",
              "      background-color: #E2EBFA;\n",
              "      box-shadow: 0px 1px 2px rgba(60, 64, 67, 0.3), 0px 1px 3px 1px rgba(60, 64, 67, 0.15);\n",
              "      fill: #174EA6;\n",
              "    }\n",
              "\n",
              "    [theme=dark] .colab-df-convert {\n",
              "      background-color: #3B4455;\n",
              "      fill: #D2E3FC;\n",
              "    }\n",
              "\n",
              "    [theme=dark] .colab-df-convert:hover {\n",
              "      background-color: #434B5C;\n",
              "      box-shadow: 0px 1px 3px 1px rgba(0, 0, 0, 0.15);\n",
              "      filter: drop-shadow(0px 1px 2px rgba(0, 0, 0, 0.3));\n",
              "      fill: #FFFFFF;\n",
              "    }\n",
              "  </style>\n",
              "\n",
              "      <script>\n",
              "        const buttonEl =\n",
              "          document.querySelector('#df-329dbce4-e540-4372-a569-560fd238338d button.colab-df-convert');\n",
              "        buttonEl.style.display =\n",
              "          google.colab.kernel.accessAllowed ? 'block' : 'none';\n",
              "\n",
              "        async function convertToInteractive(key) {\n",
              "          const element = document.querySelector('#df-329dbce4-e540-4372-a569-560fd238338d');\n",
              "          const dataTable =\n",
              "            await google.colab.kernel.invokeFunction('convertToInteractive',\n",
              "                                                     [key], {});\n",
              "          if (!dataTable) return;\n",
              "\n",
              "          const docLinkHtml = 'Like what you see? Visit the ' +\n",
              "            '<a target=\"_blank\" href=https://colab.research.google.com/notebooks/data_table.ipynb>data table notebook</a>'\n",
              "            + ' to learn more about interactive tables.';\n",
              "          element.innerHTML = '';\n",
              "          dataTable['output_type'] = 'display_data';\n",
              "          await google.colab.output.renderOutput(dataTable, element);\n",
              "          const docLink = document.createElement('div');\n",
              "          docLink.innerHTML = docLinkHtml;\n",
              "          element.appendChild(docLink);\n",
              "        }\n",
              "      </script>\n",
              "    </div>\n",
              "  </div>\n",
              "  "
            ]
          },
          "metadata": {},
          "execution_count": 24
        }
      ]
    },
    {
      "cell_type": "markdown",
      "metadata": {
        "id": "22JjeT8wX8e4"
      },
      "source": [
        "# **3. Submit**"
      ],
      "id": "22JjeT8wX8e4"
    },
    {
      "cell_type": "code",
      "execution_count": 25,
      "metadata": {
        "id": "9PMIrlTvFpgL",
        "colab": {
          "base_uri": "https://localhost:8080/"
        },
        "outputId": "0aa24483-9435-4f97-b214-f94ad19b4527"
      },
      "outputs": [
        {
          "output_type": "stream",
          "name": "stdout",
          "text": [
            "pm2_5\n"
          ]
        }
      ],
      "source": [
        "# blend predictions\n",
        "df=df1.copy()\n",
        "df2=pd.merge(df1[[df1.columns[0]]],df2,on=df1.columns[0],how='left')\n",
        "df3=pd.merge(df1[[df1.columns[0]]],df3,on=df1.columns[0],how='left')\n",
        "df4=pd.merge(df1[[df1.columns[0]]],df4,on=df1.columns[0],how='left')\n",
        "df5=pd.merge(df1[[df1.columns[0]]],df5,on=df1.columns[0],how='left')\n",
        "for col in df1.columns[1:]:\n",
        "    print(col)\n",
        "    df[col]=(df1[[col]]*0.1225)+(df2[[col]]*0.2275)+(df3[[col]]*0.1225)+(df4[[col]]*0.2275)+(df5[[col]]*0.3)\n",
        "if validation==0:\n",
        "  df.to_csv('prediction.csv',index=False)\n",
        "elif validation==1:\n",
        "  scorer = layer.get_dataset(\"zindi/air-quality/datasets/train\").to_pandas()\n",
        "  scorer=pd.merge(df,scorer[['ID',target]],on='ID',how='left')\n",
        "  acc=mae(scorer['pm2_5_y'], scorer['pm2_5_x'])\n",
        "  print(acc)"
      ],
      "id": "9PMIrlTvFpgL"
    },
    {
      "cell_type": "code",
      "execution_count": 26,
      "metadata": {
        "id": "Dlch3nDHFz-E",
        "colab": {
          "base_uri": "https://localhost:8080/",
          "height": 424
        },
        "outputId": "93d63642-c325-418d-b3fe-464fddb6b92b"
      },
      "outputs": [
        {
          "output_type": "execute_result",
          "data": {
            "text/plain": [
              "                 ID       pm2_5\n",
              "0     ID_UOH62J0XHX   45.668597\n",
              "1     ID_4OPWSB0UHJ  101.083434\n",
              "2     ID_3SLMNNG1Z3   52.105219\n",
              "3     ID_MFUHTXYPM4   74.014803\n",
              "4     ID_TY1DAND8ZP   75.314358\n",
              "...             ...         ...\n",
              "4249  ID_NYKGOYFBKZ   47.712011\n",
              "4250  ID_IWO4EVLHSQ   71.101942\n",
              "4251  ID_G1M1IMY9WU   58.919457\n",
              "4252  ID_DXV65Q1QXI   62.785765\n",
              "4253  ID_RY4ONQKO9E   34.009376\n",
              "\n",
              "[4254 rows x 2 columns]"
            ],
            "text/html": [
              "\n",
              "  <div id=\"df-41808c99-6874-4f5a-81bd-7069482d5297\">\n",
              "    <div class=\"colab-df-container\">\n",
              "      <div>\n",
              "<style scoped>\n",
              "    .dataframe tbody tr th:only-of-type {\n",
              "        vertical-align: middle;\n",
              "    }\n",
              "\n",
              "    .dataframe tbody tr th {\n",
              "        vertical-align: top;\n",
              "    }\n",
              "\n",
              "    .dataframe thead th {\n",
              "        text-align: right;\n",
              "    }\n",
              "</style>\n",
              "<table border=\"1\" class=\"dataframe\">\n",
              "  <thead>\n",
              "    <tr style=\"text-align: right;\">\n",
              "      <th></th>\n",
              "      <th>ID</th>\n",
              "      <th>pm2_5</th>\n",
              "    </tr>\n",
              "  </thead>\n",
              "  <tbody>\n",
              "    <tr>\n",
              "      <th>0</th>\n",
              "      <td>ID_UOH62J0XHX</td>\n",
              "      <td>45.668597</td>\n",
              "    </tr>\n",
              "    <tr>\n",
              "      <th>1</th>\n",
              "      <td>ID_4OPWSB0UHJ</td>\n",
              "      <td>101.083434</td>\n",
              "    </tr>\n",
              "    <tr>\n",
              "      <th>2</th>\n",
              "      <td>ID_3SLMNNG1Z3</td>\n",
              "      <td>52.105219</td>\n",
              "    </tr>\n",
              "    <tr>\n",
              "      <th>3</th>\n",
              "      <td>ID_MFUHTXYPM4</td>\n",
              "      <td>74.014803</td>\n",
              "    </tr>\n",
              "    <tr>\n",
              "      <th>4</th>\n",
              "      <td>ID_TY1DAND8ZP</td>\n",
              "      <td>75.314358</td>\n",
              "    </tr>\n",
              "    <tr>\n",
              "      <th>...</th>\n",
              "      <td>...</td>\n",
              "      <td>...</td>\n",
              "    </tr>\n",
              "    <tr>\n",
              "      <th>4249</th>\n",
              "      <td>ID_NYKGOYFBKZ</td>\n",
              "      <td>47.712011</td>\n",
              "    </tr>\n",
              "    <tr>\n",
              "      <th>4250</th>\n",
              "      <td>ID_IWO4EVLHSQ</td>\n",
              "      <td>71.101942</td>\n",
              "    </tr>\n",
              "    <tr>\n",
              "      <th>4251</th>\n",
              "      <td>ID_G1M1IMY9WU</td>\n",
              "      <td>58.919457</td>\n",
              "    </tr>\n",
              "    <tr>\n",
              "      <th>4252</th>\n",
              "      <td>ID_DXV65Q1QXI</td>\n",
              "      <td>62.785765</td>\n",
              "    </tr>\n",
              "    <tr>\n",
              "      <th>4253</th>\n",
              "      <td>ID_RY4ONQKO9E</td>\n",
              "      <td>34.009376</td>\n",
              "    </tr>\n",
              "  </tbody>\n",
              "</table>\n",
              "<p>4254 rows × 2 columns</p>\n",
              "</div>\n",
              "      <button class=\"colab-df-convert\" onclick=\"convertToInteractive('df-41808c99-6874-4f5a-81bd-7069482d5297')\"\n",
              "              title=\"Convert this dataframe to an interactive table.\"\n",
              "              style=\"display:none;\">\n",
              "        \n",
              "  <svg xmlns=\"http://www.w3.org/2000/svg\" height=\"24px\"viewBox=\"0 0 24 24\"\n",
              "       width=\"24px\">\n",
              "    <path d=\"M0 0h24v24H0V0z\" fill=\"none\"/>\n",
              "    <path d=\"M18.56 5.44l.94 2.06.94-2.06 2.06-.94-2.06-.94-.94-2.06-.94 2.06-2.06.94zm-11 1L8.5 8.5l.94-2.06 2.06-.94-2.06-.94L8.5 2.5l-.94 2.06-2.06.94zm10 10l.94 2.06.94-2.06 2.06-.94-2.06-.94-.94-2.06-.94 2.06-2.06.94z\"/><path d=\"M17.41 7.96l-1.37-1.37c-.4-.4-.92-.59-1.43-.59-.52 0-1.04.2-1.43.59L10.3 9.45l-7.72 7.72c-.78.78-.78 2.05 0 2.83L4 21.41c.39.39.9.59 1.41.59.51 0 1.02-.2 1.41-.59l7.78-7.78 2.81-2.81c.8-.78.8-2.07 0-2.86zM5.41 20L4 18.59l7.72-7.72 1.47 1.35L5.41 20z\"/>\n",
              "  </svg>\n",
              "      </button>\n",
              "      \n",
              "  <style>\n",
              "    .colab-df-container {\n",
              "      display:flex;\n",
              "      flex-wrap:wrap;\n",
              "      gap: 12px;\n",
              "    }\n",
              "\n",
              "    .colab-df-convert {\n",
              "      background-color: #E8F0FE;\n",
              "      border: none;\n",
              "      border-radius: 50%;\n",
              "      cursor: pointer;\n",
              "      display: none;\n",
              "      fill: #1967D2;\n",
              "      height: 32px;\n",
              "      padding: 0 0 0 0;\n",
              "      width: 32px;\n",
              "    }\n",
              "\n",
              "    .colab-df-convert:hover {\n",
              "      background-color: #E2EBFA;\n",
              "      box-shadow: 0px 1px 2px rgba(60, 64, 67, 0.3), 0px 1px 3px 1px rgba(60, 64, 67, 0.15);\n",
              "      fill: #174EA6;\n",
              "    }\n",
              "\n",
              "    [theme=dark] .colab-df-convert {\n",
              "      background-color: #3B4455;\n",
              "      fill: #D2E3FC;\n",
              "    }\n",
              "\n",
              "    [theme=dark] .colab-df-convert:hover {\n",
              "      background-color: #434B5C;\n",
              "      box-shadow: 0px 1px 3px 1px rgba(0, 0, 0, 0.15);\n",
              "      filter: drop-shadow(0px 1px 2px rgba(0, 0, 0, 0.3));\n",
              "      fill: #FFFFFF;\n",
              "    }\n",
              "  </style>\n",
              "\n",
              "      <script>\n",
              "        const buttonEl =\n",
              "          document.querySelector('#df-41808c99-6874-4f5a-81bd-7069482d5297 button.colab-df-convert');\n",
              "        buttonEl.style.display =\n",
              "          google.colab.kernel.accessAllowed ? 'block' : 'none';\n",
              "\n",
              "        async function convertToInteractive(key) {\n",
              "          const element = document.querySelector('#df-41808c99-6874-4f5a-81bd-7069482d5297');\n",
              "          const dataTable =\n",
              "            await google.colab.kernel.invokeFunction('convertToInteractive',\n",
              "                                                     [key], {});\n",
              "          if (!dataTable) return;\n",
              "\n",
              "          const docLinkHtml = 'Like what you see? Visit the ' +\n",
              "            '<a target=\"_blank\" href=https://colab.research.google.com/notebooks/data_table.ipynb>data table notebook</a>'\n",
              "            + ' to learn more about interactive tables.';\n",
              "          element.innerHTML = '';\n",
              "          dataTable['output_type'] = 'display_data';\n",
              "          await google.colab.output.renderOutput(dataTable, element);\n",
              "          const docLink = document.createElement('div');\n",
              "          docLink.innerHTML = docLinkHtml;\n",
              "          element.appendChild(docLink);\n",
              "        }\n",
              "      </script>\n",
              "    </div>\n",
              "  </div>\n",
              "  "
            ]
          },
          "metadata": {},
          "execution_count": 26
        }
      ],
      "source": [
        "df"
      ],
      "id": "Dlch3nDHFz-E"
    },
    {
      "cell_type": "code",
      "execution_count": 26,
      "metadata": {
        "id": "in_cyzPtFJOO"
      },
      "outputs": [],
      "source": [],
      "id": "in_cyzPtFJOO"
    },
    {
      "cell_type": "code",
      "source": [],
      "metadata": {
        "id": "1MCQun9WaJG0"
      },
      "id": "1MCQun9WaJG0",
      "execution_count": 26,
      "outputs": []
    }
  ],
  "metadata": {
    "colab": {
      "collapsed_sections": [],
      "provenance": []
    },
    "kernelspec": {
      "display_name": "Python 3 (ipykernel)",
      "language": "python",
      "name": "python3"
    },
    "language_info": {
      "codemirror_mode": {
        "name": "ipython",
        "version": 3
      },
      "file_extension": ".py",
      "mimetype": "text/x-python",
      "name": "python",
      "nbconvert_exporter": "python",
      "pygments_lexer": "ipython3",
      "version": "3.8.13"
    },
    "widgets": {
      "application/vnd.jupyter.widget-state+json": {
        "e1e8d9baf651473ba3c6a5065288e1b1": {
          "model_module": "@jupyter-widgets/output",
          "model_name": "OutputModel",
          "model_module_version": "1.0.0",
          "state": {
            "_dom_classes": [],
            "_model_module": "@jupyter-widgets/output",
            "_model_module_version": "1.0.0",
            "_model_name": "OutputModel",
            "_view_count": null,
            "_view_module": "@jupyter-widgets/output",
            "_view_module_version": "1.0.0",
            "_view_name": "OutputView",
            "layout": "IPY_MODEL_38c27983783f4cef93f9be044454d201",
            "msg_id": "",
            "outputs": [
              {
                "output_type": "display_data",
                "data": {
                  "text/plain": "\u001b[32m⠏\u001b[0m  sample_submission    \u001b[38;2;21;127;61m━━━━━━━━━━\u001b[0m \u001b[38;2;21;127;61mLOADED\u001b[0m \u001b[39m[\u001b[0m\u001b[38;2;155;155;159m0:00:00\u001b[0m\u001b[39m]\u001b[0m \n",
                  "text/html": "<pre style=\"white-space:pre;overflow-x:auto;line-height:normal;font-family:Menlo,'DejaVu Sans Mono',consolas,'Courier New',monospace\"><span style=\"color: #008000; text-decoration-color: #008000\">⠏</span>  sample_submission    <span style=\"color: #157f3d; text-decoration-color: #157f3d\">━━━━━━━━━━</span> <span style=\"color: #157f3d; text-decoration-color: #157f3d\">LOADED</span> <span style=\"color: #000000; text-decoration-color: #000000\">[</span><span style=\"color: #9b9b9f; text-decoration-color: #9b9b9f\">0:00:00</span><span style=\"color: #000000; text-decoration-color: #000000\">]</span> \n</pre>\n"
                },
                "metadata": {}
              }
            ]
          }
        },
        "38c27983783f4cef93f9be044454d201": {
          "model_module": "@jupyter-widgets/base",
          "model_name": "LayoutModel",
          "model_module_version": "1.2.0",
          "state": {
            "_model_module": "@jupyter-widgets/base",
            "_model_module_version": "1.2.0",
            "_model_name": "LayoutModel",
            "_view_count": null,
            "_view_module": "@jupyter-widgets/base",
            "_view_module_version": "1.2.0",
            "_view_name": "LayoutView",
            "align_content": null,
            "align_items": null,
            "align_self": null,
            "border": null,
            "bottom": null,
            "display": null,
            "flex": null,
            "flex_flow": null,
            "grid_area": null,
            "grid_auto_columns": null,
            "grid_auto_flow": null,
            "grid_auto_rows": null,
            "grid_column": null,
            "grid_gap": null,
            "grid_row": null,
            "grid_template_areas": null,
            "grid_template_columns": null,
            "grid_template_rows": null,
            "height": null,
            "justify_content": null,
            "justify_items": null,
            "left": null,
            "margin": null,
            "max_height": null,
            "max_width": null,
            "min_height": null,
            "min_width": null,
            "object_fit": null,
            "object_position": null,
            "order": null,
            "overflow": null,
            "overflow_x": null,
            "overflow_y": null,
            "padding": null,
            "right": null,
            "top": null,
            "visibility": null,
            "width": null
          }
        },
        "b00c26e983374df3b753e4fc9d85df7f": {
          "model_module": "@jupyter-widgets/output",
          "model_name": "OutputModel",
          "model_module_version": "1.0.0",
          "state": {
            "_dom_classes": [],
            "_model_module": "@jupyter-widgets/output",
            "_model_module_version": "1.0.0",
            "_model_name": "OutputModel",
            "_view_count": null,
            "_view_module": "@jupyter-widgets/output",
            "_view_module_version": "1.0.0",
            "_view_name": "OutputView",
            "layout": "IPY_MODEL_2a2d0bc9789a4032b06f946915e7c70a",
            "msg_id": "",
            "outputs": [
              {
                "output_type": "display_data",
                "data": {
                  "text/plain": "\u001b[32m⠇\u001b[0m  test                 \u001b[38;2;21;127;61m━━━━━━━━━━\u001b[0m \u001b[38;2;21;127;61mLOADED\u001b[0m \u001b[39m[\u001b[0m\u001b[38;2;155;155;159m0:00:00\u001b[0m\u001b[39m]\u001b[0m \n",
                  "text/html": "<pre style=\"white-space:pre;overflow-x:auto;line-height:normal;font-family:Menlo,'DejaVu Sans Mono',consolas,'Courier New',monospace\"><span style=\"color: #008000; text-decoration-color: #008000\">⠇</span>  test                 <span style=\"color: #157f3d; text-decoration-color: #157f3d\">━━━━━━━━━━</span> <span style=\"color: #157f3d; text-decoration-color: #157f3d\">LOADED</span> <span style=\"color: #000000; text-decoration-color: #000000\">[</span><span style=\"color: #9b9b9f; text-decoration-color: #9b9b9f\">0:00:00</span><span style=\"color: #000000; text-decoration-color: #000000\">]</span> \n</pre>\n"
                },
                "metadata": {}
              }
            ]
          }
        },
        "2a2d0bc9789a4032b06f946915e7c70a": {
          "model_module": "@jupyter-widgets/base",
          "model_name": "LayoutModel",
          "model_module_version": "1.2.0",
          "state": {
            "_model_module": "@jupyter-widgets/base",
            "_model_module_version": "1.2.0",
            "_model_name": "LayoutModel",
            "_view_count": null,
            "_view_module": "@jupyter-widgets/base",
            "_view_module_version": "1.2.0",
            "_view_name": "LayoutView",
            "align_content": null,
            "align_items": null,
            "align_self": null,
            "border": null,
            "bottom": null,
            "display": null,
            "flex": null,
            "flex_flow": null,
            "grid_area": null,
            "grid_auto_columns": null,
            "grid_auto_flow": null,
            "grid_auto_rows": null,
            "grid_column": null,
            "grid_gap": null,
            "grid_row": null,
            "grid_template_areas": null,
            "grid_template_columns": null,
            "grid_template_rows": null,
            "height": null,
            "justify_content": null,
            "justify_items": null,
            "left": null,
            "margin": null,
            "max_height": null,
            "max_width": null,
            "min_height": null,
            "min_width": null,
            "object_fit": null,
            "object_position": null,
            "order": null,
            "overflow": null,
            "overflow_x": null,
            "overflow_y": null,
            "padding": null,
            "right": null,
            "top": null,
            "visibility": null,
            "width": null
          }
        },
        "a08c08dc78a9433f8926b2b5df35dc12": {
          "model_module": "@jupyter-widgets/output",
          "model_name": "OutputModel",
          "model_module_version": "1.0.0",
          "state": {
            "_dom_classes": [],
            "_model_module": "@jupyter-widgets/output",
            "_model_module_version": "1.0.0",
            "_model_name": "OutputModel",
            "_view_count": null,
            "_view_module": "@jupyter-widgets/output",
            "_view_module_version": "1.0.0",
            "_view_name": "OutputView",
            "layout": "IPY_MODEL_b8a79537c1ef4a35a5b7c533ee99c2e1",
            "msg_id": "",
            "outputs": [
              {
                "output_type": "display_data",
                "data": {
                  "text/plain": "\u001b[32m⠇\u001b[0m  train                \u001b[38;2;21;127;61m━━━━━━━━━━\u001b[0m \u001b[38;2;21;127;61mLOADED\u001b[0m \u001b[39m[\u001b[0m\u001b[38;2;155;155;159m0:00:00\u001b[0m\u001b[39m]\u001b[0m \n",
                  "text/html": "<pre style=\"white-space:pre;overflow-x:auto;line-height:normal;font-family:Menlo,'DejaVu Sans Mono',consolas,'Courier New',monospace\"><span style=\"color: #008000; text-decoration-color: #008000\">⠇</span>  train                <span style=\"color: #157f3d; text-decoration-color: #157f3d\">━━━━━━━━━━</span> <span style=\"color: #157f3d; text-decoration-color: #157f3d\">LOADED</span> <span style=\"color: #000000; text-decoration-color: #000000\">[</span><span style=\"color: #9b9b9f; text-decoration-color: #9b9b9f\">0:00:00</span><span style=\"color: #000000; text-decoration-color: #000000\">]</span> \n</pre>\n"
                },
                "metadata": {}
              }
            ]
          }
        },
        "b8a79537c1ef4a35a5b7c533ee99c2e1": {
          "model_module": "@jupyter-widgets/base",
          "model_name": "LayoutModel",
          "model_module_version": "1.2.0",
          "state": {
            "_model_module": "@jupyter-widgets/base",
            "_model_module_version": "1.2.0",
            "_model_name": "LayoutModel",
            "_view_count": null,
            "_view_module": "@jupyter-widgets/base",
            "_view_module_version": "1.2.0",
            "_view_name": "LayoutView",
            "align_content": null,
            "align_items": null,
            "align_self": null,
            "border": null,
            "bottom": null,
            "display": null,
            "flex": null,
            "flex_flow": null,
            "grid_area": null,
            "grid_auto_columns": null,
            "grid_auto_flow": null,
            "grid_auto_rows": null,
            "grid_column": null,
            "grid_gap": null,
            "grid_row": null,
            "grid_template_areas": null,
            "grid_template_columns": null,
            "grid_template_rows": null,
            "height": null,
            "justify_content": null,
            "justify_items": null,
            "left": null,
            "margin": null,
            "max_height": null,
            "max_width": null,
            "min_height": null,
            "min_width": null,
            "object_fit": null,
            "object_position": null,
            "order": null,
            "overflow": null,
            "overflow_x": null,
            "overflow_y": null,
            "padding": null,
            "right": null,
            "top": null,
            "visibility": null,
            "width": null
          }
        },
        "f6a8f0f275e44b4386d35136bc9be019": {
          "model_module": "@jupyter-widgets/output",
          "model_name": "OutputModel",
          "model_module_version": "1.0.0",
          "state": {
            "_dom_classes": [],
            "_model_module": "@jupyter-widgets/output",
            "_model_module_version": "1.0.0",
            "_model_name": "OutputModel",
            "_view_count": null,
            "_view_module": "@jupyter-widgets/output",
            "_view_module_version": "1.0.0",
            "_view_name": "OutputView",
            "layout": "IPY_MODEL_653c9f724ba3423293c16830aad75a97",
            "msg_id": "",
            "outputs": [
              {
                "output_type": "display_data",
                "data": {
                  "text/plain": "✅  model1all            \u001b[38;2;21;127;61m━━━━━━━━━━\u001b[0m \u001b[38;2;21;127;61mDONE\u001b[0m \u001b[39m[\u001b[0m\u001b[38;2;155;155;159m0:02:05\u001b[0m\u001b[39m]\u001b[0m                          \n    \u001b[4;38;2;161;161;169m↳ \u001b[0m\u001b]8;id=933124;https://app.layer.ai/tomy4reel/aqssh-645h-wver/models/model1all?v=1.2\u001b\\\u001b[4;38;2;161;161;169mhttps://app.layer.ai/tomy4reel/aqssh-645h-wver/models/model1all?v=1.2\u001b[0m\u001b]8;;\u001b\\ \n",
                  "text/html": "<pre style=\"white-space:pre;overflow-x:auto;line-height:normal;font-family:Menlo,'DejaVu Sans Mono',consolas,'Courier New',monospace\">✅  model1all            <span style=\"color: #157f3d; text-decoration-color: #157f3d\">━━━━━━━━━━</span> <span style=\"color: #157f3d; text-decoration-color: #157f3d\">DONE</span> <span style=\"color: #000000; text-decoration-color: #000000\">[</span><span style=\"color: #9b9b9f; text-decoration-color: #9b9b9f\">0:02:05</span><span style=\"color: #000000; text-decoration-color: #000000\">]</span>                          \n    <span style=\"color: #a1a1a9; text-decoration-color: #a1a1a9; text-decoration: underline\">↳ </span><a href=\"https://app.layer.ai/tomy4reel/aqssh-645h-wver/models/model1all?v=1.2\" target=\"_blank\"><span style=\"color: #a1a1a9; text-decoration-color: #a1a1a9; text-decoration: underline\">https://app.layer.ai/tomy4reel/aqssh-645h-wver/models/model1all?v=1.2</span></a> \n</pre>\n"
                },
                "metadata": {}
              }
            ]
          }
        },
        "653c9f724ba3423293c16830aad75a97": {
          "model_module": "@jupyter-widgets/base",
          "model_name": "LayoutModel",
          "model_module_version": "1.2.0",
          "state": {
            "_model_module": "@jupyter-widgets/base",
            "_model_module_version": "1.2.0",
            "_model_name": "LayoutModel",
            "_view_count": null,
            "_view_module": "@jupyter-widgets/base",
            "_view_module_version": "1.2.0",
            "_view_name": "LayoutView",
            "align_content": null,
            "align_items": null,
            "align_self": null,
            "border": null,
            "bottom": null,
            "display": null,
            "flex": null,
            "flex_flow": null,
            "grid_area": null,
            "grid_auto_columns": null,
            "grid_auto_flow": null,
            "grid_auto_rows": null,
            "grid_column": null,
            "grid_gap": null,
            "grid_row": null,
            "grid_template_areas": null,
            "grid_template_columns": null,
            "grid_template_rows": null,
            "height": null,
            "justify_content": null,
            "justify_items": null,
            "left": null,
            "margin": null,
            "max_height": null,
            "max_width": null,
            "min_height": null,
            "min_width": null,
            "object_fit": null,
            "object_position": null,
            "order": null,
            "overflow": null,
            "overflow_x": null,
            "overflow_y": null,
            "padding": null,
            "right": null,
            "top": null,
            "visibility": null,
            "width": null
          }
        },
        "d2918b7ad6d44a1f9575087f605ea2d1": {
          "model_module": "@jupyter-widgets/output",
          "model_name": "OutputModel",
          "model_module_version": "1.0.0",
          "state": {
            "_dom_classes": [],
            "_model_module": "@jupyter-widgets/output",
            "_model_module_version": "1.0.0",
            "_model_name": "OutputModel",
            "_view_count": null,
            "_view_module": "@jupyter-widgets/output",
            "_view_module_version": "1.0.0",
            "_view_name": "OutputView",
            "layout": "IPY_MODEL_9135ac1a2edd49649b8e132c6f78e7a5",
            "msg_id": "",
            "outputs": [
              {
                "output_type": "display_data",
                "data": {
                  "text/plain": "\u001b[32m⠧\u001b[0m  model1all            \u001b[38;2;21;127;61m━━━━━━━━━━\u001b[0m \u001b[38;2;21;127;61mLOADED\u001b[0m \u001b[39m[\u001b[0m\u001b[38;2;155;155;159m676 kB/676 kB\u001b[0m\u001b[39m, \u001b[0m\u001b[38;2;155;155;159m338.2 kB/s\u001b[0m\u001b[39m, \u001b[0m\u001b[38;2;155;155;159m0:00:03\u001b[0m\u001b[39m]\u001b[0m \n",
                  "text/html": "<pre style=\"white-space:pre;overflow-x:auto;line-height:normal;font-family:Menlo,'DejaVu Sans Mono',consolas,'Courier New',monospace\"><span style=\"color: #008000; text-decoration-color: #008000\">⠧</span>  model1all            <span style=\"color: #157f3d; text-decoration-color: #157f3d\">━━━━━━━━━━</span> <span style=\"color: #157f3d; text-decoration-color: #157f3d\">LOADED</span> <span style=\"color: #000000; text-decoration-color: #000000\">[</span><span style=\"color: #9b9b9f; text-decoration-color: #9b9b9f\">676 kB/676 kB</span><span style=\"color: #000000; text-decoration-color: #000000\">, </span><span style=\"color: #9b9b9f; text-decoration-color: #9b9b9f\">338.2 kB/s</span><span style=\"color: #000000; text-decoration-color: #000000\">, </span><span style=\"color: #9b9b9f; text-decoration-color: #9b9b9f\">0:00:03</span><span style=\"color: #000000; text-decoration-color: #000000\">]</span> \n</pre>\n"
                },
                "metadata": {}
              }
            ]
          }
        },
        "9135ac1a2edd49649b8e132c6f78e7a5": {
          "model_module": "@jupyter-widgets/base",
          "model_name": "LayoutModel",
          "model_module_version": "1.2.0",
          "state": {
            "_model_module": "@jupyter-widgets/base",
            "_model_module_version": "1.2.0",
            "_model_name": "LayoutModel",
            "_view_count": null,
            "_view_module": "@jupyter-widgets/base",
            "_view_module_version": "1.2.0",
            "_view_name": "LayoutView",
            "align_content": null,
            "align_items": null,
            "align_self": null,
            "border": null,
            "bottom": null,
            "display": null,
            "flex": null,
            "flex_flow": null,
            "grid_area": null,
            "grid_auto_columns": null,
            "grid_auto_flow": null,
            "grid_auto_rows": null,
            "grid_column": null,
            "grid_gap": null,
            "grid_row": null,
            "grid_template_areas": null,
            "grid_template_columns": null,
            "grid_template_rows": null,
            "height": null,
            "justify_content": null,
            "justify_items": null,
            "left": null,
            "margin": null,
            "max_height": null,
            "max_width": null,
            "min_height": null,
            "min_width": null,
            "object_fit": null,
            "object_position": null,
            "order": null,
            "overflow": null,
            "overflow_x": null,
            "overflow_y": null,
            "padding": null,
            "right": null,
            "top": null,
            "visibility": null,
            "width": null
          }
        },
        "4e8c202e449e42f2ba1572cc0a015a2f": {
          "model_module": "@jupyter-widgets/output",
          "model_name": "OutputModel",
          "model_module_version": "1.0.0",
          "state": {
            "_dom_classes": [],
            "_model_module": "@jupyter-widgets/output",
            "_model_module_version": "1.0.0",
            "_model_name": "OutputModel",
            "_view_count": null,
            "_view_module": "@jupyter-widgets/output",
            "_view_module_version": "1.0.0",
            "_view_name": "OutputView",
            "layout": "IPY_MODEL_53a99ea6ae0a4fb9928c4d09c64c6739",
            "msg_id": "",
            "outputs": [
              {
                "output_type": "display_data",
                "data": {
                  "text/plain": "✅  model1new            \u001b[38;2;21;127;61m━━━━━━━━━━\u001b[0m \u001b[38;2;21;127;61mDONE\u001b[0m \u001b[39m[\u001b[0m\u001b[38;2;155;155;159m0:01:05\u001b[0m\u001b[39m]\u001b[0m                          \n    \u001b[4;38;2;161;161;169m↳ \u001b[0m\u001b]8;id=532121;https://app.layer.ai/tomy4reel/aqssh-645h-wver/models/model1new?v=1.1\u001b\\\u001b[4;38;2;161;161;169mhttps://app.layer.ai/tomy4reel/aqssh-645h-wver/models/model1new?v=1.1\u001b[0m\u001b]8;;\u001b\\ \n",
                  "text/html": "<pre style=\"white-space:pre;overflow-x:auto;line-height:normal;font-family:Menlo,'DejaVu Sans Mono',consolas,'Courier New',monospace\">✅  model1new            <span style=\"color: #157f3d; text-decoration-color: #157f3d\">━━━━━━━━━━</span> <span style=\"color: #157f3d; text-decoration-color: #157f3d\">DONE</span> <span style=\"color: #000000; text-decoration-color: #000000\">[</span><span style=\"color: #9b9b9f; text-decoration-color: #9b9b9f\">0:01:05</span><span style=\"color: #000000; text-decoration-color: #000000\">]</span>                          \n    <span style=\"color: #a1a1a9; text-decoration-color: #a1a1a9; text-decoration: underline\">↳ </span><a href=\"https://app.layer.ai/tomy4reel/aqssh-645h-wver/models/model1new?v=1.1\" target=\"_blank\"><span style=\"color: #a1a1a9; text-decoration-color: #a1a1a9; text-decoration: underline\">https://app.layer.ai/tomy4reel/aqssh-645h-wver/models/model1new?v=1.1</span></a> \n</pre>\n"
                },
                "metadata": {}
              }
            ]
          }
        },
        "53a99ea6ae0a4fb9928c4d09c64c6739": {
          "model_module": "@jupyter-widgets/base",
          "model_name": "LayoutModel",
          "model_module_version": "1.2.0",
          "state": {
            "_model_module": "@jupyter-widgets/base",
            "_model_module_version": "1.2.0",
            "_model_name": "LayoutModel",
            "_view_count": null,
            "_view_module": "@jupyter-widgets/base",
            "_view_module_version": "1.2.0",
            "_view_name": "LayoutView",
            "align_content": null,
            "align_items": null,
            "align_self": null,
            "border": null,
            "bottom": null,
            "display": null,
            "flex": null,
            "flex_flow": null,
            "grid_area": null,
            "grid_auto_columns": null,
            "grid_auto_flow": null,
            "grid_auto_rows": null,
            "grid_column": null,
            "grid_gap": null,
            "grid_row": null,
            "grid_template_areas": null,
            "grid_template_columns": null,
            "grid_template_rows": null,
            "height": null,
            "justify_content": null,
            "justify_items": null,
            "left": null,
            "margin": null,
            "max_height": null,
            "max_width": null,
            "min_height": null,
            "min_width": null,
            "object_fit": null,
            "object_position": null,
            "order": null,
            "overflow": null,
            "overflow_x": null,
            "overflow_y": null,
            "padding": null,
            "right": null,
            "top": null,
            "visibility": null,
            "width": null
          }
        },
        "51af61991eca46c681dbfbfec485094f": {
          "model_module": "@jupyter-widgets/output",
          "model_name": "OutputModel",
          "model_module_version": "1.0.0",
          "state": {
            "_dom_classes": [],
            "_model_module": "@jupyter-widgets/output",
            "_model_module_version": "1.0.0",
            "_model_name": "OutputModel",
            "_view_count": null,
            "_view_module": "@jupyter-widgets/output",
            "_view_module_version": "1.0.0",
            "_view_name": "OutputView",
            "layout": "IPY_MODEL_21abe46f88b841f3803e4e209d62e59e",
            "msg_id": "",
            "outputs": [
              {
                "output_type": "display_data",
                "data": {
                  "text/plain": "\u001b[32m⠹\u001b[0m  model1new            \u001b[38;2;21;127;61m━━━━━━━━━━\u001b[0m \u001b[38;2;21;127;61mLOADED\u001b[0m \u001b[39m[\u001b[0m\u001b[38;2;155;155;159m345 kB/345 kB\u001b[0m\u001b[39m, \u001b[0m\u001b[38;2;155;155;159m172.7 kB/s\u001b[0m\u001b[39m, \u001b[0m\u001b[38;2;155;155;159m0:00:03\u001b[0m\u001b[39m]\u001b[0m \n",
                  "text/html": "<pre style=\"white-space:pre;overflow-x:auto;line-height:normal;font-family:Menlo,'DejaVu Sans Mono',consolas,'Courier New',monospace\"><span style=\"color: #008000; text-decoration-color: #008000\">⠹</span>  model1new            <span style=\"color: #157f3d; text-decoration-color: #157f3d\">━━━━━━━━━━</span> <span style=\"color: #157f3d; text-decoration-color: #157f3d\">LOADED</span> <span style=\"color: #000000; text-decoration-color: #000000\">[</span><span style=\"color: #9b9b9f; text-decoration-color: #9b9b9f\">345 kB/345 kB</span><span style=\"color: #000000; text-decoration-color: #000000\">, </span><span style=\"color: #9b9b9f; text-decoration-color: #9b9b9f\">172.7 kB/s</span><span style=\"color: #000000; text-decoration-color: #000000\">, </span><span style=\"color: #9b9b9f; text-decoration-color: #9b9b9f\">0:00:03</span><span style=\"color: #000000; text-decoration-color: #000000\">]</span> \n</pre>\n"
                },
                "metadata": {}
              }
            ]
          }
        },
        "21abe46f88b841f3803e4e209d62e59e": {
          "model_module": "@jupyter-widgets/base",
          "model_name": "LayoutModel",
          "model_module_version": "1.2.0",
          "state": {
            "_model_module": "@jupyter-widgets/base",
            "_model_module_version": "1.2.0",
            "_model_name": "LayoutModel",
            "_view_count": null,
            "_view_module": "@jupyter-widgets/base",
            "_view_module_version": "1.2.0",
            "_view_name": "LayoutView",
            "align_content": null,
            "align_items": null,
            "align_self": null,
            "border": null,
            "bottom": null,
            "display": null,
            "flex": null,
            "flex_flow": null,
            "grid_area": null,
            "grid_auto_columns": null,
            "grid_auto_flow": null,
            "grid_auto_rows": null,
            "grid_column": null,
            "grid_gap": null,
            "grid_row": null,
            "grid_template_areas": null,
            "grid_template_columns": null,
            "grid_template_rows": null,
            "height": null,
            "justify_content": null,
            "justify_items": null,
            "left": null,
            "margin": null,
            "max_height": null,
            "max_width": null,
            "min_height": null,
            "min_width": null,
            "object_fit": null,
            "object_position": null,
            "order": null,
            "overflow": null,
            "overflow_x": null,
            "overflow_y": null,
            "padding": null,
            "right": null,
            "top": null,
            "visibility": null,
            "width": null
          }
        },
        "b508f90551d54b7b989b1a35dcc1743e": {
          "model_module": "@jupyter-widgets/output",
          "model_name": "OutputModel",
          "model_module_version": "1.0.0",
          "state": {
            "_dom_classes": [],
            "_model_module": "@jupyter-widgets/output",
            "_model_module_version": "1.0.0",
            "_model_name": "OutputModel",
            "_view_count": null,
            "_view_module": "@jupyter-widgets/output",
            "_view_module_version": "1.0.0",
            "_view_name": "OutputView",
            "layout": "IPY_MODEL_ec48fd58b2c24e3f8f924b59757b76b1",
            "msg_id": "",
            "outputs": [
              {
                "output_type": "display_data",
                "data": {
                  "text/plain": "\u001b[32m⠇\u001b[0m  test                 \u001b[38;2;21;127;61m━━━━━━━━━━\u001b[0m \u001b[38;2;21;127;61mLOADED\u001b[0m \u001b[39m[\u001b[0m\u001b[38;2;155;155;159m0:00:00\u001b[0m\u001b[39m]\u001b[0m \n",
                  "text/html": "<pre style=\"white-space:pre;overflow-x:auto;line-height:normal;font-family:Menlo,'DejaVu Sans Mono',consolas,'Courier New',monospace\"><span style=\"color: #008000; text-decoration-color: #008000\">⠇</span>  test                 <span style=\"color: #157f3d; text-decoration-color: #157f3d\">━━━━━━━━━━</span> <span style=\"color: #157f3d; text-decoration-color: #157f3d\">LOADED</span> <span style=\"color: #000000; text-decoration-color: #000000\">[</span><span style=\"color: #9b9b9f; text-decoration-color: #9b9b9f\">0:00:00</span><span style=\"color: #000000; text-decoration-color: #000000\">]</span> \n</pre>\n"
                },
                "metadata": {}
              }
            ]
          }
        },
        "ec48fd58b2c24e3f8f924b59757b76b1": {
          "model_module": "@jupyter-widgets/base",
          "model_name": "LayoutModel",
          "model_module_version": "1.2.0",
          "state": {
            "_model_module": "@jupyter-widgets/base",
            "_model_module_version": "1.2.0",
            "_model_name": "LayoutModel",
            "_view_count": null,
            "_view_module": "@jupyter-widgets/base",
            "_view_module_version": "1.2.0",
            "_view_name": "LayoutView",
            "align_content": null,
            "align_items": null,
            "align_self": null,
            "border": null,
            "bottom": null,
            "display": null,
            "flex": null,
            "flex_flow": null,
            "grid_area": null,
            "grid_auto_columns": null,
            "grid_auto_flow": null,
            "grid_auto_rows": null,
            "grid_column": null,
            "grid_gap": null,
            "grid_row": null,
            "grid_template_areas": null,
            "grid_template_columns": null,
            "grid_template_rows": null,
            "height": null,
            "justify_content": null,
            "justify_items": null,
            "left": null,
            "margin": null,
            "max_height": null,
            "max_width": null,
            "min_height": null,
            "min_width": null,
            "object_fit": null,
            "object_position": null,
            "order": null,
            "overflow": null,
            "overflow_x": null,
            "overflow_y": null,
            "padding": null,
            "right": null,
            "top": null,
            "visibility": null,
            "width": null
          }
        },
        "a93b80860b144a878f8acefafb775a9f": {
          "model_module": "@jupyter-widgets/output",
          "model_name": "OutputModel",
          "model_module_version": "1.0.0",
          "state": {
            "_dom_classes": [],
            "_model_module": "@jupyter-widgets/output",
            "_model_module_version": "1.0.0",
            "_model_name": "OutputModel",
            "_view_count": null,
            "_view_module": "@jupyter-widgets/output",
            "_view_module_version": "1.0.0",
            "_view_name": "OutputView",
            "layout": "IPY_MODEL_6e05e41e0e3b43e9813abff2b6895e74",
            "msg_id": "",
            "outputs": [
              {
                "output_type": "display_data",
                "data": {
                  "text/plain": "\u001b[32m⠇\u001b[0m  train                \u001b[38;2;21;127;61m━━━━━━━━━━\u001b[0m \u001b[38;2;21;127;61mLOADED\u001b[0m \u001b[39m[\u001b[0m\u001b[38;2;155;155;159m0:00:00\u001b[0m\u001b[39m]\u001b[0m \n",
                  "text/html": "<pre style=\"white-space:pre;overflow-x:auto;line-height:normal;font-family:Menlo,'DejaVu Sans Mono',consolas,'Courier New',monospace\"><span style=\"color: #008000; text-decoration-color: #008000\">⠇</span>  train                <span style=\"color: #157f3d; text-decoration-color: #157f3d\">━━━━━━━━━━</span> <span style=\"color: #157f3d; text-decoration-color: #157f3d\">LOADED</span> <span style=\"color: #000000; text-decoration-color: #000000\">[</span><span style=\"color: #9b9b9f; text-decoration-color: #9b9b9f\">0:00:00</span><span style=\"color: #000000; text-decoration-color: #000000\">]</span> \n</pre>\n"
                },
                "metadata": {}
              }
            ]
          }
        },
        "6e05e41e0e3b43e9813abff2b6895e74": {
          "model_module": "@jupyter-widgets/base",
          "model_name": "LayoutModel",
          "model_module_version": "1.2.0",
          "state": {
            "_model_module": "@jupyter-widgets/base",
            "_model_module_version": "1.2.0",
            "_model_name": "LayoutModel",
            "_view_count": null,
            "_view_module": "@jupyter-widgets/base",
            "_view_module_version": "1.2.0",
            "_view_name": "LayoutView",
            "align_content": null,
            "align_items": null,
            "align_self": null,
            "border": null,
            "bottom": null,
            "display": null,
            "flex": null,
            "flex_flow": null,
            "grid_area": null,
            "grid_auto_columns": null,
            "grid_auto_flow": null,
            "grid_auto_rows": null,
            "grid_column": null,
            "grid_gap": null,
            "grid_row": null,
            "grid_template_areas": null,
            "grid_template_columns": null,
            "grid_template_rows": null,
            "height": null,
            "justify_content": null,
            "justify_items": null,
            "left": null,
            "margin": null,
            "max_height": null,
            "max_width": null,
            "min_height": null,
            "min_width": null,
            "object_fit": null,
            "object_position": null,
            "order": null,
            "overflow": null,
            "overflow_x": null,
            "overflow_y": null,
            "padding": null,
            "right": null,
            "top": null,
            "visibility": null,
            "width": null
          }
        },
        "79072b055dc945a387f462c2157876d6": {
          "model_module": "@jupyter-widgets/output",
          "model_name": "OutputModel",
          "model_module_version": "1.0.0",
          "state": {
            "_dom_classes": [],
            "_model_module": "@jupyter-widgets/output",
            "_model_module_version": "1.0.0",
            "_model_name": "OutputModel",
            "_view_count": null,
            "_view_module": "@jupyter-widgets/output",
            "_view_module_version": "1.0.0",
            "_view_name": "OutputView",
            "layout": "IPY_MODEL_448b8c7a31ea419da1026f3f1b576327",
            "msg_id": "",
            "outputs": [
              {
                "output_type": "display_data",
                "data": {
                  "text/plain": "✅  model2all            \u001b[38;2;21;127;61m━━━━━━━━━━\u001b[0m \u001b[38;2;21;127;61mDONE\u001b[0m \u001b[39m[\u001b[0m\u001b[38;2;155;155;159m0:02:39\u001b[0m\u001b[39m]\u001b[0m                          \n    \u001b[4;38;2;161;161;169m↳ \u001b[0m\u001b]8;id=473177;https://app.layer.ai/tomy4reel/aqssh-645h-wver/models/model2all?v=1.1\u001b\\\u001b[4;38;2;161;161;169mhttps://app.layer.ai/tomy4reel/aqssh-645h-wver/models/model2all?v=1.1\u001b[0m\u001b]8;;\u001b\\ \n",
                  "text/html": "<pre style=\"white-space:pre;overflow-x:auto;line-height:normal;font-family:Menlo,'DejaVu Sans Mono',consolas,'Courier New',monospace\">✅  model2all            <span style=\"color: #157f3d; text-decoration-color: #157f3d\">━━━━━━━━━━</span> <span style=\"color: #157f3d; text-decoration-color: #157f3d\">DONE</span> <span style=\"color: #000000; text-decoration-color: #000000\">[</span><span style=\"color: #9b9b9f; text-decoration-color: #9b9b9f\">0:02:39</span><span style=\"color: #000000; text-decoration-color: #000000\">]</span>                          \n    <span style=\"color: #a1a1a9; text-decoration-color: #a1a1a9; text-decoration: underline\">↳ </span><a href=\"https://app.layer.ai/tomy4reel/aqssh-645h-wver/models/model2all?v=1.1\" target=\"_blank\"><span style=\"color: #a1a1a9; text-decoration-color: #a1a1a9; text-decoration: underline\">https://app.layer.ai/tomy4reel/aqssh-645h-wver/models/model2all?v=1.1</span></a> \n</pre>\n"
                },
                "metadata": {}
              }
            ]
          }
        },
        "448b8c7a31ea419da1026f3f1b576327": {
          "model_module": "@jupyter-widgets/base",
          "model_name": "LayoutModel",
          "model_module_version": "1.2.0",
          "state": {
            "_model_module": "@jupyter-widgets/base",
            "_model_module_version": "1.2.0",
            "_model_name": "LayoutModel",
            "_view_count": null,
            "_view_module": "@jupyter-widgets/base",
            "_view_module_version": "1.2.0",
            "_view_name": "LayoutView",
            "align_content": null,
            "align_items": null,
            "align_self": null,
            "border": null,
            "bottom": null,
            "display": null,
            "flex": null,
            "flex_flow": null,
            "grid_area": null,
            "grid_auto_columns": null,
            "grid_auto_flow": null,
            "grid_auto_rows": null,
            "grid_column": null,
            "grid_gap": null,
            "grid_row": null,
            "grid_template_areas": null,
            "grid_template_columns": null,
            "grid_template_rows": null,
            "height": null,
            "justify_content": null,
            "justify_items": null,
            "left": null,
            "margin": null,
            "max_height": null,
            "max_width": null,
            "min_height": null,
            "min_width": null,
            "object_fit": null,
            "object_position": null,
            "order": null,
            "overflow": null,
            "overflow_x": null,
            "overflow_y": null,
            "padding": null,
            "right": null,
            "top": null,
            "visibility": null,
            "width": null
          }
        },
        "c3da483c3501452788db681a18154221": {
          "model_module": "@jupyter-widgets/output",
          "model_name": "OutputModel",
          "model_module_version": "1.0.0",
          "state": {
            "_dom_classes": [],
            "_model_module": "@jupyter-widgets/output",
            "_model_module_version": "1.0.0",
            "_model_name": "OutputModel",
            "_view_count": null,
            "_view_module": "@jupyter-widgets/output",
            "_view_module_version": "1.0.0",
            "_view_name": "OutputView",
            "layout": "IPY_MODEL_3f8b2c0a1daf444ab87e4f846491a87a",
            "msg_id": "",
            "outputs": [
              {
                "output_type": "display_data",
                "data": {
                  "text/plain": "\u001b[32m⠴\u001b[0m  model2all            \u001b[38;2;21;127;61m━━━━━━━━━━\u001b[0m \u001b[38;2;21;127;61mLOADED\u001b[0m \u001b[39m[\u001b[0m\u001b[38;2;155;155;159m713 kB/713 kB\u001b[0m\u001b[39m, \u001b[0m\u001b[38;2;155;155;159m356.5 kB/s\u001b[0m\u001b[39m, \u001b[0m\u001b[38;2;155;155;159m0:00:03\u001b[0m\u001b[39m]\u001b[0m \n",
                  "text/html": "<pre style=\"white-space:pre;overflow-x:auto;line-height:normal;font-family:Menlo,'DejaVu Sans Mono',consolas,'Courier New',monospace\"><span style=\"color: #008000; text-decoration-color: #008000\">⠴</span>  model2all            <span style=\"color: #157f3d; text-decoration-color: #157f3d\">━━━━━━━━━━</span> <span style=\"color: #157f3d; text-decoration-color: #157f3d\">LOADED</span> <span style=\"color: #000000; text-decoration-color: #000000\">[</span><span style=\"color: #9b9b9f; text-decoration-color: #9b9b9f\">713 kB/713 kB</span><span style=\"color: #000000; text-decoration-color: #000000\">, </span><span style=\"color: #9b9b9f; text-decoration-color: #9b9b9f\">356.5 kB/s</span><span style=\"color: #000000; text-decoration-color: #000000\">, </span><span style=\"color: #9b9b9f; text-decoration-color: #9b9b9f\">0:00:03</span><span style=\"color: #000000; text-decoration-color: #000000\">]</span> \n</pre>\n"
                },
                "metadata": {}
              }
            ]
          }
        },
        "3f8b2c0a1daf444ab87e4f846491a87a": {
          "model_module": "@jupyter-widgets/base",
          "model_name": "LayoutModel",
          "model_module_version": "1.2.0",
          "state": {
            "_model_module": "@jupyter-widgets/base",
            "_model_module_version": "1.2.0",
            "_model_name": "LayoutModel",
            "_view_count": null,
            "_view_module": "@jupyter-widgets/base",
            "_view_module_version": "1.2.0",
            "_view_name": "LayoutView",
            "align_content": null,
            "align_items": null,
            "align_self": null,
            "border": null,
            "bottom": null,
            "display": null,
            "flex": null,
            "flex_flow": null,
            "grid_area": null,
            "grid_auto_columns": null,
            "grid_auto_flow": null,
            "grid_auto_rows": null,
            "grid_column": null,
            "grid_gap": null,
            "grid_row": null,
            "grid_template_areas": null,
            "grid_template_columns": null,
            "grid_template_rows": null,
            "height": null,
            "justify_content": null,
            "justify_items": null,
            "left": null,
            "margin": null,
            "max_height": null,
            "max_width": null,
            "min_height": null,
            "min_width": null,
            "object_fit": null,
            "object_position": null,
            "order": null,
            "overflow": null,
            "overflow_x": null,
            "overflow_y": null,
            "padding": null,
            "right": null,
            "top": null,
            "visibility": null,
            "width": null
          }
        },
        "6ed9b821220d4ddeac5ada98bf701703": {
          "model_module": "@jupyter-widgets/output",
          "model_name": "OutputModel",
          "model_module_version": "1.0.0",
          "state": {
            "_dom_classes": [],
            "_model_module": "@jupyter-widgets/output",
            "_model_module_version": "1.0.0",
            "_model_name": "OutputModel",
            "_view_count": null,
            "_view_module": "@jupyter-widgets/output",
            "_view_module_version": "1.0.0",
            "_view_name": "OutputView",
            "layout": "IPY_MODEL_74d66acb24ef4c598a8670073fd0e4c3",
            "msg_id": "",
            "outputs": [
              {
                "output_type": "display_data",
                "data": {
                  "text/plain": "✅  model2new            \u001b[38;2;21;127;61m━━━━━━━━━━\u001b[0m \u001b[38;2;21;127;61mDONE\u001b[0m \u001b[39m[\u001b[0m\u001b[38;2;155;155;159m0:01:37\u001b[0m\u001b[39m]\u001b[0m                          \n    \u001b[4;38;2;161;161;169m↳ \u001b[0m\u001b]8;id=470167;https://app.layer.ai/tomy4reel/aqssh-645h-wver/models/model2new?v=1.1\u001b\\\u001b[4;38;2;161;161;169mhttps://app.layer.ai/tomy4reel/aqssh-645h-wver/models/model2new?v=1.1\u001b[0m\u001b]8;;\u001b\\ \n",
                  "text/html": "<pre style=\"white-space:pre;overflow-x:auto;line-height:normal;font-family:Menlo,'DejaVu Sans Mono',consolas,'Courier New',monospace\">✅  model2new            <span style=\"color: #157f3d; text-decoration-color: #157f3d\">━━━━━━━━━━</span> <span style=\"color: #157f3d; text-decoration-color: #157f3d\">DONE</span> <span style=\"color: #000000; text-decoration-color: #000000\">[</span><span style=\"color: #9b9b9f; text-decoration-color: #9b9b9f\">0:01:37</span><span style=\"color: #000000; text-decoration-color: #000000\">]</span>                          \n    <span style=\"color: #a1a1a9; text-decoration-color: #a1a1a9; text-decoration: underline\">↳ </span><a href=\"https://app.layer.ai/tomy4reel/aqssh-645h-wver/models/model2new?v=1.1\" target=\"_blank\"><span style=\"color: #a1a1a9; text-decoration-color: #a1a1a9; text-decoration: underline\">https://app.layer.ai/tomy4reel/aqssh-645h-wver/models/model2new?v=1.1</span></a> \n</pre>\n"
                },
                "metadata": {}
              }
            ]
          }
        },
        "74d66acb24ef4c598a8670073fd0e4c3": {
          "model_module": "@jupyter-widgets/base",
          "model_name": "LayoutModel",
          "model_module_version": "1.2.0",
          "state": {
            "_model_module": "@jupyter-widgets/base",
            "_model_module_version": "1.2.0",
            "_model_name": "LayoutModel",
            "_view_count": null,
            "_view_module": "@jupyter-widgets/base",
            "_view_module_version": "1.2.0",
            "_view_name": "LayoutView",
            "align_content": null,
            "align_items": null,
            "align_self": null,
            "border": null,
            "bottom": null,
            "display": null,
            "flex": null,
            "flex_flow": null,
            "grid_area": null,
            "grid_auto_columns": null,
            "grid_auto_flow": null,
            "grid_auto_rows": null,
            "grid_column": null,
            "grid_gap": null,
            "grid_row": null,
            "grid_template_areas": null,
            "grid_template_columns": null,
            "grid_template_rows": null,
            "height": null,
            "justify_content": null,
            "justify_items": null,
            "left": null,
            "margin": null,
            "max_height": null,
            "max_width": null,
            "min_height": null,
            "min_width": null,
            "object_fit": null,
            "object_position": null,
            "order": null,
            "overflow": null,
            "overflow_x": null,
            "overflow_y": null,
            "padding": null,
            "right": null,
            "top": null,
            "visibility": null,
            "width": null
          }
        },
        "5dd4f3465678405e931a50235669e118": {
          "model_module": "@jupyter-widgets/output",
          "model_name": "OutputModel",
          "model_module_version": "1.0.0",
          "state": {
            "_dom_classes": [],
            "_model_module": "@jupyter-widgets/output",
            "_model_module_version": "1.0.0",
            "_model_name": "OutputModel",
            "_view_count": null,
            "_view_module": "@jupyter-widgets/output",
            "_view_module_version": "1.0.0",
            "_view_name": "OutputView",
            "layout": "IPY_MODEL_83b6141b49eb435292ad94137c620924",
            "msg_id": "",
            "outputs": [
              {
                "output_type": "display_data",
                "data": {
                  "text/plain": "\u001b[32m⠹\u001b[0m  model2new            \u001b[38;2;21;127;61m━━━━━━━━━━\u001b[0m \u001b[38;2;21;127;61mLOADED\u001b[0m \u001b[39m[\u001b[0m\u001b[38;2;155;155;159m380 kB/380 kB\u001b[0m\u001b[39m, \u001b[0m\u001b[38;2;155;155;159m494 Bytes/s\u001b[0m\u001b[39m, \u001b[0m\u001b[38;2;155;155;159m0:00:03\u001b[0m\u001b[39m]\u001b[0m \n",
                  "text/html": "<pre style=\"white-space:pre;overflow-x:auto;line-height:normal;font-family:Menlo,'DejaVu Sans Mono',consolas,'Courier New',monospace\"><span style=\"color: #008000; text-decoration-color: #008000\">⠹</span>  model2new            <span style=\"color: #157f3d; text-decoration-color: #157f3d\">━━━━━━━━━━</span> <span style=\"color: #157f3d; text-decoration-color: #157f3d\">LOADED</span> <span style=\"color: #000000; text-decoration-color: #000000\">[</span><span style=\"color: #9b9b9f; text-decoration-color: #9b9b9f\">380 kB/380 kB</span><span style=\"color: #000000; text-decoration-color: #000000\">, </span><span style=\"color: #9b9b9f; text-decoration-color: #9b9b9f\">494 Bytes/s</span><span style=\"color: #000000; text-decoration-color: #000000\">, </span><span style=\"color: #9b9b9f; text-decoration-color: #9b9b9f\">0:00:03</span><span style=\"color: #000000; text-decoration-color: #000000\">]</span> \n</pre>\n"
                },
                "metadata": {}
              }
            ]
          }
        },
        "83b6141b49eb435292ad94137c620924": {
          "model_module": "@jupyter-widgets/base",
          "model_name": "LayoutModel",
          "model_module_version": "1.2.0",
          "state": {
            "_model_module": "@jupyter-widgets/base",
            "_model_module_version": "1.2.0",
            "_model_name": "LayoutModel",
            "_view_count": null,
            "_view_module": "@jupyter-widgets/base",
            "_view_module_version": "1.2.0",
            "_view_name": "LayoutView",
            "align_content": null,
            "align_items": null,
            "align_self": null,
            "border": null,
            "bottom": null,
            "display": null,
            "flex": null,
            "flex_flow": null,
            "grid_area": null,
            "grid_auto_columns": null,
            "grid_auto_flow": null,
            "grid_auto_rows": null,
            "grid_column": null,
            "grid_gap": null,
            "grid_row": null,
            "grid_template_areas": null,
            "grid_template_columns": null,
            "grid_template_rows": null,
            "height": null,
            "justify_content": null,
            "justify_items": null,
            "left": null,
            "margin": null,
            "max_height": null,
            "max_width": null,
            "min_height": null,
            "min_width": null,
            "object_fit": null,
            "object_position": null,
            "order": null,
            "overflow": null,
            "overflow_x": null,
            "overflow_y": null,
            "padding": null,
            "right": null,
            "top": null,
            "visibility": null,
            "width": null
          }
        },
        "edfb587541cd48e2976d16efd9ccbcde": {
          "model_module": "@jupyter-widgets/output",
          "model_name": "OutputModel",
          "model_module_version": "1.0.0",
          "state": {
            "_dom_classes": [],
            "_model_module": "@jupyter-widgets/output",
            "_model_module_version": "1.0.0",
            "_model_name": "OutputModel",
            "_view_count": null,
            "_view_module": "@jupyter-widgets/output",
            "_view_module_version": "1.0.0",
            "_view_name": "OutputView",
            "layout": "IPY_MODEL_ffe424ca052449f3ab60201b7f6891c5",
            "msg_id": "",
            "outputs": [
              {
                "output_type": "display_data",
                "data": {
                  "text/plain": "\u001b[32m⠋\u001b[0m  sample_submission    \u001b[38;2;21;127;61m━━━━━━━━━━\u001b[0m \u001b[38;2;21;127;61mLOADED\u001b[0m \u001b[39m[\u001b[0m\u001b[38;2;155;155;159m0:00:00\u001b[0m\u001b[39m]\u001b[0m \n",
                  "text/html": "<pre style=\"white-space:pre;overflow-x:auto;line-height:normal;font-family:Menlo,'DejaVu Sans Mono',consolas,'Courier New',monospace\"><span style=\"color: #008000; text-decoration-color: #008000\">⠋</span>  sample_submission    <span style=\"color: #157f3d; text-decoration-color: #157f3d\">━━━━━━━━━━</span> <span style=\"color: #157f3d; text-decoration-color: #157f3d\">LOADED</span> <span style=\"color: #000000; text-decoration-color: #000000\">[</span><span style=\"color: #9b9b9f; text-decoration-color: #9b9b9f\">0:00:00</span><span style=\"color: #000000; text-decoration-color: #000000\">]</span> \n</pre>\n"
                },
                "metadata": {}
              }
            ]
          }
        },
        "ffe424ca052449f3ab60201b7f6891c5": {
          "model_module": "@jupyter-widgets/base",
          "model_name": "LayoutModel",
          "model_module_version": "1.2.0",
          "state": {
            "_model_module": "@jupyter-widgets/base",
            "_model_module_version": "1.2.0",
            "_model_name": "LayoutModel",
            "_view_count": null,
            "_view_module": "@jupyter-widgets/base",
            "_view_module_version": "1.2.0",
            "_view_name": "LayoutView",
            "align_content": null,
            "align_items": null,
            "align_self": null,
            "border": null,
            "bottom": null,
            "display": null,
            "flex": null,
            "flex_flow": null,
            "grid_area": null,
            "grid_auto_columns": null,
            "grid_auto_flow": null,
            "grid_auto_rows": null,
            "grid_column": null,
            "grid_gap": null,
            "grid_row": null,
            "grid_template_areas": null,
            "grid_template_columns": null,
            "grid_template_rows": null,
            "height": null,
            "justify_content": null,
            "justify_items": null,
            "left": null,
            "margin": null,
            "max_height": null,
            "max_width": null,
            "min_height": null,
            "min_width": null,
            "object_fit": null,
            "object_position": null,
            "order": null,
            "overflow": null,
            "overflow_x": null,
            "overflow_y": null,
            "padding": null,
            "right": null,
            "top": null,
            "visibility": null,
            "width": null
          }
        },
        "24dbf3ce3a3640dd92f526dee49c1c62": {
          "model_module": "@jupyter-widgets/output",
          "model_name": "OutputModel",
          "model_module_version": "1.0.0",
          "state": {
            "_dom_classes": [],
            "_model_module": "@jupyter-widgets/output",
            "_model_module_version": "1.0.0",
            "_model_name": "OutputModel",
            "_view_count": null,
            "_view_module": "@jupyter-widgets/output",
            "_view_module_version": "1.0.0",
            "_view_name": "OutputView",
            "layout": "IPY_MODEL_fa7635f27de544d1825c05e34618afba",
            "msg_id": "",
            "outputs": [
              {
                "output_type": "display_data",
                "data": {
                  "text/plain": "\u001b[32m⠋\u001b[0m  test                 \u001b[38;2;21;127;61m━━━━━━━━━━\u001b[0m \u001b[38;2;21;127;61mLOADED\u001b[0m \u001b[39m[\u001b[0m\u001b[38;2;155;155;159m0:00:00\u001b[0m\u001b[39m]\u001b[0m \n",
                  "text/html": "<pre style=\"white-space:pre;overflow-x:auto;line-height:normal;font-family:Menlo,'DejaVu Sans Mono',consolas,'Courier New',monospace\"><span style=\"color: #008000; text-decoration-color: #008000\">⠋</span>  test                 <span style=\"color: #157f3d; text-decoration-color: #157f3d\">━━━━━━━━━━</span> <span style=\"color: #157f3d; text-decoration-color: #157f3d\">LOADED</span> <span style=\"color: #000000; text-decoration-color: #000000\">[</span><span style=\"color: #9b9b9f; text-decoration-color: #9b9b9f\">0:00:00</span><span style=\"color: #000000; text-decoration-color: #000000\">]</span> \n</pre>\n"
                },
                "metadata": {}
              }
            ]
          }
        },
        "fa7635f27de544d1825c05e34618afba": {
          "model_module": "@jupyter-widgets/base",
          "model_name": "LayoutModel",
          "model_module_version": "1.2.0",
          "state": {
            "_model_module": "@jupyter-widgets/base",
            "_model_module_version": "1.2.0",
            "_model_name": "LayoutModel",
            "_view_count": null,
            "_view_module": "@jupyter-widgets/base",
            "_view_module_version": "1.2.0",
            "_view_name": "LayoutView",
            "align_content": null,
            "align_items": null,
            "align_self": null,
            "border": null,
            "bottom": null,
            "display": null,
            "flex": null,
            "flex_flow": null,
            "grid_area": null,
            "grid_auto_columns": null,
            "grid_auto_flow": null,
            "grid_auto_rows": null,
            "grid_column": null,
            "grid_gap": null,
            "grid_row": null,
            "grid_template_areas": null,
            "grid_template_columns": null,
            "grid_template_rows": null,
            "height": null,
            "justify_content": null,
            "justify_items": null,
            "left": null,
            "margin": null,
            "max_height": null,
            "max_width": null,
            "min_height": null,
            "min_width": null,
            "object_fit": null,
            "object_position": null,
            "order": null,
            "overflow": null,
            "overflow_x": null,
            "overflow_y": null,
            "padding": null,
            "right": null,
            "top": null,
            "visibility": null,
            "width": null
          }
        },
        "f0d09f4e395e4e99abba301f9b1306e3": {
          "model_module": "@jupyter-widgets/output",
          "model_name": "OutputModel",
          "model_module_version": "1.0.0",
          "state": {
            "_dom_classes": [],
            "_model_module": "@jupyter-widgets/output",
            "_model_module_version": "1.0.0",
            "_model_name": "OutputModel",
            "_view_count": null,
            "_view_module": "@jupyter-widgets/output",
            "_view_module_version": "1.0.0",
            "_view_name": "OutputView",
            "layout": "IPY_MODEL_1d2a99195130427fac7c62ea555787d9",
            "msg_id": "",
            "outputs": [
              {
                "output_type": "display_data",
                "data": {
                  "text/plain": "\u001b[32m⠇\u001b[0m  train                \u001b[38;2;21;127;61m━━━━━━━━━━\u001b[0m \u001b[38;2;21;127;61mLOADED\u001b[0m \u001b[39m[\u001b[0m\u001b[38;2;155;155;159m0:00:00\u001b[0m\u001b[39m]\u001b[0m \n",
                  "text/html": "<pre style=\"white-space:pre;overflow-x:auto;line-height:normal;font-family:Menlo,'DejaVu Sans Mono',consolas,'Courier New',monospace\"><span style=\"color: #008000; text-decoration-color: #008000\">⠇</span>  train                <span style=\"color: #157f3d; text-decoration-color: #157f3d\">━━━━━━━━━━</span> <span style=\"color: #157f3d; text-decoration-color: #157f3d\">LOADED</span> <span style=\"color: #000000; text-decoration-color: #000000\">[</span><span style=\"color: #9b9b9f; text-decoration-color: #9b9b9f\">0:00:00</span><span style=\"color: #000000; text-decoration-color: #000000\">]</span> \n</pre>\n"
                },
                "metadata": {}
              }
            ]
          }
        },
        "1d2a99195130427fac7c62ea555787d9": {
          "model_module": "@jupyter-widgets/base",
          "model_name": "LayoutModel",
          "model_module_version": "1.2.0",
          "state": {
            "_model_module": "@jupyter-widgets/base",
            "_model_module_version": "1.2.0",
            "_model_name": "LayoutModel",
            "_view_count": null,
            "_view_module": "@jupyter-widgets/base",
            "_view_module_version": "1.2.0",
            "_view_name": "LayoutView",
            "align_content": null,
            "align_items": null,
            "align_self": null,
            "border": null,
            "bottom": null,
            "display": null,
            "flex": null,
            "flex_flow": null,
            "grid_area": null,
            "grid_auto_columns": null,
            "grid_auto_flow": null,
            "grid_auto_rows": null,
            "grid_column": null,
            "grid_gap": null,
            "grid_row": null,
            "grid_template_areas": null,
            "grid_template_columns": null,
            "grid_template_rows": null,
            "height": null,
            "justify_content": null,
            "justify_items": null,
            "left": null,
            "margin": null,
            "max_height": null,
            "max_width": null,
            "min_height": null,
            "min_width": null,
            "object_fit": null,
            "object_position": null,
            "order": null,
            "overflow": null,
            "overflow_x": null,
            "overflow_y": null,
            "padding": null,
            "right": null,
            "top": null,
            "visibility": null,
            "width": null
          }
        },
        "7725db3cf5254c8888e20606f50430ba": {
          "model_module": "@jupyter-widgets/output",
          "model_name": "OutputModel",
          "model_module_version": "1.0.0",
          "state": {
            "_dom_classes": [],
            "_model_module": "@jupyter-widgets/output",
            "_model_module_version": "1.0.0",
            "_model_name": "OutputModel",
            "_view_count": null,
            "_view_module": "@jupyter-widgets/output",
            "_view_module_version": "1.0.0",
            "_view_name": "OutputView",
            "layout": "IPY_MODEL_bbec7768a965480e8cab3e42b2b959cc",
            "msg_id": "",
            "outputs": [
              {
                "output_type": "display_data",
                "data": {
                  "text/plain": "✅  model3all            \u001b[38;2;21;127;61m━━━━━━━━━━\u001b[0m \u001b[38;2;21;127;61mDONE\u001b[0m \u001b[39m[\u001b[0m\u001b[38;2;155;155;159m0:02:37\u001b[0m\u001b[39m]\u001b[0m                          \n    \u001b[4;38;2;161;161;169m↳ \u001b[0m\u001b]8;id=909456;https://app.layer.ai/tomy4reel/aqssh-645h-wver/models/model3all?v=1.1\u001b\\\u001b[4;38;2;161;161;169mhttps://app.layer.ai/tomy4reel/aqssh-645h-wver/models/model3all?v=1.1\u001b[0m\u001b]8;;\u001b\\ \n",
                  "text/html": "<pre style=\"white-space:pre;overflow-x:auto;line-height:normal;font-family:Menlo,'DejaVu Sans Mono',consolas,'Courier New',monospace\">✅  model3all            <span style=\"color: #157f3d; text-decoration-color: #157f3d\">━━━━━━━━━━</span> <span style=\"color: #157f3d; text-decoration-color: #157f3d\">DONE</span> <span style=\"color: #000000; text-decoration-color: #000000\">[</span><span style=\"color: #9b9b9f; text-decoration-color: #9b9b9f\">0:02:37</span><span style=\"color: #000000; text-decoration-color: #000000\">]</span>                          \n    <span style=\"color: #a1a1a9; text-decoration-color: #a1a1a9; text-decoration: underline\">↳ </span><a href=\"https://app.layer.ai/tomy4reel/aqssh-645h-wver/models/model3all?v=1.1\" target=\"_blank\"><span style=\"color: #a1a1a9; text-decoration-color: #a1a1a9; text-decoration: underline\">https://app.layer.ai/tomy4reel/aqssh-645h-wver/models/model3all?v=1.1</span></a> \n</pre>\n"
                },
                "metadata": {}
              }
            ]
          }
        },
        "bbec7768a965480e8cab3e42b2b959cc": {
          "model_module": "@jupyter-widgets/base",
          "model_name": "LayoutModel",
          "model_module_version": "1.2.0",
          "state": {
            "_model_module": "@jupyter-widgets/base",
            "_model_module_version": "1.2.0",
            "_model_name": "LayoutModel",
            "_view_count": null,
            "_view_module": "@jupyter-widgets/base",
            "_view_module_version": "1.2.0",
            "_view_name": "LayoutView",
            "align_content": null,
            "align_items": null,
            "align_self": null,
            "border": null,
            "bottom": null,
            "display": null,
            "flex": null,
            "flex_flow": null,
            "grid_area": null,
            "grid_auto_columns": null,
            "grid_auto_flow": null,
            "grid_auto_rows": null,
            "grid_column": null,
            "grid_gap": null,
            "grid_row": null,
            "grid_template_areas": null,
            "grid_template_columns": null,
            "grid_template_rows": null,
            "height": null,
            "justify_content": null,
            "justify_items": null,
            "left": null,
            "margin": null,
            "max_height": null,
            "max_width": null,
            "min_height": null,
            "min_width": null,
            "object_fit": null,
            "object_position": null,
            "order": null,
            "overflow": null,
            "overflow_x": null,
            "overflow_y": null,
            "padding": null,
            "right": null,
            "top": null,
            "visibility": null,
            "width": null
          }
        },
        "6fd24aed442d48f3a7af225774b3e389": {
          "model_module": "@jupyter-widgets/output",
          "model_name": "OutputModel",
          "model_module_version": "1.0.0",
          "state": {
            "_dom_classes": [],
            "_model_module": "@jupyter-widgets/output",
            "_model_module_version": "1.0.0",
            "_model_name": "OutputModel",
            "_view_count": null,
            "_view_module": "@jupyter-widgets/output",
            "_view_module_version": "1.0.0",
            "_view_name": "OutputView",
            "layout": "IPY_MODEL_eddd0262445a477d9eda32c384d6eaff",
            "msg_id": "",
            "outputs": [
              {
                "output_type": "display_data",
                "data": {
                  "text/plain": "\u001b[32m⠹\u001b[0m  model3all            \u001b[38;2;21;127;61m━━━━━━━━━━\u001b[0m \u001b[38;2;21;127;61mLOADED\u001b[0m \u001b[39m[\u001b[0m\u001b[38;2;155;155;159m677 kB/677 kB\u001b[0m\u001b[39m, \u001b[0m\u001b[38;2;155;155;159m338.4 kB/s\u001b[0m\u001b[39m, \u001b[0m\u001b[38;2;155;155;159m0:00:03\u001b[0m\u001b[39m]\u001b[0m \n",
                  "text/html": "<pre style=\"white-space:pre;overflow-x:auto;line-height:normal;font-family:Menlo,'DejaVu Sans Mono',consolas,'Courier New',monospace\"><span style=\"color: #008000; text-decoration-color: #008000\">⠹</span>  model3all            <span style=\"color: #157f3d; text-decoration-color: #157f3d\">━━━━━━━━━━</span> <span style=\"color: #157f3d; text-decoration-color: #157f3d\">LOADED</span> <span style=\"color: #000000; text-decoration-color: #000000\">[</span><span style=\"color: #9b9b9f; text-decoration-color: #9b9b9f\">677 kB/677 kB</span><span style=\"color: #000000; text-decoration-color: #000000\">, </span><span style=\"color: #9b9b9f; text-decoration-color: #9b9b9f\">338.4 kB/s</span><span style=\"color: #000000; text-decoration-color: #000000\">, </span><span style=\"color: #9b9b9f; text-decoration-color: #9b9b9f\">0:00:03</span><span style=\"color: #000000; text-decoration-color: #000000\">]</span> \n</pre>\n"
                },
                "metadata": {}
              }
            ]
          }
        },
        "eddd0262445a477d9eda32c384d6eaff": {
          "model_module": "@jupyter-widgets/base",
          "model_name": "LayoutModel",
          "model_module_version": "1.2.0",
          "state": {
            "_model_module": "@jupyter-widgets/base",
            "_model_module_version": "1.2.0",
            "_model_name": "LayoutModel",
            "_view_count": null,
            "_view_module": "@jupyter-widgets/base",
            "_view_module_version": "1.2.0",
            "_view_name": "LayoutView",
            "align_content": null,
            "align_items": null,
            "align_self": null,
            "border": null,
            "bottom": null,
            "display": null,
            "flex": null,
            "flex_flow": null,
            "grid_area": null,
            "grid_auto_columns": null,
            "grid_auto_flow": null,
            "grid_auto_rows": null,
            "grid_column": null,
            "grid_gap": null,
            "grid_row": null,
            "grid_template_areas": null,
            "grid_template_columns": null,
            "grid_template_rows": null,
            "height": null,
            "justify_content": null,
            "justify_items": null,
            "left": null,
            "margin": null,
            "max_height": null,
            "max_width": null,
            "min_height": null,
            "min_width": null,
            "object_fit": null,
            "object_position": null,
            "order": null,
            "overflow": null,
            "overflow_x": null,
            "overflow_y": null,
            "padding": null,
            "right": null,
            "top": null,
            "visibility": null,
            "width": null
          }
        },
        "46d2f259171343dc8b23fe27a0767193": {
          "model_module": "@jupyter-widgets/output",
          "model_name": "OutputModel",
          "model_module_version": "1.0.0",
          "state": {
            "_dom_classes": [],
            "_model_module": "@jupyter-widgets/output",
            "_model_module_version": "1.0.0",
            "_model_name": "OutputModel",
            "_view_count": null,
            "_view_module": "@jupyter-widgets/output",
            "_view_module_version": "1.0.0",
            "_view_name": "OutputView",
            "layout": "IPY_MODEL_fe60783e49cc4187b9421bdf44ff003e",
            "msg_id": "",
            "outputs": [
              {
                "output_type": "display_data",
                "data": {
                  "text/plain": "✅  model3new            \u001b[38;2;21;127;61m━━━━━━━━━━\u001b[0m \u001b[38;2;21;127;61mDONE\u001b[0m \u001b[39m[\u001b[0m\u001b[38;2;155;155;159m0:01:05\u001b[0m\u001b[39m]\u001b[0m                          \n    \u001b[4;38;2;161;161;169m↳ \u001b[0m\u001b]8;id=411760;https://app.layer.ai/tomy4reel/aqssh-645h-wver/models/model3new?v=1.1\u001b\\\u001b[4;38;2;161;161;169mhttps://app.layer.ai/tomy4reel/aqssh-645h-wver/models/model3new?v=1.1\u001b[0m\u001b]8;;\u001b\\ \n",
                  "text/html": "<pre style=\"white-space:pre;overflow-x:auto;line-height:normal;font-family:Menlo,'DejaVu Sans Mono',consolas,'Courier New',monospace\">✅  model3new            <span style=\"color: #157f3d; text-decoration-color: #157f3d\">━━━━━━━━━━</span> <span style=\"color: #157f3d; text-decoration-color: #157f3d\">DONE</span> <span style=\"color: #000000; text-decoration-color: #000000\">[</span><span style=\"color: #9b9b9f; text-decoration-color: #9b9b9f\">0:01:05</span><span style=\"color: #000000; text-decoration-color: #000000\">]</span>                          \n    <span style=\"color: #a1a1a9; text-decoration-color: #a1a1a9; text-decoration: underline\">↳ </span><a href=\"https://app.layer.ai/tomy4reel/aqssh-645h-wver/models/model3new?v=1.1\" target=\"_blank\"><span style=\"color: #a1a1a9; text-decoration-color: #a1a1a9; text-decoration: underline\">https://app.layer.ai/tomy4reel/aqssh-645h-wver/models/model3new?v=1.1</span></a> \n</pre>\n"
                },
                "metadata": {}
              }
            ]
          }
        },
        "fe60783e49cc4187b9421bdf44ff003e": {
          "model_module": "@jupyter-widgets/base",
          "model_name": "LayoutModel",
          "model_module_version": "1.2.0",
          "state": {
            "_model_module": "@jupyter-widgets/base",
            "_model_module_version": "1.2.0",
            "_model_name": "LayoutModel",
            "_view_count": null,
            "_view_module": "@jupyter-widgets/base",
            "_view_module_version": "1.2.0",
            "_view_name": "LayoutView",
            "align_content": null,
            "align_items": null,
            "align_self": null,
            "border": null,
            "bottom": null,
            "display": null,
            "flex": null,
            "flex_flow": null,
            "grid_area": null,
            "grid_auto_columns": null,
            "grid_auto_flow": null,
            "grid_auto_rows": null,
            "grid_column": null,
            "grid_gap": null,
            "grid_row": null,
            "grid_template_areas": null,
            "grid_template_columns": null,
            "grid_template_rows": null,
            "height": null,
            "justify_content": null,
            "justify_items": null,
            "left": null,
            "margin": null,
            "max_height": null,
            "max_width": null,
            "min_height": null,
            "min_width": null,
            "object_fit": null,
            "object_position": null,
            "order": null,
            "overflow": null,
            "overflow_x": null,
            "overflow_y": null,
            "padding": null,
            "right": null,
            "top": null,
            "visibility": null,
            "width": null
          }
        },
        "8e3ba95ba867489092d6c1646c70a3e6": {
          "model_module": "@jupyter-widgets/output",
          "model_name": "OutputModel",
          "model_module_version": "1.0.0",
          "state": {
            "_dom_classes": [],
            "_model_module": "@jupyter-widgets/output",
            "_model_module_version": "1.0.0",
            "_model_name": "OutputModel",
            "_view_count": null,
            "_view_module": "@jupyter-widgets/output",
            "_view_module_version": "1.0.0",
            "_view_name": "OutputView",
            "layout": "IPY_MODEL_3b5c496a8e1547b6b226989e8e5e4b3c",
            "msg_id": "",
            "outputs": [
              {
                "output_type": "display_data",
                "data": {
                  "text/plain": "\u001b[32m⠹\u001b[0m  model3new            \u001b[38;2;21;127;61m━━━━━━━━━━\u001b[0m \u001b[38;2;21;127;61mLOADED\u001b[0m \u001b[39m[\u001b[0m\u001b[38;2;155;155;159m346 kB/346 kB\u001b[0m\u001b[39m, \u001b[0m\u001b[38;2;155;155;159m172.8 kB/s\u001b[0m\u001b[39m, \u001b[0m\u001b[38;2;155;155;159m0:00:03\u001b[0m\u001b[39m]\u001b[0m \n",
                  "text/html": "<pre style=\"white-space:pre;overflow-x:auto;line-height:normal;font-family:Menlo,'DejaVu Sans Mono',consolas,'Courier New',monospace\"><span style=\"color: #008000; text-decoration-color: #008000\">⠹</span>  model3new            <span style=\"color: #157f3d; text-decoration-color: #157f3d\">━━━━━━━━━━</span> <span style=\"color: #157f3d; text-decoration-color: #157f3d\">LOADED</span> <span style=\"color: #000000; text-decoration-color: #000000\">[</span><span style=\"color: #9b9b9f; text-decoration-color: #9b9b9f\">346 kB/346 kB</span><span style=\"color: #000000; text-decoration-color: #000000\">, </span><span style=\"color: #9b9b9f; text-decoration-color: #9b9b9f\">172.8 kB/s</span><span style=\"color: #000000; text-decoration-color: #000000\">, </span><span style=\"color: #9b9b9f; text-decoration-color: #9b9b9f\">0:00:03</span><span style=\"color: #000000; text-decoration-color: #000000\">]</span> \n</pre>\n"
                },
                "metadata": {}
              }
            ]
          }
        },
        "3b5c496a8e1547b6b226989e8e5e4b3c": {
          "model_module": "@jupyter-widgets/base",
          "model_name": "LayoutModel",
          "model_module_version": "1.2.0",
          "state": {
            "_model_module": "@jupyter-widgets/base",
            "_model_module_version": "1.2.0",
            "_model_name": "LayoutModel",
            "_view_count": null,
            "_view_module": "@jupyter-widgets/base",
            "_view_module_version": "1.2.0",
            "_view_name": "LayoutView",
            "align_content": null,
            "align_items": null,
            "align_self": null,
            "border": null,
            "bottom": null,
            "display": null,
            "flex": null,
            "flex_flow": null,
            "grid_area": null,
            "grid_auto_columns": null,
            "grid_auto_flow": null,
            "grid_auto_rows": null,
            "grid_column": null,
            "grid_gap": null,
            "grid_row": null,
            "grid_template_areas": null,
            "grid_template_columns": null,
            "grid_template_rows": null,
            "height": null,
            "justify_content": null,
            "justify_items": null,
            "left": null,
            "margin": null,
            "max_height": null,
            "max_width": null,
            "min_height": null,
            "min_width": null,
            "object_fit": null,
            "object_position": null,
            "order": null,
            "overflow": null,
            "overflow_x": null,
            "overflow_y": null,
            "padding": null,
            "right": null,
            "top": null,
            "visibility": null,
            "width": null
          }
        },
        "e1486b8ae4ed4c6f8993dcfd45ac8b74": {
          "model_module": "@jupyter-widgets/output",
          "model_name": "OutputModel",
          "model_module_version": "1.0.0",
          "state": {
            "_dom_classes": [],
            "_model_module": "@jupyter-widgets/output",
            "_model_module_version": "1.0.0",
            "_model_name": "OutputModel",
            "_view_count": null,
            "_view_module": "@jupyter-widgets/output",
            "_view_module_version": "1.0.0",
            "_view_name": "OutputView",
            "layout": "IPY_MODEL_4cd2a28dd31f4e69a38f4caa5f71f2b1",
            "msg_id": "",
            "outputs": [
              {
                "output_type": "display_data",
                "data": {
                  "text/plain": "\u001b[32m⠇\u001b[0m  test                 \u001b[38;2;21;127;61m━━━━━━━━━━\u001b[0m \u001b[38;2;21;127;61mLOADED\u001b[0m \u001b[39m[\u001b[0m\u001b[38;2;155;155;159m0:00:00\u001b[0m\u001b[39m]\u001b[0m \n",
                  "text/html": "<pre style=\"white-space:pre;overflow-x:auto;line-height:normal;font-family:Menlo,'DejaVu Sans Mono',consolas,'Courier New',monospace\"><span style=\"color: #008000; text-decoration-color: #008000\">⠇</span>  test                 <span style=\"color: #157f3d; text-decoration-color: #157f3d\">━━━━━━━━━━</span> <span style=\"color: #157f3d; text-decoration-color: #157f3d\">LOADED</span> <span style=\"color: #000000; text-decoration-color: #000000\">[</span><span style=\"color: #9b9b9f; text-decoration-color: #9b9b9f\">0:00:00</span><span style=\"color: #000000; text-decoration-color: #000000\">]</span> \n</pre>\n"
                },
                "metadata": {}
              }
            ]
          }
        },
        "4cd2a28dd31f4e69a38f4caa5f71f2b1": {
          "model_module": "@jupyter-widgets/base",
          "model_name": "LayoutModel",
          "model_module_version": "1.2.0",
          "state": {
            "_model_module": "@jupyter-widgets/base",
            "_model_module_version": "1.2.0",
            "_model_name": "LayoutModel",
            "_view_count": null,
            "_view_module": "@jupyter-widgets/base",
            "_view_module_version": "1.2.0",
            "_view_name": "LayoutView",
            "align_content": null,
            "align_items": null,
            "align_self": null,
            "border": null,
            "bottom": null,
            "display": null,
            "flex": null,
            "flex_flow": null,
            "grid_area": null,
            "grid_auto_columns": null,
            "grid_auto_flow": null,
            "grid_auto_rows": null,
            "grid_column": null,
            "grid_gap": null,
            "grid_row": null,
            "grid_template_areas": null,
            "grid_template_columns": null,
            "grid_template_rows": null,
            "height": null,
            "justify_content": null,
            "justify_items": null,
            "left": null,
            "margin": null,
            "max_height": null,
            "max_width": null,
            "min_height": null,
            "min_width": null,
            "object_fit": null,
            "object_position": null,
            "order": null,
            "overflow": null,
            "overflow_x": null,
            "overflow_y": null,
            "padding": null,
            "right": null,
            "top": null,
            "visibility": null,
            "width": null
          }
        },
        "f268f2020f9e4ca3a481b2941302ca44": {
          "model_module": "@jupyter-widgets/output",
          "model_name": "OutputModel",
          "model_module_version": "1.0.0",
          "state": {
            "_dom_classes": [],
            "_model_module": "@jupyter-widgets/output",
            "_model_module_version": "1.0.0",
            "_model_name": "OutputModel",
            "_view_count": null,
            "_view_module": "@jupyter-widgets/output",
            "_view_module_version": "1.0.0",
            "_view_name": "OutputView",
            "layout": "IPY_MODEL_7e29ba723c8d43ef89729c95677db06c",
            "msg_id": "",
            "outputs": [
              {
                "output_type": "display_data",
                "data": {
                  "text/plain": "\u001b[32m⠇\u001b[0m  train                \u001b[38;2;21;127;61m━━━━━━━━━━\u001b[0m \u001b[38;2;21;127;61mLOADED\u001b[0m \u001b[39m[\u001b[0m\u001b[38;2;155;155;159m0:00:00\u001b[0m\u001b[39m]\u001b[0m \n",
                  "text/html": "<pre style=\"white-space:pre;overflow-x:auto;line-height:normal;font-family:Menlo,'DejaVu Sans Mono',consolas,'Courier New',monospace\"><span style=\"color: #008000; text-decoration-color: #008000\">⠇</span>  train                <span style=\"color: #157f3d; text-decoration-color: #157f3d\">━━━━━━━━━━</span> <span style=\"color: #157f3d; text-decoration-color: #157f3d\">LOADED</span> <span style=\"color: #000000; text-decoration-color: #000000\">[</span><span style=\"color: #9b9b9f; text-decoration-color: #9b9b9f\">0:00:00</span><span style=\"color: #000000; text-decoration-color: #000000\">]</span> \n</pre>\n"
                },
                "metadata": {}
              }
            ]
          }
        },
        "7e29ba723c8d43ef89729c95677db06c": {
          "model_module": "@jupyter-widgets/base",
          "model_name": "LayoutModel",
          "model_module_version": "1.2.0",
          "state": {
            "_model_module": "@jupyter-widgets/base",
            "_model_module_version": "1.2.0",
            "_model_name": "LayoutModel",
            "_view_count": null,
            "_view_module": "@jupyter-widgets/base",
            "_view_module_version": "1.2.0",
            "_view_name": "LayoutView",
            "align_content": null,
            "align_items": null,
            "align_self": null,
            "border": null,
            "bottom": null,
            "display": null,
            "flex": null,
            "flex_flow": null,
            "grid_area": null,
            "grid_auto_columns": null,
            "grid_auto_flow": null,
            "grid_auto_rows": null,
            "grid_column": null,
            "grid_gap": null,
            "grid_row": null,
            "grid_template_areas": null,
            "grid_template_columns": null,
            "grid_template_rows": null,
            "height": null,
            "justify_content": null,
            "justify_items": null,
            "left": null,
            "margin": null,
            "max_height": null,
            "max_width": null,
            "min_height": null,
            "min_width": null,
            "object_fit": null,
            "object_position": null,
            "order": null,
            "overflow": null,
            "overflow_x": null,
            "overflow_y": null,
            "padding": null,
            "right": null,
            "top": null,
            "visibility": null,
            "width": null
          }
        },
        "31a71599e73d42e29d807d521adb1367": {
          "model_module": "@jupyter-widgets/output",
          "model_name": "OutputModel",
          "model_module_version": "1.0.0",
          "state": {
            "_dom_classes": [],
            "_model_module": "@jupyter-widgets/output",
            "_model_module_version": "1.0.0",
            "_model_name": "OutputModel",
            "_view_count": null,
            "_view_module": "@jupyter-widgets/output",
            "_view_module_version": "1.0.0",
            "_view_name": "OutputView",
            "layout": "IPY_MODEL_613717c7366b4794bd7e960a17d9fa9a",
            "msg_id": "",
            "outputs": [
              {
                "output_type": "display_data",
                "data": {
                  "text/plain": "✅  model4all            \u001b[38;2;21;127;61m━━━━━━━━━━\u001b[0m \u001b[38;2;21;127;61mDONE\u001b[0m \u001b[39m[\u001b[0m\u001b[38;2;155;155;159m0:02:39\u001b[0m\u001b[39m]\u001b[0m                          \n    \u001b[4;38;2;161;161;169m↳ \u001b[0m\u001b]8;id=601154;https://app.layer.ai/tomy4reel/aqssh-645h-wver/models/model4all?v=1.1\u001b\\\u001b[4;38;2;161;161;169mhttps://app.layer.ai/tomy4reel/aqssh-645h-wver/models/model4all?v=1.1\u001b[0m\u001b]8;;\u001b\\ \n",
                  "text/html": "<pre style=\"white-space:pre;overflow-x:auto;line-height:normal;font-family:Menlo,'DejaVu Sans Mono',consolas,'Courier New',monospace\">✅  model4all            <span style=\"color: #157f3d; text-decoration-color: #157f3d\">━━━━━━━━━━</span> <span style=\"color: #157f3d; text-decoration-color: #157f3d\">DONE</span> <span style=\"color: #000000; text-decoration-color: #000000\">[</span><span style=\"color: #9b9b9f; text-decoration-color: #9b9b9f\">0:02:39</span><span style=\"color: #000000; text-decoration-color: #000000\">]</span>                          \n    <span style=\"color: #a1a1a9; text-decoration-color: #a1a1a9; text-decoration: underline\">↳ </span><a href=\"https://app.layer.ai/tomy4reel/aqssh-645h-wver/models/model4all?v=1.1\" target=\"_blank\"><span style=\"color: #a1a1a9; text-decoration-color: #a1a1a9; text-decoration: underline\">https://app.layer.ai/tomy4reel/aqssh-645h-wver/models/model4all?v=1.1</span></a> \n</pre>\n"
                },
                "metadata": {}
              }
            ]
          }
        },
        "613717c7366b4794bd7e960a17d9fa9a": {
          "model_module": "@jupyter-widgets/base",
          "model_name": "LayoutModel",
          "model_module_version": "1.2.0",
          "state": {
            "_model_module": "@jupyter-widgets/base",
            "_model_module_version": "1.2.0",
            "_model_name": "LayoutModel",
            "_view_count": null,
            "_view_module": "@jupyter-widgets/base",
            "_view_module_version": "1.2.0",
            "_view_name": "LayoutView",
            "align_content": null,
            "align_items": null,
            "align_self": null,
            "border": null,
            "bottom": null,
            "display": null,
            "flex": null,
            "flex_flow": null,
            "grid_area": null,
            "grid_auto_columns": null,
            "grid_auto_flow": null,
            "grid_auto_rows": null,
            "grid_column": null,
            "grid_gap": null,
            "grid_row": null,
            "grid_template_areas": null,
            "grid_template_columns": null,
            "grid_template_rows": null,
            "height": null,
            "justify_content": null,
            "justify_items": null,
            "left": null,
            "margin": null,
            "max_height": null,
            "max_width": null,
            "min_height": null,
            "min_width": null,
            "object_fit": null,
            "object_position": null,
            "order": null,
            "overflow": null,
            "overflow_x": null,
            "overflow_y": null,
            "padding": null,
            "right": null,
            "top": null,
            "visibility": null,
            "width": null
          }
        },
        "53a2848c5db24f19ba96dd82b8ac09f5": {
          "model_module": "@jupyter-widgets/output",
          "model_name": "OutputModel",
          "model_module_version": "1.0.0",
          "state": {
            "_dom_classes": [],
            "_model_module": "@jupyter-widgets/output",
            "_model_module_version": "1.0.0",
            "_model_name": "OutputModel",
            "_view_count": null,
            "_view_module": "@jupyter-widgets/output",
            "_view_module_version": "1.0.0",
            "_view_name": "OutputView",
            "layout": "IPY_MODEL_7ca8c64908724bcaa1c62768319d9f82",
            "msg_id": "",
            "outputs": [
              {
                "output_type": "display_data",
                "data": {
                  "text/plain": "\u001b[32m⠸\u001b[0m  model4all            \u001b[38;2;21;127;61m━━━━━━━━━━\u001b[0m \u001b[38;2;21;127;61mLOADED\u001b[0m \u001b[39m[\u001b[0m\u001b[38;2;155;155;159m713 kB/713 kB\u001b[0m\u001b[39m, \u001b[0m\u001b[38;2;155;155;159m356.5 kB/s\u001b[0m\u001b[39m, \u001b[0m\u001b[38;2;155;155;159m0:00:03\u001b[0m\u001b[39m]\u001b[0m \n",
                  "text/html": "<pre style=\"white-space:pre;overflow-x:auto;line-height:normal;font-family:Menlo,'DejaVu Sans Mono',consolas,'Courier New',monospace\"><span style=\"color: #008000; text-decoration-color: #008000\">⠸</span>  model4all            <span style=\"color: #157f3d; text-decoration-color: #157f3d\">━━━━━━━━━━</span> <span style=\"color: #157f3d; text-decoration-color: #157f3d\">LOADED</span> <span style=\"color: #000000; text-decoration-color: #000000\">[</span><span style=\"color: #9b9b9f; text-decoration-color: #9b9b9f\">713 kB/713 kB</span><span style=\"color: #000000; text-decoration-color: #000000\">, </span><span style=\"color: #9b9b9f; text-decoration-color: #9b9b9f\">356.5 kB/s</span><span style=\"color: #000000; text-decoration-color: #000000\">, </span><span style=\"color: #9b9b9f; text-decoration-color: #9b9b9f\">0:00:03</span><span style=\"color: #000000; text-decoration-color: #000000\">]</span> \n</pre>\n"
                },
                "metadata": {}
              }
            ]
          }
        },
        "7ca8c64908724bcaa1c62768319d9f82": {
          "model_module": "@jupyter-widgets/base",
          "model_name": "LayoutModel",
          "model_module_version": "1.2.0",
          "state": {
            "_model_module": "@jupyter-widgets/base",
            "_model_module_version": "1.2.0",
            "_model_name": "LayoutModel",
            "_view_count": null,
            "_view_module": "@jupyter-widgets/base",
            "_view_module_version": "1.2.0",
            "_view_name": "LayoutView",
            "align_content": null,
            "align_items": null,
            "align_self": null,
            "border": null,
            "bottom": null,
            "display": null,
            "flex": null,
            "flex_flow": null,
            "grid_area": null,
            "grid_auto_columns": null,
            "grid_auto_flow": null,
            "grid_auto_rows": null,
            "grid_column": null,
            "grid_gap": null,
            "grid_row": null,
            "grid_template_areas": null,
            "grid_template_columns": null,
            "grid_template_rows": null,
            "height": null,
            "justify_content": null,
            "justify_items": null,
            "left": null,
            "margin": null,
            "max_height": null,
            "max_width": null,
            "min_height": null,
            "min_width": null,
            "object_fit": null,
            "object_position": null,
            "order": null,
            "overflow": null,
            "overflow_x": null,
            "overflow_y": null,
            "padding": null,
            "right": null,
            "top": null,
            "visibility": null,
            "width": null
          }
        },
        "205f5d5ec5a34abfbb54be8163abcd13": {
          "model_module": "@jupyter-widgets/output",
          "model_name": "OutputModel",
          "model_module_version": "1.0.0",
          "state": {
            "_dom_classes": [],
            "_model_module": "@jupyter-widgets/output",
            "_model_module_version": "1.0.0",
            "_model_name": "OutputModel",
            "_view_count": null,
            "_view_module": "@jupyter-widgets/output",
            "_view_module_version": "1.0.0",
            "_view_name": "OutputView",
            "layout": "IPY_MODEL_e87651a4451f4dbf89db27211bfaee44",
            "msg_id": "",
            "outputs": [
              {
                "output_type": "display_data",
                "data": {
                  "text/plain": "✅  model4new            \u001b[38;2;21;127;61m━━━━━━━━━━\u001b[0m \u001b[38;2;21;127;61mDONE\u001b[0m \u001b[39m[\u001b[0m\u001b[38;2;155;155;159m0:01:37\u001b[0m\u001b[39m]\u001b[0m                          \n    \u001b[4;38;2;161;161;169m↳ \u001b[0m\u001b]8;id=14567;https://app.layer.ai/tomy4reel/aqssh-645h-wver/models/model4new?v=1.1\u001b\\\u001b[4;38;2;161;161;169mhttps://app.layer.ai/tomy4reel/aqssh-645h-wver/models/model4new?v=1.1\u001b[0m\u001b]8;;\u001b\\ \n",
                  "text/html": "<pre style=\"white-space:pre;overflow-x:auto;line-height:normal;font-family:Menlo,'DejaVu Sans Mono',consolas,'Courier New',monospace\">✅  model4new            <span style=\"color: #157f3d; text-decoration-color: #157f3d\">━━━━━━━━━━</span> <span style=\"color: #157f3d; text-decoration-color: #157f3d\">DONE</span> <span style=\"color: #000000; text-decoration-color: #000000\">[</span><span style=\"color: #9b9b9f; text-decoration-color: #9b9b9f\">0:01:37</span><span style=\"color: #000000; text-decoration-color: #000000\">]</span>                          \n    <span style=\"color: #a1a1a9; text-decoration-color: #a1a1a9; text-decoration: underline\">↳ </span><a href=\"https://app.layer.ai/tomy4reel/aqssh-645h-wver/models/model4new?v=1.1\" target=\"_blank\"><span style=\"color: #a1a1a9; text-decoration-color: #a1a1a9; text-decoration: underline\">https://app.layer.ai/tomy4reel/aqssh-645h-wver/models/model4new?v=1.1</span></a> \n</pre>\n"
                },
                "metadata": {}
              }
            ]
          }
        },
        "e87651a4451f4dbf89db27211bfaee44": {
          "model_module": "@jupyter-widgets/base",
          "model_name": "LayoutModel",
          "model_module_version": "1.2.0",
          "state": {
            "_model_module": "@jupyter-widgets/base",
            "_model_module_version": "1.2.0",
            "_model_name": "LayoutModel",
            "_view_count": null,
            "_view_module": "@jupyter-widgets/base",
            "_view_module_version": "1.2.0",
            "_view_name": "LayoutView",
            "align_content": null,
            "align_items": null,
            "align_self": null,
            "border": null,
            "bottom": null,
            "display": null,
            "flex": null,
            "flex_flow": null,
            "grid_area": null,
            "grid_auto_columns": null,
            "grid_auto_flow": null,
            "grid_auto_rows": null,
            "grid_column": null,
            "grid_gap": null,
            "grid_row": null,
            "grid_template_areas": null,
            "grid_template_columns": null,
            "grid_template_rows": null,
            "height": null,
            "justify_content": null,
            "justify_items": null,
            "left": null,
            "margin": null,
            "max_height": null,
            "max_width": null,
            "min_height": null,
            "min_width": null,
            "object_fit": null,
            "object_position": null,
            "order": null,
            "overflow": null,
            "overflow_x": null,
            "overflow_y": null,
            "padding": null,
            "right": null,
            "top": null,
            "visibility": null,
            "width": null
          }
        },
        "b84807bac9cb40d480a48f93023c677f": {
          "model_module": "@jupyter-widgets/output",
          "model_name": "OutputModel",
          "model_module_version": "1.0.0",
          "state": {
            "_dom_classes": [],
            "_model_module": "@jupyter-widgets/output",
            "_model_module_version": "1.0.0",
            "_model_name": "OutputModel",
            "_view_count": null,
            "_view_module": "@jupyter-widgets/output",
            "_view_module_version": "1.0.0",
            "_view_name": "OutputView",
            "layout": "IPY_MODEL_a50eec3f8e07458c9eaab6e72ee5d82e",
            "msg_id": "",
            "outputs": [
              {
                "output_type": "display_data",
                "data": {
                  "text/plain": "\u001b[32m⠹\u001b[0m  model4new            \u001b[38;2;21;127;61m━━━━━━━━━━\u001b[0m \u001b[38;2;21;127;61mLOADED\u001b[0m \u001b[39m[\u001b[0m\u001b[38;2;155;155;159m381 kB/381 kB\u001b[0m\u001b[39m, \u001b[0m\u001b[38;2;155;155;159m190.2 kB/s\u001b[0m\u001b[39m, \u001b[0m\u001b[38;2;155;155;159m0:00:03\u001b[0m\u001b[39m]\u001b[0m \n",
                  "text/html": "<pre style=\"white-space:pre;overflow-x:auto;line-height:normal;font-family:Menlo,'DejaVu Sans Mono',consolas,'Courier New',monospace\"><span style=\"color: #008000; text-decoration-color: #008000\">⠹</span>  model4new            <span style=\"color: #157f3d; text-decoration-color: #157f3d\">━━━━━━━━━━</span> <span style=\"color: #157f3d; text-decoration-color: #157f3d\">LOADED</span> <span style=\"color: #000000; text-decoration-color: #000000\">[</span><span style=\"color: #9b9b9f; text-decoration-color: #9b9b9f\">381 kB/381 kB</span><span style=\"color: #000000; text-decoration-color: #000000\">, </span><span style=\"color: #9b9b9f; text-decoration-color: #9b9b9f\">190.2 kB/s</span><span style=\"color: #000000; text-decoration-color: #000000\">, </span><span style=\"color: #9b9b9f; text-decoration-color: #9b9b9f\">0:00:03</span><span style=\"color: #000000; text-decoration-color: #000000\">]</span> \n</pre>\n"
                },
                "metadata": {}
              }
            ]
          }
        },
        "a50eec3f8e07458c9eaab6e72ee5d82e": {
          "model_module": "@jupyter-widgets/base",
          "model_name": "LayoutModel",
          "model_module_version": "1.2.0",
          "state": {
            "_model_module": "@jupyter-widgets/base",
            "_model_module_version": "1.2.0",
            "_model_name": "LayoutModel",
            "_view_count": null,
            "_view_module": "@jupyter-widgets/base",
            "_view_module_version": "1.2.0",
            "_view_name": "LayoutView",
            "align_content": null,
            "align_items": null,
            "align_self": null,
            "border": null,
            "bottom": null,
            "display": null,
            "flex": null,
            "flex_flow": null,
            "grid_area": null,
            "grid_auto_columns": null,
            "grid_auto_flow": null,
            "grid_auto_rows": null,
            "grid_column": null,
            "grid_gap": null,
            "grid_row": null,
            "grid_template_areas": null,
            "grid_template_columns": null,
            "grid_template_rows": null,
            "height": null,
            "justify_content": null,
            "justify_items": null,
            "left": null,
            "margin": null,
            "max_height": null,
            "max_width": null,
            "min_height": null,
            "min_width": null,
            "object_fit": null,
            "object_position": null,
            "order": null,
            "overflow": null,
            "overflow_x": null,
            "overflow_y": null,
            "padding": null,
            "right": null,
            "top": null,
            "visibility": null,
            "width": null
          }
        },
        "763bc91a5e174e6099c0939d3d2ceb15": {
          "model_module": "@jupyter-widgets/output",
          "model_name": "OutputModel",
          "model_module_version": "1.0.0",
          "state": {
            "_dom_classes": [],
            "_model_module": "@jupyter-widgets/output",
            "_model_module_version": "1.0.0",
            "_model_name": "OutputModel",
            "_view_count": null,
            "_view_module": "@jupyter-widgets/output",
            "_view_module_version": "1.0.0",
            "_view_name": "OutputView",
            "layout": "IPY_MODEL_64371923e0fb4eea82137b852a13ebd0",
            "msg_id": "",
            "outputs": [
              {
                "output_type": "display_data",
                "data": {
                  "text/plain": "\u001b[32m⠇\u001b[0m  sample_submission    \u001b[38;2;21;127;61m━━━━━━━━━━\u001b[0m \u001b[38;2;21;127;61mLOADED\u001b[0m \u001b[39m[\u001b[0m\u001b[38;2;155;155;159m0:00:00\u001b[0m\u001b[39m]\u001b[0m \n",
                  "text/html": "<pre style=\"white-space:pre;overflow-x:auto;line-height:normal;font-family:Menlo,'DejaVu Sans Mono',consolas,'Courier New',monospace\"><span style=\"color: #008000; text-decoration-color: #008000\">⠇</span>  sample_submission    <span style=\"color: #157f3d; text-decoration-color: #157f3d\">━━━━━━━━━━</span> <span style=\"color: #157f3d; text-decoration-color: #157f3d\">LOADED</span> <span style=\"color: #000000; text-decoration-color: #000000\">[</span><span style=\"color: #9b9b9f; text-decoration-color: #9b9b9f\">0:00:00</span><span style=\"color: #000000; text-decoration-color: #000000\">]</span> \n</pre>\n"
                },
                "metadata": {}
              }
            ]
          }
        },
        "64371923e0fb4eea82137b852a13ebd0": {
          "model_module": "@jupyter-widgets/base",
          "model_name": "LayoutModel",
          "model_module_version": "1.2.0",
          "state": {
            "_model_module": "@jupyter-widgets/base",
            "_model_module_version": "1.2.0",
            "_model_name": "LayoutModel",
            "_view_count": null,
            "_view_module": "@jupyter-widgets/base",
            "_view_module_version": "1.2.0",
            "_view_name": "LayoutView",
            "align_content": null,
            "align_items": null,
            "align_self": null,
            "border": null,
            "bottom": null,
            "display": null,
            "flex": null,
            "flex_flow": null,
            "grid_area": null,
            "grid_auto_columns": null,
            "grid_auto_flow": null,
            "grid_auto_rows": null,
            "grid_column": null,
            "grid_gap": null,
            "grid_row": null,
            "grid_template_areas": null,
            "grid_template_columns": null,
            "grid_template_rows": null,
            "height": null,
            "justify_content": null,
            "justify_items": null,
            "left": null,
            "margin": null,
            "max_height": null,
            "max_width": null,
            "min_height": null,
            "min_width": null,
            "object_fit": null,
            "object_position": null,
            "order": null,
            "overflow": null,
            "overflow_x": null,
            "overflow_y": null,
            "padding": null,
            "right": null,
            "top": null,
            "visibility": null,
            "width": null
          }
        },
        "da6ebd53c7d742d1831af06f853cc588": {
          "model_module": "@jupyter-widgets/output",
          "model_name": "OutputModel",
          "model_module_version": "1.0.0",
          "state": {
            "_dom_classes": [],
            "_model_module": "@jupyter-widgets/output",
            "_model_module_version": "1.0.0",
            "_model_name": "OutputModel",
            "_view_count": null,
            "_view_module": "@jupyter-widgets/output",
            "_view_module_version": "1.0.0",
            "_view_name": "OutputView",
            "layout": "IPY_MODEL_f23ff58b40aa4d4a9c8a12d885108564",
            "msg_id": "",
            "outputs": [
              {
                "output_type": "display_data",
                "data": {
                  "text/plain": "\u001b[32m⠇\u001b[0m  test                 \u001b[38;2;21;127;61m━━━━━━━━━━\u001b[0m \u001b[38;2;21;127;61mLOADED\u001b[0m \u001b[39m[\u001b[0m\u001b[38;2;155;155;159m0:00:00\u001b[0m\u001b[39m]\u001b[0m \n",
                  "text/html": "<pre style=\"white-space:pre;overflow-x:auto;line-height:normal;font-family:Menlo,'DejaVu Sans Mono',consolas,'Courier New',monospace\"><span style=\"color: #008000; text-decoration-color: #008000\">⠇</span>  test                 <span style=\"color: #157f3d; text-decoration-color: #157f3d\">━━━━━━━━━━</span> <span style=\"color: #157f3d; text-decoration-color: #157f3d\">LOADED</span> <span style=\"color: #000000; text-decoration-color: #000000\">[</span><span style=\"color: #9b9b9f; text-decoration-color: #9b9b9f\">0:00:00</span><span style=\"color: #000000; text-decoration-color: #000000\">]</span> \n</pre>\n"
                },
                "metadata": {}
              }
            ]
          }
        },
        "f23ff58b40aa4d4a9c8a12d885108564": {
          "model_module": "@jupyter-widgets/base",
          "model_name": "LayoutModel",
          "model_module_version": "1.2.0",
          "state": {
            "_model_module": "@jupyter-widgets/base",
            "_model_module_version": "1.2.0",
            "_model_name": "LayoutModel",
            "_view_count": null,
            "_view_module": "@jupyter-widgets/base",
            "_view_module_version": "1.2.0",
            "_view_name": "LayoutView",
            "align_content": null,
            "align_items": null,
            "align_self": null,
            "border": null,
            "bottom": null,
            "display": null,
            "flex": null,
            "flex_flow": null,
            "grid_area": null,
            "grid_auto_columns": null,
            "grid_auto_flow": null,
            "grid_auto_rows": null,
            "grid_column": null,
            "grid_gap": null,
            "grid_row": null,
            "grid_template_areas": null,
            "grid_template_columns": null,
            "grid_template_rows": null,
            "height": null,
            "justify_content": null,
            "justify_items": null,
            "left": null,
            "margin": null,
            "max_height": null,
            "max_width": null,
            "min_height": null,
            "min_width": null,
            "object_fit": null,
            "object_position": null,
            "order": null,
            "overflow": null,
            "overflow_x": null,
            "overflow_y": null,
            "padding": null,
            "right": null,
            "top": null,
            "visibility": null,
            "width": null
          }
        },
        "35bec29acd1b4c8898dda17a8ddbfe7b": {
          "model_module": "@jupyter-widgets/output",
          "model_name": "OutputModel",
          "model_module_version": "1.0.0",
          "state": {
            "_dom_classes": [],
            "_model_module": "@jupyter-widgets/output",
            "_model_module_version": "1.0.0",
            "_model_name": "OutputModel",
            "_view_count": null,
            "_view_module": "@jupyter-widgets/output",
            "_view_module_version": "1.0.0",
            "_view_name": "OutputView",
            "layout": "IPY_MODEL_ad4103030e6044c3bd55086d70dc99ce",
            "msg_id": "",
            "outputs": [
              {
                "output_type": "display_data",
                "data": {
                  "text/plain": "\u001b[32m⠏\u001b[0m  train                \u001b[38;2;21;127;61m━━━━━━━━━━\u001b[0m \u001b[38;2;21;127;61mLOADED\u001b[0m \u001b[39m[\u001b[0m\u001b[38;2;155;155;159m0:00:00\u001b[0m\u001b[39m]\u001b[0m \n",
                  "text/html": "<pre style=\"white-space:pre;overflow-x:auto;line-height:normal;font-family:Menlo,'DejaVu Sans Mono',consolas,'Courier New',monospace\"><span style=\"color: #008000; text-decoration-color: #008000\">⠏</span>  train                <span style=\"color: #157f3d; text-decoration-color: #157f3d\">━━━━━━━━━━</span> <span style=\"color: #157f3d; text-decoration-color: #157f3d\">LOADED</span> <span style=\"color: #000000; text-decoration-color: #000000\">[</span><span style=\"color: #9b9b9f; text-decoration-color: #9b9b9f\">0:00:00</span><span style=\"color: #000000; text-decoration-color: #000000\">]</span> \n</pre>\n"
                },
                "metadata": {}
              }
            ]
          }
        },
        "ad4103030e6044c3bd55086d70dc99ce": {
          "model_module": "@jupyter-widgets/base",
          "model_name": "LayoutModel",
          "model_module_version": "1.2.0",
          "state": {
            "_model_module": "@jupyter-widgets/base",
            "_model_module_version": "1.2.0",
            "_model_name": "LayoutModel",
            "_view_count": null,
            "_view_module": "@jupyter-widgets/base",
            "_view_module_version": "1.2.0",
            "_view_name": "LayoutView",
            "align_content": null,
            "align_items": null,
            "align_self": null,
            "border": null,
            "bottom": null,
            "display": null,
            "flex": null,
            "flex_flow": null,
            "grid_area": null,
            "grid_auto_columns": null,
            "grid_auto_flow": null,
            "grid_auto_rows": null,
            "grid_column": null,
            "grid_gap": null,
            "grid_row": null,
            "grid_template_areas": null,
            "grid_template_columns": null,
            "grid_template_rows": null,
            "height": null,
            "justify_content": null,
            "justify_items": null,
            "left": null,
            "margin": null,
            "max_height": null,
            "max_width": null,
            "min_height": null,
            "min_width": null,
            "object_fit": null,
            "object_position": null,
            "order": null,
            "overflow": null,
            "overflow_x": null,
            "overflow_y": null,
            "padding": null,
            "right": null,
            "top": null,
            "visibility": null,
            "width": null
          }
        },
        "af1eb2fd48be485a962e165ab7f2419a": {
          "model_module": "@jupyter-widgets/output",
          "model_name": "OutputModel",
          "model_module_version": "1.0.0",
          "state": {
            "_dom_classes": [],
            "_model_module": "@jupyter-widgets/output",
            "_model_module_version": "1.0.0",
            "_model_name": "OutputModel",
            "_view_count": null,
            "_view_module": "@jupyter-widgets/output",
            "_view_module_version": "1.0.0",
            "_view_name": "OutputView",
            "layout": "IPY_MODEL_a659f728593142c385d3162480b59727",
            "msg_id": "",
            "outputs": [
              {
                "output_type": "display_data",
                "data": {
                  "text/plain": "✅  model5all            \u001b[38;2;21;127;61m━━━━━━━━━━\u001b[0m \u001b[38;2;21;127;61mDONE\u001b[0m \u001b[39m[\u001b[0m\u001b[38;2;155;155;159m0:01:37\u001b[0m\u001b[39m]\u001b[0m                          \n    \u001b[4;38;2;161;161;169m↳ \u001b[0m\u001b]8;id=350740;https://app.layer.ai/tomy4reel/aqssh-645h-wver/models/model5all?v=1.3\u001b\\\u001b[4;38;2;161;161;169mhttps://app.layer.ai/tomy4reel/aqssh-645h-wver/models/model5all?v=1.3\u001b[0m\u001b]8;;\u001b\\ \n",
                  "text/html": "<pre style=\"white-space:pre;overflow-x:auto;line-height:normal;font-family:Menlo,'DejaVu Sans Mono',consolas,'Courier New',monospace\">✅  model5all            <span style=\"color: #157f3d; text-decoration-color: #157f3d\">━━━━━━━━━━</span> <span style=\"color: #157f3d; text-decoration-color: #157f3d\">DONE</span> <span style=\"color: #000000; text-decoration-color: #000000\">[</span><span style=\"color: #9b9b9f; text-decoration-color: #9b9b9f\">0:01:37</span><span style=\"color: #000000; text-decoration-color: #000000\">]</span>                          \n    <span style=\"color: #a1a1a9; text-decoration-color: #a1a1a9; text-decoration: underline\">↳ </span><a href=\"https://app.layer.ai/tomy4reel/aqssh-645h-wver/models/model5all?v=1.3\" target=\"_blank\"><span style=\"color: #a1a1a9; text-decoration-color: #a1a1a9; text-decoration: underline\">https://app.layer.ai/tomy4reel/aqssh-645h-wver/models/model5all?v=1.3</span></a> \n</pre>\n"
                },
                "metadata": {}
              }
            ]
          }
        },
        "a659f728593142c385d3162480b59727": {
          "model_module": "@jupyter-widgets/base",
          "model_name": "LayoutModel",
          "model_module_version": "1.2.0",
          "state": {
            "_model_module": "@jupyter-widgets/base",
            "_model_module_version": "1.2.0",
            "_model_name": "LayoutModel",
            "_view_count": null,
            "_view_module": "@jupyter-widgets/base",
            "_view_module_version": "1.2.0",
            "_view_name": "LayoutView",
            "align_content": null,
            "align_items": null,
            "align_self": null,
            "border": null,
            "bottom": null,
            "display": null,
            "flex": null,
            "flex_flow": null,
            "grid_area": null,
            "grid_auto_columns": null,
            "grid_auto_flow": null,
            "grid_auto_rows": null,
            "grid_column": null,
            "grid_gap": null,
            "grid_row": null,
            "grid_template_areas": null,
            "grid_template_columns": null,
            "grid_template_rows": null,
            "height": null,
            "justify_content": null,
            "justify_items": null,
            "left": null,
            "margin": null,
            "max_height": null,
            "max_width": null,
            "min_height": null,
            "min_width": null,
            "object_fit": null,
            "object_position": null,
            "order": null,
            "overflow": null,
            "overflow_x": null,
            "overflow_y": null,
            "padding": null,
            "right": null,
            "top": null,
            "visibility": null,
            "width": null
          }
        },
        "7a4b283eab0d4c2aac2e2f26817e6ade": {
          "model_module": "@jupyter-widgets/output",
          "model_name": "OutputModel",
          "model_module_version": "1.0.0",
          "state": {
            "_dom_classes": [],
            "_model_module": "@jupyter-widgets/output",
            "_model_module_version": "1.0.0",
            "_model_name": "OutputModel",
            "_view_count": null,
            "_view_module": "@jupyter-widgets/output",
            "_view_module_version": "1.0.0",
            "_view_name": "OutputView",
            "layout": "IPY_MODEL_4b894d3e753a4f4d8b6c9b1385bf88c3",
            "msg_id": "",
            "outputs": [
              {
                "output_type": "display_data",
                "data": {
                  "text/plain": "\u001b[32m⠸\u001b[0m  model5all            \u001b[38;2;21;127;61m━━━━━━━━━━\u001b[0m \u001b[38;2;21;127;61mLOADED\u001b[0m \u001b[39m[\u001b[0m\u001b[38;2;155;155;159m359 kB/359 kB\u001b[0m\u001b[39m, \u001b[0m\u001b[38;2;155;155;159m179.4 kB/s\u001b[0m\u001b[39m, \u001b[0m\u001b[38;2;155;155;159m0:00:03\u001b[0m\u001b[39m]\u001b[0m \n",
                  "text/html": "<pre style=\"white-space:pre;overflow-x:auto;line-height:normal;font-family:Menlo,'DejaVu Sans Mono',consolas,'Courier New',monospace\"><span style=\"color: #008000; text-decoration-color: #008000\">⠸</span>  model5all            <span style=\"color: #157f3d; text-decoration-color: #157f3d\">━━━━━━━━━━</span> <span style=\"color: #157f3d; text-decoration-color: #157f3d\">LOADED</span> <span style=\"color: #000000; text-decoration-color: #000000\">[</span><span style=\"color: #9b9b9f; text-decoration-color: #9b9b9f\">359 kB/359 kB</span><span style=\"color: #000000; text-decoration-color: #000000\">, </span><span style=\"color: #9b9b9f; text-decoration-color: #9b9b9f\">179.4 kB/s</span><span style=\"color: #000000; text-decoration-color: #000000\">, </span><span style=\"color: #9b9b9f; text-decoration-color: #9b9b9f\">0:00:03</span><span style=\"color: #000000; text-decoration-color: #000000\">]</span> \n</pre>\n"
                },
                "metadata": {}
              }
            ]
          }
        },
        "4b894d3e753a4f4d8b6c9b1385bf88c3": {
          "model_module": "@jupyter-widgets/base",
          "model_name": "LayoutModel",
          "model_module_version": "1.2.0",
          "state": {
            "_model_module": "@jupyter-widgets/base",
            "_model_module_version": "1.2.0",
            "_model_name": "LayoutModel",
            "_view_count": null,
            "_view_module": "@jupyter-widgets/base",
            "_view_module_version": "1.2.0",
            "_view_name": "LayoutView",
            "align_content": null,
            "align_items": null,
            "align_self": null,
            "border": null,
            "bottom": null,
            "display": null,
            "flex": null,
            "flex_flow": null,
            "grid_area": null,
            "grid_auto_columns": null,
            "grid_auto_flow": null,
            "grid_auto_rows": null,
            "grid_column": null,
            "grid_gap": null,
            "grid_row": null,
            "grid_template_areas": null,
            "grid_template_columns": null,
            "grid_template_rows": null,
            "height": null,
            "justify_content": null,
            "justify_items": null,
            "left": null,
            "margin": null,
            "max_height": null,
            "max_width": null,
            "min_height": null,
            "min_width": null,
            "object_fit": null,
            "object_position": null,
            "order": null,
            "overflow": null,
            "overflow_x": null,
            "overflow_y": null,
            "padding": null,
            "right": null,
            "top": null,
            "visibility": null,
            "width": null
          }
        },
        "f24b25795d2940c18a46e2dc40d633a8": {
          "model_module": "@jupyter-widgets/output",
          "model_name": "OutputModel",
          "model_module_version": "1.0.0",
          "state": {
            "_dom_classes": [],
            "_model_module": "@jupyter-widgets/output",
            "_model_module_version": "1.0.0",
            "_model_name": "OutputModel",
            "_view_count": null,
            "_view_module": "@jupyter-widgets/output",
            "_view_module_version": "1.0.0",
            "_view_name": "OutputView",
            "layout": "IPY_MODEL_72f0b4dcb7264389af6eef5f712ec0e6",
            "msg_id": "",
            "outputs": [
              {
                "output_type": "display_data",
                "data": {
                  "text/plain": "✅  model5new            \u001b[38;2;21;127;61m━━━━━━━━━━\u001b[0m \u001b[38;2;21;127;61mDONE\u001b[0m \u001b[39m[\u001b[0m\u001b[38;2;155;155;159m0:01:37\u001b[0m\u001b[39m]\u001b[0m                          \n    \u001b[4;38;2;161;161;169m↳ \u001b[0m\u001b]8;id=635237;https://app.layer.ai/tomy4reel/aqssh-645h-wver/models/model5new?v=1.3\u001b\\\u001b[4;38;2;161;161;169mhttps://app.layer.ai/tomy4reel/aqssh-645h-wver/models/model5new?v=1.3\u001b[0m\u001b]8;;\u001b\\ \n",
                  "text/html": "<pre style=\"white-space:pre;overflow-x:auto;line-height:normal;font-family:Menlo,'DejaVu Sans Mono',consolas,'Courier New',monospace\">✅  model5new            <span style=\"color: #157f3d; text-decoration-color: #157f3d\">━━━━━━━━━━</span> <span style=\"color: #157f3d; text-decoration-color: #157f3d\">DONE</span> <span style=\"color: #000000; text-decoration-color: #000000\">[</span><span style=\"color: #9b9b9f; text-decoration-color: #9b9b9f\">0:01:37</span><span style=\"color: #000000; text-decoration-color: #000000\">]</span>                          \n    <span style=\"color: #a1a1a9; text-decoration-color: #a1a1a9; text-decoration: underline\">↳ </span><a href=\"https://app.layer.ai/tomy4reel/aqssh-645h-wver/models/model5new?v=1.3\" target=\"_blank\"><span style=\"color: #a1a1a9; text-decoration-color: #a1a1a9; text-decoration: underline\">https://app.layer.ai/tomy4reel/aqssh-645h-wver/models/model5new?v=1.3</span></a> \n</pre>\n"
                },
                "metadata": {}
              }
            ]
          }
        },
        "72f0b4dcb7264389af6eef5f712ec0e6": {
          "model_module": "@jupyter-widgets/base",
          "model_name": "LayoutModel",
          "model_module_version": "1.2.0",
          "state": {
            "_model_module": "@jupyter-widgets/base",
            "_model_module_version": "1.2.0",
            "_model_name": "LayoutModel",
            "_view_count": null,
            "_view_module": "@jupyter-widgets/base",
            "_view_module_version": "1.2.0",
            "_view_name": "LayoutView",
            "align_content": null,
            "align_items": null,
            "align_self": null,
            "border": null,
            "bottom": null,
            "display": null,
            "flex": null,
            "flex_flow": null,
            "grid_area": null,
            "grid_auto_columns": null,
            "grid_auto_flow": null,
            "grid_auto_rows": null,
            "grid_column": null,
            "grid_gap": null,
            "grid_row": null,
            "grid_template_areas": null,
            "grid_template_columns": null,
            "grid_template_rows": null,
            "height": null,
            "justify_content": null,
            "justify_items": null,
            "left": null,
            "margin": null,
            "max_height": null,
            "max_width": null,
            "min_height": null,
            "min_width": null,
            "object_fit": null,
            "object_position": null,
            "order": null,
            "overflow": null,
            "overflow_x": null,
            "overflow_y": null,
            "padding": null,
            "right": null,
            "top": null,
            "visibility": null,
            "width": null
          }
        },
        "57b0125c4c584c2c94a65c8bb4503724": {
          "model_module": "@jupyter-widgets/output",
          "model_name": "OutputModel",
          "model_module_version": "1.0.0",
          "state": {
            "_dom_classes": [],
            "_model_module": "@jupyter-widgets/output",
            "_model_module_version": "1.0.0",
            "_model_name": "OutputModel",
            "_view_count": null,
            "_view_module": "@jupyter-widgets/output",
            "_view_module_version": "1.0.0",
            "_view_name": "OutputView",
            "layout": "IPY_MODEL_5506603ca7ce4a8d8adb8bdbe9c495ee",
            "msg_id": "",
            "outputs": [
              {
                "output_type": "display_data",
                "data": {
                  "text/plain": "\u001b[32m⠙\u001b[0m  model5new            \u001b[38;2;21;127;61m━━━━━━━━━━\u001b[0m \u001b[38;2;21;127;61mLOADED\u001b[0m \u001b[39m[\u001b[0m\u001b[38;2;155;155;159m357 kB/357 kB\u001b[0m\u001b[39m, \u001b[0m\u001b[38;2;155;155;159m494 Bytes/s\u001b[0m\u001b[39m, \u001b[0m\u001b[38;2;155;155;159m0:00:03\u001b[0m\u001b[39m]\u001b[0m \n",
                  "text/html": "<pre style=\"white-space:pre;overflow-x:auto;line-height:normal;font-family:Menlo,'DejaVu Sans Mono',consolas,'Courier New',monospace\"><span style=\"color: #008000; text-decoration-color: #008000\">⠙</span>  model5new            <span style=\"color: #157f3d; text-decoration-color: #157f3d\">━━━━━━━━━━</span> <span style=\"color: #157f3d; text-decoration-color: #157f3d\">LOADED</span> <span style=\"color: #000000; text-decoration-color: #000000\">[</span><span style=\"color: #9b9b9f; text-decoration-color: #9b9b9f\">357 kB/357 kB</span><span style=\"color: #000000; text-decoration-color: #000000\">, </span><span style=\"color: #9b9b9f; text-decoration-color: #9b9b9f\">494 Bytes/s</span><span style=\"color: #000000; text-decoration-color: #000000\">, </span><span style=\"color: #9b9b9f; text-decoration-color: #9b9b9f\">0:00:03</span><span style=\"color: #000000; text-decoration-color: #000000\">]</span> \n</pre>\n"
                },
                "metadata": {}
              }
            ]
          }
        },
        "5506603ca7ce4a8d8adb8bdbe9c495ee": {
          "model_module": "@jupyter-widgets/base",
          "model_name": "LayoutModel",
          "model_module_version": "1.2.0",
          "state": {
            "_model_module": "@jupyter-widgets/base",
            "_model_module_version": "1.2.0",
            "_model_name": "LayoutModel",
            "_view_count": null,
            "_view_module": "@jupyter-widgets/base",
            "_view_module_version": "1.2.0",
            "_view_name": "LayoutView",
            "align_content": null,
            "align_items": null,
            "align_self": null,
            "border": null,
            "bottom": null,
            "display": null,
            "flex": null,
            "flex_flow": null,
            "grid_area": null,
            "grid_auto_columns": null,
            "grid_auto_flow": null,
            "grid_auto_rows": null,
            "grid_column": null,
            "grid_gap": null,
            "grid_row": null,
            "grid_template_areas": null,
            "grid_template_columns": null,
            "grid_template_rows": null,
            "height": null,
            "justify_content": null,
            "justify_items": null,
            "left": null,
            "margin": null,
            "max_height": null,
            "max_width": null,
            "min_height": null,
            "min_width": null,
            "object_fit": null,
            "object_position": null,
            "order": null,
            "overflow": null,
            "overflow_x": null,
            "overflow_y": null,
            "padding": null,
            "right": null,
            "top": null,
            "visibility": null,
            "width": null
          }
        }
      }
    },
    "accelerator": "GPU"
  },
  "nbformat": 4,
  "nbformat_minor": 5
}