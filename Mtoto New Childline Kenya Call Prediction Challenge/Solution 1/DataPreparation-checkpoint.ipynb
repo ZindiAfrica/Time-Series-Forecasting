{
 "cells": [
  {
   "cell_type": "code",
   "execution_count": 1,
   "metadata": {},
   "outputs": [],
   "source": [
    "import pandas as pd\n",
    "import numpy as np\n",
    "import matplotlib.pyplot as plt"
   ]
  },
  {
   "cell_type": "code",
   "execution_count": 2,
   "metadata": {},
   "outputs": [
    {
     "name": "stderr",
     "output_type": "stream",
     "text": [
      "/home/philmassie/anaconda2/lib/python2.7/site-packages/IPython/core/interactiveshell.py:2718: DtypeWarning: Columns (12,13,14,18) have mixed types. Specify dtype option on import or set low_memory=False.\n",
      "  interactivity=interactivity, compiler=compiler, result=result)\n"
     ]
    }
   ],
   "source": [
    "df=pd.read_csv(\"train.csv\")"
   ]
  },
  {
   "cell_type": "markdown",
   "metadata": {},
   "source": [
    "# Splitting the calldate"
   ]
  },
  {
   "cell_type": "code",
   "execution_count": 4,
   "metadata": {},
   "outputs": [],
   "source": [
    "from datetime import datetime\n",
    "df.calldate=pd.to_datetime(df.calldate)"
   ]
  },
  {
   "cell_type": "code",
   "execution_count": 5,
   "metadata": {},
   "outputs": [],
   "source": [
    "df[\"newcalldate\"]=df[\"calldate\"].apply(lambda x: datetime.strftime(x,\"%Y%m%d%H%M%S\"))"
   ]
  },
  {
   "cell_type": "code",
   "execution_count": 6,
   "metadata": {},
   "outputs": [],
   "source": [
    "df[\"year\"]=df[\"calldate\"].apply(lambda x: datetime.strftime(x,\"%Y\"))"
   ]
  },
  {
   "cell_type": "code",
   "execution_count": 7,
   "metadata": {},
   "outputs": [],
   "source": [
    "df[\"month\"]=df[\"calldate\"].apply(lambda x: datetime.strftime(x,\"%m\"))"
   ]
  },
  {
   "cell_type": "code",
   "execution_count": 7,
   "metadata": {},
   "outputs": [],
   "source": [
    "df[\"day\"]=df[\"calldate\"].apply(lambda x: datetime.strftime(x,\"%d\"))"
   ]
  },
  {
   "cell_type": "code",
   "execution_count": 8,
   "metadata": {},
   "outputs": [],
   "source": [
    "df[\"hour\"]=df[\"calldate\"].apply(lambda x: datetime.strftime(x,\"%H\"))"
   ]
  },
  {
   "cell_type": "code",
   "execution_count": 9,
   "metadata": {},
   "outputs": [],
   "source": [
    "df[\"minute\"]=df[\"calldate\"].apply(lambda x: datetime.strftime(x,\"%M\"))"
   ]
  },
  {
   "cell_type": "code",
   "execution_count": 10,
   "metadata": {},
   "outputs": [],
   "source": [
    "df[\"sec\"]=df[\"calldate\"].apply(lambda x: datetime.strftime(x,\"%S\"))"
   ]
  },
  {
   "cell_type": "code",
   "execution_count": 11,
   "metadata": {},
   "outputs": [],
   "source": [
    "df.drop([\"calldate\",\"newcalldate\",\"year\",\"minute\",\"sec\"],axis=1,inplace=True)"
   ]
  },
  {
   "cell_type": "code",
   "execution_count": 12,
   "metadata": {},
   "outputs": [
    {
     "data": {
      "text/html": [
       "<div>\n",
       "<style scoped>\n",
       "    .dataframe tbody tr th:only-of-type {\n",
       "        vertical-align: middle;\n",
       "    }\n",
       "\n",
       "    .dataframe tbody tr th {\n",
       "        vertical-align: top;\n",
       "    }\n",
       "\n",
       "    .dataframe thead th {\n",
       "        text-align: right;\n",
       "    }\n",
       "</style>\n",
       "<table border=\"1\" class=\"dataframe\">\n",
       "  <thead>\n",
       "    <tr style=\"text-align: right;\">\n",
       "      <th></th>\n",
       "      <th>cc_status</th>\n",
       "      <th>maincat</th>\n",
       "      <th>subcat1</th>\n",
       "      <th>casepriority</th>\n",
       "      <th>referal</th>\n",
       "      <th>caller_gender</th>\n",
       "      <th>caller_age</th>\n",
       "      <th>caller_county</th>\n",
       "      <th>child_age</th>\n",
       "      <th>child_gender</th>\n",
       "      <th>...</th>\n",
       "      <th>parent_age</th>\n",
       "      <th>parent_gender</th>\n",
       "      <th>parent_county</th>\n",
       "      <th>Abuser_Relationship</th>\n",
       "      <th>Neglector_Relationship</th>\n",
       "      <th>Perpetrator_Relationship</th>\n",
       "      <th>Physical abuser_Relationship</th>\n",
       "      <th>month</th>\n",
       "      <th>day</th>\n",
       "      <th>hour</th>\n",
       "    </tr>\n",
       "  </thead>\n",
       "  <tbody>\n",
       "    <tr>\n",
       "      <th>0</th>\n",
       "      <td>Closed</td>\n",
       "      <td>non-interventional</td>\n",
       "      <td>Blank call</td>\n",
       "      <td>Non Critical</td>\n",
       "      <td>NaN</td>\n",
       "      <td>NaN</td>\n",
       "      <td>NaN</td>\n",
       "      <td>NaN</td>\n",
       "      <td>NaN</td>\n",
       "      <td>NaN</td>\n",
       "      <td>...</td>\n",
       "      <td>NaN</td>\n",
       "      <td>NaN</td>\n",
       "      <td>NaN</td>\n",
       "      <td>NaN</td>\n",
       "      <td>NaN</td>\n",
       "      <td>NaN</td>\n",
       "      <td>NaN</td>\n",
       "      <td>01</td>\n",
       "      <td>01</td>\n",
       "      <td>07</td>\n",
       "    </tr>\n",
       "    <tr>\n",
       "      <th>1</th>\n",
       "      <td>Closed</td>\n",
       "      <td>non-interventional</td>\n",
       "      <td>Blank call</td>\n",
       "      <td>Non Critical</td>\n",
       "      <td>NaN</td>\n",
       "      <td>NaN</td>\n",
       "      <td>NaN</td>\n",
       "      <td>NaN</td>\n",
       "      <td>NaN</td>\n",
       "      <td>NaN</td>\n",
       "      <td>...</td>\n",
       "      <td>NaN</td>\n",
       "      <td>NaN</td>\n",
       "      <td>NaN</td>\n",
       "      <td>NaN</td>\n",
       "      <td>NaN</td>\n",
       "      <td>NaN</td>\n",
       "      <td>NaN</td>\n",
       "      <td>01</td>\n",
       "      <td>01</td>\n",
       "      <td>07</td>\n",
       "    </tr>\n",
       "    <tr>\n",
       "      <th>2</th>\n",
       "      <td>Closed</td>\n",
       "      <td>non-interventional</td>\n",
       "      <td>Blank call</td>\n",
       "      <td>Non Critical</td>\n",
       "      <td>NaN</td>\n",
       "      <td>NaN</td>\n",
       "      <td>NaN</td>\n",
       "      <td>NaN</td>\n",
       "      <td>NaN</td>\n",
       "      <td>NaN</td>\n",
       "      <td>...</td>\n",
       "      <td>NaN</td>\n",
       "      <td>NaN</td>\n",
       "      <td>NaN</td>\n",
       "      <td>NaN</td>\n",
       "      <td>NaN</td>\n",
       "      <td>NaN</td>\n",
       "      <td>NaN</td>\n",
       "      <td>01</td>\n",
       "      <td>01</td>\n",
       "      <td>07</td>\n",
       "    </tr>\n",
       "  </tbody>\n",
       "</table>\n",
       "<p>3 rows × 21 columns</p>\n",
       "</div>"
      ],
      "text/plain": [
       "  cc_status             maincat     subcat1  casepriority referal  \\\n",
       "0    Closed  non-interventional  Blank call  Non Critical     NaN   \n",
       "1    Closed  non-interventional  Blank call  Non Critical     NaN   \n",
       "2    Closed  non-interventional  Blank call  Non Critical     NaN   \n",
       "\n",
       "  caller_gender caller_age caller_county child_age child_gender  ...  \\\n",
       "0           NaN        NaN           NaN       NaN          NaN  ...   \n",
       "1           NaN        NaN           NaN       NaN          NaN  ...   \n",
       "2           NaN        NaN           NaN       NaN          NaN  ...   \n",
       "\n",
       "  parent_age parent_gender parent_county Abuser_Relationship  \\\n",
       "0        NaN           NaN           NaN                 NaN   \n",
       "1        NaN           NaN           NaN                 NaN   \n",
       "2        NaN           NaN           NaN                 NaN   \n",
       "\n",
       "  Neglector_Relationship Perpetrator_Relationship  \\\n",
       "0                    NaN                      NaN   \n",
       "1                    NaN                      NaN   \n",
       "2                    NaN                      NaN   \n",
       "\n",
       "  Physical abuser_Relationship month day hour  \n",
       "0                          NaN    01  01   07  \n",
       "1                          NaN    01  01   07  \n",
       "2                          NaN    01  01   07  \n",
       "\n",
       "[3 rows x 21 columns]"
      ]
     },
     "execution_count": 12,
     "metadata": {},
     "output_type": "execute_result"
    }
   ],
   "source": [
    "df.head(3)"
   ]
  },
  {
   "cell_type": "markdown",
   "metadata": {},
   "source": [
    "## Counting Number Of Calls Per Hour Per Day"
   ]
  },
  {
   "cell_type": "code",
   "execution_count": 13,
   "metadata": {},
   "outputs": [],
   "source": [
    "df[\"num_calls\"]=1"
   ]
  },
  {
   "cell_type": "code",
   "execution_count": 14,
   "metadata": {},
   "outputs": [],
   "source": [
    "data= (df.groupby(['month',\"day\", 'hour'])['num_calls'].sum().reset_index())"
   ]
  },
  {
   "cell_type": "code",
   "execution_count": 15,
   "metadata": {},
   "outputs": [
    {
     "data": {
      "text/html": [
       "<div>\n",
       "<style scoped>\n",
       "    .dataframe tbody tr th:only-of-type {\n",
       "        vertical-align: middle;\n",
       "    }\n",
       "\n",
       "    .dataframe tbody tr th {\n",
       "        vertical-align: top;\n",
       "    }\n",
       "\n",
       "    .dataframe thead th {\n",
       "        text-align: right;\n",
       "    }\n",
       "</style>\n",
       "<table border=\"1\" class=\"dataframe\">\n",
       "  <thead>\n",
       "    <tr style=\"text-align: right;\">\n",
       "      <th></th>\n",
       "      <th>month</th>\n",
       "      <th>day</th>\n",
       "      <th>hour</th>\n",
       "      <th>num_calls</th>\n",
       "    </tr>\n",
       "  </thead>\n",
       "  <tbody>\n",
       "    <tr>\n",
       "      <th>0</th>\n",
       "      <td>01</td>\n",
       "      <td>01</td>\n",
       "      <td>07</td>\n",
       "      <td>8</td>\n",
       "    </tr>\n",
       "    <tr>\n",
       "      <th>1</th>\n",
       "      <td>01</td>\n",
       "      <td>01</td>\n",
       "      <td>08</td>\n",
       "      <td>41</td>\n",
       "    </tr>\n",
       "    <tr>\n",
       "      <th>2</th>\n",
       "      <td>01</td>\n",
       "      <td>01</td>\n",
       "      <td>09</td>\n",
       "      <td>20</td>\n",
       "    </tr>\n",
       "  </tbody>\n",
       "</table>\n",
       "</div>"
      ],
      "text/plain": [
       "  month day hour  num_calls\n",
       "0    01  01   07          8\n",
       "1    01  01   08         41\n",
       "2    01  01   09         20"
      ]
     },
     "execution_count": 15,
     "metadata": {},
     "output_type": "execute_result"
    }
   ],
   "source": [
    "data.head(3)"
   ]
  },
  {
   "cell_type": "markdown",
   "metadata": {},
   "source": [
    "### Inserting KenyaPublicHolidays2016 and NairobiSchoolDates2016 from the csv_files provided by Zindi"
   ]
  },
  {
   "cell_type": "code",
   "execution_count": 16,
   "metadata": {},
   "outputs": [],
   "source": [
    "pub_holiday=pd.Series([])\n",
    "for i in range(len(data)):\n",
    "    if data[\"month\"][i]==\"01\" and data[\"day\"][i]==\"01\":\n",
    "        pub_holiday[i]=\"holiday\"\n",
    "    elif data[\"month\"][i]==\"03\" and data[\"day\"][i]==\"25\":\n",
    "        pub_holiday[i]=\"holiday\"\n",
    "    elif data[\"month\"][i]==\"03\" and data[\"day\"][i]==\"27\":\n",
    "        pub_holiday[i]=\"holiday\"\n",
    "    elif data[\"month\"][i]==\"05\" and data[\"day\"][i]==\"02\":\n",
    "        pub_holiday[i]=\"holiday\"\n",
    "    \n",
    "    elif data[\"month\"][i]==\"06\" and data[\"day\"][i]==\"01\":\n",
    "        pub_holiday[i]=\"holiday\"\n",
    "    elif data[\"month\"][i]==\"06\" and data[\"day\"][i]==\"07\":\n",
    "        pub_holiday[i]=\"holiday\"\n",
    "    elif data[\"month\"][i]==\"09\" and data[\"day\"][i]==\"07\":\n",
    "        pub_holiday[i]=\"holiday\"\n",
    "    else :\n",
    "        pub_holiday[i]=\"nopublicholiday\"\n",
    "\n",
    "data.insert(4,\"pubHolidays\",pub_holiday)\n",
    "        \n",
    "        \n",
    "        "
   ]
  },
  {
   "cell_type": "code",
   "execution_count": 17,
   "metadata": {},
   "outputs": [],
   "source": [
    "schdate=pd.Series([])\n",
    "for i in range(len(data)):\n",
    "    if data[\"month\"][i]==\"02\" or data[\"month\"][i]==\"03\":\n",
    "        schdate[i]=\"schooltime\"\n",
    "    elif data[\"month\"][i]==\"01\" and (data[\"day\"][i]==\"01\"):\n",
    "        schdate[i]=\"notschooltime\"\n",
    "    elif data[\"month\"][i]==\"01\" and (data[\"day\"][i]==\"02\"):\n",
    "        schdate[i]=\"notschooltime\"\n",
    "    elif data[\"month\"][i]==\"01\" and (data[\"day\"][i]==\"03\"):\n",
    "        schdate[i]=\"notschooltime\"\n",
    "    \n",
    "    elif data[\"month\"][i]==\"04\" and data[\"day\"][i]==\"01\" :\n",
    "        schdate[i]=\"schooltime\"\n",
    "    elif data[\"month\"][i]==\"04\" and (data[\"day\"][i]==\"02\"):\n",
    "        schdate[i]=\"schooltime\"\n",
    "    elif data[\"month\"][i]==\"04\" and (data[\"day\"][i]==\"03\"):\n",
    "        schdate[i]=\"schooltime\"\n",
    "    elif data[\"month\"][i]==\"04\" and (data[\"day\"][i]==\"04\"):\n",
    "        schdate[i]=\"schooltime\"\n",
    "    elif data[\"month\"][i]==\"04\" and (data[\"day\"][i]==\"05\"):\n",
    "        schdate[i]=\"schooltime\"\n",
    "    elif data[\"month\"][i]==\"04\" and (data[\"day\"][i]==\"06\"):\n",
    "        schdate[i]=\"schooltime\"\n",
    "    elif data[\"month\"][i]==\"04\" and (data[\"day\"][i]==\"07\"):\n",
    "        schdate[i]=\"schooltime\"\n",
    "    elif data[\"month\"][i]==\"04\" and (data[\"day\"][i]==\"08\"):\n",
    "        schdate[i]=\"schooltime\"\n",
    "    elif data[\"month\"][i]==\"04\":\n",
    "        schdate[i]=\"notschooltime\"\n",
    "    elif data[\"month\"][i]==\"06\" or data[\"month\"][i]==\"07\":\n",
    "        schdate[i]=\"schooltime\"\n",
    "    elif data[\"month\"][i]==\"05\" and data[\"day\"][i]==\"01\":\n",
    "        schdate[i]=\"notschooltime\"\n",
    "    elif data[\"month\"][i]==\"05\" and data[\"day\"][i]!=\"01\":\n",
    "        schdate[i]=\"schooltime\"\n",
    "    else:\n",
    "        schdate[i]=\"schooltime\"\n",
    "data.insert(5,\"schooltimes\",schdate)"
   ]
  },
  {
   "cell_type": "code",
   "execution_count": 18,
   "metadata": {},
   "outputs": [],
   "source": [
    "data[\"year\"]=\"2016\""
   ]
  },
  {
   "cell_type": "code",
   "execution_count": 19,
   "metadata": {},
   "outputs": [
    {
     "data": {
      "text/html": [
       "<div>\n",
       "<style scoped>\n",
       "    .dataframe tbody tr th:only-of-type {\n",
       "        vertical-align: middle;\n",
       "    }\n",
       "\n",
       "    .dataframe tbody tr th {\n",
       "        vertical-align: top;\n",
       "    }\n",
       "\n",
       "    .dataframe thead th {\n",
       "        text-align: right;\n",
       "    }\n",
       "</style>\n",
       "<table border=\"1\" class=\"dataframe\">\n",
       "  <thead>\n",
       "    <tr style=\"text-align: right;\">\n",
       "      <th></th>\n",
       "      <th>month</th>\n",
       "      <th>day</th>\n",
       "      <th>hour</th>\n",
       "      <th>num_calls</th>\n",
       "      <th>pubHolidays</th>\n",
       "      <th>schooltimes</th>\n",
       "      <th>year</th>\n",
       "    </tr>\n",
       "  </thead>\n",
       "  <tbody>\n",
       "    <tr>\n",
       "      <th>0</th>\n",
       "      <td>01</td>\n",
       "      <td>01</td>\n",
       "      <td>07</td>\n",
       "      <td>8</td>\n",
       "      <td>holiday</td>\n",
       "      <td>notschooltime</td>\n",
       "      <td>2016</td>\n",
       "    </tr>\n",
       "    <tr>\n",
       "      <th>1</th>\n",
       "      <td>01</td>\n",
       "      <td>01</td>\n",
       "      <td>08</td>\n",
       "      <td>41</td>\n",
       "      <td>holiday</td>\n",
       "      <td>notschooltime</td>\n",
       "      <td>2016</td>\n",
       "    </tr>\n",
       "    <tr>\n",
       "      <th>2</th>\n",
       "      <td>01</td>\n",
       "      <td>01</td>\n",
       "      <td>09</td>\n",
       "      <td>20</td>\n",
       "      <td>holiday</td>\n",
       "      <td>notschooltime</td>\n",
       "      <td>2016</td>\n",
       "    </tr>\n",
       "    <tr>\n",
       "      <th>3</th>\n",
       "      <td>01</td>\n",
       "      <td>01</td>\n",
       "      <td>10</td>\n",
       "      <td>34</td>\n",
       "      <td>holiday</td>\n",
       "      <td>notschooltime</td>\n",
       "      <td>2016</td>\n",
       "    </tr>\n",
       "    <tr>\n",
       "      <th>4</th>\n",
       "      <td>01</td>\n",
       "      <td>01</td>\n",
       "      <td>11</td>\n",
       "      <td>44</td>\n",
       "      <td>holiday</td>\n",
       "      <td>notschooltime</td>\n",
       "      <td>2016</td>\n",
       "    </tr>\n",
       "  </tbody>\n",
       "</table>\n",
       "</div>"
      ],
      "text/plain": [
       "  month day hour  num_calls pubHolidays    schooltimes  year\n",
       "0    01  01   07          8     holiday  notschooltime  2016\n",
       "1    01  01   08         41     holiday  notschooltime  2016\n",
       "2    01  01   09         20     holiday  notschooltime  2016\n",
       "3    01  01   10         34     holiday  notschooltime  2016\n",
       "4    01  01   11         44     holiday  notschooltime  2016"
      ]
     },
     "execution_count": 19,
     "metadata": {},
     "output_type": "execute_result"
    }
   ],
   "source": [
    "data.head()"
   ]
  },
  {
   "cell_type": "code",
   "execution_count": 20,
   "metadata": {},
   "outputs": [],
   "source": [
    "\n",
    "data['time_index'] = data[['year','month',\"day\",\"hour\"]].apply(lambda x: '-'.join(x), axis=1)"
   ]
  },
  {
   "cell_type": "code",
   "execution_count": 21,
   "metadata": {},
   "outputs": [
    {
     "data": {
      "text/html": [
       "<div>\n",
       "<style scoped>\n",
       "    .dataframe tbody tr th:only-of-type {\n",
       "        vertical-align: middle;\n",
       "    }\n",
       "\n",
       "    .dataframe tbody tr th {\n",
       "        vertical-align: top;\n",
       "    }\n",
       "\n",
       "    .dataframe thead th {\n",
       "        text-align: right;\n",
       "    }\n",
       "</style>\n",
       "<table border=\"1\" class=\"dataframe\">\n",
       "  <thead>\n",
       "    <tr style=\"text-align: right;\">\n",
       "      <th></th>\n",
       "      <th>month</th>\n",
       "      <th>day</th>\n",
       "      <th>hour</th>\n",
       "      <th>num_calls</th>\n",
       "      <th>pubHolidays</th>\n",
       "      <th>schooltimes</th>\n",
       "      <th>year</th>\n",
       "      <th>time_index</th>\n",
       "    </tr>\n",
       "  </thead>\n",
       "  <tbody>\n",
       "    <tr>\n",
       "      <th>0</th>\n",
       "      <td>01</td>\n",
       "      <td>01</td>\n",
       "      <td>07</td>\n",
       "      <td>8</td>\n",
       "      <td>holiday</td>\n",
       "      <td>notschooltime</td>\n",
       "      <td>2016</td>\n",
       "      <td>2016-01-01-07</td>\n",
       "    </tr>\n",
       "    <tr>\n",
       "      <th>1</th>\n",
       "      <td>01</td>\n",
       "      <td>01</td>\n",
       "      <td>08</td>\n",
       "      <td>41</td>\n",
       "      <td>holiday</td>\n",
       "      <td>notschooltime</td>\n",
       "      <td>2016</td>\n",
       "      <td>2016-01-01-08</td>\n",
       "    </tr>\n",
       "    <tr>\n",
       "      <th>2</th>\n",
       "      <td>01</td>\n",
       "      <td>01</td>\n",
       "      <td>09</td>\n",
       "      <td>20</td>\n",
       "      <td>holiday</td>\n",
       "      <td>notschooltime</td>\n",
       "      <td>2016</td>\n",
       "      <td>2016-01-01-09</td>\n",
       "    </tr>\n",
       "    <tr>\n",
       "      <th>3</th>\n",
       "      <td>01</td>\n",
       "      <td>01</td>\n",
       "      <td>10</td>\n",
       "      <td>34</td>\n",
       "      <td>holiday</td>\n",
       "      <td>notschooltime</td>\n",
       "      <td>2016</td>\n",
       "      <td>2016-01-01-10</td>\n",
       "    </tr>\n",
       "    <tr>\n",
       "      <th>4</th>\n",
       "      <td>01</td>\n",
       "      <td>01</td>\n",
       "      <td>11</td>\n",
       "      <td>44</td>\n",
       "      <td>holiday</td>\n",
       "      <td>notschooltime</td>\n",
       "      <td>2016</td>\n",
       "      <td>2016-01-01-11</td>\n",
       "    </tr>\n",
       "  </tbody>\n",
       "</table>\n",
       "</div>"
      ],
      "text/plain": [
       "  month day hour  num_calls pubHolidays    schooltimes  year     time_index\n",
       "0    01  01   07          8     holiday  notschooltime  2016  2016-01-01-07\n",
       "1    01  01   08         41     holiday  notschooltime  2016  2016-01-01-08\n",
       "2    01  01   09         20     holiday  notschooltime  2016  2016-01-01-09\n",
       "3    01  01   10         34     holiday  notschooltime  2016  2016-01-01-10\n",
       "4    01  01   11         44     holiday  notschooltime  2016  2016-01-01-11"
      ]
     },
     "execution_count": 21,
     "metadata": {},
     "output_type": "execute_result"
    }
   ],
   "source": [
    "data.head()"
   ]
  },
  {
   "cell_type": "code",
   "execution_count": 22,
   "metadata": {},
   "outputs": [],
   "source": [
    "data.to_csv(\"ts.csv\",index=False)#this is the training dataset"
   ]
  },
  {
   "cell_type": "markdown",
   "metadata": {},
   "source": [
    "## Generating the dates that we'll Forcast on its num_calls"
   ]
  },
  {
   "cell_type": "code",
   "execution_count": 23,
   "metadata": {},
   "outputs": [],
   "source": [
    "date_rng = pd.date_range(start='13/07/2016', end='16/09/2016', freq='H')"
   ]
  },
  {
   "cell_type": "code",
   "execution_count": 24,
   "metadata": {},
   "outputs": [],
   "source": [
    "df2 = pd.DataFrame(date_rng, columns=['date'])"
   ]
  },
  {
   "cell_type": "code",
   "execution_count": 25,
   "metadata": {},
   "outputs": [
    {
     "data": {
      "text/plain": [
       "(1561, 1)"
      ]
     },
     "execution_count": 25,
     "metadata": {},
     "output_type": "execute_result"
    }
   ],
   "source": [
    "df2.shape"
   ]
  },
  {
   "cell_type": "code",
   "execution_count": 26,
   "metadata": {},
   "outputs": [
    {
     "data": {
      "text/html": [
       "<div>\n",
       "<style scoped>\n",
       "    .dataframe tbody tr th:only-of-type {\n",
       "        vertical-align: middle;\n",
       "    }\n",
       "\n",
       "    .dataframe tbody tr th {\n",
       "        vertical-align: top;\n",
       "    }\n",
       "\n",
       "    .dataframe thead th {\n",
       "        text-align: right;\n",
       "    }\n",
       "</style>\n",
       "<table border=\"1\" class=\"dataframe\">\n",
       "  <thead>\n",
       "    <tr style=\"text-align: right;\">\n",
       "      <th></th>\n",
       "      <th>date</th>\n",
       "    </tr>\n",
       "  </thead>\n",
       "  <tbody>\n",
       "    <tr>\n",
       "      <th>0</th>\n",
       "      <td>2016-07-13 00:00:00</td>\n",
       "    </tr>\n",
       "    <tr>\n",
       "      <th>1</th>\n",
       "      <td>2016-07-13 01:00:00</td>\n",
       "    </tr>\n",
       "  </tbody>\n",
       "</table>\n",
       "</div>"
      ],
      "text/plain": [
       "                 date\n",
       "0 2016-07-13 00:00:00\n",
       "1 2016-07-13 01:00:00"
      ]
     },
     "execution_count": 26,
     "metadata": {},
     "output_type": "execute_result"
    }
   ],
   "source": [
    "df2.head(2)"
   ]
  },
  {
   "cell_type": "code",
   "execution_count": 27,
   "metadata": {},
   "outputs": [],
   "source": [
    "final_test=df2.iloc[0:1344]"
   ]
  },
  {
   "cell_type": "code",
   "execution_count": 28,
   "metadata": {},
   "outputs": [
    {
     "data": {
      "text/plain": [
       "(1344, 1)"
      ]
     },
     "execution_count": 28,
     "metadata": {},
     "output_type": "execute_result"
    }
   ],
   "source": [
    "final_test.shape"
   ]
  },
  {
   "cell_type": "code",
   "execution_count": 29,
   "metadata": {},
   "outputs": [
    {
     "data": {
      "text/html": [
       "<div>\n",
       "<style scoped>\n",
       "    .dataframe tbody tr th:only-of-type {\n",
       "        vertical-align: middle;\n",
       "    }\n",
       "\n",
       "    .dataframe tbody tr th {\n",
       "        vertical-align: top;\n",
       "    }\n",
       "\n",
       "    .dataframe thead th {\n",
       "        text-align: right;\n",
       "    }\n",
       "</style>\n",
       "<table border=\"1\" class=\"dataframe\">\n",
       "  <thead>\n",
       "    <tr style=\"text-align: right;\">\n",
       "      <th></th>\n",
       "      <th>date</th>\n",
       "    </tr>\n",
       "  </thead>\n",
       "  <tbody>\n",
       "    <tr>\n",
       "      <th>0</th>\n",
       "      <td>2016-07-13 00:00:00</td>\n",
       "    </tr>\n",
       "    <tr>\n",
       "      <th>1</th>\n",
       "      <td>2016-07-13 01:00:00</td>\n",
       "    </tr>\n",
       "    <tr>\n",
       "      <th>2</th>\n",
       "      <td>2016-07-13 02:00:00</td>\n",
       "    </tr>\n",
       "  </tbody>\n",
       "</table>\n",
       "</div>"
      ],
      "text/plain": [
       "                 date\n",
       "0 2016-07-13 00:00:00\n",
       "1 2016-07-13 01:00:00\n",
       "2 2016-07-13 02:00:00"
      ]
     },
     "execution_count": 29,
     "metadata": {},
     "output_type": "execute_result"
    }
   ],
   "source": [
    "final_test.head(3)"
   ]
  },
  {
   "cell_type": "code",
   "execution_count": 30,
   "metadata": {},
   "outputs": [
    {
     "name": "stderr",
     "output_type": "stream",
     "text": [
      "/home/lawrence/anaconda3/lib/python3.6/site-packages/pandas/core/generic.py:5096: SettingWithCopyWarning: \n",
      "A value is trying to be set on a copy of a slice from a DataFrame.\n",
      "Try using .loc[row_indexer,col_indexer] = value instead\n",
      "\n",
      "See the caveats in the documentation: http://pandas.pydata.org/pandas-docs/stable/indexing.html#indexing-view-versus-copy\n",
      "  self[name] = value\n"
     ]
    }
   ],
   "source": [
    "final_test.date=pd.to_datetime(final_test.date)"
   ]
  },
  {
   "cell_type": "code",
   "execution_count": 31,
   "metadata": {},
   "outputs": [
    {
     "name": "stderr",
     "output_type": "stream",
     "text": [
      "/home/lawrence/anaconda3/lib/python3.6/site-packages/ipykernel_launcher.py:1: SettingWithCopyWarning: \n",
      "A value is trying to be set on a copy of a slice from a DataFrame.\n",
      "Try using .loc[row_indexer,col_indexer] = value instead\n",
      "\n",
      "See the caveats in the documentation: http://pandas.pydata.org/pandas-docs/stable/indexing.html#indexing-view-versus-copy\n",
      "  \"\"\"Entry point for launching an IPython kernel.\n"
     ]
    }
   ],
   "source": [
    "final_test[\"year\"]=final_test[\"date\"].apply(lambda x: datetime.strftime(x,\"%Y\"))"
   ]
  },
  {
   "cell_type": "code",
   "execution_count": 32,
   "metadata": {},
   "outputs": [
    {
     "name": "stderr",
     "output_type": "stream",
     "text": [
      "/home/lawrence/anaconda3/lib/python3.6/site-packages/ipykernel_launcher.py:1: SettingWithCopyWarning: \n",
      "A value is trying to be set on a copy of a slice from a DataFrame.\n",
      "Try using .loc[row_indexer,col_indexer] = value instead\n",
      "\n",
      "See the caveats in the documentation: http://pandas.pydata.org/pandas-docs/stable/indexing.html#indexing-view-versus-copy\n",
      "  \"\"\"Entry point for launching an IPython kernel.\n"
     ]
    }
   ],
   "source": [
    "final_test[\"month\"]=final_test[\"date\"].apply(lambda x: datetime.strftime(x,\"%m\"))"
   ]
  },
  {
   "cell_type": "code",
   "execution_count": 33,
   "metadata": {},
   "outputs": [
    {
     "name": "stderr",
     "output_type": "stream",
     "text": [
      "/home/lawrence/anaconda3/lib/python3.6/site-packages/ipykernel_launcher.py:1: SettingWithCopyWarning: \n",
      "A value is trying to be set on a copy of a slice from a DataFrame.\n",
      "Try using .loc[row_indexer,col_indexer] = value instead\n",
      "\n",
      "See the caveats in the documentation: http://pandas.pydata.org/pandas-docs/stable/indexing.html#indexing-view-versus-copy\n",
      "  \"\"\"Entry point for launching an IPython kernel.\n"
     ]
    }
   ],
   "source": [
    "final_test[\"day\"]=final_test[\"date\"].apply(lambda x: datetime.strftime(x,\"%d\"))"
   ]
  },
  {
   "cell_type": "code",
   "execution_count": 34,
   "metadata": {},
   "outputs": [
    {
     "name": "stderr",
     "output_type": "stream",
     "text": [
      "/home/lawrence/anaconda3/lib/python3.6/site-packages/ipykernel_launcher.py:1: SettingWithCopyWarning: \n",
      "A value is trying to be set on a copy of a slice from a DataFrame.\n",
      "Try using .loc[row_indexer,col_indexer] = value instead\n",
      "\n",
      "See the caveats in the documentation: http://pandas.pydata.org/pandas-docs/stable/indexing.html#indexing-view-versus-copy\n",
      "  \"\"\"Entry point for launching an IPython kernel.\n"
     ]
    }
   ],
   "source": [
    "final_test[\"hour\"]=final_test[\"date\"].apply(lambda x: datetime.strftime(x,\"%H\"))"
   ]
  },
  {
   "cell_type": "code",
   "execution_count": 35,
   "metadata": {},
   "outputs": [
    {
     "data": {
      "text/html": [
       "<div>\n",
       "<style scoped>\n",
       "    .dataframe tbody tr th:only-of-type {\n",
       "        vertical-align: middle;\n",
       "    }\n",
       "\n",
       "    .dataframe tbody tr th {\n",
       "        vertical-align: top;\n",
       "    }\n",
       "\n",
       "    .dataframe thead th {\n",
       "        text-align: right;\n",
       "    }\n",
       "</style>\n",
       "<table border=\"1\" class=\"dataframe\">\n",
       "  <thead>\n",
       "    <tr style=\"text-align: right;\">\n",
       "      <th></th>\n",
       "      <th>date</th>\n",
       "      <th>year</th>\n",
       "      <th>month</th>\n",
       "      <th>day</th>\n",
       "      <th>hour</th>\n",
       "    </tr>\n",
       "  </thead>\n",
       "  <tbody>\n",
       "    <tr>\n",
       "      <th>0</th>\n",
       "      <td>2016-07-13 00:00:00</td>\n",
       "      <td>2016</td>\n",
       "      <td>07</td>\n",
       "      <td>13</td>\n",
       "      <td>00</td>\n",
       "    </tr>\n",
       "    <tr>\n",
       "      <th>1</th>\n",
       "      <td>2016-07-13 01:00:00</td>\n",
       "      <td>2016</td>\n",
       "      <td>07</td>\n",
       "      <td>13</td>\n",
       "      <td>01</td>\n",
       "    </tr>\n",
       "    <tr>\n",
       "      <th>2</th>\n",
       "      <td>2016-07-13 02:00:00</td>\n",
       "      <td>2016</td>\n",
       "      <td>07</td>\n",
       "      <td>13</td>\n",
       "      <td>02</td>\n",
       "    </tr>\n",
       "    <tr>\n",
       "      <th>3</th>\n",
       "      <td>2016-07-13 03:00:00</td>\n",
       "      <td>2016</td>\n",
       "      <td>07</td>\n",
       "      <td>13</td>\n",
       "      <td>03</td>\n",
       "    </tr>\n",
       "    <tr>\n",
       "      <th>4</th>\n",
       "      <td>2016-07-13 04:00:00</td>\n",
       "      <td>2016</td>\n",
       "      <td>07</td>\n",
       "      <td>13</td>\n",
       "      <td>04</td>\n",
       "    </tr>\n",
       "  </tbody>\n",
       "</table>\n",
       "</div>"
      ],
      "text/plain": [
       "                 date  year month day hour\n",
       "0 2016-07-13 00:00:00  2016    07  13   00\n",
       "1 2016-07-13 01:00:00  2016    07  13   01\n",
       "2 2016-07-13 02:00:00  2016    07  13   02\n",
       "3 2016-07-13 03:00:00  2016    07  13   03\n",
       "4 2016-07-13 04:00:00  2016    07  13   04"
      ]
     },
     "execution_count": 35,
     "metadata": {},
     "output_type": "execute_result"
    }
   ],
   "source": [
    "final_test.head()"
   ]
  },
  {
   "cell_type": "markdown",
   "metadata": {},
   "source": [
    "### Inserting KenyaPublicHolidays2016 and NairobiSchoolDates2016 from the csv_files provided by Zindi"
   ]
  },
  {
   "cell_type": "code",
   "execution_count": 36,
   "metadata": {},
   "outputs": [],
   "source": [
    "pub_holiday=pd.Series([])\n",
    "for i in range(len(final_test)):\n",
    "    \n",
    "    if final_test[\"month\"][i]==\"09\" and final_test[\"day\"][i]==\"07\":\n",
    "        pub_holiday[i]=\"holiday\"\n",
    "    else :\n",
    "        pub_holiday[i]=\"nopublicholiday\"\n",
    "\n",
    "final_test.insert(4,\"pubHolidays\",pub_holiday)\n",
    "        \n",
    "        \n",
    "        "
   ]
  },
  {
   "cell_type": "code",
   "execution_count": 37,
   "metadata": {},
   "outputs": [],
   "source": [
    "schdate=pd.Series([])\n",
    "for i in range(len(final_test)):\n",
    "    if final_test[\"month\"][i]==\"07\":\n",
    "        schdate[i]=\"schooltime\"\n",
    "   \n",
    "    if final_test[\"month\"][i]==\"08\" and final_test[\"day\"][i]==\"01\" :\n",
    "        schdate[i]=\"schooltime\"\n",
    "    elif final_test[\"month\"][i]==\"08\" and final_test[\"day\"][i]==\"02\":\n",
    "        schdate[i]=\"schooltime\"\n",
    "    elif final_test[\"month\"][i]==\"08\" and final_test[\"day\"][i]==\"03\":\n",
    "        schdate[i]=\"schooltime\"\n",
    "    elif final_test[\"month\"][i]==\"08\" and final_test[\"day\"][i]==\"04\":\n",
    "        schdate[i]=\"schooltime\"\n",
    "    elif final_test[\"month\"][i]==\"08\" and final_test[\"day\"][i]==\"05\":\n",
    "        schdate[i]=\"schooltime\"\n",
    "    elif final_test[\"month\"][i]==\"08\":\n",
    "        schdate[i]=\"notschooltime\"\n",
    "    \n",
    "    \n",
    "    elif final_test[\"month\"][i]==\"09\" and final_test[\"day\"][i]==\"01\":\n",
    "        schdate[i]=\"notschooltime\"\n",
    "    elif final_test[\"month\"][i]==\"09\" and final_test[\"day\"][i]==\"02\":\n",
    "        schdate[i]=\"notschooltime\"\n",
    "    elif final_test[\"month\"][i]==\"09\" and final_test[\"day\"][i]==\"03\":\n",
    "        schdate[i]=\"notschooltime\"\n",
    "    elif final_test[\"month\"][i]==\"09\" and final_test[\"day\"][i]==\"04\":\n",
    "        schdate[i]=\"notschooltime\"\n",
    "        \n",
    "    elif final_test[\"month\"][i]==\"09\":\n",
    "        schdate[i]=\"schooltime\"\n",
    "    else:\n",
    "        schdate[i]=\"schooltime\"\n",
    "final_test.insert(6,\"schooltimes\",schdate)"
   ]
  },
  {
   "cell_type": "code",
   "execution_count": 38,
   "metadata": {},
   "outputs": [
    {
     "name": "stderr",
     "output_type": "stream",
     "text": [
      "/home/lawrence/anaconda3/lib/python3.6/site-packages/ipykernel_launcher.py:1: SettingWithCopyWarning: \n",
      "A value is trying to be set on a copy of a slice from a DataFrame.\n",
      "Try using .loc[row_indexer,col_indexer] = value instead\n",
      "\n",
      "See the caveats in the documentation: http://pandas.pydata.org/pandas-docs/stable/indexing.html#indexing-view-versus-copy\n",
      "  \"\"\"Entry point for launching an IPython kernel.\n"
     ]
    }
   ],
   "source": [
    "final_test['time_index'] = final_test[['year','month',\"day\",\"hour\"]].apply(lambda x: ''.join(x), axis=1)"
   ]
  },
  {
   "cell_type": "code",
   "execution_count": 39,
   "metadata": {},
   "outputs": [
    {
     "data": {
      "text/html": [
       "<div>\n",
       "<style scoped>\n",
       "    .dataframe tbody tr th:only-of-type {\n",
       "        vertical-align: middle;\n",
       "    }\n",
       "\n",
       "    .dataframe tbody tr th {\n",
       "        vertical-align: top;\n",
       "    }\n",
       "\n",
       "    .dataframe thead th {\n",
       "        text-align: right;\n",
       "    }\n",
       "</style>\n",
       "<table border=\"1\" class=\"dataframe\">\n",
       "  <thead>\n",
       "    <tr style=\"text-align: right;\">\n",
       "      <th></th>\n",
       "      <th>date</th>\n",
       "      <th>year</th>\n",
       "      <th>month</th>\n",
       "      <th>day</th>\n",
       "      <th>pubHolidays</th>\n",
       "      <th>hour</th>\n",
       "      <th>schooltimes</th>\n",
       "      <th>time_index</th>\n",
       "    </tr>\n",
       "  </thead>\n",
       "  <tbody>\n",
       "    <tr>\n",
       "      <th>0</th>\n",
       "      <td>2016-07-13 00:00:00</td>\n",
       "      <td>2016</td>\n",
       "      <td>07</td>\n",
       "      <td>13</td>\n",
       "      <td>nopublicholiday</td>\n",
       "      <td>00</td>\n",
       "      <td>schooltime</td>\n",
       "      <td>2016071300</td>\n",
       "    </tr>\n",
       "    <tr>\n",
       "      <th>1</th>\n",
       "      <td>2016-07-13 01:00:00</td>\n",
       "      <td>2016</td>\n",
       "      <td>07</td>\n",
       "      <td>13</td>\n",
       "      <td>nopublicholiday</td>\n",
       "      <td>01</td>\n",
       "      <td>schooltime</td>\n",
       "      <td>2016071301</td>\n",
       "    </tr>\n",
       "    <tr>\n",
       "      <th>2</th>\n",
       "      <td>2016-07-13 02:00:00</td>\n",
       "      <td>2016</td>\n",
       "      <td>07</td>\n",
       "      <td>13</td>\n",
       "      <td>nopublicholiday</td>\n",
       "      <td>02</td>\n",
       "      <td>schooltime</td>\n",
       "      <td>2016071302</td>\n",
       "    </tr>\n",
       "    <tr>\n",
       "      <th>3</th>\n",
       "      <td>2016-07-13 03:00:00</td>\n",
       "      <td>2016</td>\n",
       "      <td>07</td>\n",
       "      <td>13</td>\n",
       "      <td>nopublicholiday</td>\n",
       "      <td>03</td>\n",
       "      <td>schooltime</td>\n",
       "      <td>2016071303</td>\n",
       "    </tr>\n",
       "    <tr>\n",
       "      <th>4</th>\n",
       "      <td>2016-07-13 04:00:00</td>\n",
       "      <td>2016</td>\n",
       "      <td>07</td>\n",
       "      <td>13</td>\n",
       "      <td>nopublicholiday</td>\n",
       "      <td>04</td>\n",
       "      <td>schooltime</td>\n",
       "      <td>2016071304</td>\n",
       "    </tr>\n",
       "  </tbody>\n",
       "</table>\n",
       "</div>"
      ],
      "text/plain": [
       "                 date  year month day      pubHolidays hour schooltimes  \\\n",
       "0 2016-07-13 00:00:00  2016    07  13  nopublicholiday   00  schooltime   \n",
       "1 2016-07-13 01:00:00  2016    07  13  nopublicholiday   01  schooltime   \n",
       "2 2016-07-13 02:00:00  2016    07  13  nopublicholiday   02  schooltime   \n",
       "3 2016-07-13 03:00:00  2016    07  13  nopublicholiday   03  schooltime   \n",
       "4 2016-07-13 04:00:00  2016    07  13  nopublicholiday   04  schooltime   \n",
       "\n",
       "   time_index  \n",
       "0  2016071300  \n",
       "1  2016071301  \n",
       "2  2016071302  \n",
       "3  2016071303  \n",
       "4  2016071304  "
      ]
     },
     "execution_count": 39,
     "metadata": {},
     "output_type": "execute_result"
    }
   ],
   "source": [
    "final_test.head()"
   ]
  },
  {
   "cell_type": "code",
   "execution_count": 40,
   "metadata": {},
   "outputs": [],
   "source": [
    "final_test.to_csv(\"tsTest.csv\",index=False)#this is the test dataset"
   ]
  },
  {
   "cell_type": "code",
   "execution_count": 41,
   "metadata": {},
   "outputs": [],
   "source": [
    "testdataset=final_test[\"time_index\"]#extracting the time_index from the test dataset"
   ]
  },
  {
   "cell_type": "code",
   "execution_count": 42,
   "metadata": {},
   "outputs": [
    {
     "name": "stderr",
     "output_type": "stream",
     "text": [
      "/home/lawrence/anaconda3/lib/python3.6/site-packages/ipykernel_launcher.py:1: FutureWarning: The signature of `Series.to_csv` was aligned to that of `DataFrame.to_csv`, and argument 'header' will change its default value from False to True: please pass an explicit value to suppress this warning.\n",
      "  \"\"\"Entry point for launching an IPython kernel.\n"
     ]
    }
   ],
   "source": [
    "testdataset.to_csv(\"submission.csv\",index=False)#holds the time_index column\n"
   ]
  }
 ],
 "metadata": {
  "kernelspec": {
   "display_name": "Python [conda env:anaconda2]",
   "language": "python",
   "name": "conda-env-anaconda2-py"
  },
  "language_info": {
   "codemirror_mode": {
    "name": "ipython",
    "version": 2
   },
   "file_extension": ".py",
   "mimetype": "text/x-python",
   "name": "python",
   "nbconvert_exporter": "python",
   "pygments_lexer": "ipython2",
   "version": "2.7.14"
  }
 },
 "nbformat": 4,
 "nbformat_minor": 2
}
