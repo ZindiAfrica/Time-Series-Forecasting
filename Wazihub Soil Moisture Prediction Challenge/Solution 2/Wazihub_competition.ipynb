{
 "cells": [
  {
   "cell_type": "code",
   "execution_count": 42,
   "metadata": {},
   "outputs": [],
   "source": [
    "import pandas as pd\n",
    "from numpy import array\n",
    "import numpy as np\n",
    "import math\n",
    "from xgboost import XGBRegressor\n",
    "from sklearn.metrics import mean_absolute_error\n",
    "from sklearn.model_selection import train_test_split\n",
    "from sklearn.impute import SimpleImputer"
   ]
  },
  {
   "cell_type": "code",
   "execution_count": 43,
   "metadata": {},
   "outputs": [],
   "source": [
    "train =pd.read_csv('Train.csv')\n",
    "pressure_list = train['Pressure (KPa)'].tolist()\n",
    "temp_list = train['Air temperature (C)'].tolist()\n",
    "pressure_list_without_nan = []\n",
    "for i in range(len(pressure_list)):\n",
    "    if (np.isnan(pressure_list[i])):\n",
    "        pressure_list_without_nan.append(pressure_list_without_nan[i - 24*12])\n",
    "    else:\n",
    "        pressure_list_without_nan.append(pressure_list[i])\n",
    "temp_list_without_nan = []\n",
    "for i in range(len(temp_list)):\n",
    "    if (np.isnan(temp_list[i])):\n",
    "        temp_list_without_nan.append(temp_list_without_nan[i - 24*12])\n",
    "    else:\n",
    "        temp_list_without_nan.append(temp_list[i])\n"
   ]
  },
  {
   "cell_type": "code",
   "execution_count": 44,
   "metadata": {},
   "outputs": [],
   "source": [
    "def firstNanIndex(listfloats, k):\n",
    "    for i, item in enumerate(listfloats):\n",
    "        if i > k and math.isnan(item) == True:\n",
    "            return i\n",
    "        \n",
    "def firstNonNan(listfloats, j):\n",
    "    bol = False\n",
    "    for i, item in enumerate(listfloats[j:]):\n",
    "        if math.isnan(item) == False:\n",
    "            bol = True\n",
    "            return i+j, item\n",
    "    if (bol == False):\n",
    "        return len(listfloats) -1 , listfloats[len(listfloats)-1]\n",
    "    \n",
    "def cleanSerie(columnName):\n",
    "    field = train[columnName].tolist()\n",
    "    cleanedList = [x for x in field if (math.isnan(x) == False)]\n",
    "    return cleanedList\n",
    "\n",
    "                \n"
   ]
  },
  {
   "cell_type": "code",
   "execution_count": 45,
   "metadata": {},
   "outputs": [],
   "source": [
    "field1_without_Nan = cleanSerie('Soil humidity 1')\n",
    "field1_without_Nan = field1_without_Nan[:-3]\n",
    "field1 = train['Soil humidity 1'].tolist()\n",
    "index1 = firstNanIndex(field1, 0)\n",
    "field1 = field1[:index1+ 1153]\n",
    "\n",
    "field2_without_Nan = cleanSerie('Soil humidity 2')\n",
    "field2_without_Nan = field2_without_Nan[:-3]\n",
    "field2 = train['Soil humidity 2'].tolist()\n",
    "index2 = firstNanIndex(field2, 0)\n",
    "field2 = field2[:index2+ 1747]\n",
    "\n",
    "field3_without_Nan = cleanSerie('Soil humidity 3')\n",
    "field3_without_Nan = field3_without_Nan[:-3]\n",
    "field3 = train['Soil humidity 3'].tolist()\n",
    "index3 = firstNanIndex(field3, 0)\n",
    "field3 = field3[:index3+ 1153]\n",
    "\n",
    "field4_without_Nan = cleanSerie('Soil humidity 4')\n",
    "field4_without_Nan = field4_without_Nan[:-5]\n",
    "field4 = train['Soil humidity 4'].tolist()\n",
    "index4 = firstNanIndex(field4, 0)\n",
    "field4 = field4[:index4+ 1729]\n"
   ]
  },
  {
   "cell_type": "code",
   "execution_count": 52,
   "metadata": {},
   "outputs": [],
   "source": [
    "def prepare_data(train,field_number, field_without_Nan, preds_horizon):\n",
    "    target = train[['Pressure (KPa)','Air temperature (C)', 'Soil humidity ' + str(field_number),'Irrigation field ' +str(field_number)]][:len(field_without_Nan)]\n",
    "    target['last'] = target[['Soil humidity ' + str(field_number)]].shift(1)\n",
    "   \n",
    "    target['diff'] = target['Soil humidity ' + str(field_number)] - target['last']\n",
    "   \n",
    "    target['pressure'] = target['Pressure (KPa)']   \n",
    "    target['pressure_last'] = target[['pressure']].shift(1)\n",
    "    target['diff_pressure'] = target['pressure'] - target['pressure_last']    \n",
    "   \n",
    "    target['temperature'] = target['Air temperature (C)']\n",
    "    target['temperature_last'] = target[['temperature']].shift(1)\n",
    "    target['diff_temperature'] = target['temperature'] - target['temperature_last']\n",
    "    \n",
    "   \n",
    "    \n",
    "    \n",
    "    del target['Air temperature (C)']\n",
    "    del target['temperature_last']\n",
    "    del target['pressure_last']   \n",
    "    del target['temperature']\n",
    "    del target['pressure']   \n",
    "    del target['Pressure (KPa)']\n",
    "   \n",
    "\n",
    "  \n",
    "    target['irrigation_now'] = train['Irrigation field ' +str(field_number)][:len(field_without_Nan)]\n",
    "    X = target.dropna()\n",
    "   \n",
    "    \n",
    "    del X['Soil humidity ' + str(field_number)]\n",
    "    del X['last']\n",
    "    \n",
    "   \n",
    "  \n",
    "    Y = X['diff']\n",
    "    \n",
    "    del X['Irrigation field ' +str(field_number)]   \n",
    "    del X['diff']\n",
    "\n",
    "    return X, Y\n"
   ]
  },
  {
   "cell_type": "code",
   "execution_count": 48,
   "metadata": {},
   "outputs": [],
   "source": [
    "def train_xgboost(data_X, data_Y, random_state=0):\n",
    "    my_imputer = SimpleImputer()\n",
    "    final_train = my_imputer.fit_transform(data_X)\n",
    "    train_X, test_X, train_y, test_y = train_test_split(final_train, data_Y, test_size=0.1, random_state=random_state)\n",
    "    my_model = XGBRegressor(n_estimators=1500, learning_rate=0.1, random_state=random_state)\n",
    "    my_model.fit(train_X, train_y, early_stopping_rounds=5,eval_metric=[\"rmse\"], eval_set=[(test_X, test_y)], verbose=False)\n",
    "    return my_model\n"
   ]
  },
  {
   "cell_type": "code",
   "execution_count": 49,
   "metadata": {},
   "outputs": [],
   "source": [
    "def findStep(last_prediction, moisture_list, index):\n",
    "    j = index\n",
    "    while(np.isnan(moisture_list[j])):\n",
    "        j =j+1\n",
    "    step = (moisture_list[j] - last_prediction ) /(j-index)\n",
    "    return step\n",
    "    \n"
   ]
  },
  {
   "cell_type": "code",
   "execution_count": 50,
   "metadata": {},
   "outputs": [],
   "source": [
    "def get_Predictions(model, field_number, field_without_Nan, field, train_last_index, preds_horizon):\n",
    "    moisture = field[len(field_without_Nan)-1:]\n",
    "    irrigationFrame = train[['Irrigation field ' +str(field_number)]][len(field_without_Nan)-1:len(field_without_Nan)+preds_horizon]\n",
    "    \n",
    "\n",
    "    preds = []\n",
    "    k=0\n",
    "    index=-1\n",
    "    bol = False\n",
    "    for i in range(preds_horizon):\n",
    "        index= index + 1\n",
    "\n",
    "        temperature = temp_list_without_nan[train_last_index + index]\n",
    "        temperature_last = temp_list_without_nan[train_last_index + index - 1]\n",
    "        temperature_diff = temperature - temperature_last\n",
    "        \n",
    "        pressure = pressure_list_without_nan[train_last_index + index]\n",
    "        pressure_last = pressure_list_without_nan[train_last_index + index - 1]\n",
    "        pressure_diff = pressure - pressure_last\n",
    "        \n",
    "        irrigation = irrigationFrame.iloc[i+1]['Irrigation field ' + str(field_number)]\n",
    "        if(np.isnan(irrigation)):\n",
    "            irrigation =0\n",
    "\n",
    "        if(irrigation == 0):\n",
    "            bol = False\n",
    "            x= np.array([pressure_diff, temperature_diff, irrigation])\n",
    "            x = x[np.newaxis,...]\n",
    "            prediction = model.predict(x) \n",
    "        if(irrigation == 1 and index ==0):\n",
    "            x= np.array([pressure_diff, temperature_diff, irrigation])\n",
    "            x = x[np.newaxis,...]\n",
    "            prediction = model.predict(x) \n",
    "        if(irrigation == 1 and index > 0):\n",
    "            if(bol == False):\n",
    "                step =findStep(preds[-1], moisture, index)\n",
    "                prediction = [step]\n",
    "                bol = True\n",
    "            else:\n",
    "                prediction = [step]                \n",
    "     \n",
    "        if np.isnan(moisture[i]):\n",
    "            preds.append(prediction[0]+ preds[-1])\n",
    "            k=k+1\n",
    "        else:\n",
    "            preds.append(prediction[0]+ moisture[i])\n",
    "            k=0\n",
    "            \n",
    "        k=k+1\n",
    "    return preds"
   ]
  },
  {
   "cell_type": "code",
   "execution_count": 53,
   "metadata": {},
   "outputs": [
    {
     "name": "stderr",
     "output_type": "stream",
     "text": [
      "/home/havensen/.local/lib/python3.5/site-packages/xgboost/core.py:587: FutureWarning: Series.base is deprecated and will be removed in a future version\n",
      "  if getattr(data, 'base', None) is not None and \\\n"
     ]
    },
    {
     "name": "stdout",
     "output_type": "stream",
     "text": [
      "[19:18:49] WARNING: /workspace/src/objective/regression_obj.cu:152: reg:linear is now deprecated in favor of reg:squarederror.\n"
     ]
    },
    {
     "name": "stderr",
     "output_type": "stream",
     "text": [
      "/home/havensen/.local/lib/python3.5/site-packages/xgboost/core.py:587: FutureWarning: Series.base is deprecated and will be removed in a future version\n",
      "  if getattr(data, 'base', None) is not None and \\\n"
     ]
    },
    {
     "name": "stdout",
     "output_type": "stream",
     "text": [
      "[19:18:50] WARNING: /workspace/src/objective/regression_obj.cu:152: reg:linear is now deprecated in favor of reg:squarederror.\n"
     ]
    },
    {
     "name": "stderr",
     "output_type": "stream",
     "text": [
      "/home/havensen/.local/lib/python3.5/site-packages/xgboost/core.py:587: FutureWarning: Series.base is deprecated and will be removed in a future version\n",
      "  if getattr(data, 'base', None) is not None and \\\n"
     ]
    },
    {
     "name": "stdout",
     "output_type": "stream",
     "text": [
      "[19:18:52] WARNING: /workspace/src/objective/regression_obj.cu:152: reg:linear is now deprecated in favor of reg:squarederror.\n"
     ]
    },
    {
     "name": "stderr",
     "output_type": "stream",
     "text": [
      "/home/havensen/.local/lib/python3.5/site-packages/xgboost/core.py:587: FutureWarning: Series.base is deprecated and will be removed in a future version\n",
      "  if getattr(data, 'base', None) is not None and \\\n"
     ]
    },
    {
     "name": "stdout",
     "output_type": "stream",
     "text": [
      "[19:18:53] WARNING: /workspace/src/objective/regression_obj.cu:152: reg:linear is now deprecated in favor of reg:squarederror.\n"
     ]
    }
   ],
   "source": [
    "seed = 90973\n",
    "data_X, data_Y = prepare_data(train,1, field1_without_Nan, 1153)\n",
    "model1 = train_xgboost(data_X, data_Y, seed)\n",
    "preds1 = get_Predictions(model1,1, field1_without_Nan,field1, 8914, 1153)\n",
    "\n",
    "data_X, data_Y = prepare_data(train,2, field2_without_Nan, 1747)\n",
    "model2 = train_xgboost(data_X, data_Y, seed)\n",
    "preds2 = get_Predictions(model2,2, field2_without_Nan,field2, 26301, 1747)\n",
    "\n",
    "data_X, data_Y = prepare_data(train,3, field3_without_Nan, 1153)\n",
    "model3 = train_xgboost(data_X, data_Y, seed)\n",
    "preds3 = get_Predictions(model3,3, field3_without_Nan,field3, 16083, 1153)\n",
    "\n",
    "data_X, data_Y = prepare_data(train,4, field4_without_Nan, 1729)\n",
    "model4 = train_xgboost(data_X, data_Y, seed)\n",
    "preds4 = get_Predictions(model4,4, field4_without_Nan,field4, 26301, 1729)\n",
    "\n"
   ]
  },
  {
   "cell_type": "code",
   "execution_count": 54,
   "metadata": {},
   "outputs": [],
   "source": [
    "total =[]\n",
    "total.extend(preds1)\n",
    "total.extend(preds2)\n",
    "total.extend(preds3)\n",
    "total.extend(preds4)"
   ]
  },
  {
   "cell_type": "code",
   "execution_count": 55,
   "metadata": {},
   "outputs": [],
   "source": [
    "submission =pd.read_csv('SampleSubmission.csv')\n",
    "submission['Values']= total\n",
    "submission.to_csv('submission.csv', index=False)\n"
   ]
  }
 ],
 "metadata": {
  "kernelspec": {
   "display_name": "Python 3",
   "language": "python",
   "name": "python3"
  },
  "language_info": {
   "codemirror_mode": {
    "name": "ipython",
    "version": 3
   },
   "file_extension": ".py",
   "mimetype": "text/x-python",
   "name": "python",
   "nbconvert_exporter": "python",
   "pygments_lexer": "ipython3",
   "version": "3.5.2"
  }
 },
 "nbformat": 4,
 "nbformat_minor": 2
}
